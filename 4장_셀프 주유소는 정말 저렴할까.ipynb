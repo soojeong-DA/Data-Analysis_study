{
 "cells": [
  {
   "cell_type": "markdown",
   "metadata": {
    "toc": true
   },
   "source": [
    "<h1>Table of Contents<span class=\"tocSkip\"></span></h1>\n",
    "<div class=\"toc\"><ul class=\"toc-item\"><li><span><a href=\"#Selenium-사용하기\" data-toc-modified-id=\"Selenium-사용하기-1\"><span class=\"toc-item-num\">1&nbsp;&nbsp;</span>Selenium 사용하기</a></span><ul class=\"toc-item\"><li><span><a href=\"#네이버-로그인\" data-toc-modified-id=\"네이버-로그인-1.1\"><span class=\"toc-item-num\">1.1&nbsp;&nbsp;</span>네이버 로그인</a></span></li><li><span><a href=\"#네이버-메일-크롤링\" data-toc-modified-id=\"네이버-메일-크롤링-1.2\"><span class=\"toc-item-num\">1.2&nbsp;&nbsp;</span>네이버 메일 크롤링</a></span></li></ul></li><li><span><a href=\"#서울시-구별-주유소-가격-정보-얻기\" data-toc-modified-id=\"서울시-구별-주유소-가격-정보-얻기-2\"><span class=\"toc-item-num\">2&nbsp;&nbsp;</span>서울시 구별 주유소 가격 정보 얻기</a></span><ul class=\"toc-item\"><li><span><a href=\"#서울시-구-list-얻기\" data-toc-modified-id=\"서울시-구-list-얻기-2.1\"><span class=\"toc-item-num\">2.1&nbsp;&nbsp;</span>서울시 구 list 얻기</a></span></li><li><span><a href=\"#구-설정,-조회,-엑셀다운-test\" data-toc-modified-id=\"구-설정,-조회,-엑셀다운-test-2.2\"><span class=\"toc-item-num\">2.2&nbsp;&nbsp;</span>구 설정, 조회, 엑셀다운 test</a></span></li><li><span><a href=\"#반복문을-통한-25개-구-주유소-가격-정보-수집\" data-toc-modified-id=\"반복문을-통한-25개-구-주유소-가격-정보-수집-2.3\"><span class=\"toc-item-num\">2.3&nbsp;&nbsp;</span>반복문을 통한 25개 구 주유소 가격 정보 수집</a></span></li></ul></li><li><span><a href=\"#구별-주유-가격에-대한-데이터-정리\" data-toc-modified-id=\"구별-주유-가격에-대한-데이터-정리-3\"><span class=\"toc-item-num\">3&nbsp;&nbsp;</span>구별 주유 가격에 대한 데이터 정리</a></span></li><li><span><a href=\"#셀프-주유소는-정말-저렴한지-boxplot으로-확인-(휘발류-한정)\" data-toc-modified-id=\"셀프-주유소는-정말-저렴한지-boxplot으로-확인-(휘발류-한정)-4\"><span class=\"toc-item-num\">4&nbsp;&nbsp;</span>셀프 주유소는 정말 저렴한지 boxplot으로 확인 (휘발류 한정)</a></span></li><li><span><a href=\"#서울시-구별-주유-가격-확인하기\" data-toc-modified-id=\"서울시-구별-주유-가격-확인하기-5\"><span class=\"toc-item-num\">5&nbsp;&nbsp;</span>서울시 구별 주유 가격 확인하기</a></span></li><li><span><a href=\"#서울시-주유-가격-상하위-10개-주유소-지도에-표기\" data-toc-modified-id=\"서울시-주유-가격-상하위-10개-주유소-지도에-표기-6\"><span class=\"toc-item-num\">6&nbsp;&nbsp;</span>서울시 주유 가격 상하위 10개 주유소 지도에 표기</a></span><ul class=\"toc-item\"><li><span><a href=\"#상하위-데이터-나누기\" data-toc-modified-id=\"상하위-데이터-나누기-6.1\"><span class=\"toc-item-num\">6.1&nbsp;&nbsp;</span>상하위 데이터 나누기</a></span></li><li><span><a href=\"#google-map-api로-위도-경도-얻기\" data-toc-modified-id=\"google-map-api로-위도-경도-얻기-6.2\"><span class=\"toc-item-num\">6.2&nbsp;&nbsp;</span>google map api로 위도 경도 얻기</a></span></li></ul></li></ul></div>"
   ]
  },
  {
   "cell_type": "markdown",
   "metadata": {},
   "source": [
    "# Selenium 사용하기"
   ]
  },
  {
   "cell_type": "code",
   "execution_count": 1,
   "metadata": {
    "ExecuteTime": {
     "end_time": "2020-11-21T14:07:27.144790Z",
     "start_time": "2020-11-21T14:07:26.912422Z"
    }
   },
   "outputs": [],
   "source": [
    "from selenium import webdriver"
   ]
  },
  {
   "cell_type": "code",
   "execution_count": 2,
   "metadata": {
    "ExecuteTime": {
     "end_time": "2020-11-21T14:08:20.945632Z",
     "start_time": "2020-11-21T14:08:15.897638Z"
    }
   },
   "outputs": [],
   "source": [
    "driver = webdriver.Chrome('./driver/chromedriver.exe')\n",
    "driver.get('http://naver.com')"
   ]
  },
  {
   "cell_type": "code",
   "execution_count": 4,
   "metadata": {
    "ExecuteTime": {
     "end_time": "2020-11-21T14:10:06.167815Z",
     "start_time": "2020-11-21T14:10:05.334615Z"
    }
   },
   "outputs": [
    {
     "data": {
      "text/plain": [
       "True"
      ]
     },
     "execution_count": 4,
     "metadata": {},
     "output_type": "execute_result"
    }
   ],
   "source": [
    "# 화면 캡쳐\n",
    "driver.save_screenshot('001.jpg')"
   ]
  },
  {
   "cell_type": "markdown",
   "metadata": {},
   "source": [
    "## 네이버 로그인"
   ]
  },
  {
   "cell_type": "code",
   "execution_count": 5,
   "metadata": {
    "ExecuteTime": {
     "end_time": "2020-11-21T14:13:42.915632Z",
     "start_time": "2020-11-21T14:13:42.525804Z"
    }
   },
   "outputs": [],
   "source": [
    "# 로그인 버튼 클릭해서, 로그인 페이지로 넘어가기\n",
    "xpath = \"\"\"//*[@id=\"account\"]/a\"\"\"   # 개발자도구 -> 로그인 클릭 -> 하이라이터 된 부분 copy-> copyxpath 해서 복붙\n",
    "driver.find_element_by_xpath(xpath).click()"
   ]
  },
  {
   "cell_type": "code",
   "execution_count": 7,
   "metadata": {
    "ExecuteTime": {
     "end_time": "2020-11-21T14:18:12.817532Z",
     "start_time": "2020-11-21T14:18:12.618300Z"
    }
   },
   "outputs": [],
   "source": [
    "elem_login = driver.find_element_by_id(\"id\")\n",
    "elem_login.clear()   # 글자가 입력되어있을 수도 있으니, clear한번 해주기\n",
    "elem_login.send_keys(\"***\")"
   ]
  },
  {
   "cell_type": "code",
   "execution_count": 8,
   "metadata": {
    "ExecuteTime": {
     "end_time": "2020-11-21T14:18:37.589186Z",
     "start_time": "2020-11-21T14:18:37.402310Z"
    }
   },
   "outputs": [],
   "source": [
    "elem_login = driver.find_element_by_id(\"pw\")\n",
    "elem_login.clear() \n",
    "elem_login.send_keys(\"***\")"
   ]
  },
  {
   "cell_type": "code",
   "execution_count": 9,
   "metadata": {
    "ExecuteTime": {
     "end_time": "2020-11-21T14:19:26.043543Z",
     "start_time": "2020-11-21T14:19:25.370705Z"
    }
   },
   "outputs": [],
   "source": [
    "# 로그인 버튼 클릭\n",
    "xpath = \"\"\"//*[@id=\"log.login\"]\"\"\"   \n",
    "driver.find_element_by_xpath(xpath).click()"
   ]
  },
  {
   "cell_type": "markdown",
   "metadata": {},
   "source": [
    "## 네이버 메일 크롤링"
   ]
  },
  {
   "cell_type": "code",
   "execution_count": 10,
   "metadata": {
    "ExecuteTime": {
     "end_time": "2020-11-21T14:21:38.816102Z",
     "start_time": "2020-11-21T14:21:37.810830Z"
    }
   },
   "outputs": [],
   "source": [
    "# 메일함 접속\n",
    "driver.get('http://mail.naver.com')"
   ]
  },
  {
   "cell_type": "code",
   "execution_count": 11,
   "metadata": {
    "ExecuteTime": {
     "end_time": "2020-11-21T14:23:11.125942Z",
     "start_time": "2020-11-21T14:23:10.275053Z"
    }
   },
   "outputs": [],
   "source": [
    "# 원하는 곳으로 이동했으니, beautifulSoup으로 페이지 내용 읽어오기\n",
    "from bs4 import BeautifulSoup\n",
    "\n",
    "html = driver.page_source     # driver.page_source: 현재 selenium이 접근한 페이지의 소스를 넘겨받음\n",
    "soup = BeautifulSoup(html, 'html.parser')"
   ]
  },
  {
   "cell_type": "code",
   "execution_count": 1,
   "metadata": {
    "ExecuteTime": {
     "end_time": "2020-11-29T11:29:45.611253Z",
     "start_time": "2020-11-29T11:29:45.595629Z"
    }
   },
   "outputs": [],
   "source": [
    "# soup"
   ]
  },
  {
   "cell_type": "code",
   "execution_count": 2,
   "metadata": {
    "ExecuteTime": {
     "end_time": "2020-11-29T11:29:53.361981Z",
     "start_time": "2020-11-29T11:29:53.356995Z"
    },
    "scrolled": true
   },
   "outputs": [],
   "source": [
    "# # 메일 보낸사람 나타내는 곳의 tag\n",
    "# raw_list = soup.find_all('div','name _ccr(lst.from)')\n",
    "# raw_list"
   ]
  },
  {
   "cell_type": "code",
   "execution_count": 20,
   "metadata": {
    "ExecuteTime": {
     "end_time": "2020-11-21T14:28:41.442545Z",
     "start_time": "2020-11-21T14:28:41.434567Z"
    }
   },
   "outputs": [
    {
     "data": {
      "text/plain": [
       "<div class=\"name _ccr(lst.from)\"><span class=\"blind\">보낸 이:</span><a class=\"_c1(myContextMenu|showSenderContextLayer|list|14097) _stopDefault\" href=\"#\" title='\"네이버\" &lt;help@help.naver.com&gt;'>네이버</a></div>"
      ]
     },
     "execution_count": 20,
     "metadata": {},
     "output_type": "execute_result"
    }
   ],
   "source": [
    "raw_list[0]"
   ]
  },
  {
   "cell_type": "code",
   "execution_count": 22,
   "metadata": {
    "ExecuteTime": {
     "end_time": "2020-11-21T14:29:05.762381Z",
     "start_time": "2020-11-21T14:29:05.754424Z"
    }
   },
   "outputs": [
    {
     "data": {
      "text/plain": [
       "<div class=\"name _ccr(lst.from)\"><span class=\"blind\">보낸 이:</span><a class=\"_c1(myContextMenu|showSenderContextLayer|list|14081) _stopDefault\" href=\"#\" title='\"사람인 | 기업연구소\" &lt;favorcompany@mailinfo.saramin.co.kr&gt;'>사람인 | 기업연구소</a></div>"
      ]
     },
     "execution_count": 22,
     "metadata": {},
     "output_type": "execute_result"
    }
   ],
   "source": [
    "raw_list[10]"
   ]
  },
  {
   "cell_type": "code",
   "execution_count": 23,
   "metadata": {
    "ExecuteTime": {
     "end_time": "2020-11-21T14:29:08.588117Z",
     "start_time": "2020-11-21T14:29:08.579143Z"
    }
   },
   "outputs": [
    {
     "data": {
      "text/plain": [
       "['네이버',\n",
       " '네이버',\n",
       " '사람인 | 기업연구소',\n",
       " '사람인 | 기업연구소',\n",
       " '사람인 | 기업연구소',\n",
       " '옥션',\n",
       " 'Agoda Deals',\n",
       " 'Freepik Company Te..',\n",
       " '사람인 | 기업연구소',\n",
       " 'BGF네트웍스',\n",
       " '사람인 | 기업연구소',\n",
       " '오늘의집',\n",
       " '사람인 | 기업연구소',\n",
       " '국세청',\n",
       " '[엠브레인]']"
      ]
     },
     "execution_count": 23,
     "metadata": {},
     "output_type": "execute_result"
    }
   ],
   "source": [
    "# a tag의 text만 가져오기\n",
    "send_list = [raw_list[n].find('a').get_text() for n in range(0, len(raw_list))]\n",
    "send_list"
   ]
  },
  {
   "cell_type": "code",
   "execution_count": 24,
   "metadata": {
    "ExecuteTime": {
     "end_time": "2020-11-21T14:30:16.198149Z",
     "start_time": "2020-11-21T14:30:15.765923Z"
    }
   },
   "outputs": [],
   "source": [
    "# 크롬 드라이버 닫기\n",
    "driver.close()"
   ]
  },
  {
   "cell_type": "markdown",
   "metadata": {},
   "source": [
    "# 서울시 구별 주유소 가격 정보 얻기\n",
    "- opinet: http://www.opinet.co.kr/searRgSelect.do"
   ]
  },
  {
   "cell_type": "markdown",
   "metadata": {},
   "source": [
    "## 서울시 구 list 얻기"
   ]
  },
  {
   "cell_type": "code",
   "execution_count": 26,
   "metadata": {
    "ExecuteTime": {
     "end_time": "2020-11-21T14:37:49.528195Z",
     "start_time": "2020-11-21T14:37:45.628494Z"
    }
   },
   "outputs": [],
   "source": [
    "driver = webdriver.Chrome('./driver/chromedriver.exe')\n",
    "driver.get('http://www.opinet.co.kr/searRgSelect.do')"
   ]
  },
  {
   "cell_type": "code",
   "execution_count": 27,
   "metadata": {
    "ExecuteTime": {
     "end_time": "2020-11-21T14:40:14.101716Z",
     "start_time": "2020-11-21T14:40:14.035923Z"
    }
   },
   "outputs": [],
   "source": [
    "# 구 설정하는 곳 클릭  # 25구 변경해가면서 크롤링 해야하니까\n",
    "# option tag 찾으면됨\n",
    "gu_list_raw = driver.find_element_by_xpath(\"\"\"//*[@id=\"SIGUNGU_NM0\"]\"\"\")   # xpath copy\n",
    "gu_list = gu_list_raw.find_elements_by_tag_name(\"option\")    # element\"s\": element는 하나만, elements는 찾은 것 모두 list로 반환"
   ]
  },
  {
   "cell_type": "code",
   "execution_count": 30,
   "metadata": {
    "ExecuteTime": {
     "end_time": "2020-11-21T14:43:43.466820Z",
     "start_time": "2020-11-21T14:43:43.459837Z"
    },
    "collapsed": true
   },
   "outputs": [
    {
     "data": {
      "text/plain": [
       "[<selenium.webdriver.remote.webelement.WebElement (session=\"e9f4d3d419c89dd1e5a4cf04a303b346\", element=\"b6cf8486-c433-45c8-9640-fe785d076ee2\")>,\n",
       " <selenium.webdriver.remote.webelement.WebElement (session=\"e9f4d3d419c89dd1e5a4cf04a303b346\", element=\"fbe65ee7-fb54-4dea-bae9-8e7088b6ff27\")>,\n",
       " <selenium.webdriver.remote.webelement.WebElement (session=\"e9f4d3d419c89dd1e5a4cf04a303b346\", element=\"d30db4cc-3b75-4572-9711-6afbfcaa1335\")>,\n",
       " <selenium.webdriver.remote.webelement.WebElement (session=\"e9f4d3d419c89dd1e5a4cf04a303b346\", element=\"7e04ee77-f4e0-4836-9527-040ca340bc40\")>,\n",
       " <selenium.webdriver.remote.webelement.WebElement (session=\"e9f4d3d419c89dd1e5a4cf04a303b346\", element=\"aee7f0f1-4b36-456a-a95b-2901fc37399a\")>,\n",
       " <selenium.webdriver.remote.webelement.WebElement (session=\"e9f4d3d419c89dd1e5a4cf04a303b346\", element=\"97030ea2-ff78-4c4e-a23a-1133ca5ebe92\")>,\n",
       " <selenium.webdriver.remote.webelement.WebElement (session=\"e9f4d3d419c89dd1e5a4cf04a303b346\", element=\"8553293b-9245-4840-965d-e8ff3a316405\")>,\n",
       " <selenium.webdriver.remote.webelement.WebElement (session=\"e9f4d3d419c89dd1e5a4cf04a303b346\", element=\"d1ec42f4-d700-4c6d-97dd-2ac8fff18be7\")>,\n",
       " <selenium.webdriver.remote.webelement.WebElement (session=\"e9f4d3d419c89dd1e5a4cf04a303b346\", element=\"6bb3bbcd-385f-41d7-b8ad-a8593ff2a14f\")>,\n",
       " <selenium.webdriver.remote.webelement.WebElement (session=\"e9f4d3d419c89dd1e5a4cf04a303b346\", element=\"319a7a86-53ab-4b99-9754-3871998d5af0\")>,\n",
       " <selenium.webdriver.remote.webelement.WebElement (session=\"e9f4d3d419c89dd1e5a4cf04a303b346\", element=\"ea44359c-4ee7-4eb5-8803-7bfe9ee66d33\")>,\n",
       " <selenium.webdriver.remote.webelement.WebElement (session=\"e9f4d3d419c89dd1e5a4cf04a303b346\", element=\"5a1963ec-ce94-400d-8102-cd6ca27251c8\")>,\n",
       " <selenium.webdriver.remote.webelement.WebElement (session=\"e9f4d3d419c89dd1e5a4cf04a303b346\", element=\"61e99130-091d-4b3a-b519-6b186f2531f5\")>,\n",
       " <selenium.webdriver.remote.webelement.WebElement (session=\"e9f4d3d419c89dd1e5a4cf04a303b346\", element=\"4eb423e5-5756-4bd7-bfee-d3cbfc5ed556\")>,\n",
       " <selenium.webdriver.remote.webelement.WebElement (session=\"e9f4d3d419c89dd1e5a4cf04a303b346\", element=\"6fecd104-25f4-4844-9672-ecd380e38d77\")>,\n",
       " <selenium.webdriver.remote.webelement.WebElement (session=\"e9f4d3d419c89dd1e5a4cf04a303b346\", element=\"d083c00a-6a76-4910-bb63-0353127937d6\")>,\n",
       " <selenium.webdriver.remote.webelement.WebElement (session=\"e9f4d3d419c89dd1e5a4cf04a303b346\", element=\"5b5872bf-f4f0-450b-8441-d082959abd6b\")>,\n",
       " <selenium.webdriver.remote.webelement.WebElement (session=\"e9f4d3d419c89dd1e5a4cf04a303b346\", element=\"eb3177e0-2540-4dbd-a0c3-2ae3b301e54b\")>,\n",
       " <selenium.webdriver.remote.webelement.WebElement (session=\"e9f4d3d419c89dd1e5a4cf04a303b346\", element=\"9dc21a9e-fb70-48b8-affd-4053a893d97e\")>,\n",
       " <selenium.webdriver.remote.webelement.WebElement (session=\"e9f4d3d419c89dd1e5a4cf04a303b346\", element=\"2941cb4d-8568-4c2b-ae30-db9dfa9a9790\")>,\n",
       " <selenium.webdriver.remote.webelement.WebElement (session=\"e9f4d3d419c89dd1e5a4cf04a303b346\", element=\"06c3e1da-335b-41ba-b5b1-fe4d4630b333\")>,\n",
       " <selenium.webdriver.remote.webelement.WebElement (session=\"e9f4d3d419c89dd1e5a4cf04a303b346\", element=\"826187ec-9b74-4615-af3c-ea8a2e2ff85d\")>,\n",
       " <selenium.webdriver.remote.webelement.WebElement (session=\"e9f4d3d419c89dd1e5a4cf04a303b346\", element=\"b32fe198-b68a-4b39-9d75-40d07059d683\")>,\n",
       " <selenium.webdriver.remote.webelement.WebElement (session=\"e9f4d3d419c89dd1e5a4cf04a303b346\", element=\"dba306c2-8810-43fe-b3c0-8021539bbf0e\")>,\n",
       " <selenium.webdriver.remote.webelement.WebElement (session=\"e9f4d3d419c89dd1e5a4cf04a303b346\", element=\"6231835b-4580-4952-b7a6-266fecd29ae6\")>,\n",
       " <selenium.webdriver.remote.webelement.WebElement (session=\"e9f4d3d419c89dd1e5a4cf04a303b346\", element=\"61763322-bc49-4b6f-bf06-9faa31c6be3f\")>]"
      ]
     },
     "execution_count": 30,
     "metadata": {},
     "output_type": "execute_result"
    }
   ],
   "source": [
    "gu_list"
   ]
  },
  {
   "cell_type": "code",
   "execution_count": 29,
   "metadata": {
    "ExecuteTime": {
     "end_time": "2020-11-21T14:43:20.581006Z",
     "start_time": "2020-11-21T14:43:20.303903Z"
    }
   },
   "outputs": [
    {
     "data": {
      "text/plain": [
       "['강남구',\n",
       " '강동구',\n",
       " '강북구',\n",
       " '강서구',\n",
       " '관악구',\n",
       " '광진구',\n",
       " '구로구',\n",
       " '금천구',\n",
       " '노원구',\n",
       " '도봉구',\n",
       " '동대문구',\n",
       " '동작구',\n",
       " '마포구',\n",
       " '서대문구',\n",
       " '서초구',\n",
       " '성동구',\n",
       " '성북구',\n",
       " '송파구',\n",
       " '양천구',\n",
       " '영등포구',\n",
       " '용산구',\n",
       " '은평구',\n",
       " '종로구',\n",
       " '중구',\n",
       " '중랑구']"
      ]
     },
     "execution_count": 29,
     "metadata": {},
     "output_type": "execute_result"
    }
   ],
   "source": [
    "# 구 이름 list \n",
    "gu_names = [option.get_attribute('value') for option in gu_list]\n",
    "gu_names.remove('')\n",
    "gu_names"
   ]
  },
  {
   "cell_type": "markdown",
   "metadata": {},
   "source": [
    "## 구 설정, 조회, 엑셀다운 test"
   ]
  },
  {
   "cell_type": "code",
   "execution_count": 31,
   "metadata": {
    "ExecuteTime": {
     "end_time": "2020-11-21T14:45:52.013456Z",
     "start_time": "2020-11-21T14:45:50.061659Z"
    }
   },
   "outputs": [],
   "source": [
    "# 구 list 중 첫번째 것으로 구 설정해보기\n",
    "element = driver.find_element_by_id(\"SIGUNGU_NM0\")  # 구선택하는 곳 이름\n",
    "element.send_keys(gu_names[0])   # 강남구"
   ]
  },
  {
   "cell_type": "code",
   "execution_count": 32,
   "metadata": {
    "ExecuteTime": {
     "end_time": "2020-11-21T14:47:19.989656Z",
     "start_time": "2020-11-21T14:47:19.860622Z"
    }
   },
   "outputs": [],
   "source": [
    "# 조회 버튼 클릭 (xpath copy)\n",
    "xpath = \"\"\"//*[@id=\"searRgSelect\"]/span\"\"\"\n",
    "element_sel_gu = driver.find_element_by_xpath(xpath).click()"
   ]
  },
  {
   "cell_type": "code",
   "execution_count": 34,
   "metadata": {
    "ExecuteTime": {
     "end_time": "2020-11-21T14:49:06.356676Z",
     "start_time": "2020-11-21T14:49:06.194736Z"
    }
   },
   "outputs": [],
   "source": [
    "# 조회된 결과 엑셀 저장하는 \"엑셀 저장\" 버튼 클릭 (xpath copy)\n",
    "xpath = \"\"\"//*[@id=\"glopopd_excel\"]/span\"\"\"\n",
    "element_get_excel = driver.find_element_by_xpath(xpath).click()"
   ]
  },
  {
   "cell_type": "markdown",
   "metadata": {},
   "source": [
    "## 반복문을 통한 25개 구 주유소 가격 정보 수집"
   ]
  },
  {
   "cell_type": "code",
   "execution_count": 36,
   "metadata": {
    "ExecuteTime": {
     "end_time": "2020-11-21T14:59:42.913774Z",
     "start_time": "2020-11-21T14:56:15.973223Z"
    }
   },
   "outputs": [
    {
     "data": {
      "application/vnd.jupyter.widget-view+json": {
       "model_id": "95ca815cd6664d2e838c1fc4cad71ff6",
       "version_major": 2,
       "version_minor": 0
      },
      "text/plain": [
       "HBox(children=(FloatProgress(value=0.0, max=25.0), HTML(value='')))"
      ]
     },
     "metadata": {},
     "output_type": "display_data"
    },
    {
     "name": "stdout",
     "output_type": "stream",
     "text": [
      "\n"
     ]
    }
   ],
   "source": [
    "import time\n",
    "from tqdm.notebook import tqdm\n",
    "\n",
    "for gu in tqdm(gu_names):\n",
    "    # 구 설정\n",
    "    element = driver.find_element_by_id(\"SIGUNGU_NM0\")\n",
    "    element.send_keys(gu)\n",
    "    \n",
    "    time.sleep(2)\n",
    "    \n",
    "    # 조회 버튼 클릭\n",
    "    xpath = \"\"\"//*[@id=\"searRgSelect\"]/span\"\"\"\n",
    "    element_sel_gu = driver.find_element_by_xpath(xpath).click()\n",
    "    \n",
    "    time.sleep(2)\n",
    "    \n",
    "    # 조회 결과 저장\n",
    "    xpath = \"\"\"//*[@id=\"glopopd_excel\"]/span\"\"\"\n",
    "    element_get_excel = driver.find_element_by_xpath(xpath).click()\n",
    "    \n",
    "    time.sleep(2)"
   ]
  },
  {
   "cell_type": "code",
   "execution_count": 37,
   "metadata": {
    "ExecuteTime": {
     "end_time": "2020-11-21T15:00:13.156707Z",
     "start_time": "2020-11-21T15:00:12.742200Z"
    }
   },
   "outputs": [],
   "source": [
    "# 크롬 드라이버 닫기\n",
    "driver.close()"
   ]
  },
  {
   "cell_type": "markdown",
   "metadata": {},
   "source": [
    "# 구별 주유 가격에 대한 데이터 정리"
   ]
  },
  {
   "cell_type": "code",
   "execution_count": 38,
   "metadata": {
    "ExecuteTime": {
     "end_time": "2020-11-21T15:01:59.166514Z",
     "start_time": "2020-11-21T15:01:57.959078Z"
    }
   },
   "outputs": [],
   "source": [
    "import pandas as pd\n",
    "from glob import glob"
   ]
  },
  {
   "cell_type": "code",
   "execution_count": 39,
   "metadata": {
    "ExecuteTime": {
     "end_time": "2020-11-21T15:02:40.767920Z",
     "start_time": "2020-11-21T15:02:40.757944Z"
    },
    "scrolled": true
   },
   "outputs": [
    {
     "data": {
      "text/plain": [
       "['data/04_구별 주유소 가격\\\\지역_위치별(주유소) (1).xls',\n",
       " 'data/04_구별 주유소 가격\\\\지역_위치별(주유소) (10).xls',\n",
       " 'data/04_구별 주유소 가격\\\\지역_위치별(주유소) (11).xls',\n",
       " 'data/04_구별 주유소 가격\\\\지역_위치별(주유소) (12).xls',\n",
       " 'data/04_구별 주유소 가격\\\\지역_위치별(주유소) (13).xls',\n",
       " 'data/04_구별 주유소 가격\\\\지역_위치별(주유소) (14).xls',\n",
       " 'data/04_구별 주유소 가격\\\\지역_위치별(주유소) (15).xls',\n",
       " 'data/04_구별 주유소 가격\\\\지역_위치별(주유소) (16).xls',\n",
       " 'data/04_구별 주유소 가격\\\\지역_위치별(주유소) (17).xls',\n",
       " 'data/04_구별 주유소 가격\\\\지역_위치별(주유소) (18).xls',\n",
       " 'data/04_구별 주유소 가격\\\\지역_위치별(주유소) (19).xls',\n",
       " 'data/04_구별 주유소 가격\\\\지역_위치별(주유소) (2).xls',\n",
       " 'data/04_구별 주유소 가격\\\\지역_위치별(주유소) (20).xls',\n",
       " 'data/04_구별 주유소 가격\\\\지역_위치별(주유소) (21).xls',\n",
       " 'data/04_구별 주유소 가격\\\\지역_위치별(주유소) (22).xls',\n",
       " 'data/04_구별 주유소 가격\\\\지역_위치별(주유소) (23).xls',\n",
       " 'data/04_구별 주유소 가격\\\\지역_위치별(주유소) (24).xls',\n",
       " 'data/04_구별 주유소 가격\\\\지역_위치별(주유소) (3).xls',\n",
       " 'data/04_구별 주유소 가격\\\\지역_위치별(주유소) (4).xls',\n",
       " 'data/04_구별 주유소 가격\\\\지역_위치별(주유소) (5).xls',\n",
       " 'data/04_구별 주유소 가격\\\\지역_위치별(주유소) (6).xls',\n",
       " 'data/04_구별 주유소 가격\\\\지역_위치별(주유소) (7).xls',\n",
       " 'data/04_구별 주유소 가격\\\\지역_위치별(주유소) (8).xls',\n",
       " 'data/04_구별 주유소 가격\\\\지역_위치별(주유소) (9).xls',\n",
       " 'data/04_구별 주유소 가격\\\\지역_위치별(주유소).xls']"
      ]
     },
     "execution_count": 39,
     "metadata": {},
     "output_type": "execute_result"
    }
   ],
   "source": [
    "# glob를 통해 \"지역*.xls\" - 지역이 들어가는 엑셀 파일 모두 찾을 수 있음 0~24(25개)\n",
    "glob('data/04_구별 주유소 가격/지역*.xls')"
   ]
  },
  {
   "cell_type": "code",
   "execution_count": 40,
   "metadata": {
    "ExecuteTime": {
     "end_time": "2020-11-21T15:04:05.727957Z",
     "start_time": "2020-11-21T15:04:05.719980Z"
    },
    "scrolled": true
   },
   "outputs": [
    {
     "data": {
      "text/plain": [
       "['data/04_구별 주유소 가격\\\\지역_위치별(주유소) (1).xls',\n",
       " 'data/04_구별 주유소 가격\\\\지역_위치별(주유소) (10).xls',\n",
       " 'data/04_구별 주유소 가격\\\\지역_위치별(주유소) (11).xls',\n",
       " 'data/04_구별 주유소 가격\\\\지역_위치별(주유소) (12).xls',\n",
       " 'data/04_구별 주유소 가격\\\\지역_위치별(주유소) (13).xls',\n",
       " 'data/04_구별 주유소 가격\\\\지역_위치별(주유소) (14).xls',\n",
       " 'data/04_구별 주유소 가격\\\\지역_위치별(주유소) (15).xls',\n",
       " 'data/04_구별 주유소 가격\\\\지역_위치별(주유소) (16).xls',\n",
       " 'data/04_구별 주유소 가격\\\\지역_위치별(주유소) (17).xls',\n",
       " 'data/04_구별 주유소 가격\\\\지역_위치별(주유소) (18).xls',\n",
       " 'data/04_구별 주유소 가격\\\\지역_위치별(주유소) (19).xls',\n",
       " 'data/04_구별 주유소 가격\\\\지역_위치별(주유소) (2).xls',\n",
       " 'data/04_구별 주유소 가격\\\\지역_위치별(주유소) (20).xls',\n",
       " 'data/04_구별 주유소 가격\\\\지역_위치별(주유소) (21).xls',\n",
       " 'data/04_구별 주유소 가격\\\\지역_위치별(주유소) (22).xls',\n",
       " 'data/04_구별 주유소 가격\\\\지역_위치별(주유소) (23).xls',\n",
       " 'data/04_구별 주유소 가격\\\\지역_위치별(주유소) (24).xls',\n",
       " 'data/04_구별 주유소 가격\\\\지역_위치별(주유소) (3).xls',\n",
       " 'data/04_구별 주유소 가격\\\\지역_위치별(주유소) (4).xls',\n",
       " 'data/04_구별 주유소 가격\\\\지역_위치별(주유소) (5).xls',\n",
       " 'data/04_구별 주유소 가격\\\\지역_위치별(주유소) (6).xls',\n",
       " 'data/04_구별 주유소 가격\\\\지역_위치별(주유소) (7).xls',\n",
       " 'data/04_구별 주유소 가격\\\\지역_위치별(주유소) (8).xls',\n",
       " 'data/04_구별 주유소 가격\\\\지역_위치별(주유소) (9).xls',\n",
       " 'data/04_구별 주유소 가격\\\\지역_위치별(주유소).xls']"
      ]
     },
     "execution_count": 40,
     "metadata": {},
     "output_type": "execute_result"
    }
   ],
   "source": [
    "stations_files = glob('data/04_구별 주유소 가격/지역*.xls')\n",
    "stations_files"
   ]
  },
  {
   "cell_type": "code",
   "execution_count": 49,
   "metadata": {
    "ExecuteTime": {
     "end_time": "2020-11-21T15:09:29.698486Z",
     "start_time": "2020-11-21T15:09:29.470560Z"
    }
   },
   "outputs": [],
   "source": [
    "# 순차적으로 25개 파일 읽기 -> tmp_raw에 append 반복 => concat으로 하나로 합치기\n",
    "tmp_raw = []\n",
    "\n",
    "for file_name in stations_files:\n",
    "    tmp = pd.read_excel(file_name, header=2)\n",
    "    tmp_raw.append(tmp)\n",
    "\n",
    "station_raw = pd.concat(tmp_raw)"
   ]
  },
  {
   "cell_type": "code",
   "execution_count": 50,
   "metadata": {
    "ExecuteTime": {
     "end_time": "2020-11-21T15:09:31.749000Z",
     "start_time": "2020-11-21T15:09:31.519452Z"
    }
   },
   "outputs": [
    {
     "data": {
      "text/plain": [
       "[       지역                    상호                         주소      상표  \\\n",
       " 0   서울특별시                구천면주유소      서울 강동구 구천면로 357 (암사동)  현대오일뱅크   \n",
       " 1   서울특별시         지에스칼텍스㈜ 신월주유소     서울 강동구 양재대로 1323 (성내동)   GS칼텍스   \n",
       " 2   서울특별시     현대오일뱅크㈜직영 고속셀프주유소           서울 강동구 천호대로 1246  현대오일뱅크   \n",
       " 3   서울특별시               방아다리주유소       서울 강동구 동남로 811 (명일동)   SK에너지   \n",
       " 4   서울특별시     현대오일뱅크㈜직영 명일셀프주유소       서울 강동구 고덕로 168 (명일동)  현대오일뱅크   \n",
       " 5   서울특별시        지에스칼텍스㈜ 동서울주유소     서울 강동구 천호대로 1456 (상일동)   GS칼텍스   \n",
       " 6   서울특별시     현대오일뱅크㈜직영 암사셀프주유소      서울 강동구 올림픽로 749 (암사동)  현대오일뱅크   \n",
       " 7   서울특별시  (주)소모에너지엔테크놀러지 성내주유소      서울 강동구 올림픽로 578 (성내동)   GS칼텍스   \n",
       " 8   서울특별시       대성석유(주)직영 길동주유소           서울 강동구 천호대로 1168   GS칼텍스   \n",
       " 9   서울특별시       (주)퍼스트오일 코알라주유소  서울특별시 강동구  올림픽로 556 (성내동)   S-OIL   \n",
       " 10  서울특별시              sk해뜨는주유소      서울 강동구  상일로 132 (강일동)   SK에너지   \n",
       " 11  서울특별시      주)지유에너지직영 오렌지주유소       서울 강동구 성안로 102 (성내동)   SK에너지   \n",
       " 12  서울특별시               천호현대주유소        서울 강동구 천중로 67 (천호동)  현대오일뱅크   \n",
       " 13  서울특별시        (주)삼표에너지 고덕주유소        서울 강동구 고덕로 39 (암사동)   GS칼텍스   \n",
       " 14  서울특별시                 광성주유소      서울 강동구 올림픽로 673 (천호동)   S-OIL   \n",
       " 15  서울특별시                 강동주유소      서울 강동구 양재대로 1509 (길동)   SK에너지   \n",
       " \n",
       "             전화번호 셀프여부 고급휘발유   휘발유    경유  실내등유  \n",
       " 0    02-441-0536    N     -  1374  1187     -  \n",
       " 1    02-475-2600    N  1585  1385  1188  1000  \n",
       " 2    02-487-2030    Y  1598  1386  1188   895  \n",
       " 3    02-442-5145    Y     -  1395  1195   975  \n",
       " 4   02-3428-1739    Y  1625  1395  1198     -  \n",
       " 5    02-426-5372    Y     -  1398  1205     -  \n",
       " 6   02-3427-2043    Y  1598  1398  1198     -  \n",
       " 7    02-479-3838    Y     -  1398  1198     -  \n",
       " 8    02-474-7222    N  1598  1398  1198  1000  \n",
       " 9    02-484-1162    Y     -  1398  1198     -  \n",
       " 10   02-442-7801    Y     -  1415  1238  1000  \n",
       " 11   02-484-6165    N     -  1456  1265  1101  \n",
       " 12   02-484-9323    N     -  1465  1267  1000  \n",
       " 13   02-441-3327    N  1678  1478  1279  1103  \n",
       " 14   02-470-5133    N     -  1498  1298  1230  \n",
       " 15   02-477-5101    N  2138  1843  1617  1127  ,\n",
       "        지역                상호                          주소      상표  \\\n",
       " 0   서울특별시     재원에너지(주)용일주유소        서울 동대문구 안암로 54 (용두동)   GS칼텍스   \n",
       " 1   서울특별시             풍한주유소             서울 동대문구 안암로 168   SK에너지   \n",
       " 2   서울특별시          (주)경동주유소       서울 동대문구 이문로 191 (이문동)   S-OIL   \n",
       " 3   서울특별시          (주)파랑에너지             서울 동대문구 망우로 126   GS칼텍스   \n",
       " 4   서울특별시       대성산업㈜청량리주유소      서울 동대문구 왕산로 289 (청량리동)   GS칼텍스   \n",
       " 5   서울특별시             웰컴주유소       서울 동대문구 한천로 414 (이문동)  현대오일뱅크   \n",
       " 6   서울특별시             재정주유소       서울 동대문구 전농로 121 (전농동)  현대오일뱅크   \n",
       " 7   서울특별시           재정제2주유소       서울 동대문구 사가정로 90 (전농동)  현대오일뱅크   \n",
       " 8   서울특별시            배봉로주유소          서울 동대문구 서울시립대로 108  현대오일뱅크   \n",
       " 9   서울특별시     대성산업(주)동마장주유소      서울 동대문구 고산자로 405 (용두동)   GS칼텍스   \n",
       " 10  서울특별시      동일석유(주)강남주유소  서울특별시 동대문구  사가정로 103 (전농동)   SK에너지   \n",
       " 11  서울특별시             열린주유소       서울 동대문구 한천로 263 (휘경동)   GS칼텍스   \n",
       " 12  서울특별시             홍능주유소       서울 동대문구 홍릉로 87 (청량리동)   S-OIL   \n",
       " 13  서울특별시  현대오일뱅크㈜직영 스피드주유소      서울 동대문구 천호대로 453 (장안동)  현대오일뱅크   \n",
       " 14  서울특별시           삼원셀프주유소        서울 동대문구 망우로 90 (휘경동)   SK에너지   \n",
       " 15  서울특별시            답십리주유소     서울 동대문구 답십리로 223 (답십리동)   SK에너지   \n",
       " 16  서울특별시             삼영주유소      서울 동대문구 답십리로 258 (장안동)   SK에너지   \n",
       " 17  서울특별시   삼미상사(주)장안킹셀프주유소      서울 동대문구  한천로 100 (장안동)   SK에너지   \n",
       " 18  서울특별시           오동나무주유소      서울 동대문구  한천로 81 (답십리동)   S-OIL   \n",
       " 19  서울특별시        한영주유소 (한화)        서울 동대문구 망우로 38 (휘경동)  현대오일뱅크   \n",
       " 20  서울특별시             능주주유소      서울 동대문구 청계천로 431 (신설동)   SK에너지   \n",
       " 21  서울특별시             신성주유소        서울 동대문구 장한로 29 (장안동)  현대오일뱅크   \n",
       " \n",
       "              전화번호 셀프여부 고급휘발유   휘발유    경유  실내등유  \n",
       " 0    02-3291-5151    N     -  1272  1073     -  \n",
       " 1     02-924-5189    N     -  1275  1075     -  \n",
       " 2     02-965-6006    Y     -  1280  1075   950  \n",
       " 3    02-2242-5145    Y  1475  1280  1075   850  \n",
       " 4     02-966-9400    Y     -  1280  1075     -  \n",
       " 5     02-969-1144    N     -  1285  1075     -  \n",
       " 6   070-8256-4617    N     -  1287  1087  1000  \n",
       " 7    02-2249-6682    Y     -  1287  1087     -  \n",
       " 8    02-2242-0556    Y     -  1295  1095     -  \n",
       " 9     02-966-5451    N  1588  1299  1108     -  \n",
       " 10   02-3394-5183    N     -  1299  1099  1200  \n",
       " 11   02-2215-6543    N     -  1325  1125     -  \n",
       " 12    02-966-9190    N     -  1327  1137   900  \n",
       " 13   02-2216-5151    N  1598  1354  1154     -  \n",
       " 14   02-2244-1972    Y     -  1359  1159   990  \n",
       " 15   02-2213-9901    N     -  1369  1169     -  \n",
       " 16   02-2217-2017    N     -  1369  1169  1200  \n",
       " 17   02-2242-7115    Y     -  1379  1179     -  \n",
       " 18   02-2247-5132    N     -  1398  1198  1200  \n",
       " 19   02-2214-9890    N     -  1499  1290   980  \n",
       " 20   02-2232-4245    N     -  1563  1377     -  \n",
       " 21   02-2217-4574    N     -     -     -     -  ,\n",
       "       지역                   상호                      주소      상표         전화번호  \\\n",
       " 0  서울특별시      지에스칼텍스(주) 대방주유소        서울 동작구 여의대방로 214   GS칼텍스  02-826-5145   \n",
       " 1  서울특별시   현대오일뱅크㈜직영 신대방셀프주유소  서울 동작구 시흥대로 616 (신대방동)  현대오일뱅크  02-832-7926   \n",
       " 2  서울특별시       대성산업(주) 노량진주유소  서울 동작구 노량진로 172 (노량진동)   GS칼텍스  02-815-2354   \n",
       " 3  서울특별시                매일주유소    서울 동작구 상도로 139 (상도동)   S-OIL  02-817-4085   \n",
       " 4  서울특별시             창원이엔지주유소     서울 동작구 사당로 59 (상도동)  현대오일뱅크  02-825-5151   \n",
       " 5  서울특별시  현대오일뱅크(주)직영 사당셀프주유소    서울 동작구 동작대로 73 (사당동)  현대오일뱅크  02-521-3618   \n",
       " 6  서울특별시    현대오일뱅크(주)직영 동작주유소    서울 동작구 상도로 403 (상도동)  현대오일뱅크  02-817-9179   \n",
       " 7  서울특별시       (주)성림에너지 남성주유소   서울 동작구 동작대로 135 (사당동)   GS칼텍스  02-532-0606   \n",
       " 8  서울특별시   현대오일뱅크㈜직영 흑석동셀프주유소    서울 동작구 현충로 101 (흑석동)  현대오일뱅크  02-815-0724   \n",
       " 9  서울특별시               살피재주유소          서울 동작구 상도로 334   SK에너지  02-817-2559   \n",
       " \n",
       "   셀프여부 고급휘발유   휘발유    경유  실내등유  \n",
       " 0    N  1459  1309  1109   990  \n",
       " 1    Y  1568  1320  1118     -  \n",
       " 2    N     -  1348  1148   990  \n",
       " 3    N     -  1349  1239  1200  \n",
       " 4    N     -  1359  1169     -  \n",
       " 5    Y  1559  1389  1219     -  \n",
       " 6    N  1549  1389  1239     -  \n",
       " 7    Y     -  1389  1219     -  \n",
       " 8    Y  1569  1399  1229     -  \n",
       " 9    N     -  1475  1295     -  ,\n",
       "        지역                 상호                        주소      상표           전화번호  \\\n",
       " 0   서울특별시              성산주유소  서울 마포구 월드컵북로 170 (성산제2동)   SK에너지    02-373-3314   \n",
       " 1   서울특별시            마포시엠주유소      서울 마포구 월드컵북로62 (성산동)   GS칼텍스    02-336-1687   \n",
       " 2   서울특별시              용강주유소            서울 마포구 토정로 258   S-OIL  070-7795-4800   \n",
       " 3   서울특별시              대흥주유소       서울 마포구 대흥로 61 (대흥동)   SK에너지   02-3273-5151   \n",
       " 4   서울특별시     에스오일(주) 염리동주유소      서울 마포구 백범로 126 (염리동)   S-OIL   02-3272-5155   \n",
       " 5   서울특별시              청원주유소    서울 마포구 월드컵북로 113 (성산동)  현대오일뱅크    02-325-5533   \n",
       " 6   서울특별시             망원동주유소     서울 마포구 월드컵로 119 (망원동)   SK에너지    02-334-0917   \n",
       " 7   서울특별시  현대오일뱅크㈜직영 성산대교주유소            서울 마포구 성산로 144  현대오일뱅크    02-323-0078   \n",
       " 8   서울특별시  현대오일뱅크㈜직영 마포제일주유소       서울 마포구 서강로 76 (창전동)  현대오일뱅크    02-336-5185   \n",
       " 9   서울특별시     SK에너지(주) 안국주유소       서울 마포구 양화로 33 (합정동)   SK에너지   02-3144-1197   \n",
       " 10  서울특별시        SK에너지 양지주유소      서울 마포구 마포대로 69 (도화동)   SK에너지    02-706-8955   \n",
       " 11  서울특별시              마포주유소     서울 마포구 마포대로 186 (공덕동)   S-OIL    02-701-3990   \n",
       " 12  서울특별시              서강주유소      서울 마포구 독막로 134 (창전동)   SK에너지    02-338-2886   \n",
       " \n",
       "    셀프여부 고급휘발유   휘발유    경유  실내등유  \n",
       " 0     N     -  1347  1157     -  \n",
       " 1     N     -  1357  1147     -  \n",
       " 2     N     -  1386  1186     -  \n",
       " 3     N  1869  1388  1188  1170  \n",
       " 4     Y     -  1388  1188     -  \n",
       " 5     N  1748  1398  1198     -  \n",
       " 6     N     -  1418  1218     -  \n",
       " 7     N  1778  1433  1228  1098  \n",
       " 8     N  1739  1458  1258  1098  \n",
       " 9     N  1674  1574  1399     -  \n",
       " 10    N  1799  1679  1519     -  \n",
       " 11    N     -  1697  1498  1147  \n",
       " 12    N     -     -     -     -  ,\n",
       "        지역                상호                            주소      상표  \\\n",
       " 0   서울특별시          (주)우남에너지         서울 서대문구 세검정로 87 (홍제동)   S-OIL   \n",
       " 1   서울특별시     (주)창원이엔지 홍제지점         서울 서대문구 통일로 455 (홍제동)  현대오일뱅크   \n",
       " 2   서울특별시      (주)가재울뉴타운주유소              서울 서대문구 모래내로 205  현대오일뱅크   \n",
       " 3   서울특별시       (주)마봉 신우주유소         서울 서대문구 가좌로 106 (홍은동)   S-OIL   \n",
       " 4   서울특별시  (주)마봉 구도일주유소 두꺼비               서울 서대문구 성산로 312   S-OIL   \n",
       " 5   서울특별시           행촌제2주유소         서울 서대문구 성산로 490 (대신동)   SK에너지   \n",
       " 6   서울특별시             연희주유소  서울 서대문구 연희로 129 (연희동 89-7번지)   SK에너지   \n",
       " 7   서울특별시   지에스칼텍스(주)홍제동주유소               서울 서대문구 통일로 372   GS칼텍스   \n",
       " 8   서울특별시             남정주유소       서울 서대문구 모래내로 243 (남가좌동)   GS칼텍스   \n",
       " 9   서울특별시           삼보셀프주유소          서울 서대문구 연희로 78 (연희동)   SK에너지   \n",
       " 10  서울특별시        코리아상사연세주유소               서울 서대문구 연희로 184   GS칼텍스   \n",
       " 11  서울특별시       중앙에너비스 동교지점          서울 서대문구 연희로 12 (창천동)   SK에너지   \n",
       " 12  서울특별시             광호주유소         서울 서대문구 연희로 266 (홍은동)   SK에너지   \n",
       " 13  서울특별시  현대오일뱅크㈜직영 독립문주유소         서울 서대문구 통일로 384 (홍제동)  현대오일뱅크   \n",
       " 14  서울특별시      삼미상사(주)서부주유소               서울 서대문구 성산로 255   SK에너지   \n",
       " \n",
       "              전화번호 셀프여부 고급휘발유   휘발유    경유  실내등유  \n",
       " 0     02-395-4300    N     -  1299  1099  1050  \n",
       " 1     02-379-0753    N     -  1299  1099  1200  \n",
       " 2   070-8879-7864    Y     -  1332  1132     -  \n",
       " 3     02-304-5522    Y     -  1332  1132     -  \n",
       " 4     02-336-0611    Y     -  1332  1132  1000  \n",
       " 5     02-365-5189    N  1599  1332  1132     -  \n",
       " 6     02-338-8045    N  1679  1332  1132     -  \n",
       " 7     02-736-3708    Y  1525  1335  1135  1265  \n",
       " 8     02-305-9828    N     -  1337  1137  1200  \n",
       " 9     02-336-6151    Y     -  1338  1129     -  \n",
       " 10    02-337-8220    Y  1488  1338  1138     -  \n",
       " 11  070-8707-4568    Y  1698  1338  1138     -  \n",
       " 12    02-395-7236    N     -  1338  1138     -  \n",
       " 13    02-735-0333    N  1589  1379  1189     -  \n",
       " 14    02-334-4919    Y     -  1389  1189     -  ,\n",
       "        지역                    상호                          주소      상표  \\\n",
       " 0   서울특별시              만남의광장주유소        서울 서초구 양재대로12길 73-71  알뜰(ex)   \n",
       " 1   서울특별시               태봉셀프주유소        서울 서초구 태봉로 117 (우면동)   SK에너지   \n",
       " 2   서울특별시               강남대로주유소       서울 서초구 강남대로 206 (양재동)   S-OIL   \n",
       " 3   서울특별시              (주)홈런주유소  서울 서초구 양재대로2길 100-30 (우면동)   S-OIL   \n",
       " 4   서울특별시                 양재주유소             서울 서초구 바우뫼로 178   SK에너지   \n",
       " 5   서울특별시                 한독주유소        서울 서초구 방배로 218 (방배동)   GS칼텍스   \n",
       " 6   서울특별시               말죽거리주유소     서울 서초구 남부순환로 2650 (양재동)   GS칼텍스   \n",
       " 7   서울특별시    현대오일뱅크(주)직영 팔레스주유소       서울 서초구 사평대로 136 (반포동)  현대오일뱅크   \n",
       " 8   서울특별시     현대오일뱅크㈜직영 양재현대주유소                서울 서초구 마방로 6  현대오일뱅크   \n",
       " 9   서울특별시                신반포주유소        서울 서초구 사평대로 94 (반포동)   SK에너지   \n",
       " 10  서울특별시     에쓰오일(주)직영 오토테크주유소    서울특별시 서초구  효령로 356 (서초동)   S-OIL   \n",
       " 11  서울특별시       지에스칼텍스(주)헌릉로주유소        서울 서초구 헌릉로 177 (내곡동)   GS칼텍스   \n",
       " 12  서울특별시         (주)한미석유 서초주유소        서울 서초구 반포대로 64 (서초동)   GS칼텍스   \n",
       " 13  서울특별시        지에스칼텍스(주)내곡주유소              서울 서초구 헌릉로 210   GS칼텍스   \n",
       " 14  서울특별시        (주)대농석유 남태령주유소       서울 서초구 과천대로 838 (방배동)   SK에너지   \n",
       " 15  서울특별시              서초꽃마을주유소        서울 서초구 반포대로 69 (서초동)   GS칼텍스   \n",
       " 16  서울특별시         (주)한미건설 서울주유소       서울 서초구 서초중앙로 91 (서초동)   GS칼텍스   \n",
       " 17  서울특별시     현대오일뱅크㈜직영 반포셀프주유소              서울 서초구 사평대로 12  현대오일뱅크   \n",
       " 18  서울특별시        지에스칼텍스(주)선천주유소       서울 서초구 동작대로 206 (방배동)   GS칼텍스   \n",
       " 19  서울특별시          대성석유(주)연일주유소           서울 서초구 남부순환로 2451   GS칼텍스   \n",
       " 20  서울특별시               양재최고주유소         서울 서초구 매헌로 72 (양재동)   S-OIL   \n",
       " 21  서울특별시          대신석유(주)대우주유소       서울 서초구 양재대로 173 (양재동)   SK에너지   \n",
       " 22  서울특별시   현대오일뱅크(주)직영 방배현대주유소       서울 서초구 동작대로 182 (방배동)  현대오일뱅크   \n",
       " 23  서울특별시               반포그린주유소      서울 서초구 서초중앙로 239 (반포동)   GS칼텍스   \n",
       " 24  서울특별시  대성산업(주)직영 터미널(고속)주유소       서울 서초구 신반포로 222 (반포동)   GS칼텍스   \n",
       " 25  서울특별시        대성산업(주)직영강남주유소       서울 서초구 반포대로 284 (반포동)   GS칼텍스   \n",
       " 26  서울특별시       지에스칼텍스(주)남서울주유소        서울 서초구 나루터로 83 (잠원동)   GS칼텍스   \n",
       " 27  서울특별시   현대오일뱅크(주)직영 서초제일주유소       서울 서초구 사임당로 116 (서초동)  현대오일뱅크   \n",
       " 28  서울특별시                방배동주유소         서울 서초구 효령로 29 (방배동)   SK에너지   \n",
       " 29  서울특별시                크로바주유소        서울 서초구 효령로 327 (서초동)   SK에너지   \n",
       " 30  서울특별시      현대오일뱅크㈜직영 사평로주유소       서울 서초구 사평대로 350 (서초동)  현대오일뱅크   \n",
       " 31  서울특별시        (주)선문에너지 중앙주유소  서울특별시 서초구  바우뫼로 219 (양재1동)   S-OIL   \n",
       " 32  서울특별시            대신석유㈜서원주유소       서울 서초구 반포대로 142 (서초동)   SK에너지   \n",
       " 33  서울특별시               선우상사Q엔느         서울 서초구 방배로 66 (방배동)   SK에너지   \n",
       " 34  서울특별시       경일석유(주)직영 삼방주유소       서울 서초구 사평대로 364 (서초동)   GS칼텍스   \n",
       " 35  서울특별시                전당앞주유소     서울 서초구 남부순환로 2391 (서초동)   SK에너지   \n",
       " \n",
       "             전화번호 셀프여부 고급휘발유   휘발유    경유  실내등유  \n",
       " 0    02-573-7430    Y     -  1244  1044     -  \n",
       " 1    02-571-8000    Y     -  1357  1157     -  \n",
       " 2    02-579-7547    Y     -  1359  1169     -  \n",
       " 3    02-577-5151    Y     -  1365  1168     -  \n",
       " 4    02-577-1621    N  1562  1369  1169     -  \n",
       " 5   02-3477-6127    N  1538  1369  1199     -  \n",
       " 6    02-579-9933    N     -  1369  1169  1159  \n",
       " 7    02-720-0020    N  1549  1369  1199     -  \n",
       " 8    02-579-8429    N  1562  1378  1174  1070  \n",
       " 9    02-533-5151    N  1549  1378  1228  1100  \n",
       " 10   02-585-5189    Y  1533  1383  1182     -  \n",
       " 11   02-574-0828    Y  1515  1385  1185  1200  \n",
       " 12   02-582-5198    N  1585  1385  1185     -  \n",
       " 13   02-573-7878    N  1535  1385  1185  1250  \n",
       " 14   02-587-0895    Y     -  1387  1187     -  \n",
       " 15   02-523-5551    N  1595  1388  1188     -  \n",
       " 16   02-597-5152    N     -  1388  1188     -  \n",
       " 17   02-599-5189    Y  1569  1389  1219     -  \n",
       " 18   02-592-4915    N  1529  1389  1204     -  \n",
       " 19  02-3471-5151    N  1628  1395  1228  1100  \n",
       " 20  02-2057-5189    N     -  1395  1195     -  \n",
       " 21   02-572-0567    Y     -  1399  1197     -  \n",
       " 22   02-534-0051    N  1559  1399  1229  1250  \n",
       " 23   02-532-5147    N  1598  1412  1270     -  \n",
       " 24   02-535-3001    N  1598  1412  1270   990  \n",
       " 25   02-594-5987    N  1598  1412  1270     -  \n",
       " 26   02-542-1517    N  1591  1412  1255   990  \n",
       " 27   02-587-6080    N  1649  1442  1283     -  \n",
       " 28   02-584-2086    N     -  1497  1207     -  \n",
       " 29   02-586-8100    N  1829  1539  1435     -  \n",
       " 30  02-3481-2513    N  1839  1662  1467     -  \n",
       " 31   02-575-5110    N  2088  1847  1647  1250  \n",
       " 32   02-599-3657    N  1998  1848  1648     -  \n",
       " 33   02-581-5101    N  2148  1867  1638     -  \n",
       " 34  02-3482-1094    N     -     -     -     -  \n",
       " 35   02-597-2381    N     -     -     -     -  ,\n",
       "        지역                 상호                       주소      상표          전화번호  \\\n",
       " 0   서울특별시              정호주유소    서울 성동구 고산자로 307 (마장동)    자가상표  02-2297-9442   \n",
       " 1   서울특별시           KLP제2주유소     서울 성동구 동일로 249 (송정동)  현대오일뱅크   02-465-5182   \n",
       " 2   서울특별시        (주)서울에너지 직영    서울 성동구 천호대로 324 (용답동)   S-OIL  02-3390-4338   \n",
       " 3   서울특별시             아이콘주유소    서울 성동구 고산자로 273 (도선동)   S-OIL  02-2291-5189   \n",
       " 4   서울특별시     지에스칼텍스㈜ 도루코주유소          서울 성동구 아차산로 180   GS칼텍스   02-463-6919   \n",
       " 5   서울특별시  현대오일뱅크(주) 성동셀프주유소     서울 성동구 마장로 311 (마장동)  현대오일뱅크  02-2299-7333   \n",
       " 6   서울특별시    SK에너지(주) 군자동주유소    서울 성동구 천호대로 446 (용답동)   SK에너지  02-2244-4945   \n",
       " 7   서울특별시              삼우주유소          서울 성동구 천호대로 392   SK에너지  02-2245-8974   \n",
       " 8   서울특별시              경진주유소    서울 성동구 고산자로 348 (마장동)   SK에너지  02-2295-3331   \n",
       " 9   서울특별시    kh에너지(주)성수만세주유소          서울 성동구 왕십리로 109   SK에너지   02-499-8223   \n",
       " 10  서울특별시     SK에너지(주) 성수주유소   서울 성동구 뚝섬로 352 (성수동1가)   SK에너지   02-467-7240   \n",
       " 11  서울특별시    현대오일뱅크㈜직영 효진주유소           서울 성동구 동일로 129  현대오일뱅크   02-464-7252   \n",
       " 12  서울특별시           SK세원2주유소  서울 성동구 광나루로 184 (성수동1가)   SK에너지   02-462-5665   \n",
       " 13  서울특별시              금호주유소    서울 성동구 금호로 39 (금호동4가)   GS칼텍스  02-2297-0066   \n",
       " 14  서울특별시              동일주유소  서울 성동구 광나루로 254 (성수동2가)  현대오일뱅크   02-461-7100   \n",
       " 15  서울특별시             청계로주유소  서울 성동구 청계천로 454 (하왕십리동)   SK에너지  02-2294-4225   \n",
       " 16  서울특별시      (주)옥수하이웨이스테이션    서울 성동구 독서당로 168 (옥수동)   GS칼텍스  02-2282-5151   \n",
       " \n",
       "    셀프여부 고급휘발유   휘발유    경유  실내등유  \n",
       " 0     N     -  1279  1088     -  \n",
       " 1     Y     -  1299  1099     -  \n",
       " 2     Y     -  1299  1099     -  \n",
       " 3     N     -  1328  1128  1100  \n",
       " 4     Y  1529  1339  1139  1030  \n",
       " 5     Y  1588  1340  1145     -  \n",
       " 6     N  1474  1354  1154     -  \n",
       " 7     N     -  1374  1174     -  \n",
       " 8     N     -  1378  1178  1100  \n",
       " 9     Y  1635  1386  1186     -  \n",
       " 10    Y  1545  1386  1186     -  \n",
       " 11    N  1628  1428  1227  1028  \n",
       " 12    N  1788  1445  1245     -  \n",
       " 13    N     -  1595  1398  1320  \n",
       " 14    N  1949  1649  1448  1165  \n",
       " 15    N     -  1698  1547  1245  \n",
       " 16    N  1993  1705  1557     -  ,\n",
       "        지역                 상호                         주소      상표  \\\n",
       " 0   서울특별시            강산제2주유소             서울 성북구 보국문로 52  현대오일뱅크   \n",
       " 1   서울특별시              원천주유소      서울 성북구 돌곶이로 142 (장위동)   알뜰주유소   \n",
       " 2   서울특별시           (주)성북주유소             서울 성북구 보문로 142  현대오일뱅크   \n",
       " 3   서울특별시      이케이에너지㈜ 강산주유소      서울 성북구 보문로 27 (보문동7가)   GS칼텍스   \n",
       " 4   서울특별시     (주)삼표에너지 정릉주유소       서울 성북구 보국문로 35 (정릉동)   GS칼텍스   \n",
       " 5   서울특별시             신동방주유소        서울 성북구 월계로 84 (장위동)   S-OIL   \n",
       " 6   서울특별시              신방주유소     서울 성북구 안암로 111 (안암동5가)   S-OIL   \n",
       " 7   서울특별시    (주)신용 구도일주유소화랑로             서울 성북구 화랑로 174   S-OIL   \n",
       " 8   서울특별시        중앙에너비스 종암지점              서울 성북구 종암로 58   SK에너지   \n",
       " 9   서울특별시              장위주유소      서울 성북구 화랑로 110 (하월곡동)   S-OIL   \n",
       " 10  서울특별시     GS칼텍스(주) 종암주유소       서울 성북구 종암로 145 (종암동)   GS칼텍스   \n",
       " 11  서울특별시  현대오일뱅크㈜직영 고대셀프주유소        서울 성북구 종암로 12 (종암동)  현대오일뱅크   \n",
       " 12  서울특별시              우리주유소       서울 성북구 화랑로 292 (석관동)   SK에너지   \n",
       " 13  서울특별시              삼선주유소            서울 성북구 창경궁로 324   S-OIL   \n",
       " 14  서울특별시      지에스칼텍스㈜ 화랑주유소             서울 성북구 화랑로 185   GS칼텍스   \n",
       " 15  서울특별시       ㈜명연에너지 효성주유소              서울 성북구 화랑로 27   GS칼텍스   \n",
       " 16  서울특별시  현대오일뱅크㈜직영 북악셀프주유소       서울 성북구 정릉로 218 (정릉동)  현대오일뱅크   \n",
       " 17  서울특별시  현대오일뱅크㈜직영 광덕셀프주유소      서울 성북구 보문로 89 (보문동5가)  현대오일뱅크   \n",
       " 18  서울특별시      지에스칼텍스㈜ 세창주유소            서울 성북구 동소문로 323   GS칼텍스   \n",
       " 19  서울특별시  현대오일뱅크(주)직영 장삼주유소       서울 성북구 한천로 612 (장위동)  현대오일뱅크   \n",
       " 20  서울특별시       재정제2주유소 길음지점        서울 성북구 삼양로 78 (길음동)  현대오일뱅크   \n",
       " 21  서울특별시   SK에너지(주) 드림랜드주유소       서울 성북구 월계로 128 (장위동)   SK에너지   \n",
       " 22  서울특별시              동일주유소  서울특별시 성북구  보문로 85 (보문동5가)   GS칼텍스   \n",
       " 23  서울특별시   현대오일뱅크㈜직영 아리랑주유소       서울 성북구 아리랑로 96 (정릉동)  현대오일뱅크   \n",
       " \n",
       "              전화번호 셀프여부 고급휘발유   휘발유    경유  실내등유  \n",
       " 0     02-942-1448    Y     -  1249  1049   800  \n",
       " 1   070-4007-1051    N     -  1249  1049     -  \n",
       " 2     02-928-4900    Y     -  1259  1059     -  \n",
       " 3     02-953-1448    Y     -  1259  1059   800  \n",
       " 4     02-914-6556    Y  1539  1259  1059   800  \n",
       " 5     02-918-5151    N     -  1269  1069     -  \n",
       " 6     02-922-5151    N     -  1272  1073     -  \n",
       " 7     02-963-0051    Y     -  1288  1087     -  \n",
       " 8   070-8707-4565    Y     -  1288  1088     -  \n",
       " 9    02-6498-5189    Y     -  1288  1087     -  \n",
       " 10    02-921-7785    Y  1538  1288  1088     -  \n",
       " 11    02-912-5151    Y  1539  1288  1088     -  \n",
       " 12    02-969-5185    Y     -  1294  1085     -  \n",
       " 13    02-766-5105    Y  1845  1297  1087     -  \n",
       " 14    02-942-5152    N     -  1299  1089  1000  \n",
       " 15    02-942-5150    N  1899  1299  1088  1149  \n",
       " 16    02-911-5189    Y     -  1299  1099     -  \n",
       " 17    02-923-5545    Y  1597  1299  1099     -  \n",
       " 18    02-988-2491    Y  1502  1299  1099  1090  \n",
       " 19    02-909-0314    Y  1599  1299  1089   999  \n",
       " 20    02-980-1311    N     -  1299  1099  1000  \n",
       " 21    02-916-9906    N     -  1309  1099     -  \n",
       " 22    02-923-8484    N     -  1352  1141  1131  \n",
       " 23    02-941-5189    N  1619  1359  1159  1025  ,\n",
       "        지역                  상호                        주소      상표          전화번호  \\\n",
       " 0   서울특별시   지에스이앤알 직영 송파제일주유소      서울 송파구 삼학사로 50 (석촌동)  현대오일뱅크   02-424-2900   \n",
       " 1   서울특별시               방이주유소  서울 송파구 위례성대로12길 38 (방이동)   SK에너지   02-424-3051   \n",
       " 2   서울특별시      (주)뉴명성산업 남성주유소    서울 송파구 백제고분로 474 (방이동)  현대오일뱅크   02-423-5128   \n",
       " 3   서울특별시              아시아주유소      서울 송파구 도곡로 438 (잠실동)   GS칼텍스   02-416-1911   \n",
       " 4   서울특별시            백제고분로주유소      서울 송파구 오금로 143 (방이동)   SK에너지  02-2202-4050   \n",
       " 5   서울특별시               삼화주유소          서울 송파구 백제고분로 125   GS칼텍스  02-2203-2280   \n",
       " 6   서울특별시             삼전셀프주유소          서울 송파구 백제고분로 199   SK에너지   02-420-5101   \n",
       " 7   서울특별시               삼정주유소    서울 송파구 백제고분로 252 (삼전동)   GS칼텍스   02-412-5189   \n",
       " 8   서울특별시             위례제일주유소           서울 송파구 위례서로 258   S-OIL   02-408-9951   \n",
       " 9   서울특별시      한강에너지(주)퍼스트주유소      서울 송파구 삼학사로 22 (석촌동)   SK에너지   02-422-2834   \n",
       " 10  서울특별시               상아주유소       서울 송파구 거마로 82 (마천동)  현대오일뱅크   02-409-8251   \n",
       " 11  서울특별시           (주)정직한주유소      서울 송파구 오금로 455 (거여동)  현대오일뱅크   02-406-4634   \n",
       " 12  서울특별시   현대오일뱅크㈜직영 잠실셀프주유소     서울 송파구 송파대로 397 (석촌동)  현대오일뱅크   02-417-7111   \n",
       " 13  서울특별시            (주)잠실에너지     서울 송파구 송파대로 442 (송파동)   S-OIL   02-414-5010   \n",
       " 14  서울특별시               대성주유소      서울 송파구 마천로 230 (마천동)   SK에너지   02-431-1991   \n",
       " 15  서울특별시   현대오일뱅크㈜직영 거여셀프주유소        서울 송파구 거마로 5 (거여동)  현대오일뱅크   02-409-9836   \n",
       " 16  서울특별시        대성석유(주)석촌주유소          서울 송파구 백제고분로 289   GS칼텍스   02-421-0051   \n",
       " 17  서울특별시       (주)퍼스트오일서울주유소      서울 송파구 문정로 153 (가락동)   S-OIL   02-407-0708   \n",
       " 18  서울특별시       (주)남경석유 세영주유소            서울 송파구 동남로 298   GS칼텍스   02-406-7778   \n",
       " 19  서울특별시            (주)유진주유소      서울 송파구 동남로 325 (오금동)   SK에너지   02-406-3956   \n",
       " 20  서울특별시      지에스칼텍스(주)우리주유소            서울 송파구 동남로 153   GS칼텍스  02-3401-1588   \n",
       " 21  서울특별시           제트라인DM주유소      서울 송파구 중대로 183 (가락동)  현대오일뱅크   02-430-5151   \n",
       " 22  서울특별시     (주)삼표에너지 훼미리주유소       서울 송파구 중대로 58 (문정동)   GS칼텍스   02-448-9252   \n",
       " 23  서울특별시       (주)신화에너지 서울지점       서울 송파구 가락로 47 (석촌동)   SK에너지  02-2202-8484   \n",
       " 24  서울특별시   지에스칼텍스(주)스마트위례주유소     서울 송파구 위례중앙로 43 (장지동)   GS칼텍스   02-409-5185   \n",
       " 25  서울특별시               완불주유소       서울 송파구 송파대로 3 (장지동)   SK에너지  02-3402-2900   \n",
       " 26  서울특별시              남성대주유소      서울 송파구 송파대로 52 (장지동)   SK에너지   02-409-2211   \n",
       " 27  서울특별시               송파주유소       서울 송파구 송이로 28 (송파동)   GS칼텍스  02-2203-3737   \n",
       " 28  서울특별시   지에스칼텍스(주)가든파이브주유소           서울 송파구 탄천동로 740   GS칼텍스   02-409-5145   \n",
       " 29  서울특별시     현대오일뱅크㈜직영 서원주유소      서울 송파구 중대로 154 (가락동)  현대오일뱅크   02-402-5929   \n",
       " 30  서울특별시  현대오일뱅크㈜직영 올림픽셀프주유소    서울 송파구 위례성대로 188 (오금동)  현대오일뱅크   02-448-9804   \n",
       " 31  서울특별시             송파알찬주유소    서울 송파구 백제고분로 229 (삼전동)   S-OIL  02-3432-0028   \n",
       " 32  서울특별시        대신석유(주)진양주유소     서울 송파구 올림픽로 499 (풍납동)   SK에너지   02-477-1906   \n",
       " \n",
       "    셀프여부 고급휘발유   휘발유    경유  실내등유  \n",
       " 0     Y     -  1330  1150     -  \n",
       " 1     N     -  1330  1150     -  \n",
       " 2     N     -  1330  1150     -  \n",
       " 3     Y  1525  1330  1150     -  \n",
       " 4     Y  1513  1330  1150     -  \n",
       " 5     Y  1525  1330  1150     -  \n",
       " 6     Y  1525  1330  1150     -  \n",
       " 7     Y     -  1330  1150     -  \n",
       " 8     Y     -  1337  1144     -  \n",
       " 9     Y  1525  1339  1159     -  \n",
       " 10    Y     -  1343  1154   950  \n",
       " 11    Y     -  1348  1168     -  \n",
       " 12    Y  1588  1362  1150  1240  \n",
       " 13    Y  1493  1363  1162     -  \n",
       " 14    N     -  1368  1168   960  \n",
       " 15    Y  1567  1368  1188     -  \n",
       " 16    N  1597  1368  1228  1100  \n",
       " 17    N     -  1368  1178  1000  \n",
       " 18    N     -  1369  1169     -  \n",
       " 19    N     -  1374  1177     -  \n",
       " 20    N  1525  1375  1185  1200  \n",
       " 21    N     -  1377  1187     -  \n",
       " 22    N  1578  1378  1188  1200  \n",
       " 23    Y     -  1379  1179  1100  \n",
       " 24    Y  1515  1383  1185     -  \n",
       " 25    Y  1525  1383  1185     -  \n",
       " 26    Y     -  1383  1185     -  \n",
       " 27    Y     -  1397  1197  1100  \n",
       " 28    Y  1547  1397  1207     -  \n",
       " 29    N  1599  1397  1207  1095  \n",
       " 30    Y  1559  1397  1197     -  \n",
       " 31    N     -  1438  1289  1298  \n",
       " 32    N  1699  1629  1429     -  ,\n",
       "        지역                     상호                      주소      상표  \\\n",
       " 0   서울특별시             개나리Self주유소  서울 양천구 남부순환로 442 (신월동)   SK에너지   \n",
       " 1   서울특별시                가로공원주유소  서울 양천구 가로공원로 165 (신월동)   SK에너지   \n",
       " 2   서울특별시                  현대주유소  서울 양천구 남부순환로 372 (신월동)   S-OIL   \n",
       " 3   서울특별시            형산석유(주)원주유소        서울 양천구 남부순환로 408  현대오일뱅크   \n",
       " 4   서울특별시                 양천구주유소    서울 양천구 국회대로 275 (목동)   알뜰주유소   \n",
       " 5   서울특별시          지에스칼텍스㈜ 서호주유소        서울 양천구 남부순환로 317   GS칼텍스   \n",
       " 6   서울특별시                  신월주유소    서울 양천구 신월로 193 (신월동)   GS칼텍스   \n",
       " 7   서울특별시  현대오일뱅크(주)직영 남부순환셀프주유소  서울 양천구 남부순환로 553 (신월동)  현대오일뱅크   \n",
       " 8   서울특별시               (주)블루에너지    서울 양천구 중앙로 226 (신정동)   SK에너지   \n",
       " 9   서울특별시        지에스이앤알 직영 서울주유소    서울 양천구 신정로 236 (신정동)   GS칼텍스   \n",
       " 10  서울특별시      현대오일뱅크㈜직영 목동셀프주유소    서울 양천구 공항대로 648 (목동)  현대오일뱅크   \n",
       " 11  서울특별시          지에스칼텍스㈜ 건지주유소   서울 양천구 안양천로 1171 (목동)   GS칼텍스   \n",
       " 12  서울특별시                 신정동주유소   서울 양천구 안양천로 663 (신정동)  현대오일뱅크   \n",
       " 13  서울특별시        현대오일뱅크(주) 양천주유소   서울 양천구 안양천로 1179 (목동)  현대오일뱅크   \n",
       " 14  서울특별시         (주)삼표에너지 목동주유소    서울 양천구 목동서로 129 (목동)   GS칼텍스   \n",
       " 15  서울특별시                  목동주유소   서울 양천구 목동중앙로 125 (목동)   SK에너지   \n",
       " 16  서울특별시    현대오일뱅크(주)직영 양천셀프주유소           서울 양천구 목동로 17  현대오일뱅크   \n",
       " 17  서울특별시             (주)서부트럭터미날    서울 양천구 신정로 167 (신정동)  현대오일뱅크   \n",
       " 18  서울특별시              대농self주유소    서울 양천구 중앙로 331 (신월동)   SK에너지   \n",
       " 19  서울특별시   현대오일뱅크(주)직영 신목동셀프주유소       서울 양천구 목동동로10길 13  현대오일뱅크   \n",
       " 20  서울특별시         SK에너지(주) 경인주유소   서울 양천구 국회대로 170 (신정동)   SK에너지   \n",
       " 21  서울특별시            SK에너지(주) 신평    서울 양천구 목동남로 62 (신정동)   SK에너지   \n",
       " 22  서울특별시                  양정주유소   서울 양천구 국회대로 158 (신정동)  현대오일뱅크   \n",
       " 23  서울특별시                  신양주유소           서울 양천구 지양로 67   SK에너지   \n",
       " 24  서울특별시       현대오일뱅크㈜직영 코리아주유소          서울 양천구 신목로7길 1  현대오일뱅크   \n",
       " 25  서울특별시                  평화주유소   서울 양천구 안양천로 657 (신정동)   SK에너지   \n",
       " \n",
       "             전화번호 셀프여부 고급휘발유   휘발유    경유  실내등유  \n",
       " 0   02-2606-5189    Y     -  1249  1048     -  \n",
       " 1   02-2695-3423    N     -  1249  1048     -  \n",
       " 2   02-2608-9231    Y     -  1249  1048     -  \n",
       " 3   02-2690-5837    N     -  1249  1048  1005  \n",
       " 4   02-2644-5105    Y     -  1259  1062     -  \n",
       " 5   02-2602-5172    Y  1419  1269  1069  1015  \n",
       " 6   02-2603-5182    Y     -  1285  1085  1100  \n",
       " 7   02-2690-5001    Y     -  1299  1099     -  \n",
       " 8   02-2646-6212    Y     -  1299  1099     -  \n",
       " 9   02-2607-9478    N     -  1299  1099     -  \n",
       " 10  02-2648-4204    Y     -  1305  1128     -  \n",
       " 11  02-2644-5108    Y  1495  1308  1118  1030  \n",
       " 12  02-2651-5189    Y     -  1318  1128     -  \n",
       " 13  02-2653-5189    N  1589  1318  1128     -  \n",
       " 14  02-2654-5153    N  1518  1318  1128     -  \n",
       " 15  02-2645-5104    Y     -  1318  1128     -  \n",
       " 16  02-2644-5185    Y  1559  1329  1129     -  \n",
       " 17  02-2614-0047    N     -  1339  1149  1100  \n",
       " 18  02-2694-4966    Y     -  1348  1148     -  \n",
       " 19  02-2642-5188    Y  1599  1349  1149     -  \n",
       " 20  02-2693-4994    Y     -  1359  1159     -  \n",
       " 21  02-2654-5145    N  1524  1359  1159   948  \n",
       " 22  02-2691-5185    N     -  1375  1178     -  \n",
       " 23  02-2608-3312    N     -  1419  1229  1169  \n",
       " 24  02-2646-6121    N  1769  1599  1399     -  \n",
       " 25  02-2647-2122    N  1847  1647  1396     -  ,\n",
       "        지역                    상호                             주소      상표  \\\n",
       " 0   서울특별시              남서울고속주유소         서울 영등포구 가마산로 367 (대림동)   SK에너지   \n",
       " 1   서울특별시              (주)MS주유소                서울 영등포구 대림로 230  현대오일뱅크   \n",
       " 2   서울특별시        (주)대청에너지 대청주유소         서울 영등포구 가마산로 328 (대림동)   GS칼텍스   \n",
       " 3   서울특별시               (주)강서오일                서울 영등포구 도신로 151  현대오일뱅크   \n",
       " 4   서울특별시                 도림주유소          서울 영등포구 도림로 343 (도림동)   알뜰주유소   \n",
       " 5   서울특별시                 매봉주유소          서울 영등포구 도신로 248 (신길동)  현대오일뱅크   \n",
       " 6   서울특별시                 행촌주유소          서울 영등포구 도신로 130 (신길동)   SK에너지   \n",
       " 7   서울특별시          한경석유(주)경덕주유소       서울 영등포구 여의대방로23길 2 (신길동)   SK에너지   \n",
       " 8   서울특별시         지에스칼텍스㈜ 신길주유소           서울 영등포구 신길로 74 (신길동)   GS칼텍스   \n",
       " 9   서울특별시   현대오일뱅크(주)직영 영등포현대셀프         서울 영등포구 경인로 822 (영등포동)  현대오일뱅크   \n",
       " 10  서울특별시  현대오일뱅크㈜직영 영등포제일셀프주유소               서울 영등포구 가마산로 379  현대오일뱅크   \n",
       " 11  서울특별시         지에스칼텍스㈜ 화일주유소                서울 영등포구 도림로 415   GS칼텍스   \n",
       " 12  서울특별시        ㈜지에스이앤알 모드니주유소                서울 영등포구 경인로 789   GS칼텍스   \n",
       " 13  서울특별시     현대오일뱅크㈜직영 대일셀프주유소               서울 영등포구 영등포로 168  현대오일뱅크   \n",
       " 14  서울특별시       SK에너지(주) 신길동주유소         서울 영등포구 영등포로 348 (신길동)   SK에너지   \n",
       " 15  서울특별시                선유도주유소        서울 영등포구 양평로 141 (양평동5가)   S-OIL   \n",
       " 16  서울특별시       (주)한미석유 제2한강주유소        서울 영등포구 선유로 260 (양평동4가)   GS칼텍스   \n",
       " 17  서울특별시        SK에너지(주) 양평주유소        서울 영등포구 선유로 195 (양평동3가)   SK에너지   \n",
       " 18  서울특별시        SK에너지(주) 기린주유소                서울 영등포구 선유로 270   SK에너지   \n",
       " 19  서울특별시    현대오일뱅크㈜직영 선유로셀프주유소         서울 영등포구 선유로 114(양평동1가)  현대오일뱅크   \n",
       " 20  서울특별시          씨앤에스유통 한성주유소              서울 영등포구 여의대방로 227   S-OIL   \n",
       " 21  서울특별시                 한일주유소        서울 영등포구 도림로 486 (문래동3가)   SK에너지   \n",
       " 22  서울특별시                 대영주유소      서울 영등포구 국회대로 632 (영등포동7가)   GS칼텍스   \n",
       " 23  서울특별시        성원이앤에스(주)영등포지점  서울 영등포구 국회대로52길 9-13 (영등포동7가)   GS칼텍스   \n",
       " 24  서울특별시               sk여명주유소       서울 영등포구 국회대로62길 7 (여의도동)   SK에너지   \n",
       " 25  서울특별시              버드나룻길주유소        서울 영등포구 버드나루로 111 (당산동)   SK에너지   \n",
       " 26  서울특별시    현대오일뱅크㈜직영 여의도현대주유소       서울 영등포구 의사당대로 154 (여의도동)  현대오일뱅크   \n",
       " 27  서울특별시     지에스칼텍스(주) 국회대로주유소        서울 영등포구 국회대로 746 (여의도동)   GS칼텍스   \n",
       " 28  서울특별시              KH여의도주유소        서울 영등포구 국회대로 794 (여의도동)   SK에너지   \n",
       " 29  서울특별시        SJ오일(주) 여의도주유소                 서울 영등포구 은행로 64   GS칼텍스   \n",
       " 30  서울특별시                 성락주유소         서울 영등포구 가마산로 414 (신길동)   S-OIL   \n",
       " 31  서울특별시                 보라주유소         서울 영등포구 영등포로 399 (신길동)   GS칼텍스   \n",
       " \n",
       "              전화번호 셀프여부 고급휘발유   휘발유    경유  실내등유  \n",
       " 0     02-843-5151    Y     -  1259  1059     -  \n",
       " 1     02-849-5577    N     -  1279  1079     -  \n",
       " 2     02-841-8780    N     -  1279  1079     -  \n",
       " 3     02-832-1700    N     -  1279  1079   829  \n",
       " 4     02-835-8881    Y     -  1279  1079     -  \n",
       " 5     02-836-8851    Y     -  1289  1089  1000  \n",
       " 6   070-7758-5189    N     -  1289  1089     -  \n",
       " 7     02-843-3900    Y     -  1289  1089     -  \n",
       " 8     02-833-1113    Y  1439  1289  1089  1034  \n",
       " 9    02-2678-0503    Y     -  1289  1089     -  \n",
       " 10    02-847-5151    Y     -  1299  1099     -  \n",
       " 11   02-2633-5546    Y  1449  1299  1099  1139  \n",
       " 12   02-2637-7788    N     -  1299  1099     -  \n",
       " 13   02-2068-8700    Y  1549  1299  1099     -  \n",
       " 14    02-843-0481    N  1429  1329  1139  1173  \n",
       " 15   02-2671-5223    Y     -  1338  1138     -  \n",
       " 16   02-2633-2716    Y     -  1338  1138     -  \n",
       " 17   02-2633-1013    Y     -  1338  1138     -  \n",
       " 18   02-2671-5182    Y     -  1348  1148  1170  \n",
       " 19   02-2069-1045    Y     -  1349  1129     -  \n",
       " 20    02-849-5180    N     -  1355  1145   990  \n",
       " 21   02-2679-1794    N     -  1390  1230  1050  \n",
       " 22   02-2672-1151    Y     -  1430  1320     -  \n",
       " 23   02-2635-7781    N     -  1698  1499  1200  \n",
       " 24    02-782-5111    N     -  1768  1568     -  \n",
       " 25   02-2634-5104    N  2099  1890  1690  1340  \n",
       " 26    02-780-3466    N  1999  1919  1719     -  \n",
       " 27    02-761-5122    N  1989  1919  1719     -  \n",
       " 28    02-761-5101    N  1965  1924  1759     -  \n",
       " 29    02-785-8201    N  1999  1939  1770  1268  \n",
       " 30    02-842-6148    Y     -     -     -     -  \n",
       " 31    02-842-1155    N     -     -     -     -  ,\n",
       "        지역                   상호                     주소      상표         전화번호  \\\n",
       " 0   서울특별시             북서울고속주유소   서울 강북구 삼양로 410 (수유동)   S-OIL  02-907-5182   \n",
       " 1   서울특별시             (주)석산에너지   서울 강북구 삼양로 316 (수유동)  현대오일뱅크  02-980-1448   \n",
       " 2   서울특별시               수유동주유소   서울 강북구 도봉로 395 (수유동)   GS칼텍스  02-902-9470   \n",
       " 3   서울특별시     KH에너지(주)직영 송정주유소  서울 강북구 인수봉로 185 (수유동)   SK에너지  02-993-5189   \n",
       " 4   서울특별시                에덴주유소    서울 강북구 월계로 195 (번동)   SK에너지  02-987-8182   \n",
       " 5   서울특별시       SK에너지(주) 매일주유소   서울 강북구 삼양로 217 (미아동)   SK에너지  02-982-8855   \n",
       " 6   서울특별시       (주)마봉직영 덕릉로주유소    서울 강북구 덕릉로 158 (번동)   S-OIL  02-989-9806   \n",
       " 7   서울특별시  현대오일뱅크(주)직영 번동셀프주유소    서울 강북구 한천로 963 (번동)  현대오일뱅크  02-992-3331   \n",
       " 8   서울특별시  현대오일뱅크(주)직영 미아셀프주유소   서울 강북구 도봉로 200 (미아동)  현대오일뱅크  02-945-7999   \n",
       " 9   서울특별시    현대오일뱅크㈜직영 새한셀프주유소          서울 강북구 도봉로 75  현대오일뱅크  02-985-4382   \n",
       " 10  서울특별시                세원주유소    서울 강북구 한천로 918 (번동)   SK에너지  02-907-6890   \n",
       " 11  서울특별시         대성석유(주)신광주유소         서울 강북구 삼양로 484   GS칼텍스  02-908-3320   \n",
       " 12  서울특별시        ㈜지에스이앤알 미아주유소   서울 강북구 도봉로 122 (미아동)   GS칼텍스  02-987-5152   \n",
       " \n",
       "    셀프여부 고급휘발유   휘발유    경유  실내등유  \n",
       " 0     Y     -  1249  1049     -  \n",
       " 1     Y     -  1249  1049   800  \n",
       " 2     Y     -  1249  1049     -  \n",
       " 3     N     -  1269  1069     -  \n",
       " 4     Y     -  1269  1069     -  \n",
       " 5     Y     -  1277  1077     -  \n",
       " 6     N     -  1299  1098     -  \n",
       " 7     Y  1767  1299  1099     -  \n",
       " 8     Y  1767  1299  1099     -  \n",
       " 9     Y  1767  1299  1099     -  \n",
       " 10    Y     -  1299  1099   900  \n",
       " 11    N     -  1299  1099  1000  \n",
       " 12    Y  1637  1299  1099     -  ,\n",
       "        지역                  상호                       주소      상표           전화번호  \\\n",
       " 0   서울특별시    (주)한독모터스용산뉴타운주유소   서울 용산구 한강대로 48 (한강로3가)   GS칼텍스    02-796-4635   \n",
       " 1   서울특별시   현대오일뱅크㈜직영 강변현대주유소       서울 용산구 원효로 9 (청암동)  현대오일뱅크    02-712-7124   \n",
       " 2   서울특별시  현대오일뱅크(주)직영 소월길주유소      서울 용산구 소월로 66 (후암동)  현대오일뱅크    02-318-3314   \n",
       " 3   서울특별시         (주)영원 풍기주유소   서울 용산구 원효로 178 (원효로2가)   GS칼텍스    02-719-2202   \n",
       " 4   서울특별시               한석주유소           서울 용산구 이촌로 164   SK에너지    02-790-1020   \n",
       " 5   서울특별시        수림석유 제3한강주유소     서울 용산구 한남대로 45 (한남동)   GS칼텍스    02-795-3180   \n",
       " 6   서울특별시           (주)신태성주유소   서울 용산구 원효로 147 (원효로3가)   SK에너지    02-701-9447   \n",
       " 7   서울특별시            (주)남경주유소       서울 용산구 녹사평대로11길 24   SK에너지    02-793-2954   \n",
       " 8   서울특별시    현대오일뱅크㈜직영 갈월동주유소    서울 용산구 한강대로 322 (갈월동)  현대오일뱅크    02-754-5217   \n",
       " 9   서울특별시    현대오일뱅크㈜직영 한남동주유소    서울 용산구 한남대로 204 (한남동)  현대오일뱅크    02-795-0802   \n",
       " 10  서울특별시              동자동주유소  서울 용산구 한강대로104길 6 (동자동)   SK에너지    02-754-9843   \n",
       " 11  서울특별시                에너비스     서울 용산구 한남대로 82 (한남동)   SK에너지  070-8707-4572   \n",
       " 12  서울특별시                한남지점   서울 용산구 한남대로21길 4 (한남동)   SK에너지  070-8707-4586   \n",
       " 13  서울특별시               서계주유소     서울 용산구 청파로 367 (서계동)   GS칼텍스    02-706-6485   \n",
       " \n",
       "    셀프여부  고급휘발유   휘발유    경유  실내등유  \n",
       " 0     N   1758  1538  1438   777  \n",
       " 1     N   1749  1589  1469     -  \n",
       " 2     N   2297  1633  1578     -  \n",
       " 3     N   1949  1690  1518  1367  \n",
       " 4     N   1898  1698  1598     -  \n",
       " 5     N   2013  1718  1577     -  \n",
       " 6     N   2052  1782  1599  1016  \n",
       " 7     N   2018  1799  1699  1094  \n",
       " 8     N   2259  1863  1658   969  \n",
       " 9     N   2095  1898  1738     -  \n",
       " 10    N   2290  1990  1790  1200  \n",
       " 11    N   2198  1998  1798     -  \n",
       " 12    N   2198  1998  1798     -  \n",
       " 13    N   2428  2089  1969  1462  ,\n",
       "        지역                 상호                     주소      상표         전화번호 셀프여부  \\\n",
       " 0   서울특별시  지에스칼텍스(주)수색뉴타운주유소   서울 은평구 수색로 350 (수색동)   GS칼텍스  02-309-5051    Y   \n",
       " 1   서울특별시              불광주유소   서울 은평구 연서로 314 (불광동)  현대오일뱅크  02-382-5149    Y   \n",
       " 2   서울특별시        대성산업㈜ 대성주유소         서울 은평구 통일로 642   GS칼텍스  02-355-3434    Y   \n",
       " 3   서울특별시              다회주유소   서울 은평구 증산로 441 (신사동)   S-OIL  02-375-5156    Y   \n",
       " 4   서울특별시      지에스칼텍스㈜ 서부주유소   서울 은평구 응암로 210 (응암동)   GS칼텍스  02-302-6041    Y   \n",
       " 5   서울특별시  (주)명연에너지 수색훼미리주유소   서울 은평구 수색로 236 (수색동)  현대오일뱅크  02-374-8770    Y   \n",
       " 6   서울특별시    지에스칼텍스㈜ 신사제일주유소   서울 은평구 증산로 423 (신사동)   GS칼텍스  02-308-4333    Y   \n",
       " 7   서울특별시             타이거주유소   서울 은평구 수색로 188 (증산동)   SK에너지  02-309-9145    Y   \n",
       " 8   서울특별시           뉴타운셀프주유소    서울특별시 은평구  통일로 1031   S-OIL  02-355-3055    Y   \n",
       " 9   서울특별시      성원이앤에스(주)은평지점   서울 은평구 통일로 968 (진관동)   GS칼텍스  02-352-4451    N   \n",
       " 10  서울특별시            박석고개주유소   서울 은평구 통일로 945 (갈현동)   SK에너지  02-388-0477    Y   \n",
       " 11  서울특별시           은평뉴타운주유소   서울 은평구 통일로 924 (불광동)   SK에너지  02-355-0349    Y   \n",
       " 12  서울특별시      지에스칼텍스㈜ 녹번주유소   서울 은평구 통일로 600 (녹번동)   GS칼텍스  02-385-5002    N   \n",
       " 13  서울특별시            제이제이에너지         서울 은평구 응암로 163   SK에너지  02-303-1448    Y   \n",
       " 14  서울특별시             코끼리주유소   서울 은평구 서오릉로 41 (녹번동)    자가상표  02-384-4000    N   \n",
       " 15  서울특별시  현대오일뱅크㈜직영 은평드림주유소  서울 은평구 통일로 1151 (진관동)  현대오일뱅크  02-354-5182    N   \n",
       " 16  서울특별시              삼융주유소   서울 은평구 수색로 299 (수색동)   SK에너지  02-307-3314    N   \n",
       " \n",
       "    고급휘발유   휘발유    경유  실내등유  \n",
       " 0      -  1285  1075     -  \n",
       " 1   1494  1294  1094     -  \n",
       " 2   1538  1299  1099     -  \n",
       " 3      -  1304  1104     -  \n",
       " 4   1485  1315  1115   900  \n",
       " 5      -  1315  1115     -  \n",
       " 6   1485  1315  1115   870  \n",
       " 7      -  1315  1115  1000  \n",
       " 8      -  1323  1123     -  \n",
       " 9   1525  1325  1125     -  \n",
       " 10     -  1328  1128     -  \n",
       " 11     -  1328  1128   990  \n",
       " 12  1505  1335  1135   900  \n",
       " 13     -  1345  1145     -  \n",
       " 14     -  1398  1198     -  \n",
       " 15  1568  1399  1199  1000  \n",
       " 16     -     -     -     -  ,\n",
       "       지역               상호                      주소      상표           전화번호 셀프여부  \\\n",
       " 0  서울특별시    ㈜지에스이앤알 평창주유소  서울 종로구 평창문화로 135 (평창동)  현대오일뱅크    02-391-5185    N   \n",
       " 1  서울특별시            안풍주유소   서울 종로구 자하문로 303 (홍지동)   S-OIL    02-396-5151    N   \n",
       " 2  서울특별시           자하문주유소   서울 종로구 자하문로 248 (부암동)   SK에너지    02-396-5252    Y   \n",
       " 3  서울특별시         구도일주유소특종   서울 종로구 평창문화로 90 (평창동)   S-OIL    02-379-6524    N   \n",
       " 4  서울특별시          SK북악주유소        서울 종로구 평창문화로 137   SK에너지    02-395-6500    N   \n",
       " 5  서울특별시  현대오일뱅크㈜직영 재동주유소     서울 종로구 율곡로 58 (경운동)  현대오일뱅크    02-732-3968    N   \n",
       " 6  서울특별시           경복궁주유소      서울 종로구 율곡로 6 (중학동)   GS칼텍스   02-6016-6981    N   \n",
       " 7  서울특별시  (주)중앙에너비스 혜화주유소        서울 종로구 창경궁로35길 1   SK에너지  070-8707-4563    N   \n",
       " 8  서울특별시   (주)대양씨앤씨 사직주유소     서울 종로구 사직로 65 (사직동)   GS칼텍스    02-735-4858    N   \n",
       " \n",
       "   고급휘발유   휘발유    경유  실내등유  \n",
       " 0     -  1405  1220     -  \n",
       " 1  1750  1405  1220     -  \n",
       " 2  1765  1410  1225     -  \n",
       " 3  1798  1450  1250  1150  \n",
       " 4  1998  1798  1598     -  \n",
       " 5     -  1888  1627  1000  \n",
       " 6  2168  1960  1778     -  \n",
       " 7  2198  1998  1798   990  \n",
       " 8  2208  1998  1798  1290  ,\n",
       "        지역               상호                      주소      상표          전화번호 셀프여부  \\\n",
       " 0   서울특별시            세화주유소          서울 중구 왕십리로 403   알뜰주유소  02-2234-3451    N   \n",
       " 1   서울특별시     현대오일뱅크 장원주유소     서울 중구 동호로 203 (신당동)  현대오일뱅크  02-2236-2759    N   \n",
       " 2   서울특별시            화성주유소           서울 중구 다산로 233   S-OIL  02-2252-2210    N   \n",
       " 3   서울특별시            장충주유소  서울 중구 장충단로 202 (장충동1가)   SK에너지  02-2279-9965    N   \n",
       " 4   서울특별시           신당동주유소     서울 중구 다산로 242 (신당동)   SK에너지  02-2252-6688    N   \n",
       " 5   서울특별시   SK에너지(주) 통일주유소           서울 중구 동호로 296   SK에너지  02-2285-5150    N   \n",
       " 6   서울특별시            약수주유소           서울 중구 다산로 173   GS칼텍스  02-2252-3345    N   \n",
       " 7   서울특별시  SK에너지(주) 퇴계로주유소    서울 중구 퇴계로 228 (필동2가)   SK에너지  02-2273-5189    N   \n",
       " 8   서울특별시            필동주유소   서울 중구  퇴계로 196 (필동2가)   GS칼텍스  02-2267-8025    N   \n",
       " 9   서울특별시            서남주유소            서울 중구 통일로 30   SK에너지   02-752-2262    N   \n",
       " 10  서울특별시     에스씨(주) 역전주유소            서울 중구 퇴계로 15   GS칼텍스   02-752-6880    N   \n",
       " \n",
       "    고급휘발유   휘발유    경유  실내등유  \n",
       " 0      -  1378  1178  1050  \n",
       " 1   1838  1598  1398  1100  \n",
       " 2   1898  1758  1598  1100  \n",
       " 3   2198  1758  1598     -  \n",
       " 4   1998  1798  1648  1100  \n",
       " 5   1969  1859  1659  1200  \n",
       " 6   2296  1936  1746     -  \n",
       " 7   2184  2069  1879     -  \n",
       " 8   2349  2079  1899  1299  \n",
       " 9   2583  2183  2007  1439  \n",
       " 10     -     -     -     -  ,\n",
       "        지역                  상호                     주소      상표           전화번호  \\\n",
       " 0   서울특별시           면목SELF주유소   서울 중랑구 동일로 627 (면목동)   SK에너지    02-437-4072   \n",
       " 1   서울특별시      (주)자연에너지 대창주유소   서울 중랑구 동일로 636 (면목동)  현대오일뱅크    02-434-1448   \n",
       " 2   서울특별시               대원주유소         서울 중랑구 동일로 600   GS칼텍스    02-438-6111   \n",
       " 3   서울특별시       지에스칼텍스㈜ 소망주유소         서울 중랑구 망우로 475   GS칼텍스    02-494-0400   \n",
       " 4   서울특별시               우림주유소  서울 중랑구 용마산로 487 (망우동)   GS칼텍스    02-433-9990   \n",
       " 5   서울특별시     (주)태영 구도일주유소 한인   서울 중랑구 망우로 170 (상봉동)   S-OIL    02-438-5151   \n",
       " 6   서울특별시  현대오일뱅크㈜직영 중랑교셀프주유소   서울 중랑구 망우로 229 (중화동)  현대오일뱅크    02-493-0115   \n",
       " 7   서울특별시           구도일주유소 동천   서울 중랑구 동일로 654 (면목동)   S-OIL    02-495-0081   \n",
       " 8   서울특별시              오천만주유소   서울 중랑구 동일로 547 (면목동)   S-OIL  070-7797-7474   \n",
       " 9   서울특별시         망우주유소(self)   서울 중랑구 망우로 311 (상봉동)   GS칼텍스    02-432-5145   \n",
       " 10  서울특별시               대양주유소  서울 중랑구 봉우재로 105 (상봉동)   GS칼텍스    02-437-5457   \n",
       " 11  서울특별시            (주)기지에너지  서울 중랑구 용마산로 716 (신내동)   S-OIL   02-2207-9419   \n",
       " 12  서울특별시               신내주유소  서울 중랑구 용마산로 705 (신내동)   SK에너지   02-2207-0523   \n",
       " 13  서울특별시              용마로주유소  서울 중랑구 용마산로 309 (면목동)   SK에너지    02-439-3037   \n",
       " 14  서울특별시        재원에너지㈜ 범아주유소    서울 중랑구 동일로 881 (묵동)   S-OIL    02-974-8356   \n",
       " 15  서울특별시             신일셀프주유소    서울 중랑구 상봉로 58 (망우동)   SK에너지    02-436-3651   \n",
       " \n",
       "    셀프여부 고급휘발유   휘발유    경유  실내등유  \n",
       " 0     Y     -  1267  1067     -  \n",
       " 1     N     -  1267  1067   750  \n",
       " 2     Y  1597  1267  1067   910  \n",
       " 3     Y     -  1285  1085  1000  \n",
       " 4     Y     -  1285  1085     -  \n",
       " 5     Y  1475  1285  1095   850  \n",
       " 6     Y  1598  1285  1085     -  \n",
       " 7     Y     -  1287  1087     -  \n",
       " 8     Y     -  1287  1087     -  \n",
       " 9     Y     -  1295  1105     -  \n",
       " 10    N     -  1295  1095   900  \n",
       " 11    N     -  1299  1109  1000  \n",
       " 12    Y     -  1314  1117  1050  \n",
       " 13    Y     -  1325  1125  1000  \n",
       " 14    N     -  1388  1188  1090  \n",
       " 15    Y     -  1399  1198  1100  ,\n",
       "        지역                   상호                        주소      상표  \\\n",
       " 0   서울특별시               뉴신정주유소      서울 강서구 곰달래로 207(화곡동)   알뜰주유소   \n",
       " 1   서울특별시               화곡역주유소  서울특별시 강서구  강서로 154 (화곡동)   알뜰주유소   \n",
       " 2   서울특별시                방화주유소    서울 강서구 방화동로 58-2 (방화동)   SK에너지   \n",
       " 3   서울특별시          행촌에너지 공항주유소     서울 강서구 개화동로 420 (개화동)  현대오일뱅크   \n",
       " 4   서울특별시            강서오곡셀프주유소      서울 강서구 벌말로 254 (오곡동)   SK에너지   \n",
       " 5   서울특별시                유턴주유소           서울 강서구 남부순환로 57   알뜰주유소   \n",
       " 6   서울특별시      지에스칼텍스㈜ 경인고속주유소     서울 강서구 국회대로 225 (화곡동)   GS칼텍스   \n",
       " 7   서울특별시                목화주유소     서울 강서구 국회대로 251 (화곡동)   SK에너지   \n",
       " 8   서울특별시               스카이주유소     서울 강서구 개화동로 457 (방화동)   S-OIL   \n",
       " 9   서울특별시  현대오일뱅크㈜직영 강서제일셀프주유소      서울 강서구 화곡로 273 (화곡동)  현대오일뱅크   \n",
       " 10  서울특별시  KH에너지(주)직영 KH외발산주유소            서울 강서구 방화대로 30   SK에너지   \n",
       " 11  서울특별시               신화곡주유소            서울 강서구 국회대로 71   S-OIL   \n",
       " 12  서울특별시                개화주유소             서울 강서구 양천로 57   SK에너지   \n",
       " 13  서울특별시              하이웨이주유소   서울특별시 강서구 공항대로 432(화곡동)   S-OIL   \n",
       " 14  서울특별시         현대오일뱅크 등촌주유소      서울 강서구 등촌로 189 (등촌동)  현대오일뱅크   \n",
       " 15  서울특별시        (주)한진 김포공항주유소            서울 강서구 하늘길 259   S-OIL   \n",
       " 16  서울특별시              화곡현대주유소      서울 강서구 강서로 151 (화곡동)   SK에너지   \n",
       " 17  서울특별시                강서열린점      서울 강서구 등촌로 213 (등촌동)   GS칼텍스   \n",
       " 18  서울특별시    현대오일뱅크㈜직영 에어포트주유소     서울 강서구 개화동로 519 (방화동)  현대오일뱅크   \n",
       " 19  서울특별시        현대오일뱅크 양화교주유소     서울 강서구 공항대로 653 (염창동)  현대오일뱅크   \n",
       " 20  서울특별시               우장산주유소     서울 강서구 강서로 292 (내발산동)   SK에너지   \n",
       " 21  서울특별시       대성석유(주)직영관문주유소           서울 강서구 공항대로 314   GS칼텍스   \n",
       " 22  서울특별시       대성석유(주)방화대성주유소            서울 강서구 양천로 176   GS칼텍스   \n",
       " 23  서울특별시      대성석유(주) 마곡대성주유소            서울 강서구 강서로 457   GS칼텍스   \n",
       " 24  서울특별시     KH에너지(주)직영 가양주유소      서울 강서구 강서로 498 (가양동)   SK에너지   \n",
       " 25  서울특별시                대성주유소      서울 강서구 강서로 472 (등촌동)   GS칼텍스   \n",
       " 26  서울특별시      현대오일뱅크(주) 가양주유소     서울 강서구  양천로 391 (가양동)  현대오일뱅크   \n",
       " 27  서울특별시              세원제1주유소      서울 강서구 양천로 311 (가양동)   SK에너지   \n",
       " 28  서울특별시          코리나(주)청룡주유소      서울 강서구 양천로 576 (등촌동)   SK에너지   \n",
       " 29  서울특별시               박물관주유소    서울 강서구 양천로53길 97 (가양동)   GS칼텍스   \n",
       " 30  서울특별시      (주)한진 김포공항제2주유소            서울 강서구 하늘길 112   S-OIL   \n",
       " 31  서울특별시                참솔에너지      서울 강서구 벌말로 281 (오곡동)   S-OIL   \n",
       " 32  서울특별시               염창동주유소      서울 강서구 양천로 720 (염창동)   SK에너지   \n",
       " \n",
       "              전화번호 셀프여부 고급휘발유   휘발유    경유  실내등유  \n",
       " 0    02-2601-0077    N     -  1243  1043     -  \n",
       " 1    02-2691-5151    Y     -  1243  1043     -  \n",
       " 2    02-2662-0503    N     -  1263  1063   950  \n",
       " 3    02-2665-5189    Y     -  1264  1064     -  \n",
       " 4    032-671-5186    Y     -  1265  1065     -  \n",
       " 5    02-2665-5047    Y     -  1265  1065   895  \n",
       " 6    02-2608-5151    Y  1416  1266  1072  1100  \n",
       " 7    02-2654-4564    Y     -  1266  1072     -  \n",
       " 8    02-2663-5146    Y  1467  1269  1069     -  \n",
       " 9    02-2695-4544    Y     -  1289  1147     -  \n",
       " 10   032-677-9497    Y  1689  1289  1089     -  \n",
       " 11   02-2611-3161    Y     -  1295  1095     -  \n",
       " 12   02-2661-5555    Y     -  1297  1097     -  \n",
       " 13   02-2605-4000    Y  1457  1297  1147     -  \n",
       " 14   02-2647-5700    N     -  1317  1127     -  \n",
       " 15   02-2662-0422    Y     -  1319  1128  1020  \n",
       " 16   02-2607-1942    Y  1455  1326  1126     -  \n",
       " 17   02-2647-9091    N     -  1327  1127  1250  \n",
       " 18   02-2664-1900    N     -  1339  1129     -  \n",
       " 19   02-3665-2004    N  1539  1339  1169  1000  \n",
       " 20   02-3664-7163    N     -  1358  1187  1000  \n",
       " 21   02-3665-2051    N  1599  1358  1187  1000  \n",
       " 22   02-3663-7781    Y  1599  1365  1175     -  \n",
       " 23   02-3664-7781    Y  1599  1365  1185     -  \n",
       " 24   02-3664-6051    N  1689  1385  1195     -  \n",
       " 25   02-3661-6102    N     -  1385  1195     -  \n",
       " 26   02-3661-9470    N  1599  1389  1189     -  \n",
       " 27   02-3663-5151    Y     -  1389  1189     -  \n",
       " 28   02-3661-1575    N     -  1398  1208  1100  \n",
       " 29   02-3665-5189    N     -  1403  1203  1083  \n",
       " 30   02-2661-8892    Y     -  1407  1213     -  \n",
       " 31  070-8844-8282    Y     -  1535  1332     -  \n",
       " 32   02-3664-4134    N     -  1688  1468     -  ,\n",
       "        지역                   상호                          주소      상표  \\\n",
       " 0   서울특별시       (주)연우에너지 신관주유소        서울 관악구 신림로 290 (신림동)   알뜰주유소   \n",
       " 1   서울특별시   (주)엠오티이엔지 직영 삼화주유소        서울 관악구 보라매로 41 (봉천동)   알뜰주유소   \n",
       " 2   서울특별시  현대오일뱅크(주)직영 관악셀프주유소     서울 관악구 남부순환로 1520 (신림동)  현대오일뱅크   \n",
       " 3   서울특별시                유림주유소        서울 관악구 신림로 176 (신림동)   S-OIL   \n",
       " 4   서울특별시     대양석유(주)직영 보라매주유소       서울 관악구  보라매로 26 (봉천동)   SK에너지   \n",
       " 5   서울특별시        지에스칼텍스㈜ 난곡주유소              서울 관악구 난곡로 206   GS칼텍스   \n",
       " 6   서울특별시                현대주유소        서울 관악구 난곡로 108 (신림동)  현대오일뱅크   \n",
       " 7   서울특별시                남현주유소     서울 관악구 남부순환로 2014 (남현동)  현대오일뱅크   \n",
       " 8   서울특별시         서일석유(주)락성주유소     서울 관악구 남부순환로 1920 (봉천동)   GS칼텍스   \n",
       " 9   서울특별시    SK에너지(주)직영 대공원주유소       서울 관악구 과천대로 921 (남현동)   SK에너지   \n",
       " 10  서울특별시         SK에너지(주) 신봉천     서울 관악구 남부순환로 1880 (봉천동)   SK에너지   \n",
       " 11  서울특별시      (주)한유에너지행운셀프주유소     서울 관악구 남부순환로 1883 (봉천동)   SK에너지   \n",
       " 12  서울특별시               문성골주유소         서울 관악구 문성로 97 (신림동)  현대오일뱅크   \n",
       " 13  서울특별시           한규상사 유정주유소     서울 관악구 남부순환로 1691 (봉천동)   SK에너지   \n",
       " 14  서울특별시              관악시몬주유소  서울특별시 관악구 남부순환로 1753 (봉천동)   S-OIL   \n",
       " 15  서울특별시        CJ대한통운㈜ 신림주유소     서울 관악구 남부순환로 1515 (신림동)   GS칼텍스   \n",
       " \n",
       "             전화번호 셀프여부 고급휘발유   휘발유    경유  실내등유  \n",
       " 0    02-871-1356    Y     -  1295  1095   990  \n",
       " 1    02-889-8929    N     -  1309  1109  1000  \n",
       " 2    02-867-1877    Y  1568  1329  1139     -  \n",
       " 3    02-887-5145    N     -  1348  1148   998  \n",
       " 4    02-882-5189    Y     -  1349  1149     -  \n",
       " 5    02-858-2003    N     -  1369  1169     -  \n",
       " 6    02-851-9200    N     -  1369  1169     -  \n",
       " 7    02-521-4200    Y     -  1389  1219     -  \n",
       " 8    02-877-0867    Y  1589  1389  1219   990  \n",
       " 9    02-584-2522    N     -  1399  1244     -  \n",
       " 10   02-885-5189    N  1558  1419  1249  1099  \n",
       " 11   02-871-5189    Y  1814  1425  1239     -  \n",
       " 12   02-839-0081    N     -  1428  1228  1100  \n",
       " 13   02-882-1154    N     -  1437  1277  1121  \n",
       " 14   02-874-5185    N     -  1437  1277     -  \n",
       " 15  02-2632-8612    N     -  1455  1262     -  ,\n",
       "        지역                   상호                     주소      상표          전화번호  \\\n",
       " 0   서울특별시                태양주유소   서울 광진구 동일로 345 (중곡동)   GS칼텍스   02-464-5141   \n",
       " 1   서울특별시                평안주유소   서울 광진구 천호대로 630 (능동)   알뜰주유소   02-446-0340   \n",
       " 2   서울특별시       정해네트웍스(주)일진주유소   서울 광진구 동일로 413 (중곡동)   S-OIL   02-461-5152   \n",
       " 3   서울특별시    현대오일뱅크(주)직영 능동주유소   서울 광진구 천호대로 584 (능동)  현대오일뱅크   02-452-7723   \n",
       " 4   서울특별시                대원주유소  서울 광진구 용마산로 122 (중곡동)   S-OIL   02-444-1666   \n",
       " 5   서울특별시                용마주유소   서울 광진구 용마산로 68 (중곡동)   GS칼텍스   02-456-1884   \n",
       " 6   서울특별시      현대오일뱅크(주) 중원주유소   서울 광진구 동일로 398 (중곡동)  현대오일뱅크   02-467-2410   \n",
       " 7   서울특별시  현대오일뱅크(주)직영 중곡현대주유소   서울 광진구 동일로 435 (중곡동)  현대오일뱅크   02-497-5151   \n",
       " 8   서울특별시             (주)장수주유소   서울 광진구 동일로 266 (군자동)   SK에너지   02-498-1981   \n",
       " 9   서울특별시              구의스타주유소         서울 광진구 자양로 103   GS칼텍스   02-457-4071   \n",
       " 10  서울특별시    현대오일뱅크㈜직영 대명셀프주유소  서울 광진구 광나루로 460 (화양동)  현대오일뱅크  02-2201-4392   \n",
       " 11  서울특별시         대성산업(주)구의주유소  서울 광진구 광나루로 570 (구의동)   GS칼텍스   02-457-0638   \n",
       " 12  서울특별시    현대오일뱅크㈜직영 장호셀프주유소     서울 광진구 자양로37 (자양동)  현대오일뱅크   02-447-9796   \n",
       " 13  서울특별시                강평주유소  서울 광진구 아차산로 616 (광장동)   SK에너지  02-2201-0736   \n",
       " 14  서울특별시                삼호주유소  서울 광진구 천호대로 809 (광장동)   S-OIL   02-455-7200   \n",
       " 15  서울특별시                자양주유소  서울 광진구 아차산로 298 (자양동)   SK에너지   02-457-7600   \n",
       " 16  서울특별시               동서울주유소   서울 광진구 강변역로 10 (구의동)   GS칼텍스   02-444-3910   \n",
       " \n",
       "    셀프여부 고급휘발유   휘발유    경유  실내등유  \n",
       " 0     N     -  1285  1085     -  \n",
       " 1     N     -  1294  1094     -  \n",
       " 2     Y  1457  1297  1097     -  \n",
       " 3     Y  1549  1299  1099  1000  \n",
       " 4     N     -  1314  1120     -  \n",
       " 5     N     -  1314  1120  1000  \n",
       " 6     N  1573  1326  1116  1200  \n",
       " 7     N  1573  1326  1116     -  \n",
       " 8     N     -  1335  1134     -  \n",
       " 9     N     -  1350  1150  1030  \n",
       " 10    Y  1589  1357  1157     -  \n",
       " 11    N     -  1367  1157     -  \n",
       " 12    Y     -  1379  1179     -  \n",
       " 13    N  1598  1387  1177  1038  \n",
       " 14    Y  1598  1387  1098     -  \n",
       " 15    N  1555  1389  1189     -  \n",
       " 16    N     -  1399  1199  1050  ,\n",
       "        지역                  상호                       주소      상표          전화번호  \\\n",
       " 0   서울특별시               신성주유소  서울 구로구 구로동로 187 (구로제2동)  현대오일뱅크   02-866-5189   \n",
       " 1   서울특별시               구인주유소     서울 구로구 경인로 558 (구로동)   SK에너지  02-2677-5010   \n",
       " 2   서울특별시               항동주유소    서울 구로구 서해안로 2154 (항동)   S-OIL  02-2611-1113   \n",
       " 3   서울특별시      (주)한미석유구로그린주유소    서울 구로구 구로중앙로 76 (구로동)   GS칼텍스   02-861-5189   \n",
       " 4   서울특별시             근린공원주유소     서울 구로구 고척로 199 (고척동)   S-OIL  02-2066-3700   \n",
       " 5   서울특별시       서울석유(주)풀페이주유소      서울 구로구 경인로 41 (온수동)   SK에너지  02-2613-7708   \n",
       " 6   서울특별시             처음처럼주유소     서울 구로구 오리로 1299 (궁동)   S-OIL  02-2611-5051   \n",
       " 7   서울특별시    (주)새서울석유 대원셀프주유소             서울 구로구 개봉로 7  현대오일뱅크  02-2612-3880   \n",
       " 8   서울특별시       대성산업(주)디큐브주유소    서울 구로구 경인로 650 (신도림동)   GS칼텍스  02-2633-7188   \n",
       " 9   서울특별시              JHC에너지          서울 구로구 시흥대로 539   알뜰주유소   02-866-9553   \n",
       " 10  서울특별시   현대오일뱅크㈜직영 구로셀프주유소          서울 구로구 시흥대로 531  현대오일뱅크   02-856-1135   \n",
       " 11  서울특별시               개봉주유소     서울 구로구 고척로 115 (개봉동)  현대오일뱅크  02-2618-5145   \n",
       " 12  서울특별시             SK구로주유소      서울 구로구 구일로 94 (구로동)   SK에너지   02-868-5758   \n",
       " 13  서울특별시               정은주유소     서울 구로구 경인로 407 (고척동)  현대오일뱅크  02-2611-5183   \n",
       " 14  서울특별시   SK에너지(주)직영 개봉동주유소     서울 구로구 경인로 290 (개봉동)   SK에너지  02-2616-5189   \n",
       " 15  서울특별시               동선주유소     서울 구로구 경인로 150 (오류동)   GS칼텍스  02-2683-1126   \n",
       " 16  서울특별시    현대오일뱅크㈜직영 신오류주유소     서울 구로구 경인로 161 (오류동)  현대오일뱅크  02-2687-4186   \n",
       " 17  서울특별시  현대오일뱅크(주)직영 신구로주유소    서울 구로구 가마산로 293 (구로동)  현대오일뱅크   02-859-0051   \n",
       " 18  서울특별시               시몬주유소           서울 구로구 부일로 871   S-OIL  02-2689-5185   \n",
       " 19  서울특별시               영진주유소    서울 구로구 구로동로 20 (가리봉동)   S-OIL   02-861-6625   \n",
       " 20  서울특별시               동아주유소     서울 구로구  도림로 91 (구로동)   S-OIL   02-855-1282   \n",
       " 21  서울특별시               구로주유소    서울 구로구 구로동로 137 (구로동)   GS칼텍스   02-587-1251   \n",
       " \n",
       "    셀프여부 고급휘발유   휘발유    경유  실내등유  \n",
       " 0     Y     -  1277  1077  1050  \n",
       " 1     N     -  1279  1079  1050  \n",
       " 2     Y     -  1279  1079     -  \n",
       " 3     Y     -  1279  1079     -  \n",
       " 4     N     -  1283  1083  1100  \n",
       " 5     N     -  1289  1089     -  \n",
       " 6     N     -  1289  1089   750  \n",
       " 7     Y     -  1299  1118     -  \n",
       " 8     N  1558  1299  1089     -  \n",
       " 9     N     -  1315  1115  1100  \n",
       " 10    Y  1568  1318  1118     -  \n",
       " 11    Y     -  1319  1119  1100  \n",
       " 12    N     -  1338  1138  1070  \n",
       " 13    N     -  1347  1097  1100  \n",
       " 14    N     -  1353  1154   950  \n",
       " 15    N     -  1356  1156     -  \n",
       " 16    N     -  1364  1164   945  \n",
       " 17    N  1567  1388  1188     -  \n",
       " 18    N     -  1397  1197     -  \n",
       " 19    N     -  1397  1156   990  \n",
       " 20    N     -  1598  1198   950  \n",
       " 21    N     -  1898  1696  1376  ,\n",
       "        지역                     상호                         주소      상표  \\\n",
       " 0   서울특별시                  명보에너지      서울 금천구 시흥대로 377 (독산동)   알뜰주유소   \n",
       " 1   서울특별시         (주)진우에너지 백운주유소      서울 금천구 시흥대로 282 (독산동)   알뜰주유소   \n",
       " 2   서울특별시                  구광주유소  서울특별시 금천구  서부샛길 674 (가산동)   S-OIL   \n",
       " 3   서울특별시           (주)태영유업 독산고개            서울 금천구 시흥대로 484  현대오일뱅크   \n",
       " 4   서울특별시                  백산주유소  서울특별시 금천구  시흥대로 174 (시흥동)   S-OIL   \n",
       " 5   서울특별시         지에스칼텍스(주)일신주유소            서울 금천구 시흥대로 118   GS칼텍스   \n",
       " 6   서울특별시         대득에너지(금천셀프주유소)      서울 금천구  시흥대로 81 (시흥동)   GS칼텍스   \n",
       " 7   서울특별시  현대오일뱅크(주)직영 금천현대셀프주유소       서울 금천구 독산로 147 (시흥동)  현대오일뱅크   \n",
       " 8   서울특별시      KH에너지(주)직영시흥대로주유소      서울 금천구 시흥대로 221 (시흥동)   SK에너지   \n",
       " 9   서울특별시               남서울경복에너지       서울 금천구 독산로 257 (독산동)   S-OIL   \n",
       " 10  서울특별시         SK에너지(주) 이가주유소            서울 금천구 시흥대로 441   SK에너지   \n",
       " 11  서울특별시      현대오일뱅크㈜직영 금천제일주유소    서울 금천구 남부순환로 1410 (독산동)  현대오일뱅크   \n",
       " 12  서울특별시         SK에너지(주) 박미주유소     서울 금천구 시흥대로 39-7 (시흥동)   SK에너지   \n",
       " \n",
       "            전화번호 셀프여부 고급휘발유   휘발유    경유  실내등유  \n",
       " 0   02-806-8336    N     -  1275  1075     -  \n",
       " 1   02-894-8521    Y     -  1275  1075  1100  \n",
       " 2   02-868-6889    N     -  1285  1085   950  \n",
       " 3   02-856-0283    Y     -  1293  1093  1050  \n",
       " 4   02-807-3161    Y     -  1294  1094     -  \n",
       " 5   02-896-5145    Y  1444  1294  1094  1000  \n",
       " 6   02-805-7888    Y     -  1294  1094     -  \n",
       " 7   02-891-5189    Y  1517  1294  1094     -  \n",
       " 8   02-892-5156    N     -  1294  1094   950  \n",
       " 9   02-855-9880    Y     -  1315  1115  1050  \n",
       " 10  02-861-2241    N     -  1323  1123     -  \n",
       " 11  02-859-5426    N     -  1339  1149     -  \n",
       " 12  02-802-6749    N     -  1343  1143  1150  ,\n",
       "        지역                     상호                       주소      상표  \\\n",
       " 0   서울특별시                배꽃나라주유소     서울 노원구 화랑로 466 (공릉동)   GS칼텍스   \n",
       " 1   서울특별시                  월계주유소     서울 노원구 월계로 252 (월계동)   GS칼텍스   \n",
       " 2   서울특별시                태릉솔밭주유소      서울 노원구 노원로 49 (공릉동)   S-OIL   \n",
       " 3   서울특별시                  삼육주유소     서울 노원구 화랑로 822 (공릉동)   SK에너지   \n",
       " 4   서울특별시                 성북역주유소      서울 노원구 광운로 95 (월계동)   GS칼텍스   \n",
       " 5   서울특별시  (주)소모에너지엔테크놀러지 수락산주유소          서울 노원구 동일로 1772   GS칼텍스   \n",
       " 6   서울특별시                  불암주유소   서울 노원구 한글비석로 268 (중계동)   S-OIL   \n",
       " 7   서울특별시        현대오일뱅크㈜직영 하계주유소   서울 노원구 노원로17길 29 (하계동)  현대오일뱅크   \n",
       " 8   서울특별시                  신성주유소     서울 노원구 월계로 328 (월계동)   S-OIL   \n",
       " 9   서울특별시                 화랑대주유소           서울 노원구 화랑로 483   SK에너지   \n",
       " 10  서울특별시                  한신주유소    서울 노원구 동일로 1089 (공릉동)   SK에너지   \n",
       " 11  서울특별시                 상계동주유소  서울 노원구 노원로26길 191 (상계동)  현대오일뱅크   \n",
       " 12  서울특별시                  노원주유소    서울 노원구 동일로 1008 (공릉동)   GS칼텍스   \n",
       " 13  서울특별시                하계삼호주유소     서울 노원구 공릉로 294 (하계동)   GS칼텍스   \n",
       " 14  서울특별시         양지진흥개발(주)상계주유소     서울 노원구 노해로 527 (상계동)   SK에너지   \n",
       " \n",
       "             전화번호 셀프여부 고급휘발유   휘발유    경유  실내등유  \n",
       " 0    02-973-5172    Y  1558  1285  1085  1050  \n",
       " 1    02-917-7650    Y     -  1299  1069   999  \n",
       " 2    02-976-5189    Y  1538  1324  1147     -  \n",
       " 3    02-949-3677    Y     -  1335  1135  1000  \n",
       " 4    02-919-8141    N     -  1338  1138  1100  \n",
       " 5   02-3392-5656    Y     -  1359  1159  1000  \n",
       " 6    02-932-6850    Y     -  1378  1178     -  \n",
       " 7    02-975-1386    N  1675  1379  1179   895  \n",
       " 8    02-916-4334    Y     -  1398  1198     -  \n",
       " 9    02-972-5189    Y  1668  1398  1198  1000  \n",
       " 10   02-974-5151    N  1598  1398  1198  1040  \n",
       " 11   02-936-5035    N     -  1430  1240  1150  \n",
       " 12   02-949-5151    N     -  1439  1248  1050  \n",
       " 13   02-974-8818    N     -  1445  1236     -  \n",
       " 14   02-930-0111    N     -     -     -     -  ,\n",
       "        지역                   상호                        주소      상표  \\\n",
       " 0   서울특별시      도봉제일주유소(주)송만에너지      서울 도봉구 도봉로 783 (도봉동)  현대오일뱅크   \n",
       " 1   서울특별시     한이에너지(주)KLP제1주유소       서울 도봉구 도봉로 596 (창동)  현대오일뱅크   \n",
       " 2   서울특별시        동일석유(주) 창동주유소      서울 도봉구  도봉로 434 (창동)   SK에너지   \n",
       " 3   서울특별시            삼미북부셀프주유소      서울 도봉구 도봉로 437 (쌍문동)   SK에너지   \n",
       " 4   서울특별시             정다운셀프주유소   서울특별시 도봉구 도봉로 635 (쌍문동)   SK에너지   \n",
       " 5   서울특별시         극동유화(주)대안주유소       서울 도봉구 마들로 574 (창동)   S-OIL   \n",
       " 6   서울특별시                서현주유소      서울 도봉구 방학로 142 (방학동)   S-OIL   \n",
       " 7   서울특별시               노원교주유소      서울 도봉구 마들로 776 (도봉동)  현대오일뱅크   \n",
       " 8   서울특별시                쌍문주유소      서울 도봉구 도봉로 547 (쌍문동)   S-OIL   \n",
       " 9   서울특별시       지에스칼텍스㈜ 방학동주유소            서울 도봉구 방학로 186   GS칼텍스   \n",
       " 10  서울특별시            구도일주유소 도봉      서울 도봉구 도봉로 706 (방학동)   S-OIL   \n",
       " 11  서울특별시        지에스칼텍스㈜ 도봉주유소      서울 도봉구 도봉로 895 (도봉동)   GS칼텍스   \n",
       " 12  서울특별시         대성산업(주)신창주유소       서울 도봉구 덕릉로 267 (창동)   GS칼텍스   \n",
       " 13  서울특별시  현대오일뱅크㈜직영 도봉현대셀프주유소      서울 도봉구 도봉로 941 (도봉동)  현대오일뱅크   \n",
       " 14  서울특별시           (주)쌍문셀프주유소      서울 도봉구 노해로 161 (쌍문동)  현대오일뱅크   \n",
       " 15  서울특별시      현대오일뱅크㈜직영 영신주유소            서울 도봉구 방학로 151  현대오일뱅크   \n",
       " 16  서울특별시                오복주유소             서울 도봉구 방학로 43   S-OIL   \n",
       " 17  서울특별시              창동제일주유소      서울 도봉구 해등로3길 86 (창동)   S-OIL   \n",
       " \n",
       "             전화번호 셀프여부 고급휘발유   휘발유    경유  실내등유  \n",
       " 0    02-955-5185    N     -  1249  1049   800  \n",
       " 1    02-902-5189    N     -  1250  1045     -  \n",
       " 2    02-902-5544    Y     -  1277  1077     -  \n",
       " 3    02-992-5561    Y     -  1279  1079  1100  \n",
       " 4    02-996-5151    Y     -  1279  1085     -  \n",
       " 5    02-996-6640    Y     -  1285  1085     -  \n",
       " 6    02-954-5400    Y     -  1297  1097     -  \n",
       " 7    02-956-5189    Y     -  1297  1097     -  \n",
       " 8    02-992-0220    Y     -  1298  1098  1000  \n",
       " 9   02-3493-5189    Y  1515  1299  1099   800  \n",
       " 10  02-3491-3454    Y     -  1299  1159  1100  \n",
       " 11   02-954-0118    Y  1515  1309  1159   800  \n",
       " 12   02-905-4441    N     -  1319  1118     -  \n",
       " 13  02-3492-7371    Y     -  1329  1129     -  \n",
       " 14   02-998-9704    Y     -  1345  1145  1000  \n",
       " 15   02-956-5152    N  1767  1359  1159   829  \n",
       " 16  02-3494-1500    Y  1755  1369  1169   990  \n",
       " 17   02-906-5104    N     -  1557  1347     -  ,\n",
       "        지역                     상호                         주소      상표  \\\n",
       " 0   서울특별시               오일프러스 셀프    서울 강남구 남부순환로 2651 (도곡동)   SK에너지   \n",
       " 1   서울특별시         현대오일뱅크 도곡셀프주유소  서울 강남구  남부순환로 2718 (도곡2동)  현대오일뱅크   \n",
       " 2   서울특별시            (주)보성 세곡주유소      서울 강남구  헌릉로 731 (세곡동)   SK에너지   \n",
       " 3   서울특별시       GS칼텍스(주)직영 산성주유소             서울 강남구 헌릉로 730   GS칼텍스   \n",
       " 4   서울특별시        현대오일뱅크(주) 유진주유소       서울 강남구 논현로 152 (도곡동)  현대오일뱅크   \n",
       " 5   서울특별시                  방죽주유소      서울 강남구 밤고개로 215 (율현동)   S-OIL   \n",
       " 6   서울특별시                SK서광주유소       서울 강남구 역삼로 142 (역삼동)   SK에너지   \n",
       " 7   서울특별시                자곡셀프주유소      서울 강남구 밤고개로 120 (자곡동)   SK에너지   \n",
       " 8   서울특별시          SK에너지㈜ 진달래주유소             서울 강남구 도곡로 208   SK에너지   \n",
       " 9   서울특별시          지에스칼텍스㈜ 은마주유소            서울 강남구 영동대로 235   GS칼텍스   \n",
       " 10  서울특별시        지에스칼텍스㈜ GS타워주유소       서울 강남구 논현로 516 (역삼동)   GS칼텍스   \n",
       " 11  서울특별시         SK에너지(주) 매봉주유소             서울 강남구 언주로 307   SK에너지   \n",
       " 12  서울특별시        에쓰-오일㈜직영 개나리주유소       서울 강남구 언주로 423 (역삼동)   S-OIL   \n",
       " 13  서울특별시             (주)선진도곡주유소       서울 강남구 도곡로 162 (도곡동)   S-OIL   \n",
       " 14  서울특별시                  역삼주유소       서울 강남구 역삼로 205 (역삼동)   GS칼텍스   \n",
       " 15  서울특별시        (유)동하석유 힐탑셀프주유소             서울 강남구 논현로 640   SK에너지   \n",
       " 16  서울특별시          지에스칼텍스㈜ 주성주유소            서울 강남구 영동대로 716   GS칼텍스   \n",
       " 17  서울특별시                  일원주유소     서울 강남구 양재대로55길 3 (일원동)   S-OIL   \n",
       " 18  서울특별시         (주)중앙에너비스 수서지점       서울 강남구 광평로 202 (수서동)   SK에너지   \n",
       " 19  서울특별시            대동석유 압구정주유소       서울 강남구 언주로 842 (신사동)   SK에너지   \n",
       " 20  서울특별시        현대오일뱅크㈜직영 오천주유소      서울 강남구 봉은사로 503 (삼성동)  현대오일뱅크   \n",
       " 21  서울특별시         지에스칼텍스㈜ 삼성로주유소       서울 강남구 삼성로 563 (삼성동)   GS칼텍스   \n",
       " 22  서울특별시     에스제이에너지산업(주) 개포주유소            서울 강남구 양재대로 339   GS칼텍스   \n",
       " 23  서울특별시       현대오일뱅크㈜직영 삼성동주유소      서울 강남구 테헤란로 619 (삼성동)  현대오일뱅크   \n",
       " 24  서울특별시                  대교주유소      서울 강남구 강남대로 640 (신사동)   SK에너지   \n",
       " 25  서울특별시    현대오일뱅크(주)직영 신사현대주유소      서울 강남구 도산대로 163 (신사동)  현대오일뱅크   \n",
       " 26  서울특별시      현대오일뱅크(주)직영 한양주유소      서울 강남구 압구정로 302 (신사동)  현대오일뱅크   \n",
       " 27  서울특별시          ㈜새서울석유 새서울주유소            서울 강남구 압구정로 154  현대오일뱅크   \n",
       " 28  서울특별시                  명품주유소       서울 강남구 도곡로 249 (역삼동)   S-OIL   \n",
       " 29  서울특별시                  대청주유소       서울 강남구 개포로 654 (일원동)   SK에너지   \n",
       " 30  서울특별시           대성석유(주)동호주유소         서울 강남구 봉은사로113길 51   GS칼텍스   \n",
       " 31  서울특별시                SK논현주유소       서울 강남구 논현로 747 (논현동)   SK에너지   \n",
       " 32  서울특별시                  경원주유소      서울 강남구 도산대로 428 (청담동)   S-OIL   \n",
       " 33  서울특별시                갤러리아주유소            서울 강남구 압구정로 426   SK에너지   \n",
       " 34  서울특별시                 학여울주유소  서울 강남구  남부순환로 3170 (일원2동)   GS칼텍스   \n",
       " 35  서울특별시  (주)소모에너지엔테크놀러지 쎈트럴주유소             서울 강남구 삼성로 335   GS칼텍스   \n",
       " 36  서울특별시               (주)만정에너지      서울 강남구 봉은사로 433 (삼성동)   GS칼텍스   \n",
       " 37  서울특별시                뉴서울(강남)       서울 강남구 언주로 716 (논현동)   SK에너지   \n",
       " 38  서울특별시                  삼성주유소       서울 강남구 삼성로 521 (삼성동)   SK에너지   \n",
       " 39  서울특별시                  동우주유소  서울특별시 강남구  봉은사로 311 (논현동)   SK에너지   \n",
       " \n",
       "              전화번호 셀프여부 고급휘발유   휘발유    경유  실내등유  \n",
       " 0    02-3462-5100    Y  1537  1359  1154     -  \n",
       " 1     02-529-5101    Y  1547  1363  1159     -  \n",
       " 2     02-445-6870    Y     -  1363  1165     -  \n",
       " 3    02-2226-4963    Y     -  1373  1185     -  \n",
       " 4    02-3462-5215    N  1562  1378  1174  1070  \n",
       " 5     02-459-3434    Y     -  1379  1169     -  \n",
       " 6     02-562-4855    Y  1545  1385  1185     -  \n",
       " 7     02-445-5841    Y     -  1399  1199     -  \n",
       " 8    02-3462-0018    N  1545  1415  1215     -  \n",
       " 9    02-3452-1882    N  1565  1415  1255     -  \n",
       " 10    02-539-5145    N  1628  1415  1255     -  \n",
       " 11    02-556-5510    Y  1565  1415  1215     -  \n",
       " 12    02-564-0187    N  1565  1415  1215     -  \n",
       " 13   02-2058-3024    N  1545  1415  1215     -  \n",
       " 14    02-557-5189    N  1625  1415  1255     -  \n",
       " 15    02-544-4075    Y  1635  1415  1245     -  \n",
       " 16    02-518-3460    N  1575  1425  1245     -  \n",
       " 17   02-2226-5188    Y     -  1428  1218  1200  \n",
       " 18  070-8707-4582    Y  1698  1428  1228     -  \n",
       " 19    02-545-6161    Y  1623  1433  1253     -  \n",
       " 20    02-545-2822    N  1597  1441  1266  1195  \n",
       " 21    02-538-5138    Y  1597  1441  1266     -  \n",
       " 22    02-573-9031    N  1690  1458  1248  1150  \n",
       " 23    02-508-6572    N  1597  1461  1286     -  \n",
       " 24    02-512-5521    N  1750  1550  1350     -  \n",
       " 25    02-546-2182    N  1896  1576  1412     -  \n",
       " 26   02-3444-0804    N  1838  1598  1368     -  \n",
       " 27    02-543-1154    N  1848  1599  1398     -  \n",
       " 28    02-501-1256    N  1828  1698  1528     -  \n",
       " 29    02-445-5500    N  2016  1776  1569  1499  \n",
       " 30    02-545-0720    N  1877  1777  1577     -  \n",
       " 31    02-511-0955    N  2048  1788  1648  1350  \n",
       " 32    02-517-1957    N  2106  1845  1664     -  \n",
       " 33    02-540-4965    N  2096  1848  1659  1250  \n",
       " 34   02-3411-3271    N  2097  1858  1599     -  \n",
       " 35    02-565-0267    N  2037  1883  1659  1100  \n",
       " 36    02-518-5141    N  2079  1913  1689  1359  \n",
       " 37    02-518-5631    N  2330  2025  1865  1260  \n",
       " 38    02-538-0809    N     -     -     -     -  \n",
       " 39    02-542-6726    N     -     -     -     -  ]"
      ]
     },
     "execution_count": 50,
     "metadata": {},
     "output_type": "execute_result"
    }
   ],
   "source": [
    "tmp_raw"
   ]
  },
  {
   "cell_type": "code",
   "execution_count": 51,
   "metadata": {
    "ExecuteTime": {
     "end_time": "2020-11-21T15:09:32.918329Z",
     "start_time": "2020-11-21T15:09:32.880463Z"
    }
   },
   "outputs": [
    {
     "data": {
      "text/html": [
       "<div>\n",
       "<style scoped>\n",
       "    .dataframe tbody tr th:only-of-type {\n",
       "        vertical-align: middle;\n",
       "    }\n",
       "\n",
       "    .dataframe tbody tr th {\n",
       "        vertical-align: top;\n",
       "    }\n",
       "\n",
       "    .dataframe thead th {\n",
       "        text-align: right;\n",
       "    }\n",
       "</style>\n",
       "<table border=\"1\" class=\"dataframe\">\n",
       "  <thead>\n",
       "    <tr style=\"text-align: right;\">\n",
       "      <th></th>\n",
       "      <th>지역</th>\n",
       "      <th>상호</th>\n",
       "      <th>주소</th>\n",
       "      <th>상표</th>\n",
       "      <th>전화번호</th>\n",
       "      <th>셀프여부</th>\n",
       "      <th>고급휘발유</th>\n",
       "      <th>휘발유</th>\n",
       "      <th>경유</th>\n",
       "      <th>실내등유</th>\n",
       "    </tr>\n",
       "  </thead>\n",
       "  <tbody>\n",
       "    <tr>\n",
       "      <th>0</th>\n",
       "      <td>서울특별시</td>\n",
       "      <td>구천면주유소</td>\n",
       "      <td>서울 강동구 구천면로 357 (암사동)</td>\n",
       "      <td>현대오일뱅크</td>\n",
       "      <td>02-441-0536</td>\n",
       "      <td>N</td>\n",
       "      <td>-</td>\n",
       "      <td>1374</td>\n",
       "      <td>1187</td>\n",
       "      <td>-</td>\n",
       "    </tr>\n",
       "    <tr>\n",
       "      <th>1</th>\n",
       "      <td>서울특별시</td>\n",
       "      <td>지에스칼텍스㈜ 신월주유소</td>\n",
       "      <td>서울 강동구 양재대로 1323 (성내동)</td>\n",
       "      <td>GS칼텍스</td>\n",
       "      <td>02-475-2600</td>\n",
       "      <td>N</td>\n",
       "      <td>1585</td>\n",
       "      <td>1385</td>\n",
       "      <td>1188</td>\n",
       "      <td>1000</td>\n",
       "    </tr>\n",
       "    <tr>\n",
       "      <th>2</th>\n",
       "      <td>서울특별시</td>\n",
       "      <td>현대오일뱅크㈜직영 고속셀프주유소</td>\n",
       "      <td>서울 강동구 천호대로 1246</td>\n",
       "      <td>현대오일뱅크</td>\n",
       "      <td>02-487-2030</td>\n",
       "      <td>Y</td>\n",
       "      <td>1598</td>\n",
       "      <td>1386</td>\n",
       "      <td>1188</td>\n",
       "      <td>895</td>\n",
       "    </tr>\n",
       "    <tr>\n",
       "      <th>3</th>\n",
       "      <td>서울특별시</td>\n",
       "      <td>방아다리주유소</td>\n",
       "      <td>서울 강동구 동남로 811 (명일동)</td>\n",
       "      <td>SK에너지</td>\n",
       "      <td>02-442-5145</td>\n",
       "      <td>Y</td>\n",
       "      <td>-</td>\n",
       "      <td>1395</td>\n",
       "      <td>1195</td>\n",
       "      <td>975</td>\n",
       "    </tr>\n",
       "    <tr>\n",
       "      <th>4</th>\n",
       "      <td>서울특별시</td>\n",
       "      <td>현대오일뱅크㈜직영 명일셀프주유소</td>\n",
       "      <td>서울 강동구 고덕로 168 (명일동)</td>\n",
       "      <td>현대오일뱅크</td>\n",
       "      <td>02-3428-1739</td>\n",
       "      <td>Y</td>\n",
       "      <td>1625</td>\n",
       "      <td>1395</td>\n",
       "      <td>1198</td>\n",
       "      <td>-</td>\n",
       "    </tr>\n",
       "    <tr>\n",
       "      <th>...</th>\n",
       "      <td>...</td>\n",
       "      <td>...</td>\n",
       "      <td>...</td>\n",
       "      <td>...</td>\n",
       "      <td>...</td>\n",
       "      <td>...</td>\n",
       "      <td>...</td>\n",
       "      <td>...</td>\n",
       "      <td>...</td>\n",
       "      <td>...</td>\n",
       "    </tr>\n",
       "    <tr>\n",
       "      <th>35</th>\n",
       "      <td>서울특별시</td>\n",
       "      <td>(주)소모에너지엔테크놀러지 쎈트럴주유소</td>\n",
       "      <td>서울 강남구 삼성로 335</td>\n",
       "      <td>GS칼텍스</td>\n",
       "      <td>02-565-0267</td>\n",
       "      <td>N</td>\n",
       "      <td>2037</td>\n",
       "      <td>1883</td>\n",
       "      <td>1659</td>\n",
       "      <td>1100</td>\n",
       "    </tr>\n",
       "    <tr>\n",
       "      <th>36</th>\n",
       "      <td>서울특별시</td>\n",
       "      <td>(주)만정에너지</td>\n",
       "      <td>서울 강남구 봉은사로 433 (삼성동)</td>\n",
       "      <td>GS칼텍스</td>\n",
       "      <td>02-518-5141</td>\n",
       "      <td>N</td>\n",
       "      <td>2079</td>\n",
       "      <td>1913</td>\n",
       "      <td>1689</td>\n",
       "      <td>1359</td>\n",
       "    </tr>\n",
       "    <tr>\n",
       "      <th>37</th>\n",
       "      <td>서울특별시</td>\n",
       "      <td>뉴서울(강남)</td>\n",
       "      <td>서울 강남구 언주로 716 (논현동)</td>\n",
       "      <td>SK에너지</td>\n",
       "      <td>02-518-5631</td>\n",
       "      <td>N</td>\n",
       "      <td>2330</td>\n",
       "      <td>2025</td>\n",
       "      <td>1865</td>\n",
       "      <td>1260</td>\n",
       "    </tr>\n",
       "    <tr>\n",
       "      <th>38</th>\n",
       "      <td>서울특별시</td>\n",
       "      <td>삼성주유소</td>\n",
       "      <td>서울 강남구 삼성로 521 (삼성동)</td>\n",
       "      <td>SK에너지</td>\n",
       "      <td>02-538-0809</td>\n",
       "      <td>N</td>\n",
       "      <td>-</td>\n",
       "      <td>-</td>\n",
       "      <td>-</td>\n",
       "      <td>-</td>\n",
       "    </tr>\n",
       "    <tr>\n",
       "      <th>39</th>\n",
       "      <td>서울특별시</td>\n",
       "      <td>동우주유소</td>\n",
       "      <td>서울특별시 강남구  봉은사로 311 (논현동)</td>\n",
       "      <td>SK에너지</td>\n",
       "      <td>02-542-6726</td>\n",
       "      <td>N</td>\n",
       "      <td>-</td>\n",
       "      <td>-</td>\n",
       "      <td>-</td>\n",
       "      <td>-</td>\n",
       "    </tr>\n",
       "  </tbody>\n",
       "</table>\n",
       "<p>498 rows × 10 columns</p>\n",
       "</div>"
      ],
      "text/plain": [
       "       지역                     상호                         주소      상표  \\\n",
       "0   서울특별시                 구천면주유소      서울 강동구 구천면로 357 (암사동)  현대오일뱅크   \n",
       "1   서울특별시          지에스칼텍스㈜ 신월주유소     서울 강동구 양재대로 1323 (성내동)   GS칼텍스   \n",
       "2   서울특별시      현대오일뱅크㈜직영 고속셀프주유소           서울 강동구 천호대로 1246  현대오일뱅크   \n",
       "3   서울특별시                방아다리주유소       서울 강동구 동남로 811 (명일동)   SK에너지   \n",
       "4   서울특별시      현대오일뱅크㈜직영 명일셀프주유소       서울 강동구 고덕로 168 (명일동)  현대오일뱅크   \n",
       "..    ...                    ...                        ...     ...   \n",
       "35  서울특별시  (주)소모에너지엔테크놀러지 쎈트럴주유소             서울 강남구 삼성로 335   GS칼텍스   \n",
       "36  서울특별시               (주)만정에너지      서울 강남구 봉은사로 433 (삼성동)   GS칼텍스   \n",
       "37  서울특별시                뉴서울(강남)       서울 강남구 언주로 716 (논현동)   SK에너지   \n",
       "38  서울특별시                  삼성주유소       서울 강남구 삼성로 521 (삼성동)   SK에너지   \n",
       "39  서울특별시                  동우주유소  서울특별시 강남구  봉은사로 311 (논현동)   SK에너지   \n",
       "\n",
       "            전화번호 셀프여부 고급휘발유   휘발유    경유  실내등유  \n",
       "0    02-441-0536    N     -  1374  1187     -  \n",
       "1    02-475-2600    N  1585  1385  1188  1000  \n",
       "2    02-487-2030    Y  1598  1386  1188   895  \n",
       "3    02-442-5145    Y     -  1395  1195   975  \n",
       "4   02-3428-1739    Y  1625  1395  1198     -  \n",
       "..           ...  ...   ...   ...   ...   ...  \n",
       "35   02-565-0267    N  2037  1883  1659  1100  \n",
       "36   02-518-5141    N  2079  1913  1689  1359  \n",
       "37   02-518-5631    N  2330  2025  1865  1260  \n",
       "38   02-538-0809    N     -     -     -     -  \n",
       "39   02-542-6726    N     -     -     -     -  \n",
       "\n",
       "[498 rows x 10 columns]"
      ]
     },
     "execution_count": 51,
     "metadata": {},
     "output_type": "execute_result"
    }
   ],
   "source": [
    "station_raw"
   ]
  },
  {
   "cell_type": "code",
   "execution_count": 52,
   "metadata": {
    "ExecuteTime": {
     "end_time": "2020-11-21T15:09:33.989965Z",
     "start_time": "2020-11-21T15:09:33.974343Z"
    }
   },
   "outputs": [
    {
     "name": "stdout",
     "output_type": "stream",
     "text": [
      "<class 'pandas.core.frame.DataFrame'>\n",
      "Int64Index: 498 entries, 0 to 39\n",
      "Data columns (total 10 columns):\n",
      " #   Column  Non-Null Count  Dtype \n",
      "---  ------  --------------  ----- \n",
      " 0   지역      498 non-null    object\n",
      " 1   상호      498 non-null    object\n",
      " 2   주소      498 non-null    object\n",
      " 3   상표      498 non-null    object\n",
      " 4   전화번호    498 non-null    object\n",
      " 5   셀프여부    498 non-null    object\n",
      " 6   고급휘발유   498 non-null    object\n",
      " 7   휘발유     498 non-null    object\n",
      " 8   경유      498 non-null    object\n",
      " 9   실내등유    498 non-null    object\n",
      "dtypes: object(10)\n",
      "memory usage: 42.8+ KB\n"
     ]
    }
   ],
   "source": [
    "station_raw.info()  # 구별 주유소 개수 다 다름 ex. 강남구 38개, 강동구 16개 등"
   ]
  },
  {
   "cell_type": "code",
   "execution_count": 56,
   "metadata": {
    "ExecuteTime": {
     "end_time": "2020-11-21T15:16:14.513290Z",
     "start_time": "2020-11-21T15:16:14.490381Z"
    }
   },
   "outputs": [
    {
     "data": {
      "text/html": [
       "<div>\n",
       "<style scoped>\n",
       "    .dataframe tbody tr th:only-of-type {\n",
       "        vertical-align: middle;\n",
       "    }\n",
       "\n",
       "    .dataframe tbody tr th {\n",
       "        vertical-align: top;\n",
       "    }\n",
       "\n",
       "    .dataframe thead th {\n",
       "        text-align: right;\n",
       "    }\n",
       "</style>\n",
       "<table border=\"1\" class=\"dataframe\">\n",
       "  <thead>\n",
       "    <tr style=\"text-align: right;\">\n",
       "      <th></th>\n",
       "      <th>상호</th>\n",
       "      <th>브랜드</th>\n",
       "      <th>주소</th>\n",
       "      <th>가격</th>\n",
       "      <th>셀프</th>\n",
       "    </tr>\n",
       "  </thead>\n",
       "  <tbody>\n",
       "    <tr>\n",
       "      <th>0</th>\n",
       "      <td>구천면주유소</td>\n",
       "      <td>현대오일뱅크</td>\n",
       "      <td>서울 강동구 구천면로 357 (암사동)</td>\n",
       "      <td>1374</td>\n",
       "      <td>N</td>\n",
       "    </tr>\n",
       "    <tr>\n",
       "      <th>1</th>\n",
       "      <td>지에스칼텍스㈜ 신월주유소</td>\n",
       "      <td>GS칼텍스</td>\n",
       "      <td>서울 강동구 양재대로 1323 (성내동)</td>\n",
       "      <td>1385</td>\n",
       "      <td>N</td>\n",
       "    </tr>\n",
       "    <tr>\n",
       "      <th>2</th>\n",
       "      <td>현대오일뱅크㈜직영 고속셀프주유소</td>\n",
       "      <td>현대오일뱅크</td>\n",
       "      <td>서울 강동구 천호대로 1246</td>\n",
       "      <td>1386</td>\n",
       "      <td>Y</td>\n",
       "    </tr>\n",
       "    <tr>\n",
       "      <th>3</th>\n",
       "      <td>방아다리주유소</td>\n",
       "      <td>SK에너지</td>\n",
       "      <td>서울 강동구 동남로 811 (명일동)</td>\n",
       "      <td>1395</td>\n",
       "      <td>Y</td>\n",
       "    </tr>\n",
       "    <tr>\n",
       "      <th>4</th>\n",
       "      <td>현대오일뱅크㈜직영 명일셀프주유소</td>\n",
       "      <td>현대오일뱅크</td>\n",
       "      <td>서울 강동구 고덕로 168 (명일동)</td>\n",
       "      <td>1395</td>\n",
       "      <td>Y</td>\n",
       "    </tr>\n",
       "  </tbody>\n",
       "</table>\n",
       "</div>"
      ],
      "text/plain": [
       "                  상호     브랜드                      주소    가격 셀프\n",
       "0             구천면주유소  현대오일뱅크   서울 강동구 구천면로 357 (암사동)  1374  N\n",
       "1      지에스칼텍스㈜ 신월주유소   GS칼텍스  서울 강동구 양재대로 1323 (성내동)  1385  N\n",
       "2  현대오일뱅크㈜직영 고속셀프주유소  현대오일뱅크        서울 강동구 천호대로 1246  1386  Y\n",
       "3            방아다리주유소   SK에너지    서울 강동구 동남로 811 (명일동)  1395  Y\n",
       "4  현대오일뱅크㈜직영 명일셀프주유소  현대오일뱅크    서울 강동구 고덕로 168 (명일동)  1395  Y"
      ]
     },
     "execution_count": 56,
     "metadata": {},
     "output_type": "execute_result"
    }
   ],
   "source": [
    "# 원하는 컬럼만 가져오기\n",
    "stations = pd.DataFrame({'상호':station_raw['상호'],\n",
    "                         '브랜드':station_raw['상표'],\n",
    "                        '주소':station_raw['주소'],\n",
    "                        '가격':station_raw['휘발유'],   # 휘발류 가격만\n",
    "                        '셀프':station_raw['셀프여부']\n",
    "                        })\n",
    "stations.head()"
   ]
  },
  {
   "cell_type": "code",
   "execution_count": 57,
   "metadata": {
    "ExecuteTime": {
     "end_time": "2020-11-21T15:18:05.822722Z",
     "start_time": "2020-11-21T15:18:05.786481Z"
    }
   },
   "outputs": [
    {
     "data": {
      "text/html": [
       "<div>\n",
       "<style scoped>\n",
       "    .dataframe tbody tr th:only-of-type {\n",
       "        vertical-align: middle;\n",
       "    }\n",
       "\n",
       "    .dataframe tbody tr th {\n",
       "        vertical-align: top;\n",
       "    }\n",
       "\n",
       "    .dataframe thead th {\n",
       "        text-align: right;\n",
       "    }\n",
       "</style>\n",
       "<table border=\"1\" class=\"dataframe\">\n",
       "  <thead>\n",
       "    <tr style=\"text-align: right;\">\n",
       "      <th></th>\n",
       "      <th>상호</th>\n",
       "      <th>브랜드</th>\n",
       "      <th>주소</th>\n",
       "      <th>가격</th>\n",
       "      <th>셀프</th>\n",
       "      <th>구</th>\n",
       "    </tr>\n",
       "  </thead>\n",
       "  <tbody>\n",
       "    <tr>\n",
       "      <th>0</th>\n",
       "      <td>구천면주유소</td>\n",
       "      <td>현대오일뱅크</td>\n",
       "      <td>서울 강동구 구천면로 357 (암사동)</td>\n",
       "      <td>1374</td>\n",
       "      <td>N</td>\n",
       "      <td>강동구</td>\n",
       "    </tr>\n",
       "    <tr>\n",
       "      <th>1</th>\n",
       "      <td>지에스칼텍스㈜ 신월주유소</td>\n",
       "      <td>GS칼텍스</td>\n",
       "      <td>서울 강동구 양재대로 1323 (성내동)</td>\n",
       "      <td>1385</td>\n",
       "      <td>N</td>\n",
       "      <td>강동구</td>\n",
       "    </tr>\n",
       "    <tr>\n",
       "      <th>2</th>\n",
       "      <td>현대오일뱅크㈜직영 고속셀프주유소</td>\n",
       "      <td>현대오일뱅크</td>\n",
       "      <td>서울 강동구 천호대로 1246</td>\n",
       "      <td>1386</td>\n",
       "      <td>Y</td>\n",
       "      <td>강동구</td>\n",
       "    </tr>\n",
       "    <tr>\n",
       "      <th>3</th>\n",
       "      <td>방아다리주유소</td>\n",
       "      <td>SK에너지</td>\n",
       "      <td>서울 강동구 동남로 811 (명일동)</td>\n",
       "      <td>1395</td>\n",
       "      <td>Y</td>\n",
       "      <td>강동구</td>\n",
       "    </tr>\n",
       "    <tr>\n",
       "      <th>4</th>\n",
       "      <td>현대오일뱅크㈜직영 명일셀프주유소</td>\n",
       "      <td>현대오일뱅크</td>\n",
       "      <td>서울 강동구 고덕로 168 (명일동)</td>\n",
       "      <td>1395</td>\n",
       "      <td>Y</td>\n",
       "      <td>강동구</td>\n",
       "    </tr>\n",
       "  </tbody>\n",
       "</table>\n",
       "</div>"
      ],
      "text/plain": [
       "                  상호     브랜드                      주소    가격 셀프    구\n",
       "0             구천면주유소  현대오일뱅크   서울 강동구 구천면로 357 (암사동)  1374  N  강동구\n",
       "1      지에스칼텍스㈜ 신월주유소   GS칼텍스  서울 강동구 양재대로 1323 (성내동)  1385  N  강동구\n",
       "2  현대오일뱅크㈜직영 고속셀프주유소  현대오일뱅크        서울 강동구 천호대로 1246  1386  Y  강동구\n",
       "3            방아다리주유소   SK에너지    서울 강동구 동남로 811 (명일동)  1395  Y  강동구\n",
       "4  현대오일뱅크㈜직영 명일셀프주유소  현대오일뱅크    서울 강동구 고덕로 168 (명일동)  1395  Y  강동구"
      ]
     },
     "execution_count": 57,
     "metadata": {},
     "output_type": "execute_result"
    }
   ],
   "source": [
    "# 주소에서 구만 가져와 '구' 컬럼 추가\n",
    "stations['구'] = [eachAddress.split()[1] for eachAddress in stations['주소']]\n",
    "stations.head()"
   ]
  },
  {
   "cell_type": "code",
   "execution_count": 59,
   "metadata": {
    "ExecuteTime": {
     "end_time": "2020-11-21T15:18:38.561255Z",
     "start_time": "2020-11-21T15:18:38.552278Z"
    }
   },
   "outputs": [
    {
     "data": {
      "text/plain": [
       "(25,\n",
       " array(['강동구', '동대문구', '동작구', '마포구', '서대문구', '서초구', '성동구', '성북구', '송파구',\n",
       "        '양천구', '영등포구', '강북구', '용산구', '은평구', '종로구', '중구', '중랑구', '강서구',\n",
       "        '관악구', '광진구', '구로구', '금천구', '노원구', '도봉구', '강남구'], dtype=object))"
      ]
     },
     "execution_count": 59,
     "metadata": {},
     "output_type": "execute_result"
    }
   ],
   "source": [
    "len(stations['구'].unique()), stations['구'].unique()"
   ]
  },
  {
   "cell_type": "code",
   "execution_count": 60,
   "metadata": {
    "ExecuteTime": {
     "end_time": "2020-11-21T15:19:31.591931Z",
     "start_time": "2020-11-21T15:19:31.584951Z"
    },
    "scrolled": true
   },
   "outputs": [
    {
     "data": {
      "text/plain": [
       "array([1374, 1385, 1386, 1395, 1398, 1415, 1456, 1465, 1478, 1498, 1843,\n",
       "       '1272', '1275', '1280', '1285', '1287', '1295', '1299', '1325',\n",
       "       '1327', '1354', '1359', '1369', '1379', '1398', '1499', '1563',\n",
       "       '-', 1309, 1320, 1348, 1349, 1359, 1389, 1399, 1475, '1347',\n",
       "       '1357', '1386', '1388', '1418', '1433', '1458', '1574', '1679',\n",
       "       '1697', 1299, 1332, 1335, 1337, 1338, 1379, '1244', '1365', '1378',\n",
       "       '1383', '1385', '1387', '1389', '1395', '1399', '1412', '1442',\n",
       "       '1497', '1539', '1662', '1847', '1848', '1867', 1279, 1328, 1339,\n",
       "       1340, 1354, 1378, 1428, 1445, 1595, 1649, 1698, 1705, 1249, 1259,\n",
       "       1269, 1272, 1288, 1294, 1297, 1352, 1330, 1343, 1362, 1363, 1368,\n",
       "       1369, 1375, 1377, 1383, 1397, 1438, 1629, 1285, 1305, 1308, 1318,\n",
       "       1329, 1419, 1599, 1647, '1259', '1279', '1289', '1329', '1338',\n",
       "       '1348', '1349', '1355', '1390', '1430', '1698', '1768', '1890',\n",
       "       '1919', '1924', '1939', 1277, 1538, 1589, 1633, 1690, 1718, 1782,\n",
       "       1799, 1863, 1898, 1990, 1998, 2089, '1294', '1304', '1315', '1323',\n",
       "       '1328', '1335', '1345', 1405, 1410, 1450, 1798, 1888, 1960, '1598',\n",
       "       '1758', '1798', '1859', '1936', '2069', '2079', '2183', 1267, 1287,\n",
       "       1295, 1314, 1325, 1388, 1243, 1263, 1264, 1265, 1266, 1289, 1317,\n",
       "       1319, 1326, 1327, 1358, 1365, 1403, 1407, 1535, 1688, 1425, 1437,\n",
       "       1455, 1350, 1357, 1367, 1387, 1283, 1315, 1347, 1353, 1356, 1364,\n",
       "       1598, 1275, 1293, 1323, '1324', '1439', '1445', 1250, 1298, 1345,\n",
       "       1557, '1363', '1373', '1415', '1425', '1428', '1441', '1461',\n",
       "       '1550', '1576', '1599', '1776', '1777', '1788', '1845', '1858',\n",
       "       '1883', '1913', '2025'], dtype=object)"
      ]
     },
     "execution_count": 60,
     "metadata": {},
     "output_type": "execute_result"
    }
   ],
   "source": [
    "stations['가격'].unique()"
   ]
  },
  {
   "cell_type": "code",
   "execution_count": 63,
   "metadata": {
    "ExecuteTime": {
     "end_time": "2020-11-21T15:20:56.236622Z",
     "start_time": "2020-11-21T15:20:56.216675Z"
    },
    "scrolled": true
   },
   "outputs": [
    {
     "name": "stdout",
     "output_type": "stream",
     "text": [
      "(498, 6)\n"
     ]
    },
    {
     "data": {
      "text/plain": [
       "(397, 6)"
      ]
     },
     "execution_count": 63,
     "metadata": {},
     "output_type": "execute_result"
    }
   ],
   "source": [
    "# 가격 없는 것 삭제\n",
    "idx1 = stations[stations['가격'] == '-'].index\n",
    "print(stations.shape)\n",
    "stations.drop(idx1, inplace=True)\n",
    "stations.shape"
   ]
  },
  {
   "cell_type": "code",
   "execution_count": 65,
   "metadata": {
    "ExecuteTime": {
     "end_time": "2020-11-21T15:22:21.470913Z",
     "start_time": "2020-11-21T15:22:21.464928Z"
    }
   },
   "outputs": [],
   "source": [
    "# 가격 컬럼 type 변경\n",
    "stations['가격'] = stations['가격'].astype(int)"
   ]
  },
  {
   "cell_type": "code",
   "execution_count": 66,
   "metadata": {
    "ExecuteTime": {
     "end_time": "2020-11-21T15:23:01.424728Z",
     "start_time": "2020-11-21T15:23:01.417748Z"
    }
   },
   "outputs": [],
   "source": [
    "# index reset\n",
    "stations.reset_index(inplace=True)\n",
    "del stations['index']"
   ]
  },
  {
   "cell_type": "code",
   "execution_count": 68,
   "metadata": {
    "ExecuteTime": {
     "end_time": "2020-11-21T15:23:18.834494Z",
     "start_time": "2020-11-21T15:23:18.818536Z"
    }
   },
   "outputs": [
    {
     "name": "stdout",
     "output_type": "stream",
     "text": [
      "<class 'pandas.core.frame.DataFrame'>\n",
      "RangeIndex: 397 entries, 0 to 396\n",
      "Data columns (total 6 columns):\n",
      " #   Column  Non-Null Count  Dtype \n",
      "---  ------  --------------  ----- \n",
      " 0   상호      397 non-null    object\n",
      " 1   브랜드     397 non-null    object\n",
      " 2   주소      397 non-null    object\n",
      " 3   가격      397 non-null    int32 \n",
      " 4   셀프      397 non-null    object\n",
      " 5   구       397 non-null    object\n",
      "dtypes: int32(1), object(5)\n",
      "memory usage: 17.2+ KB\n"
     ]
    }
   ],
   "source": [
    "stations.info()"
   ]
  },
  {
   "cell_type": "code",
   "execution_count": 69,
   "metadata": {
    "ExecuteTime": {
     "end_time": "2020-11-21T15:23:25.091472Z",
     "start_time": "2020-11-21T15:23:25.071524Z"
    }
   },
   "outputs": [
    {
     "data": {
      "text/html": [
       "<div>\n",
       "<style scoped>\n",
       "    .dataframe tbody tr th:only-of-type {\n",
       "        vertical-align: middle;\n",
       "    }\n",
       "\n",
       "    .dataframe tbody tr th {\n",
       "        vertical-align: top;\n",
       "    }\n",
       "\n",
       "    .dataframe thead th {\n",
       "        text-align: right;\n",
       "    }\n",
       "</style>\n",
       "<table border=\"1\" class=\"dataframe\">\n",
       "  <thead>\n",
       "    <tr style=\"text-align: right;\">\n",
       "      <th></th>\n",
       "      <th>상호</th>\n",
       "      <th>브랜드</th>\n",
       "      <th>주소</th>\n",
       "      <th>가격</th>\n",
       "      <th>셀프</th>\n",
       "      <th>구</th>\n",
       "    </tr>\n",
       "  </thead>\n",
       "  <tbody>\n",
       "    <tr>\n",
       "      <th>0</th>\n",
       "      <td>구천면주유소</td>\n",
       "      <td>현대오일뱅크</td>\n",
       "      <td>서울 강동구 구천면로 357 (암사동)</td>\n",
       "      <td>1374</td>\n",
       "      <td>N</td>\n",
       "      <td>강동구</td>\n",
       "    </tr>\n",
       "    <tr>\n",
       "      <th>1</th>\n",
       "      <td>지에스칼텍스㈜ 신월주유소</td>\n",
       "      <td>GS칼텍스</td>\n",
       "      <td>서울 강동구 양재대로 1323 (성내동)</td>\n",
       "      <td>1385</td>\n",
       "      <td>N</td>\n",
       "      <td>강동구</td>\n",
       "    </tr>\n",
       "    <tr>\n",
       "      <th>2</th>\n",
       "      <td>현대오일뱅크㈜직영 고속셀프주유소</td>\n",
       "      <td>현대오일뱅크</td>\n",
       "      <td>서울 강동구 천호대로 1246</td>\n",
       "      <td>1386</td>\n",
       "      <td>Y</td>\n",
       "      <td>강동구</td>\n",
       "    </tr>\n",
       "    <tr>\n",
       "      <th>3</th>\n",
       "      <td>방아다리주유소</td>\n",
       "      <td>SK에너지</td>\n",
       "      <td>서울 강동구 동남로 811 (명일동)</td>\n",
       "      <td>1395</td>\n",
       "      <td>Y</td>\n",
       "      <td>강동구</td>\n",
       "    </tr>\n",
       "    <tr>\n",
       "      <th>4</th>\n",
       "      <td>현대오일뱅크㈜직영 명일셀프주유소</td>\n",
       "      <td>현대오일뱅크</td>\n",
       "      <td>서울 강동구 고덕로 168 (명일동)</td>\n",
       "      <td>1395</td>\n",
       "      <td>Y</td>\n",
       "      <td>강동구</td>\n",
       "    </tr>\n",
       "  </tbody>\n",
       "</table>\n",
       "</div>"
      ],
      "text/plain": [
       "                  상호     브랜드                      주소    가격 셀프    구\n",
       "0             구천면주유소  현대오일뱅크   서울 강동구 구천면로 357 (암사동)  1374  N  강동구\n",
       "1      지에스칼텍스㈜ 신월주유소   GS칼텍스  서울 강동구 양재대로 1323 (성내동)  1385  N  강동구\n",
       "2  현대오일뱅크㈜직영 고속셀프주유소  현대오일뱅크        서울 강동구 천호대로 1246  1386  Y  강동구\n",
       "3            방아다리주유소   SK에너지    서울 강동구 동남로 811 (명일동)  1395  Y  강동구\n",
       "4  현대오일뱅크㈜직영 명일셀프주유소  현대오일뱅크    서울 강동구 고덕로 168 (명일동)  1395  Y  강동구"
      ]
     },
     "execution_count": 69,
     "metadata": {},
     "output_type": "execute_result"
    }
   ],
   "source": [
    "stations.head()"
   ]
  },
  {
   "cell_type": "code",
   "execution_count": 70,
   "metadata": {
    "ExecuteTime": {
     "end_time": "2020-11-21T15:24:32.210133Z",
     "start_time": "2020-11-21T15:24:32.192180Z"
    }
   },
   "outputs": [],
   "source": [
    "# 임시 저장\n",
    "stations.to_csv('data/stations.csv', index=False, encoding='utf-8')"
   ]
  },
  {
   "cell_type": "markdown",
   "metadata": {},
   "source": [
    "# 셀프 주유소는 정말 저렴한지 boxplot으로 확인 (휘발류 한정)"
   ]
  },
  {
   "cell_type": "code",
   "execution_count": 1,
   "metadata": {
    "ExecuteTime": {
     "end_time": "2020-11-23T13:41:00.823729Z",
     "start_time": "2020-11-23T13:40:56.528950Z"
    }
   },
   "outputs": [],
   "source": [
    "import matplotlib.pyplot as plt\n",
    "import seaborn as sns\n",
    "# 그래프 한글 폰트\n",
    "from matplotlib import font_manager, rc\n",
    "font_name = font_manager.FontProperties(fname=\"c:/Windows/Fonts/malgun.ttf\").get_name()\n",
    "rc('font', family=font_name)"
   ]
  },
  {
   "cell_type": "code",
   "execution_count": 2,
   "metadata": {
    "ExecuteTime": {
     "end_time": "2020-11-23T13:41:00.840649Z",
     "start_time": "2020-11-23T13:41:00.826781Z"
    }
   },
   "outputs": [],
   "source": [
    "import pandas as pd"
   ]
  },
  {
   "cell_type": "code",
   "execution_count": 3,
   "metadata": {
    "ExecuteTime": {
     "end_time": "2020-11-23T13:41:00.926187Z",
     "start_time": "2020-11-23T13:41:00.845302Z"
    }
   },
   "outputs": [
    {
     "data": {
      "text/html": [
       "<div>\n",
       "<style scoped>\n",
       "    .dataframe tbody tr th:only-of-type {\n",
       "        vertical-align: middle;\n",
       "    }\n",
       "\n",
       "    .dataframe tbody tr th {\n",
       "        vertical-align: top;\n",
       "    }\n",
       "\n",
       "    .dataframe thead th {\n",
       "        text-align: right;\n",
       "    }\n",
       "</style>\n",
       "<table border=\"1\" class=\"dataframe\">\n",
       "  <thead>\n",
       "    <tr style=\"text-align: right;\">\n",
       "      <th></th>\n",
       "      <th>상호</th>\n",
       "      <th>브랜드</th>\n",
       "      <th>주소</th>\n",
       "      <th>가격</th>\n",
       "      <th>셀프</th>\n",
       "      <th>구</th>\n",
       "    </tr>\n",
       "  </thead>\n",
       "  <tbody>\n",
       "    <tr>\n",
       "      <th>0</th>\n",
       "      <td>구천면주유소</td>\n",
       "      <td>현대오일뱅크</td>\n",
       "      <td>서울 강동구 구천면로 357 (암사동)</td>\n",
       "      <td>1374</td>\n",
       "      <td>N</td>\n",
       "      <td>강동구</td>\n",
       "    </tr>\n",
       "    <tr>\n",
       "      <th>1</th>\n",
       "      <td>지에스칼텍스㈜ 신월주유소</td>\n",
       "      <td>GS칼텍스</td>\n",
       "      <td>서울 강동구 양재대로 1323 (성내동)</td>\n",
       "      <td>1385</td>\n",
       "      <td>N</td>\n",
       "      <td>강동구</td>\n",
       "    </tr>\n",
       "    <tr>\n",
       "      <th>2</th>\n",
       "      <td>현대오일뱅크㈜직영 고속셀프주유소</td>\n",
       "      <td>현대오일뱅크</td>\n",
       "      <td>서울 강동구 천호대로 1246</td>\n",
       "      <td>1386</td>\n",
       "      <td>Y</td>\n",
       "      <td>강동구</td>\n",
       "    </tr>\n",
       "    <tr>\n",
       "      <th>3</th>\n",
       "      <td>방아다리주유소</td>\n",
       "      <td>SK에너지</td>\n",
       "      <td>서울 강동구 동남로 811 (명일동)</td>\n",
       "      <td>1395</td>\n",
       "      <td>Y</td>\n",
       "      <td>강동구</td>\n",
       "    </tr>\n",
       "    <tr>\n",
       "      <th>4</th>\n",
       "      <td>현대오일뱅크㈜직영 명일셀프주유소</td>\n",
       "      <td>현대오일뱅크</td>\n",
       "      <td>서울 강동구 고덕로 168 (명일동)</td>\n",
       "      <td>1395</td>\n",
       "      <td>Y</td>\n",
       "      <td>강동구</td>\n",
       "    </tr>\n",
       "    <tr>\n",
       "      <th>...</th>\n",
       "      <td>...</td>\n",
       "      <td>...</td>\n",
       "      <td>...</td>\n",
       "      <td>...</td>\n",
       "      <td>...</td>\n",
       "      <td>...</td>\n",
       "    </tr>\n",
       "    <tr>\n",
       "      <th>392</th>\n",
       "      <td>대청주유소</td>\n",
       "      <td>SK에너지</td>\n",
       "      <td>서울 강남구 개포로 654 (일원동)</td>\n",
       "      <td>1776</td>\n",
       "      <td>N</td>\n",
       "      <td>강남구</td>\n",
       "    </tr>\n",
       "    <tr>\n",
       "      <th>393</th>\n",
       "      <td>경원주유소</td>\n",
       "      <td>S-OIL</td>\n",
       "      <td>서울 강남구 도산대로 428 (청담동)</td>\n",
       "      <td>1845</td>\n",
       "      <td>N</td>\n",
       "      <td>강남구</td>\n",
       "    </tr>\n",
       "    <tr>\n",
       "      <th>394</th>\n",
       "      <td>갤러리아주유소</td>\n",
       "      <td>SK에너지</td>\n",
       "      <td>서울 강남구 압구정로 426</td>\n",
       "      <td>1848</td>\n",
       "      <td>N</td>\n",
       "      <td>강남구</td>\n",
       "    </tr>\n",
       "    <tr>\n",
       "      <th>395</th>\n",
       "      <td>(주)만정에너지</td>\n",
       "      <td>GS칼텍스</td>\n",
       "      <td>서울 강남구 봉은사로 433 (삼성동)</td>\n",
       "      <td>1913</td>\n",
       "      <td>N</td>\n",
       "      <td>강남구</td>\n",
       "    </tr>\n",
       "    <tr>\n",
       "      <th>396</th>\n",
       "      <td>뉴서울(강남)</td>\n",
       "      <td>SK에너지</td>\n",
       "      <td>서울 강남구 언주로 716 (논현동)</td>\n",
       "      <td>2025</td>\n",
       "      <td>N</td>\n",
       "      <td>강남구</td>\n",
       "    </tr>\n",
       "  </tbody>\n",
       "</table>\n",
       "<p>397 rows × 6 columns</p>\n",
       "</div>"
      ],
      "text/plain": [
       "                    상호     브랜드                      주소    가격 셀프    구\n",
       "0               구천면주유소  현대오일뱅크   서울 강동구 구천면로 357 (암사동)  1374  N  강동구\n",
       "1        지에스칼텍스㈜ 신월주유소   GS칼텍스  서울 강동구 양재대로 1323 (성내동)  1385  N  강동구\n",
       "2    현대오일뱅크㈜직영 고속셀프주유소  현대오일뱅크        서울 강동구 천호대로 1246  1386  Y  강동구\n",
       "3              방아다리주유소   SK에너지    서울 강동구 동남로 811 (명일동)  1395  Y  강동구\n",
       "4    현대오일뱅크㈜직영 명일셀프주유소  현대오일뱅크    서울 강동구 고덕로 168 (명일동)  1395  Y  강동구\n",
       "..                 ...     ...                     ...   ... ..  ...\n",
       "392              대청주유소   SK에너지    서울 강남구 개포로 654 (일원동)  1776  N  강남구\n",
       "393              경원주유소   S-OIL   서울 강남구 도산대로 428 (청담동)  1845  N  강남구\n",
       "394            갤러리아주유소   SK에너지         서울 강남구 압구정로 426  1848  N  강남구\n",
       "395           (주)만정에너지   GS칼텍스   서울 강남구 봉은사로 433 (삼성동)  1913  N  강남구\n",
       "396            뉴서울(강남)   SK에너지    서울 강남구 언주로 716 (논현동)  2025  N  강남구\n",
       "\n",
       "[397 rows x 6 columns]"
      ]
     },
     "execution_count": 3,
     "metadata": {},
     "output_type": "execute_result"
    }
   ],
   "source": [
    "stations = pd.read_csv('data/stations.csv')\n",
    "stations"
   ]
  },
  {
   "cell_type": "code",
   "execution_count": 6,
   "metadata": {
    "ExecuteTime": {
     "end_time": "2020-11-23T13:43:37.756650Z",
     "start_time": "2020-11-23T13:43:37.442039Z"
    }
   },
   "outputs": [
    {
     "data": {
      "text/plain": [
       "Text(0.5, 1.0, '셀프주유소 여부에 따른 가격 차이')"
      ]
     },
     "execution_count": 6,
     "metadata": {},
     "output_type": "execute_result"
    },
    {
     "data": {
      "image/png": "[encoded data removed]",
      "text/plain": [
       "<Figure size 864x576 with 1 Axes>"
      ]
     },
     "metadata": {
      "needs_background": "light"
     },
     "output_type": "display_data"
    }
   ],
   "source": [
    "stations.boxplot(column='가격', by='셀프', figsize=(12,8))\n",
    "plt.title('셀프주유소 여부에 따른 가격 차이')"
   ]
  },
  {
   "cell_type": "markdown",
   "metadata": {},
   "source": [
    "- 셀프주유소(Y)가 비교적 가격이 낮은 것을 알 수 있음"
   ]
  },
  {
   "cell_type": "code",
   "execution_count": 8,
   "metadata": {
    "ExecuteTime": {
     "end_time": "2020-11-23T13:45:08.254377Z",
     "start_time": "2020-11-23T13:45:07.662374Z"
    }
   },
   "outputs": [
    {
     "data": {
      "text/plain": [
       "Text(0.5, 1.0, '브랜드별 셀프 주유소 여부에 따른 차이 비교')"
      ]
     },
     "execution_count": 8,
     "metadata": {},
     "output_type": "execute_result"
    },
    {
     "data": {
      "image/png": "[encoded data removed]",
      "text/plain": [
       "<Figure size 864x576 with 1 Axes>"
      ]
     },
     "metadata": {
      "needs_background": "light"
     },
     "output_type": "display_data"
    }
   ],
   "source": [
    "plt.figure(figsize=(12,8))\n",
    "sns.boxplot(x='브랜드',y='가격',hue='셀프',data=stations, palette='Set3')\n",
    "plt.title('브랜드별 셀프 주유소 여부에 따른 차이 비교')"
   ]
  },
  {
   "cell_type": "markdown",
   "metadata": {},
   "source": [
    "- 모든 브랜드에서 셀프 주유소 가격이 더 저렴함\n",
    "- sk에너지, gs칼텍스의 셀프 주유소 가격이 상대적이로 높게 형성되어있음"
   ]
  },
  {
   "cell_type": "code",
   "execution_count": 9,
   "metadata": {
    "ExecuteTime": {
     "end_time": "2020-11-23T13:54:22.662830Z",
     "start_time": "2020-11-23T13:54:21.752605Z"
    }
   },
   "outputs": [
    {
     "data": {
      "text/plain": [
       "Text(0.5, 1.0, '브랜드별 셀프 주유소 여부에 따른 차이 비교')"
      ]
     },
     "execution_count": 9,
     "metadata": {},
     "output_type": "execute_result"
    },
    {
     "data": {
      "image/png": "[encoded data removed]",
      "text/plain": [
       "<Figure size 864x576 with 1 Axes>"
      ]
     },
     "metadata": {
      "needs_background": "light"
     },
     "output_type": "display_data"
    }
   ],
   "source": [
    "# Swarmplot 추가해서 같이 보기\n",
    "plt.figure(figsize=(12,8))\n",
    "sns.boxplot(x='브랜드',y='가격',hue='셀프',data=stations, palette='Set3')\n",
    "sns.swarmplot(x='브랜드',y='가격',data=stations, color=\".6\")\n",
    "plt.title('브랜드별 셀프 주유소 여부에 따른 차이 비교')"
   ]
  },
  {
   "cell_type": "markdown",
   "metadata": {},
   "source": [
    "- sk에너지가 좀더 높은 가격대를 형성하는 주유소가 많음\n",
    "- 전반적으로 현대오일뱅크, s-oil이 비교적 저렴함"
   ]
  },
  {
   "cell_type": "markdown",
   "metadata": {},
   "source": [
    "# 서울시 구별 주유 가격 확인하기"
   ]
  },
  {
   "cell_type": "code",
   "execution_count": 19,
   "metadata": {
    "ExecuteTime": {
     "end_time": "2020-11-23T15:14:39.660398Z",
     "start_time": "2020-11-23T15:14:39.652618Z"
    }
   },
   "outputs": [],
   "source": [
    "import json\n",
    "import folium\n",
    "import googlemaps\n",
    "import warnings\n",
    "warnings.simplefilter(action = 'ignore', category = FutureWarning)"
   ]
  },
  {
   "cell_type": "code",
   "execution_count": 12,
   "metadata": {
    "ExecuteTime": {
     "end_time": "2020-11-23T15:03:17.279735Z",
     "start_time": "2020-11-23T15:03:17.250708Z"
    }
   },
   "outputs": [
    {
     "data": {
      "text/html": [
       "<div>\n",
       "<style scoped>\n",
       "    .dataframe tbody tr th:only-of-type {\n",
       "        vertical-align: middle;\n",
       "    }\n",
       "\n",
       "    .dataframe tbody tr th {\n",
       "        vertical-align: top;\n",
       "    }\n",
       "\n",
       "    .dataframe thead th {\n",
       "        text-align: right;\n",
       "    }\n",
       "</style>\n",
       "<table border=\"1\" class=\"dataframe\">\n",
       "  <thead>\n",
       "    <tr style=\"text-align: right;\">\n",
       "      <th></th>\n",
       "      <th>상호</th>\n",
       "      <th>브랜드</th>\n",
       "      <th>주소</th>\n",
       "      <th>가격</th>\n",
       "      <th>셀프</th>\n",
       "      <th>구</th>\n",
       "    </tr>\n",
       "  </thead>\n",
       "  <tbody>\n",
       "    <tr>\n",
       "      <th>248</th>\n",
       "      <td>서남주유소</td>\n",
       "      <td>SK에너지</td>\n",
       "      <td>서울 중구 통일로 30</td>\n",
       "      <td>2183</td>\n",
       "      <td>N</td>\n",
       "      <td>중구</td>\n",
       "    </tr>\n",
       "    <tr>\n",
       "      <th>216</th>\n",
       "      <td>서계주유소</td>\n",
       "      <td>GS칼텍스</td>\n",
       "      <td>서울 용산구 청파로 367 (서계동)</td>\n",
       "      <td>2089</td>\n",
       "      <td>N</td>\n",
       "      <td>용산구</td>\n",
       "    </tr>\n",
       "    <tr>\n",
       "      <th>247</th>\n",
       "      <td>필동주유소</td>\n",
       "      <td>GS칼텍스</td>\n",
       "      <td>서울 중구  퇴계로 196 (필동2가)</td>\n",
       "      <td>2079</td>\n",
       "      <td>N</td>\n",
       "      <td>중구</td>\n",
       "    </tr>\n",
       "    <tr>\n",
       "      <th>246</th>\n",
       "      <td>SK에너지(주) 퇴계로주유소</td>\n",
       "      <td>SK에너지</td>\n",
       "      <td>서울 중구 퇴계로 228 (필동2가)</td>\n",
       "      <td>2069</td>\n",
       "      <td>N</td>\n",
       "      <td>중구</td>\n",
       "    </tr>\n",
       "    <tr>\n",
       "      <th>396</th>\n",
       "      <td>뉴서울(강남)</td>\n",
       "      <td>SK에너지</td>\n",
       "      <td>서울 강남구 언주로 716 (논현동)</td>\n",
       "      <td>2025</td>\n",
       "      <td>N</td>\n",
       "      <td>강남구</td>\n",
       "    </tr>\n",
       "    <tr>\n",
       "      <th>238</th>\n",
       "      <td>(주)대양씨앤씨 사직주유소</td>\n",
       "      <td>GS칼텍스</td>\n",
       "      <td>서울 종로구 사직로 65 (사직동)</td>\n",
       "      <td>1998</td>\n",
       "      <td>N</td>\n",
       "      <td>종로구</td>\n",
       "    </tr>\n",
       "    <tr>\n",
       "      <th>215</th>\n",
       "      <td>에너비스</td>\n",
       "      <td>SK에너지</td>\n",
       "      <td>서울 용산구 한남대로 82 (한남동)</td>\n",
       "      <td>1998</td>\n",
       "      <td>N</td>\n",
       "      <td>용산구</td>\n",
       "    </tr>\n",
       "    <tr>\n",
       "      <th>237</th>\n",
       "      <td>(주)중앙에너비스 혜화주유소</td>\n",
       "      <td>SK에너지</td>\n",
       "      <td>서울 종로구 창경궁로35길 1</td>\n",
       "      <td>1998</td>\n",
       "      <td>N</td>\n",
       "      <td>종로구</td>\n",
       "    </tr>\n",
       "    <tr>\n",
       "      <th>236</th>\n",
       "      <td>경복궁주유소</td>\n",
       "      <td>GS칼텍스</td>\n",
       "      <td>서울 종로구 율곡로 6 (중학동)</td>\n",
       "      <td>1960</td>\n",
       "      <td>N</td>\n",
       "      <td>종로구</td>\n",
       "    </tr>\n",
       "    <tr>\n",
       "      <th>193</th>\n",
       "      <td>SJ오일(주) 여의도주유소</td>\n",
       "      <td>GS칼텍스</td>\n",
       "      <td>서울 영등포구 은행로 64</td>\n",
       "      <td>1939</td>\n",
       "      <td>N</td>\n",
       "      <td>영등포구</td>\n",
       "    </tr>\n",
       "  </tbody>\n",
       "</table>\n",
       "</div>"
      ],
      "text/plain": [
       "                  상호    브랜드                     주소    가격 셀프     구\n",
       "248            서남주유소  SK에너지           서울 중구 통일로 30  2183  N    중구\n",
       "216            서계주유소  GS칼텍스   서울 용산구 청파로 367 (서계동)  2089  N   용산구\n",
       "247            필동주유소  GS칼텍스  서울 중구  퇴계로 196 (필동2가)  2079  N    중구\n",
       "246  SK에너지(주) 퇴계로주유소  SK에너지   서울 중구 퇴계로 228 (필동2가)  2069  N    중구\n",
       "396          뉴서울(강남)  SK에너지   서울 강남구 언주로 716 (논현동)  2025  N   강남구\n",
       "238   (주)대양씨앤씨 사직주유소  GS칼텍스    서울 종로구 사직로 65 (사직동)  1998  N   종로구\n",
       "215             에너비스  SK에너지   서울 용산구 한남대로 82 (한남동)  1998  N   용산구\n",
       "237  (주)중앙에너비스 혜화주유소  SK에너지       서울 종로구 창경궁로35길 1  1998  N   종로구\n",
       "236           경복궁주유소  GS칼텍스     서울 종로구 율곡로 6 (중학동)  1960  N   종로구\n",
       "193   SJ오일(주) 여의도주유소  GS칼텍스         서울 영등포구 은행로 64  1939  N  영등포구"
      ]
     },
     "execution_count": 12,
     "metadata": {},
     "output_type": "execute_result"
    }
   ],
   "source": [
    "# 가격 높은 순으로 정렬해, 가격 가장 높은 구 확인\n",
    "stations.sort_values(by='가격',ascending=False).head(10)"
   ]
  },
  {
   "cell_type": "code",
   "execution_count": 13,
   "metadata": {
    "ExecuteTime": {
     "end_time": "2020-11-23T15:04:57.565224Z",
     "start_time": "2020-11-23T15:04:57.532921Z"
    }
   },
   "outputs": [
    {
     "data": {
      "text/html": [
       "<div>\n",
       "<style scoped>\n",
       "    .dataframe tbody tr th:only-of-type {\n",
       "        vertical-align: middle;\n",
       "    }\n",
       "\n",
       "    .dataframe tbody tr th {\n",
       "        vertical-align: top;\n",
       "    }\n",
       "\n",
       "    .dataframe thead th {\n",
       "        text-align: right;\n",
       "    }\n",
       "</style>\n",
       "<table border=\"1\" class=\"dataframe\">\n",
       "  <thead>\n",
       "    <tr style=\"text-align: right;\">\n",
       "      <th></th>\n",
       "      <th>상호</th>\n",
       "      <th>브랜드</th>\n",
       "      <th>주소</th>\n",
       "      <th>가격</th>\n",
       "      <th>셀프</th>\n",
       "      <th>구</th>\n",
       "    </tr>\n",
       "  </thead>\n",
       "  <tbody>\n",
       "    <tr>\n",
       "      <th>262</th>\n",
       "      <td>뉴신정주유소</td>\n",
       "      <td>알뜰주유소</td>\n",
       "      <td>서울 강서구 곰달래로 207(화곡동)</td>\n",
       "      <td>1243</td>\n",
       "      <td>N</td>\n",
       "      <td>강서구</td>\n",
       "    </tr>\n",
       "    <tr>\n",
       "      <th>263</th>\n",
       "      <td>화곡역주유소</td>\n",
       "      <td>알뜰주유소</td>\n",
       "      <td>서울특별시 강서구  강서로 154 (화곡동)</td>\n",
       "      <td>1243</td>\n",
       "      <td>Y</td>\n",
       "      <td>강서구</td>\n",
       "    </tr>\n",
       "    <tr>\n",
       "      <th>63</th>\n",
       "      <td>만남의광장주유소</td>\n",
       "      <td>알뜰(ex)</td>\n",
       "      <td>서울 서초구 양재대로12길 73-71</td>\n",
       "      <td>1244</td>\n",
       "      <td>Y</td>\n",
       "      <td>서초구</td>\n",
       "    </tr>\n",
       "    <tr>\n",
       "      <th>354</th>\n",
       "      <td>도봉제일주유소(주)송만에너지</td>\n",
       "      <td>현대오일뱅크</td>\n",
       "      <td>서울 도봉구 도봉로 783 (도봉동)</td>\n",
       "      <td>1249</td>\n",
       "      <td>N</td>\n",
       "      <td>도봉구</td>\n",
       "    </tr>\n",
       "    <tr>\n",
       "      <th>150</th>\n",
       "      <td>현대주유소</td>\n",
       "      <td>S-OIL</td>\n",
       "      <td>서울 양천구 남부순환로 372 (신월동)</td>\n",
       "      <td>1249</td>\n",
       "      <td>Y</td>\n",
       "      <td>양천구</td>\n",
       "    </tr>\n",
       "    <tr>\n",
       "      <th>149</th>\n",
       "      <td>가로공원주유소</td>\n",
       "      <td>SK에너지</td>\n",
       "      <td>서울 양천구 가로공원로 165 (신월동)</td>\n",
       "      <td>1249</td>\n",
       "      <td>N</td>\n",
       "      <td>양천구</td>\n",
       "    </tr>\n",
       "    <tr>\n",
       "      <th>148</th>\n",
       "      <td>개나리Self주유소</td>\n",
       "      <td>SK에너지</td>\n",
       "      <td>서울 양천구 남부순환로 442 (신월동)</td>\n",
       "      <td>1249</td>\n",
       "      <td>Y</td>\n",
       "      <td>양천구</td>\n",
       "    </tr>\n",
       "    <tr>\n",
       "      <th>194</th>\n",
       "      <td>북서울고속주유소</td>\n",
       "      <td>S-OIL</td>\n",
       "      <td>서울 강북구 삼양로 410 (수유동)</td>\n",
       "      <td>1249</td>\n",
       "      <td>Y</td>\n",
       "      <td>강북구</td>\n",
       "    </tr>\n",
       "    <tr>\n",
       "      <th>195</th>\n",
       "      <td>(주)석산에너지</td>\n",
       "      <td>현대오일뱅크</td>\n",
       "      <td>서울 강북구 삼양로 316 (수유동)</td>\n",
       "      <td>1249</td>\n",
       "      <td>Y</td>\n",
       "      <td>강북구</td>\n",
       "    </tr>\n",
       "    <tr>\n",
       "      <th>196</th>\n",
       "      <td>수유동주유소</td>\n",
       "      <td>GS칼텍스</td>\n",
       "      <td>서울 강북구 도봉로 395 (수유동)</td>\n",
       "      <td>1249</td>\n",
       "      <td>Y</td>\n",
       "      <td>강북구</td>\n",
       "    </tr>\n",
       "  </tbody>\n",
       "</table>\n",
       "</div>"
      ],
      "text/plain": [
       "                  상호     브랜드                        주소    가격 셀프    구\n",
       "262           뉴신정주유소   알뜰주유소      서울 강서구 곰달래로 207(화곡동)  1243  N  강서구\n",
       "263           화곡역주유소   알뜰주유소  서울특별시 강서구  강서로 154 (화곡동)  1243  Y  강서구\n",
       "63          만남의광장주유소  알뜰(ex)      서울 서초구 양재대로12길 73-71  1244  Y  서초구\n",
       "354  도봉제일주유소(주)송만에너지  현대오일뱅크      서울 도봉구 도봉로 783 (도봉동)  1249  N  도봉구\n",
       "150            현대주유소   S-OIL    서울 양천구 남부순환로 372 (신월동)  1249  Y  양천구\n",
       "149          가로공원주유소   SK에너지    서울 양천구 가로공원로 165 (신월동)  1249  N  양천구\n",
       "148       개나리Self주유소   SK에너지    서울 양천구 남부순환로 442 (신월동)  1249  Y  양천구\n",
       "194         북서울고속주유소   S-OIL      서울 강북구 삼양로 410 (수유동)  1249  Y  강북구\n",
       "195         (주)석산에너지  현대오일뱅크      서울 강북구 삼양로 316 (수유동)  1249  Y  강북구\n",
       "196           수유동주유소   GS칼텍스      서울 강북구 도봉로 395 (수유동)  1249  Y  강북구"
      ]
     },
     "execution_count": 13,
     "metadata": {},
     "output_type": "execute_result"
    }
   ],
   "source": [
    "# 가격 낮은 순으로 정렬해, 가격 가장 낮은 구 확인\n",
    "stations.sort_values(by='가격',ascending=True).head(10)"
   ]
  },
  {
   "cell_type": "code",
   "execution_count": 16,
   "metadata": {
    "ExecuteTime": {
     "end_time": "2020-11-23T15:06:52.142187Z",
     "start_time": "2020-11-23T15:06:52.117936Z"
    }
   },
   "outputs": [
    {
     "data": {
      "text/html": [
       "<div>\n",
       "<style scoped>\n",
       "    .dataframe tbody tr th:only-of-type {\n",
       "        vertical-align: middle;\n",
       "    }\n",
       "\n",
       "    .dataframe tbody tr th {\n",
       "        vertical-align: top;\n",
       "    }\n",
       "\n",
       "    .dataframe thead th {\n",
       "        text-align: right;\n",
       "    }\n",
       "</style>\n",
       "<table border=\"1\" class=\"dataframe\">\n",
       "  <thead>\n",
       "    <tr style=\"text-align: right;\">\n",
       "      <th></th>\n",
       "      <th>가격</th>\n",
       "    </tr>\n",
       "    <tr>\n",
       "      <th>구</th>\n",
       "      <th></th>\n",
       "    </tr>\n",
       "  </thead>\n",
       "  <tbody>\n",
       "    <tr>\n",
       "      <th>강남구</th>\n",
       "      <td>1522.448276</td>\n",
       "    </tr>\n",
       "    <tr>\n",
       "      <th>강동구</th>\n",
       "      <td>1438.615385</td>\n",
       "    </tr>\n",
       "    <tr>\n",
       "      <th>강북구</th>\n",
       "      <td>1277.909091</td>\n",
       "    </tr>\n",
       "    <tr>\n",
       "      <th>강서구</th>\n",
       "      <td>1333.615385</td>\n",
       "    </tr>\n",
       "    <tr>\n",
       "      <th>관악구</th>\n",
       "      <td>1374.000000</td>\n",
       "    </tr>\n",
       "  </tbody>\n",
       "</table>\n",
       "</div>"
      ],
      "text/plain": [
       "              가격\n",
       "구               \n",
       "강남구  1522.448276\n",
       "강동구  1438.615385\n",
       "강북구  1277.909091\n",
       "강서구  1333.615385\n",
       "관악구  1374.000000"
      ]
     },
     "execution_count": 16,
     "metadata": {},
     "output_type": "execute_result"
    }
   ],
   "source": [
    "# 구별 평균 가격 확인\n",
    "gu_data = stations.groupby(['구'])[['가격']].mean()\n",
    "gu_data.head()"
   ]
  },
  {
   "cell_type": "code",
   "execution_count": 20,
   "metadata": {
    "ExecuteTime": {
     "end_time": "2020-11-23T15:14:42.959948Z",
     "start_time": "2020-11-23T15:14:42.895960Z"
    }
   },
   "outputs": [
    {
     "data": {
      "text/html": [
       "<div style=\"width:100%;\"><div style=\"position:relative;width:100%;height:0;padding-bottom:60%;\"><span style=\"color:#565656\">Make this Notebook Trusted to load map: File -> Trust Notebook</span><iframe src=\"about:blank\" style=\"position:absolute;width:100%;height:100%;left:0;top:0;border:none !important;\" data-html=%3C%21DOCTYPE%20html%3E%0A%3Chead%3E%20%20%20%20%0A%20%20%20%20%3Cmeta%20http-equiv%3D%22content-type%22%20content%3D%22text/html%3B%20charset%3DUTF-8%22%20/%3E%0A%20%20%20%20%0A%20%20%20%20%20%20%20%20%3Cscript%3E%0A%20%20%20%20%20%20%20%20%20%20%20%20L_NO_TOUCH%20%3D%20false%3B%0A%20%20%20%20%20%20%20%20%20%20%20%20L_DISABLE_3D%20%3D%20false%3B%0A%20%20%20%20%20%20%20%20%3C/script%3E%0A%20%20%20%20%0A%20%20%20%20%3Cscript%20src%3D%22https%3A//cdn.jsdelivr.net/npm/leaflet%401.6.0/dist/leaflet.js%22%3E%3C/script%3E%0A%20%20%20%20%3Cscript%20src%3D%22https%3A//code.jquery.com/jquery-1.12.4.min.js%22%3E%3C/script%3E%0A%20%20%20%20%3Cscript%20src%3D%22https%3A//maxcdn.bootstrapcdn.com/bootstrap/3.2.0/js/bootstrap.min.js%22%3E%3C/script%3E%0A%20%20%20%20%3Cscript%20src%3D%22https%3A//cdnjs.cloudflare.com/ajax/libs/Leaflet.awesome-markers/2.0.2/leaflet.awesome-markers.js%22%3E%3C/script%3E%0A%20%20%20%20%3Clink%20rel%3D%22stylesheet%22%20href%3D%22https%3A//cdn.jsdelivr.net/npm/leaflet%401.6.0/dist/leaflet.css%22/%3E%0A%20%20%20%20%3Clink%20rel%3D%22stylesheet%22%20href%3D%22https%3A//maxcdn.bootstrapcdn.com/bootstrap/3.2.0/css/bootstrap.min.css%22/%3E%0A%20%20%20%20%3Clink%20rel%3D%22stylesheet%22%20href%3D%22https%3A//maxcdn.bootstrapcdn.com/bootstrap/3.2.0/css/bootstrap-theme.min.css%22/%3E%0A%20%20%20%20%3Clink%20rel%3D%22stylesheet%22%20href%3D%22https%3A//maxcdn.bootstrapcdn.com/font-awesome/4.6.3/css/font-awesome.min.css%22/%3E%0A%20%20%20%20%3Clink%20rel%3D%22stylesheet%22%20href%3D%22https%3A//cdnjs.cloudflare.com/ajax/libs/Leaflet.awesome-markers/2.0.2/leaflet.awesome-markers.css%22/%3E%0A%20%20%20%20%3Clink%20rel%3D%22stylesheet%22%20href%3D%22https%3A//rawcdn.githack.com/python-visualization/folium/master/folium/templates/leaflet.awesome.rotate.css%22/%3E%0A%20%20%20%20%3Cstyle%3Ehtml%2C%20body%20%7Bwidth%3A%20100%25%3Bheight%3A%20100%25%3Bmargin%3A%200%3Bpadding%3A%200%3B%7D%3C/style%3E%0A%20%20%20%20%3Cstyle%3E%23map%20%7Bposition%3Aabsolute%3Btop%3A0%3Bbottom%3A0%3Bright%3A0%3Bleft%3A0%3B%7D%3C/style%3E%0A%20%20%20%20%0A%20%20%20%20%20%20%20%20%20%20%20%20%3Cmeta%20name%3D%22viewport%22%20content%3D%22width%3Ddevice-width%2C%0A%20%20%20%20%20%20%20%20%20%20%20%20%20%20%20%20initial-scale%3D1.0%2C%20maximum-scale%3D1.0%2C%20user-scalable%3Dno%22%20/%3E%0A%20%20%20%20%20%20%20%20%20%20%20%20%3Cstyle%3E%0A%20%20%20%20%20%20%20%20%20%20%20%20%20%20%20%20%23map_7741f1c5558644c18d5b0bd8cc85b2e1%20%7B%0A%20%20%20%20%20%20%20%20%20%20%20%20%20%20%20%20%20%20%20%20position%3A%20relative%3B%0A%20%20%20%20%20%20%20%20%20%20%20%20%20%20%20%20%20%20%20%20width%3A%20100.0%25%3B%0A%20%20%20%20%20%20%20%20%20%20%20%20%20%20%20%20%20%20%20%20height%3A%20100.0%25%3B%0A%20%20%20%20%20%20%20%20%20%20%20%20%20%20%20%20%20%20%20%20left%3A%200.0%25%3B%0A%20%20%20%20%20%20%20%20%20%20%20%20%20%20%20%20%20%20%20%20top%3A%200.0%25%3B%0A%20%20%20%20%20%20%20%20%20%20%20%20%20%20%20%20%7D%0A%20%20%20%20%20%20%20%20%20%20%20%20%3C/style%3E%0A%20%20%20%20%20%20%20%20%0A%20%20%20%20%3Cscript%20src%3D%22https%3A//cdnjs.cloudflare.com/ajax/libs/d3/3.5.5/d3.min.js%22%3E%3C/script%3E%0A%3C/head%3E%0A%3Cbody%3E%20%20%20%20%0A%20%20%20%20%0A%20%20%20%20%20%20%20%20%20%20%20%20%3Cdiv%20class%3D%22folium-map%22%20id%3D%22map_7741f1c5558644c18d5b0bd8cc85b2e1%22%20%3E%3C/div%3E%0A%20%20%20%20%20%20%20%20%0A%3C/body%3E%0A%3Cscript%3E%20%20%20%20%0A%20%20%20%20%0A%20%20%20%20%20%20%20%20%20%20%20%20var%20map_7741f1c5558644c18d5b0bd8cc85b2e1%20%3D%20L.map%28%0A%20%20%20%20%20%20%20%20%20%20%20%20%20%20%20%20%22map_7741f1c5558644c18d5b0bd8cc85b2e1%22%2C%0A%20%20%20%20%20%20%20%20%20%20%20%20%20%20%20%20%7B%0A%20%20%20%20%20%20%20%20%20%20%20%20%20%20%20%20%20%20%20%20center%3A%20%5B37.5502%2C%20126.982%5D%2C%0A%20%20%20%20%20%20%20%20%20%20%20%20%20%20%20%20%20%20%20%20crs%3A%20L.CRS.EPSG3857%2C%0A%20%20%20%20%20%20%20%20%20%20%20%20%20%20%20%20%20%20%20%20zoom%3A%2010.5%2C%0A%20%20%20%20%20%20%20%20%20%20%20%20%20%20%20%20%20%20%20%20zoomControl%3A%20true%2C%0A%20%20%20%20%20%20%20%20%20%20%20%20%20%20%20%20%20%20%20%20preferCanvas%3A%20false%2C%0A%20%20%20%20%20%20%20%20%20%20%20%20%20%20%20%20%7D%0A%20%20%20%20%20%20%20%20%20%20%20%20%29%3B%0A%0A%20%20%20%20%20%20%20%20%20%20%20%20%0A%0A%20%20%20%20%20%20%20%20%0A%20%20%20%20%0A%20%20%20%20%20%20%20%20%20%20%20%20var%20tile_layer_02b7c0373f8e4a84890b0a8c16aab742%20%3D%20L.tileLayer%28%0A%20%20%20%20%20%20%20%20%20%20%20%20%20%20%20%20%22https%3A//stamen-tiles-%7Bs%7D.a.ssl.fastly.net/toner/%7Bz%7D/%7Bx%7D/%7By%7D.png%22%2C%0A%20%20%20%20%20%20%20%20%20%20%20%20%20%20%20%20%7B%22attribution%22%3A%20%22Map%20tiles%20by%20%5Cu003ca%20href%3D%5C%22http%3A//stamen.com%5C%22%5Cu003eStamen%20Design%5Cu003c/a%5Cu003e%2C%20under%20%5Cu003ca%20href%3D%5C%22http%3A//creativecommons.org/licenses/by/3.0%5C%22%5Cu003eCC%20BY%203.0%5Cu003c/a%5Cu003e.%20Data%20by%20%5Cu0026copy%3B%20%5Cu003ca%20href%3D%5C%22http%3A//openstreetmap.org%5C%22%5Cu003eOpenStreetMap%5Cu003c/a%5Cu003e%2C%20under%20%5Cu003ca%20href%3D%5C%22http%3A//www.openstreetmap.org/copyright%5C%22%5Cu003eODbL%5Cu003c/a%5Cu003e.%22%2C%20%22detectRetina%22%3A%20false%2C%20%22maxNativeZoom%22%3A%2018%2C%20%22maxZoom%22%3A%2018%2C%20%22minZoom%22%3A%200%2C%20%22noWrap%22%3A%20false%2C%20%22opacity%22%3A%201%2C%20%22subdomains%22%3A%20%22abc%22%2C%20%22tms%22%3A%20false%7D%0A%20%20%20%20%20%20%20%20%20%20%20%20%29.addTo%28map_7741f1c5558644c18d5b0bd8cc85b2e1%29%3B%0A%20%20%20%20%20%20%20%20%0A%20%20%20%20%0A%20%20%20%20%20%20%20%20%20%20%20%20var%20choropleth_761acc02db7349ccb9790c063e766448%20%3D%20L.featureGroup%28%0A%20%20%20%20%20%20%20%20%20%20%20%20%20%20%20%20%7B%7D%0A%20%20%20%20%20%20%20%20%20%20%20%20%29.addTo%28map_7741f1c5558644c18d5b0bd8cc85b2e1%29%3B%0A%20%20%20%20%20%20%20%20%0A%20%20%20%20%0A%20%20%20%20%20%20%20%20function%20geo_json_a3361cc4a715494fb5ad569376bda3f2_styler%28feature%29%20%7B%0A%20%20%20%20%20%20%20%20%20%20%20%20switch%28feature.id%29%20%7B%0A%20%20%20%20%20%20%20%20%20%20%20%20%20%20%20%20case%20%22%5Cuac15%5Cub3d9%5Cuad6c%22%3A%20case%20%22%5Cuc11c%5Cucd08%5Cuad6c%22%3A%20case%20%22%5Cuad00%5Cuc545%5Cuad6c%22%3A%20case%20%22%5Cub3d9%5Cuc791%5Cuad6c%22%3A%20case%20%22%5Cuc601%5Cub4f1%5Cud3ec%5Cuad6c%22%3A%20case%20%22%5Cub9c8%5Cud3ec%5Cuad6c%22%3A%20case%20%22%5Cuc131%5Cub3d9%5Cuad6c%22%3A%20%0A%20%20%20%20%20%20%20%20%20%20%20%20%20%20%20%20%20%20%20%20return%20%7B%22color%22%3A%20%22black%22%2C%20%22fillColor%22%3A%20%22%23d4b9da%22%2C%20%22fillOpacity%22%3A%200.6%2C%20%22opacity%22%3A%201%2C%20%22weight%22%3A%201%7D%3B%0A%20%20%20%20%20%20%20%20%20%20%20%20%20%20%20%20case%20%22%5Cuac15%5Cub0a8%5Cuad6c%22%3A%20%0A%20%20%20%20%20%20%20%20%20%20%20%20%20%20%20%20%20%20%20%20return%20%7B%22color%22%3A%20%22black%22%2C%20%22fillColor%22%3A%20%22%23c994c7%22%2C%20%22fillOpacity%22%3A%200.6%2C%20%22opacity%22%3A%201%2C%20%22weight%22%3A%201%7D%3B%0A%20%20%20%20%20%20%20%20%20%20%20%20%20%20%20%20case%20%22%5Cuc6a9%5Cuc0b0%5Cuad6c%22%3A%20case%20%22%5Cuc911%5Cuad6c%22%3A%20%0A%20%20%20%20%20%20%20%20%20%20%20%20%20%20%20%20%20%20%20%20return%20%7B%22color%22%3A%20%22black%22%2C%20%22fillColor%22%3A%20%22%23980043%22%2C%20%22fillOpacity%22%3A%200.6%2C%20%22opacity%22%3A%201%2C%20%22weight%22%3A%201%7D%3B%0A%20%20%20%20%20%20%20%20%20%20%20%20%20%20%20%20case%20%22%5Cuc885%5Cub85c%5Cuad6c%22%3A%20%0A%20%20%20%20%20%20%20%20%20%20%20%20%20%20%20%20%20%20%20%20return%20%7B%22color%22%3A%20%22black%22%2C%20%22fillColor%22%3A%20%22%23dd1c77%22%2C%20%22fillOpacity%22%3A%200.6%2C%20%22opacity%22%3A%201%2C%20%22weight%22%3A%201%7D%3B%0A%20%20%20%20%20%20%20%20%20%20%20%20%20%20%20%20default%3A%0A%20%20%20%20%20%20%20%20%20%20%20%20%20%20%20%20%20%20%20%20return%20%7B%22color%22%3A%20%22black%22%2C%20%22fillColor%22%3A%20%22%23f1eef6%22%2C%20%22fillOpacity%22%3A%200.6%2C%20%22opacity%22%3A%201%2C%20%22weight%22%3A%201%7D%3B%0A%20%20%20%20%20%20%20%20%20%20%20%20%7D%0A%20%20%20%20%20%20%20%20%7D%0A%20%20%20%20%20%20%20%20function%20geo_json_a3361cc4a715494fb5ad569376bda3f2_onEachFeature%28feature%2C%20layer%29%20%7B%0A%20%20%20%20%20%20%20%20%20%20%20%20layer.on%28%7B%0A%20%20%20%20%20%20%20%20%20%20%20%20%20%20%20%20click%3A%20function%28e%29%20%7B%0A%20%20%20%20%20%20%20%20%20%20%20%20%20%20%20%20%20%20%20%20map_7741f1c5558644c18d5b0bd8cc85b2e1.fitBounds%28e.target.getBounds%28%29%29%3B%0A%20%20%20%20%20%20%20%20%20%20%20%20%20%20%20%20%7D%0A%20%20%20%20%20%20%20%20%20%20%20%20%7D%29%3B%0A%20%20%20%20%20%20%20%20%7D%3B%0A%20%20%20%20%20%20%20%20var%20geo_json_a3361cc4a715494fb5ad569376bda3f2%20%3D%20L.geoJson%28null%2C%20%7B%0A%20%20%20%20%20%20%20%20%20%20%20%20%20%20%20%20onEachFeature%3A%20geo_json_a3361cc4a715494fb5ad569376bda3f2_onEachFeature%2C%0A%20%20%20%20%20%20%20%20%20%20%20%20%0A%20%20%20%20%20%20%20%20%20%20%20%20%20%20%20%20style%3A%20geo_json_a3361cc4a715494fb5ad569376bda3f2_styler%2C%0A%20%20%20%20%20%20%20%20%7D%29.addTo%28choropleth_761acc02db7349ccb9790c063e766448%29%3B%0A%0A%20%20%20%20%20%20%20%20function%20geo_json_a3361cc4a715494fb5ad569376bda3f2_add%20%28data%29%20%7B%0A%20%20%20%20%20%20%20%20%20%20%20%20geo_json_a3361cc4a715494fb5ad569376bda3f2.addData%28data%29%3B%0A%20%20%20%20%20%20%20%20%7D%0A%20%20%20%20%20%20%20%20%20%20%20%20geo_json_a3361cc4a715494fb5ad569376bda3f2_add%28%7B%22features%22%3A%20%5B%7B%22geometry%22%3A%20%7B%22coordinates%22%3A%20%5B%5B%5B127.11519584981606%2C%2037.557533180704915%5D%2C%20%5B127.16683184366129%2C%2037.57672487388627%5D%2C%20%5B127.18408792330152%2C%2037.55814280369575%5D%2C%20%5B127.16530984307447%2C%2037.54221851258693%5D%2C%20%5B127.14672806823502%2C%2037.51415680680291%5D%2C%20%5B127.12123165719615%2C%2037.52528270089%5D%2C%20%5B127.1116764203608%2C%2037.540669955324965%5D%2C%20%5B127.11519584981606%2C%2037.557533180704915%5D%5D%5D%2C%20%22type%22%3A%20%22Polygon%22%7D%2C%20%22id%22%3A%20%22%5Cuac15%5Cub3d9%5Cuad6c%22%2C%20%22properties%22%3A%20%7B%22base_year%22%3A%20%222013%22%2C%20%22code%22%3A%20%2211250%22%2C%20%22name%22%3A%20%22%5Cuac15%5Cub3d9%5Cuad6c%22%2C%20%22name_eng%22%3A%20%22Gangdong-gu%22%7D%2C%20%22type%22%3A%20%22Feature%22%7D%2C%20%7B%22geometry%22%3A%20%7B%22coordinates%22%3A%20%5B%5B%5B127.0690698130372%2C%2037.522279423505026%5D%2C%20%5B127.10087519791962%2C%2037.524841220167055%5D%2C%20%5B127.1116764203608%2C%2037.540669955324965%5D%2C%20%5B127.12123165719615%2C%2037.52528270089%5D%2C%20%5B127.14672806823502%2C%2037.51415680680291%5D%2C%20%5B127.1634944215765%2C%2037.497445406097484%5D%2C%20%5B127.14206058413274%2C%2037.47089819098501%5D%2C%20%5B127.12440571080893%2C%2037.46240445587048%5D%2C%20%5B127.11117085201238%2C%2037.485708381512445%5D%2C%20%5B127.0719146000724%2C%2037.50224013587669%5D%2C%20%5B127.0690698130372%2C%2037.522279423505026%5D%5D%5D%2C%20%22type%22%3A%20%22Polygon%22%7D%2C%20%22id%22%3A%20%22%5Cuc1a1%5Cud30c%5Cuad6c%22%2C%20%22properties%22%3A%20%7B%22base_year%22%3A%20%222013%22%2C%20%22code%22%3A%20%2211240%22%2C%20%22name%22%3A%20%22%5Cuc1a1%5Cud30c%5Cuad6c%22%2C%20%22name_eng%22%3A%20%22Songpa-gu%22%7D%2C%20%22type%22%3A%20%22Feature%22%7D%2C%20%7B%22geometry%22%3A%20%7B%22coordinates%22%3A%20%5B%5B%5B127.05867359288398%2C%2037.52629974922568%5D%2C%20%5B127.0690698130372%2C%2037.522279423505026%5D%2C%20%5B127.0719146000724%2C%2037.50224013587669%5D%2C%20%5B127.11117085201238%2C%2037.485708381512445%5D%2C%20%5B127.12440571080893%2C%2037.46240445587048%5D%2C%20%5B127.09842759318751%2C%2037.45862253857461%5D%2C%20%5B127.08640440578156%2C%2037.472697935184655%5D%2C%20%5B127.0559170481904%2C%2037.4659228914077%5D%2C%20%5B127.03621915098798%2C%2037.48175802427603%5D%2C%20%5B127.01397119667513%2C%2037.52503988289669%5D%2C%20%5B127.02302831890559%2C%2037.53231899582663%5D%2C%20%5B127.05867359288398%2C%2037.52629974922568%5D%5D%5D%2C%20%22type%22%3A%20%22Polygon%22%7D%2C%20%22id%22%3A%20%22%5Cuac15%5Cub0a8%5Cuad6c%22%2C%20%22properties%22%3A%20%7B%22base_year%22%3A%20%222013%22%2C%20%22code%22%3A%20%2211230%22%2C%20%22name%22%3A%20%22%5Cuac15%5Cub0a8%5Cuad6c%22%2C%20%22name_eng%22%3A%20%22Gangnam-gu%22%7D%2C%20%22type%22%3A%20%22Feature%22%7D%2C%20%7B%22geometry%22%3A%20%7B%22coordinates%22%3A%20%5B%5B%5B127.01397119667513%2C%2037.52503988289669%5D%2C%20%5B127.03621915098798%2C%2037.48175802427603%5D%2C%20%5B127.0559170481904%2C%2037.4659228914077%5D%2C%20%5B127.08640440578156%2C%2037.472697935184655%5D%2C%20%5B127.09842759318751%2C%2037.45862253857461%5D%2C%20%5B127.09046928565951%2C%2037.44296826114185%5D%2C%20%5B127.06778107605433%2C%2037.426197424057314%5D%2C%20%5B127.04957232987142%2C%2037.42805836845694%5D%2C%20%5B127.03881782597922%2C%2037.45382039851715%5D%2C%20%5B126.99072073195462%2C%2037.455326143310025%5D%2C%20%5B126.98367668291802%2C%2037.473856492692086%5D%2C%20%5B126.98223807916081%2C%2037.509314966770326%5D%2C%20%5B127.01397119667513%2C%2037.52503988289669%5D%5D%5D%2C%20%22type%22%3A%20%22Polygon%22%7D%2C%20%22id%22%3A%20%22%5Cuc11c%5Cucd08%5Cuad6c%22%2C%20%22properties%22%3A%20%7B%22base_year%22%3A%20%222013%22%2C%20%22code%22%3A%20%2211220%22%2C%20%22name%22%3A%20%22%5Cuc11c%5Cucd08%5Cuad6c%22%2C%20%22name_eng%22%3A%20%22Seocho-gu%22%7D%2C%20%22type%22%3A%20%22Feature%22%7D%2C%20%7B%22geometry%22%3A%20%7B%22coordinates%22%3A%20%5B%5B%5B126.98367668291802%2C%2037.473856492692086%5D%2C%20%5B126.99072073195462%2C%2037.455326143310025%5D%2C%20%5B126.96520439085143%2C%2037.438249784006246%5D%2C%20%5B126.95000001010182%2C%2037.43613451165719%5D%2C%20%5B126.93084408056525%2C%2037.447382928333994%5D%2C%20%5B126.9167728146601%2C%2037.45490566423789%5D%2C%20%5B126.90156094129895%2C%2037.47753842789901%5D%2C%20%5B126.90531975801812%2C%2037.48218087575429%5D%2C%20%5B126.94922661389508%2C%2037.49125437495649%5D%2C%20%5B126.9725891850662%2C%2037.472561363278125%5D%2C%20%5B126.98367668291802%2C%2037.473856492692086%5D%5D%5D%2C%20%22type%22%3A%20%22Polygon%22%7D%2C%20%22id%22%3A%20%22%5Cuad00%5Cuc545%5Cuad6c%22%2C%20%22properties%22%3A%20%7B%22base_year%22%3A%20%222013%22%2C%20%22code%22%3A%20%2211210%22%2C%20%22name%22%3A%20%22%5Cuad00%5Cuc545%5Cuad6c%22%2C%20%22name_eng%22%3A%20%22Gwanak-gu%22%7D%2C%20%22type%22%3A%20%22Feature%22%7D%2C%20%7B%22geometry%22%3A%20%7B%22coordinates%22%3A%20%5B%5B%5B126.98223807916081%2C%2037.509314966770326%5D%2C%20%5B126.98367668291802%2C%2037.473856492692086%5D%2C%20%5B126.9725891850662%2C%2037.472561363278125%5D%2C%20%5B126.94922661389508%2C%2037.49125437495649%5D%2C%20%5B126.90531975801812%2C%2037.48218087575429%5D%2C%20%5B126.92177893174825%2C%2037.494889877415176%5D%2C%20%5B126.92810628828279%2C%2037.51329595732015%5D%2C%20%5B126.95249990298159%2C%2037.51722500741813%5D%2C%20%5B126.98223807916081%2C%2037.509314966770326%5D%5D%5D%2C%20%22type%22%3A%20%22Polygon%22%7D%2C%20%22id%22%3A%20%22%5Cub3d9%5Cuc791%5Cuad6c%22%2C%20%22properties%22%3A%20%7B%22base_year%22%3A%20%222013%22%2C%20%22code%22%3A%20%2211200%22%2C%20%22name%22%3A%20%22%5Cub3d9%5Cuc791%5Cuad6c%22%2C%20%22name_eng%22%3A%20%22Dongjak-gu%22%7D%2C%20%22type%22%3A%20%22Feature%22%7D%2C%20%7B%22geometry%22%3A%20%7B%22coordinates%22%3A%20%5B%5B%5B126.89184663862764%2C%2037.547373974997114%5D%2C%20%5B126.94566733083212%2C%2037.526617542453366%5D%2C%20%5B126.95249990298159%2C%2037.51722500741813%5D%2C%20%5B126.92810628828279%2C%2037.51329595732015%5D%2C%20%5B126.92177893174825%2C%2037.494889877415176%5D%2C%20%5B126.90531975801812%2C%2037.48218087575429%5D%2C%20%5B126.89594776782485%2C%2037.504675281309176%5D%2C%20%5B126.88156402353862%2C%2037.513970034765684%5D%2C%20%5B126.88825757860099%2C%2037.54079733630232%5D%2C%20%5B126.89184663862764%2C%2037.547373974997114%5D%5D%5D%2C%20%22type%22%3A%20%22Polygon%22%7D%2C%20%22id%22%3A%20%22%5Cuc601%5Cub4f1%5Cud3ec%5Cuad6c%22%2C%20%22properties%22%3A%20%7B%22base_year%22%3A%20%222013%22%2C%20%22code%22%3A%20%2211190%22%2C%20%22name%22%3A%20%22%5Cuc601%5Cub4f1%5Cud3ec%5Cuad6c%22%2C%20%22name_eng%22%3A%20%22Yeongdeungpo-gu%22%7D%2C%20%22type%22%3A%20%22Feature%22%7D%2C%20%7B%22geometry%22%3A%20%7B%22coordinates%22%3A%20%5B%5B%5B126.90156094129895%2C%2037.47753842789901%5D%2C%20%5B126.9167728146601%2C%2037.45490566423789%5D%2C%20%5B126.93084408056525%2C%2037.447382928333994%5D%2C%20%5B126.9025831711697%2C%2037.434549366349124%5D%2C%20%5B126.87683271502428%2C%2037.482576591607305%5D%2C%20%5B126.90156094129895%2C%2037.47753842789901%5D%5D%5D%2C%20%22type%22%3A%20%22Polygon%22%7D%2C%20%22id%22%3A%20%22%5Cuae08%5Cucc9c%5Cuad6c%22%2C%20%22properties%22%3A%20%7B%22base_year%22%3A%20%222013%22%2C%20%22code%22%3A%20%2211180%22%2C%20%22name%22%3A%20%22%5Cuae08%5Cucc9c%5Cuad6c%22%2C%20%22name_eng%22%3A%20%22Geumcheon-gu%22%7D%2C%20%22type%22%3A%20%22Feature%22%7D%2C%20%7B%22geometry%22%3A%20%7B%22coordinates%22%3A%20%5B%5B%5B126.82688081517314%2C%2037.50548972232896%5D%2C%20%5B126.88156402353862%2C%2037.513970034765684%5D%2C%20%5B126.89594776782485%2C%2037.504675281309176%5D%2C%20%5B126.90531975801812%2C%2037.48218087575429%5D%2C%20%5B126.90156094129895%2C%2037.47753842789901%5D%2C%20%5B126.87683271502428%2C%2037.482576591607305%5D%2C%20%5B126.84762676054953%2C%2037.47146723936323%5D%2C%20%5B126.83549485076196%2C%2037.474098236975095%5D%2C%20%5B126.82264796791348%2C%2037.4878476492147%5D%2C%20%5B126.82504736331406%2C%2037.50302612640443%5D%2C%20%5B126.82688081517314%2C%2037.50548972232896%5D%5D%5D%2C%20%22type%22%3A%20%22Polygon%22%7D%2C%20%22id%22%3A%20%22%5Cuad6c%5Cub85c%5Cuad6c%22%2C%20%22properties%22%3A%20%7B%22base_year%22%3A%20%222013%22%2C%20%22code%22%3A%20%2211170%22%2C%20%22name%22%3A%20%22%5Cuad6c%5Cub85c%5Cuad6c%22%2C%20%22name_eng%22%3A%20%22Guro-gu%22%7D%2C%20%22type%22%3A%20%22Feature%22%7D%2C%20%7B%22geometry%22%3A%20%7B%22coordinates%22%3A%20%5B%5B%5B126.79575768552907%2C%2037.57881087633202%5D%2C%20%5B126.80702115023597%2C%2037.60123001013228%5D%2C%20%5B126.82251438477105%2C%2037.5880430810082%5D%2C%20%5B126.85984199399667%2C%2037.571847855292745%5D%2C%20%5B126.89184663862764%2C%2037.547373974997114%5D%2C%20%5B126.88825757860099%2C%2037.54079733630232%5D%2C%20%5B126.86637464321238%2C%2037.54859191094823%5D%2C%20%5B126.86610073476395%2C%2037.52699964144669%5D%2C%20%5B126.84257291943153%2C%2037.52373707805596%5D%2C%20%5B126.8242331426722%2C%2037.53788078753248%5D%2C%20%5B126.77324417717703%2C%2037.5459123450554%5D%2C%20%5B126.76979180579352%2C%2037.55139183008809%5D%2C%20%5B126.79575768552907%2C%2037.57881087633202%5D%5D%5D%2C%20%22type%22%3A%20%22Polygon%22%7D%2C%20%22id%22%3A%20%22%5Cuac15%5Cuc11c%5Cuad6c%22%2C%20%22properties%22%3A%20%7B%22base_year%22%3A%20%222013%22%2C%20%22code%22%3A%20%2211160%22%2C%20%22name%22%3A%20%22%5Cuac15%5Cuc11c%5Cuad6c%22%2C%20%22name_eng%22%3A%20%22Gangseo-gu%22%7D%2C%20%22type%22%3A%20%22Feature%22%7D%2C%20%7B%22geometry%22%3A%20%7B%22coordinates%22%3A%20%5B%5B%5B126.8242331426722%2C%2037.53788078753248%5D%2C%20%5B126.84257291943153%2C%2037.52373707805596%5D%2C%20%5B126.86610073476395%2C%2037.52699964144669%5D%2C%20%5B126.86637464321238%2C%2037.54859191094823%5D%2C%20%5B126.88825757860099%2C%2037.54079733630232%5D%2C%20%5B126.88156402353862%2C%2037.513970034765684%5D%2C%20%5B126.82688081517314%2C%2037.50548972232896%5D%2C%20%5B126.8242331426722%2C%2037.53788078753248%5D%5D%5D%2C%20%22type%22%3A%20%22Polygon%22%7D%2C%20%22id%22%3A%20%22%5Cuc591%5Cucc9c%5Cuad6c%22%2C%20%22properties%22%3A%20%7B%22base_year%22%3A%20%222013%22%2C%20%22code%22%3A%20%2211150%22%2C%20%22name%22%3A%20%22%5Cuc591%5Cucc9c%5Cuad6c%22%2C%20%22name_eng%22%3A%20%22Yangcheon-gu%22%7D%2C%20%22type%22%3A%20%22Feature%22%7D%2C%20%7B%22geometry%22%3A%20%7B%22coordinates%22%3A%20%5B%5B%5B126.90522065831053%2C%2037.57409700522574%5D%2C%20%5B126.93898161798973%2C%2037.552310003728124%5D%2C%20%5B126.96358226710812%2C%2037.55605635475154%5D%2C%20%5B126.96448570553055%2C%2037.548705692021635%5D%2C%20%5B126.94566733083212%2C%2037.526617542453366%5D%2C%20%5B126.89184663862764%2C%2037.547373974997114%5D%2C%20%5B126.85984199399667%2C%2037.571847855292745%5D%2C%20%5B126.88433284773288%2C%2037.588143322880526%5D%2C%20%5B126.90522065831053%2C%2037.57409700522574%5D%5D%5D%2C%20%22type%22%3A%20%22Polygon%22%7D%2C%20%22id%22%3A%20%22%5Cub9c8%5Cud3ec%5Cuad6c%22%2C%20%22properties%22%3A%20%7B%22base_year%22%3A%20%222013%22%2C%20%22code%22%3A%20%2211140%22%2C%20%22name%22%3A%20%22%5Cub9c8%5Cud3ec%5Cuad6c%22%2C%20%22name_eng%22%3A%20%22Mapo-gu%22%7D%2C%20%22type%22%3A%20%22Feature%22%7D%2C%20%7B%22geometry%22%3A%20%7B%22coordinates%22%3A%20%5B%5B%5B126.9524752030572%2C%2037.60508692737045%5D%2C%20%5B126.95565425846463%2C%2037.576080790881456%5D%2C%20%5B126.96873633279075%2C%2037.56313604690827%5D%2C%20%5B126.96358226710812%2C%2037.55605635475154%5D%2C%20%5B126.93898161798973%2C%2037.552310003728124%5D%2C%20%5B126.90522065831053%2C%2037.57409700522574%5D%2C%20%5B126.9524752030572%2C%2037.60508692737045%5D%5D%5D%2C%20%22type%22%3A%20%22Polygon%22%7D%2C%20%22id%22%3A%20%22%5Cuc11c%5Cub300%5Cubb38%5Cuad6c%22%2C%20%22properties%22%3A%20%7B%22base_year%22%3A%20%222013%22%2C%20%22code%22%3A%20%2211130%22%2C%20%22name%22%3A%20%22%5Cuc11c%5Cub300%5Cubb38%5Cuad6c%22%2C%20%22name_eng%22%3A%20%22Seodaemun-gu%22%7D%2C%20%22type%22%3A%20%22Feature%22%7D%2C%20%7B%22geometry%22%3A%20%7B%22coordinates%22%3A%20%5B%5B%5B126.9738864128702%2C%2037.62949634786888%5D%2C%20%5B126.95427017006129%2C%2037.622033431339425%5D%2C%20%5B126.9524752030572%2C%2037.60508692737045%5D%2C%20%5B126.90522065831053%2C%2037.57409700522574%5D%2C%20%5B126.88433284773288%2C%2037.588143322880526%5D%2C%20%5B126.90396681003595%2C%2037.59227403419942%5D%2C%20%5B126.90303066177668%2C%2037.609977911401344%5D%2C%20%5B126.91455481429648%2C%2037.64150050996935%5D%2C%20%5B126.956473797387%2C%2037.652480737339445%5D%2C%20%5B126.9738864128702%2C%2037.62949634786888%5D%5D%5D%2C%20%22type%22%3A%20%22Polygon%22%7D%2C%20%22id%22%3A%20%22%5Cuc740%5Cud3c9%5Cuad6c%22%2C%20%22properties%22%3A%20%7B%22base_year%22%3A%20%222013%22%2C%20%22code%22%3A%20%2211120%22%2C%20%22name%22%3A%20%22%5Cuc740%5Cud3c9%5Cuad6c%22%2C%20%22name_eng%22%3A%20%22Eunpyeong-gu%22%7D%2C%20%22type%22%3A%20%22Feature%22%7D%2C%20%7B%22geometry%22%3A%20%7B%22coordinates%22%3A%20%5B%5B%5B127.0838752703195%2C%2037.69359534202034%5D%2C%20%5B127.09706391309695%2C%2037.686383719372294%5D%2C%20%5B127.09440766298717%2C%2037.64713490473045%5D%2C%20%5B127.11326795855199%2C%2037.639622905315925%5D%2C%20%5B127.10782277688129%2C%2037.61804244241069%5D%2C%20%5B127.07351243825278%2C%2037.61283660342313%5D%2C%20%5B127.05209373568619%2C%2037.62164065487782%5D%2C%20%5B127.04358800895609%2C%2037.62848931298715%5D%2C%20%5B127.05800075220091%2C%2037.64318263878276%5D%2C%20%5B127.05288479710485%2C%2037.68423857084347%5D%2C%20%5B127.0838752703195%2C%2037.69359534202034%5D%5D%5D%2C%20%22type%22%3A%20%22Polygon%22%7D%2C%20%22id%22%3A%20%22%5Cub178%5Cuc6d0%5Cuad6c%22%2C%20%22properties%22%3A%20%7B%22base_year%22%3A%20%222013%22%2C%20%22code%22%3A%20%2211110%22%2C%20%22name%22%3A%20%22%5Cub178%5Cuc6d0%5Cuad6c%22%2C%20%22name_eng%22%3A%20%22Nowon-gu%22%7D%2C%20%22type%22%3A%20%22Feature%22%7D%2C%20%7B%22geometry%22%3A%20%7B%22coordinates%22%3A%20%5B%5B%5B127.05288479710485%2C%2037.68423857084347%5D%2C%20%5B127.05800075220091%2C%2037.64318263878276%5D%2C%20%5B127.04358800895609%2C%2037.62848931298715%5D%2C%20%5B127.01465935892466%2C%2037.64943687496812%5D%2C%20%5B127.02062116141389%2C%2037.667173575971205%5D%2C%20%5B127.01039666042071%2C%2037.681894589603594%5D%2C%20%5B127.01795099203432%2C%2037.69824412775662%5D%2C%20%5B127.05288479710485%2C%2037.68423857084347%5D%5D%5D%2C%20%22type%22%3A%20%22Polygon%22%7D%2C%20%22id%22%3A%20%22%5Cub3c4%5Cubd09%5Cuad6c%22%2C%20%22properties%22%3A%20%7B%22base_year%22%3A%20%222013%22%2C%20%22code%22%3A%20%2211100%22%2C%20%22name%22%3A%20%22%5Cub3c4%5Cubd09%5Cuad6c%22%2C%20%22name_eng%22%3A%20%22Dobong-gu%22%7D%2C%20%22type%22%3A%20%22Feature%22%7D%2C%20%7B%22geometry%22%3A%20%7B%22coordinates%22%3A%20%5B%5B%5B126.99383903424%2C%2037.676681761199085%5D%2C%20%5B127.01039666042071%2C%2037.681894589603594%5D%2C%20%5B127.02062116141389%2C%2037.667173575971205%5D%2C%20%5B127.01465935892466%2C%2037.64943687496812%5D%2C%20%5B127.04358800895609%2C%2037.62848931298715%5D%2C%20%5B127.05209373568619%2C%2037.62164065487782%5D%2C%20%5B127.03892400992301%2C%2037.609715611023816%5D%2C%20%5B127.0128154749523%2C%2037.613652243470256%5D%2C%20%5B126.98672705513869%2C%2037.63377641288196%5D%2C%20%5B126.9817452676551%2C%2037.65209769387776%5D%2C%20%5B126.99383903424%2C%2037.676681761199085%5D%5D%5D%2C%20%22type%22%3A%20%22Polygon%22%7D%2C%20%22id%22%3A%20%22%5Cuac15%5Cubd81%5Cuad6c%22%2C%20%22properties%22%3A%20%7B%22base_year%22%3A%20%222013%22%2C%20%22code%22%3A%20%2211090%22%2C%20%22name%22%3A%20%22%5Cuac15%5Cubd81%5Cuad6c%22%2C%20%22name_eng%22%3A%20%22Gangbuk-gu%22%7D%2C%20%22type%22%3A%20%22Feature%22%7D%2C%20%7B%22geometry%22%3A%20%7B%22coordinates%22%3A%20%5B%5B%5B126.977175406416%2C%2037.62859715400388%5D%2C%20%5B126.98672705513869%2C%2037.63377641288196%5D%2C%20%5B127.0128154749523%2C%2037.613652243470256%5D%2C%20%5B127.03892400992301%2C%2037.609715611023816%5D%2C%20%5B127.05209373568619%2C%2037.62164065487782%5D%2C%20%5B127.07351243825278%2C%2037.61283660342313%5D%2C%20%5B127.07382707099227%2C%2037.60401928986419%5D%2C%20%5B127.042705222094%2C%2037.59239437593391%5D%2C%20%5B127.02527254528003%2C%2037.57524616245249%5D%2C%20%5B126.99348293358314%2C%2037.588565457216156%5D%2C%20%5B126.98879865992384%2C%2037.6118927319756%5D%2C%20%5B126.977175406416%2C%2037.62859715400388%5D%5D%5D%2C%20%22type%22%3A%20%22Polygon%22%7D%2C%20%22id%22%3A%20%22%5Cuc131%5Cubd81%5Cuad6c%22%2C%20%22properties%22%3A%20%7B%22base_year%22%3A%20%222013%22%2C%20%22code%22%3A%20%2211080%22%2C%20%22name%22%3A%20%22%5Cuc131%5Cubd81%5Cuad6c%22%2C%20%22name_eng%22%3A%20%22Seongbuk-gu%22%7D%2C%20%22type%22%3A%20%22Feature%22%7D%2C%20%7B%22geometry%22%3A%20%7B%22coordinates%22%3A%20%5B%5B%5B127.07351243825278%2C%2037.61283660342313%5D%2C%20%5B127.10782277688129%2C%2037.61804244241069%5D%2C%20%5B127.1201246020114%2C%2037.60178457598188%5D%2C%20%5B127.10304174249214%2C%2037.57076342290955%5D%2C%20%5B127.08068541280403%2C%2037.56906425519017%5D%2C%20%5B127.07382707099227%2C%2037.60401928986419%5D%2C%20%5B127.07351243825278%2C%2037.61283660342313%5D%5D%5D%2C%20%22type%22%3A%20%22Polygon%22%7D%2C%20%22id%22%3A%20%22%5Cuc911%5Cub791%5Cuad6c%22%2C%20%22properties%22%3A%20%7B%22base_year%22%3A%20%222013%22%2C%20%22code%22%3A%20%2211070%22%2C%20%22name%22%3A%20%22%5Cuc911%5Cub791%5Cuad6c%22%2C%20%22name_eng%22%3A%20%22Jungnang-gu%22%7D%2C%20%22type%22%3A%20%22Feature%22%7D%2C%20%7B%22geometry%22%3A%20%7B%22coordinates%22%3A%20%5B%5B%5B127.02527254528003%2C%2037.57524616245249%5D%2C%20%5B127.042705222094%2C%2037.59239437593391%5D%2C%20%5B127.07382707099227%2C%2037.60401928986419%5D%2C%20%5B127.08068541280403%2C%2037.56906425519017%5D%2C%20%5B127.07421053024362%2C%2037.55724769712085%5D%2C%20%5B127.05005601081567%2C%2037.567577612590846%5D%2C%20%5B127.02547266349976%2C%2037.568943552237734%5D%2C%20%5B127.02527254528003%2C%2037.57524616245249%5D%5D%5D%2C%20%22type%22%3A%20%22Polygon%22%7D%2C%20%22id%22%3A%20%22%5Cub3d9%5Cub300%5Cubb38%5Cuad6c%22%2C%20%22properties%22%3A%20%7B%22base_year%22%3A%20%222013%22%2C%20%22code%22%3A%20%2211060%22%2C%20%22name%22%3A%20%22%5Cub3d9%5Cub300%5Cubb38%5Cuad6c%22%2C%20%22name_eng%22%3A%20%22Dongdaemun-gu%22%7D%2C%20%22type%22%3A%20%22Feature%22%7D%2C%20%7B%22geometry%22%3A%20%7B%22coordinates%22%3A%20%5B%5B%5B127.08068541280403%2C%2037.56906425519017%5D%2C%20%5B127.10304174249214%2C%2037.57076342290955%5D%2C%20%5B127.11519584981606%2C%2037.557533180704915%5D%2C%20%5B127.1116764203608%2C%2037.540669955324965%5D%2C%20%5B127.10087519791962%2C%2037.524841220167055%5D%2C%20%5B127.0690698130372%2C%2037.522279423505026%5D%2C%20%5B127.05867359288398%2C%2037.52629974922568%5D%2C%20%5B127.07421053024362%2C%2037.55724769712085%5D%2C%20%5B127.08068541280403%2C%2037.56906425519017%5D%5D%5D%2C%20%22type%22%3A%20%22Polygon%22%7D%2C%20%22id%22%3A%20%22%5Cuad11%5Cuc9c4%5Cuad6c%22%2C%20%22properties%22%3A%20%7B%22base_year%22%3A%20%222013%22%2C%20%22code%22%3A%20%2211050%22%2C%20%22name%22%3A%20%22%5Cuad11%5Cuc9c4%5Cuad6c%22%2C%20%22name_eng%22%3A%20%22Gwangjin-gu%22%7D%2C%20%22type%22%3A%20%22Feature%22%7D%2C%20%7B%22geometry%22%3A%20%7B%22coordinates%22%3A%20%5B%5B%5B127.02547266349976%2C%2037.568943552237734%5D%2C%20%5B127.05005601081567%2C%2037.567577612590846%5D%2C%20%5B127.07421053024362%2C%2037.55724769712085%5D%2C%20%5B127.05867359288398%2C%2037.52629974922568%5D%2C%20%5B127.02302831890559%2C%2037.53231899582663%5D%2C%20%5B127.01070894177482%2C%2037.54118048964762%5D%2C%20%5B127.02547266349976%2C%2037.568943552237734%5D%5D%5D%2C%20%22type%22%3A%20%22Polygon%22%7D%2C%20%22id%22%3A%20%22%5Cuc131%5Cub3d9%5Cuad6c%22%2C%20%22properties%22%3A%20%7B%22base_year%22%3A%20%222013%22%2C%20%22code%22%3A%20%2211040%22%2C%20%22name%22%3A%20%22%5Cuc131%5Cub3d9%5Cuad6c%22%2C%20%22name_eng%22%3A%20%22Seongdong-gu%22%7D%2C%20%22type%22%3A%20%22Feature%22%7D%2C%20%7B%22geometry%22%3A%20%7B%22coordinates%22%3A%20%5B%5B%5B127.01070894177482%2C%2037.54118048964762%5D%2C%20%5B127.02302831890559%2C%2037.53231899582663%5D%2C%20%5B127.01397119667513%2C%2037.52503988289669%5D%2C%20%5B126.98223807916081%2C%2037.509314966770326%5D%2C%20%5B126.95249990298159%2C%2037.51722500741813%5D%2C%20%5B126.94566733083212%2C%2037.526617542453366%5D%2C%20%5B126.96448570553055%2C%2037.548705692021635%5D%2C%20%5B126.98752996903328%2C%2037.55094818807139%5D%2C%20%5B127.01070894177482%2C%2037.54118048964762%5D%5D%5D%2C%20%22type%22%3A%20%22Polygon%22%7D%2C%20%22id%22%3A%20%22%5Cuc6a9%5Cuc0b0%5Cuad6c%22%2C%20%22properties%22%3A%20%7B%22base_year%22%3A%20%222013%22%2C%20%22code%22%3A%20%2211030%22%2C%20%22name%22%3A%20%22%5Cuc6a9%5Cuc0b0%5Cuad6c%22%2C%20%22name_eng%22%3A%20%22Yongsan-gu%22%7D%2C%20%22type%22%3A%20%22Feature%22%7D%2C%20%7B%22geometry%22%3A%20%7B%22coordinates%22%3A%20%5B%5B%5B127.02547266349976%2C%2037.568943552237734%5D%2C%20%5B127.01070894177482%2C%2037.54118048964762%5D%2C%20%5B126.98752996903328%2C%2037.55094818807139%5D%2C%20%5B126.96448570553055%2C%2037.548705692021635%5D%2C%20%5B126.96358226710812%2C%2037.55605635475154%5D%2C%20%5B126.96873633279075%2C%2037.56313604690827%5D%2C%20%5B127.02547266349976%2C%2037.568943552237734%5D%5D%5D%2C%20%22type%22%3A%20%22Polygon%22%7D%2C%20%22id%22%3A%20%22%5Cuc911%5Cuad6c%22%2C%20%22properties%22%3A%20%7B%22base_year%22%3A%20%222013%22%2C%20%22code%22%3A%20%2211020%22%2C%20%22name%22%3A%20%22%5Cuc911%5Cuad6c%22%2C%20%22name_eng%22%3A%20%22Jung-gu%22%7D%2C%20%22type%22%3A%20%22Feature%22%7D%2C%20%7B%22geometry%22%3A%20%7B%22coordinates%22%3A%20%5B%5B%5B126.9738864128702%2C%2037.62949634786888%5D%2C%20%5B126.977175406416%2C%2037.62859715400388%5D%2C%20%5B126.98879865992384%2C%2037.6118927319756%5D%2C%20%5B126.99348293358314%2C%2037.588565457216156%5D%2C%20%5B127.02527254528003%2C%2037.57524616245249%5D%2C%20%5B127.02547266349976%2C%2037.568943552237734%5D%2C%20%5B126.96873633279075%2C%2037.56313604690827%5D%2C%20%5B126.95565425846463%2C%2037.576080790881456%5D%2C%20%5B126.9524752030572%2C%2037.60508692737045%5D%2C%20%5B126.95427017006129%2C%2037.622033431339425%5D%2C%20%5B126.9738864128702%2C%2037.62949634786888%5D%5D%5D%2C%20%22type%22%3A%20%22Polygon%22%7D%2C%20%22id%22%3A%20%22%5Cuc885%5Cub85c%5Cuad6c%22%2C%20%22properties%22%3A%20%7B%22base_year%22%3A%20%222013%22%2C%20%22code%22%3A%20%2211010%22%2C%20%22name%22%3A%20%22%5Cuc885%5Cub85c%5Cuad6c%22%2C%20%22name_eng%22%3A%20%22Jongno-gu%22%7D%2C%20%22type%22%3A%20%22Feature%22%7D%5D%2C%20%22type%22%3A%20%22FeatureCollection%22%7D%29%3B%0A%20%20%20%20%20%20%20%20%0A%20%20%20%20%0A%20%20%20%20var%20color_map_f3f10f737eee44c5abd276290982f499%20%3D%20%7B%7D%3B%0A%0A%20%20%20%20%0A%20%20%20%20color_map_f3f10f737eee44c5abd276290982f499.color%20%3D%20d3.scale.threshold%28%29%0A%20%20%20%20%20%20%20%20%20%20%20%20%20%20.domain%28%5B1277.909090909091%2C%201279.0387320094735%2C%201280.1683731098562%2C%201281.2980142102388%2C%201282.4276553106213%2C%201283.557296411004%2C%201284.6869375113865%2C%201285.816578611769%2C%201286.9462197121516%2C%201288.0758608125343%2C%201289.2055019129168%2C%201290.3351430132993%2C%201291.464784113682%2C%201292.5944252140646%2C%201293.724066314447%2C%201294.8537074148298%2C%201295.9833485152124%2C%201297.1129896155949%2C%201298.2426307159774%2C%201299.3722718163601%2C%201300.5019129167426%2C%201301.6315540171252%2C%201302.761195117508%2C%201303.8908362178904%2C%201305.020477318273%2C%201306.1501184186557%2C%201307.2797595190382%2C%201308.4094006194207%2C%201309.5390417198032%2C%201310.668682820186%2C%201311.7983239205685%2C%201312.927965020951%2C%201314.0576061213337%2C%201315.1872472217162%2C%201316.3168883220987%2C%201317.4465294224815%2C%201318.576170522864%2C%201319.7058116232465%2C%201320.8354527236293%2C%201321.9650938240118%2C%201323.0947349243943%2C%201324.2243760247768%2C%201325.3540171251595%2C%201326.483658225542%2C%201327.6132993259246%2C%201328.7429404263073%2C%201329.8725815266898%2C%201331.0022226270723%2C%201332.131863727455%2C%201333.2615048278376%2C%201334.39114592822%2C%201335.5207870286026%2C%201336.6504281289854%2C%201337.7800692293679%2C%201338.9097103297504%2C%201340.0393514301331%2C%201341.1689925305157%2C%201342.2986336308982%2C%201343.428274731281%2C%201344.5579158316634%2C%201345.687556932046%2C%201346.8171980324287%2C%201347.9468391328112%2C%201349.0764802331937%2C%201350.2061213335762%2C%201351.335762433959%2C%201352.4654035343415%2C%201353.595044634724%2C%201354.7246857351067%2C%201355.8543268354892%2C%201356.9839679358718%2C%201358.1136090362543%2C%201359.243250136637%2C%201360.3728912370195%2C%201361.502532337402%2C%201362.6321734377848%2C%201363.7618145381673%2C%201364.8914556385498%2C%201366.0210967389326%2C%201367.150737839315%2C%201368.2803789396976%2C%201369.4100200400803%2C%201370.5396611404628%2C%201371.6693022408454%2C%201372.7989433412279%2C%201373.9285844416106%2C%201375.0582255419931%2C%201376.1878666423756%2C%201377.3175077427584%2C%201378.447148843141%2C%201379.5767899435234%2C%201380.7064310439062%2C%201381.8360721442887%2C%201382.9657132446712%2C%201384.0953543450537%2C%201385.2249954454364%2C%201386.354636545819%2C%201387.4842776462015%2C%201388.6139187465842%2C%201389.7435598469667%2C%201390.8732009473492%2C%201392.002842047732%2C%201393.1324831481145%2C%201394.262124248497%2C%201395.3917653488795%2C%201396.5214064492623%2C%201397.6510475496448%2C%201398.7806886500273%2C%201399.91032975041%2C%201401.0399708507925%2C%201402.169611951175%2C%201403.2992530515578%2C%201404.4288941519403%2C%201405.5585352523228%2C%201406.6881763527053%2C%201407.817817453088%2C%201408.9474585534706%2C%201410.077099653853%2C%201411.2067407542359%2C%201412.3363818546184%2C%201413.4660229550009%2C%201414.5956640553836%2C%201415.7253051557661%2C%201416.8549462561487%2C%201417.9845873565314%2C%201419.114228456914%2C%201420.2438695572964%2C%201421.3735106576792%2C%201422.5031517580617%2C%201423.6327928584442%2C%201424.7624339588267%2C%201425.8920750592094%2C%201427.021716159592%2C%201428.1513572599745%2C%201429.280998360357%2C%201430.4106394607397%2C%201431.5402805611222%2C%201432.6699216615048%2C%201433.7995627618875%2C%201434.92920386227%2C%201436.0588449626525%2C%201437.1884860630353%2C%201438.3181271634178%2C%201439.4477682638003%2C%201440.577409364183%2C%201441.7070504645656%2C%201442.836691564948%2C%201443.9663326653308%2C%201445.0959737657133%2C%201446.2256148660958%2C%201447.3552559664784%2C%201448.484897066861%2C%201449.6145381672436%2C%201450.7441792676261%2C%201451.8738203680089%2C%201453.0034614683914%2C%201454.133102568774%2C%201455.2627436691564%2C%201456.3923847695391%2C%201457.5220258699217%2C%201458.6516669703042%2C%201459.781308070687%2C%201460.9109491710694%2C%201462.040590271452%2C%201463.1702313718347%2C%201464.2998724722172%2C%201465.4295135725997%2C%201466.5591546729825%2C%201467.688795773365%2C%201468.8184368737475%2C%201469.94807797413%2C%201471.0777190745127%2C%201472.2073601748953%2C%201473.3370012752778%2C%201474.4666423756605%2C%201475.596283476043%2C%201476.7259245764255%2C%201477.8555656768083%2C%201478.9852067771908%2C%201480.1148478775733%2C%201481.2444889779558%2C%201482.3741300783386%2C%201483.503771178721%2C%201484.6334122791036%2C%201485.7630533794863%2C%201486.8926944798689%2C%201488.0223355802514%2C%201489.151976680634%2C%201490.2816177810166%2C%201491.4112588813991%2C%201492.5408999817819%2C%201493.6705410821644%2C%201494.800182182547%2C%201495.9298232829294%2C%201497.0594643833122%2C%201498.1891054836947%2C%201499.3187465840772%2C%201500.44838768446%2C%201501.5780287848424%2C%201502.707669885225%2C%201503.8373109856075%2C%201504.9669520859902%2C%201506.0965931863727%2C%201507.2262342867552%2C%201508.355875387138%2C%201509.4855164875205%2C%201510.615157587903%2C%201511.7447986882858%2C%201512.8744397886683%2C%201514.0040808890508%2C%201515.1337219894335%2C%201516.263363089816%2C%201517.3930041901986%2C%201518.5226452905813%2C%201519.6522863909638%2C%201520.7819274913463%2C%201521.9115685917288%2C%201523.0412096921116%2C%201524.170850792494%2C%201525.3004918928766%2C%201526.4301329932591%2C%201527.5597740936419%2C%201528.6894151940244%2C%201529.819056294407%2C%201530.9486973947896%2C%201532.0783384951721%2C%201533.2079795955547%2C%201534.3376206959374%2C%201535.46726179632%2C%201536.5969028967024%2C%201537.7265439970852%2C%201538.8561850974677%2C%201539.9858261978502%2C%201541.115467298233%2C%201542.2451083986155%2C%201543.374749498998%2C%201544.5043905993807%2C%201545.6340316997632%2C%201546.7636728001457%2C%201547.8933139005283%2C%201549.022955000911%2C%201550.1525961012935%2C%201551.282237201676%2C%201552.4118783020585%2C%201553.5415194024413%2C%201554.6711605028238%2C%201555.8008016032063%2C%201556.930442703589%2C%201558.0600838039716%2C%201559.189724904354%2C%201560.3193660047368%2C%201561.4490071051193%2C%201562.5786482055018%2C%201563.7082893058846%2C%201564.837930406267%2C%201565.9675715066496%2C%201567.0972126070324%2C%201568.2268537074149%2C%201569.3564948077974%2C%201570.48613590818%2C%201571.6157770085626%2C%201572.7454181089452%2C%201573.8750592093277%2C%201575.0047003097102%2C%201576.134341410093%2C%201577.2639825104754%2C%201578.393623610858%2C%201579.5232647112407%2C%201580.6529058116232%2C%201581.7825469120057%2C%201582.9121880123885%2C%201584.041829112771%2C%201585.1714702131535%2C%201586.3011113135362%2C%201587.4307524139188%2C%201588.5603935143013%2C%201589.690034614684%2C%201590.8196757150665%2C%201591.949316815449%2C%201593.0789579158318%2C%201594.2085990162143%2C%201595.3382401165968%2C%201596.4678812169793%2C%201597.597522317362%2C%201598.7271634177446%2C%201599.856804518127%2C%201600.9864456185096%2C%201602.1160867188923%2C%201603.2457278192749%2C%201604.3753689196574%2C%201605.5050100200401%2C%201606.6346511204226%2C%201607.7642922208051%2C%201608.893933321188%2C%201610.0235744215704%2C%201611.153215521953%2C%201612.2828566223357%2C%201613.4124977227182%2C%201614.5421388231007%2C%201615.6717799234834%2C%201616.801421023866%2C%201617.9310621242485%2C%201619.060703224631%2C%201620.1903443250137%2C%201621.3199854253962%2C%201622.4496265257787%2C%201623.5792676261613%2C%201624.708908726544%2C%201625.8385498269265%2C%201626.968190927309%2C%201628.0978320276918%2C%201629.2274731280743%2C%201630.3571142284568%2C%201631.4867553288395%2C%201632.616396429222%2C%201633.7460375296046%2C%201634.8756786299873%2C%201636.0053197303698%2C%201637.1349608307523%2C%201638.264601931135%2C%201639.3942430315176%2C%201640.5238841319%2C%201641.6535252322826%2C%201642.7831663326654%2C%201643.9128074330479%2C%201645.0424485334306%2C%201646.172089633813%2C%201647.3017307341956%2C%201648.4313718345782%2C%201649.5610129349607%2C%201650.6906540353434%2C%201651.820295135726%2C%201652.9499362361084%2C%201654.0795773364912%2C%201655.2092184368737%2C%201656.3388595372562%2C%201657.468500637639%2C%201658.5981417380215%2C%201659.727782838404%2C%201660.8574239387867%2C%201661.9870650391692%2C%201663.1167061395518%2C%201664.2463472399343%2C%201665.375988340317%2C%201666.5056294406995%2C%201667.6352705410823%2C%201668.7649116414648%2C%201669.8945527418473%2C%201671.02419384223%2C%201672.1538349426123%2C%201673.283476042995%2C%201674.4131171433776%2C%201675.5427582437603%2C%201676.6723993441428%2C%201677.8020404445253%2C%201678.9316815449079%2C%201680.0613226452906%2C%201681.1909637456731%2C%201682.3206048460556%2C%201683.4502459464384%2C%201684.5798870468209%2C%201685.7095281472034%2C%201686.8391692475861%2C%201687.9688103479687%2C%201689.0984514483512%2C%201690.228092548734%2C%201691.3577336491164%2C%201692.487374749499%2C%201693.6170158498817%2C%201694.746656950264%2C%201695.8762980506467%2C%201697.0059391510292%2C%201698.135580251412%2C%201699.2652213517945%2C%201700.394862452177%2C%201701.5245035525595%2C%201702.6541446529423%2C%201703.7837857533248%2C%201704.9134268537073%2C%201706.04306795409%2C%201707.1727090544725%2C%201708.302350154855%2C%201709.4319912552378%2C%201710.5616323556203%2C%201711.6912734560028%2C%201712.8209145563856%2C%201713.950555656768%2C%201715.0801967571506%2C%201716.2098378575333%2C%201717.3394789579158%2C%201718.4691200582984%2C%201719.5987611586809%2C%201720.7284022590636%2C%201721.8580433594461%2C%201722.9876844598286%2C%201724.1173255602112%2C%201725.246966660594%2C%201726.3766077609764%2C%201727.506248861359%2C%201728.6358899617417%2C%201729.7655310621242%2C%201730.8951721625067%2C%201732.0248132628894%2C%201733.154454363272%2C%201734.2840954636545%2C%201735.4137365640372%2C%201736.5433776644197%2C%201737.6730187648022%2C%201738.802659865185%2C%201739.9323009655675%2C%201741.06194206595%2C%201742.1915831663325%2C%201743.3212242667153%2C%201744.4508653670978%2C%201745.5805064674803%2C%201746.710147567863%2C%201747.8397886682455%2C%201748.969429768628%2C%201750.0990708690106%2C%201751.2287119693933%2C%201752.3583530697758%2C%201753.4879941701583%2C%201754.617635270541%2C%201755.7472763709236%2C%201756.8769174713061%2C%201758.0065585716889%2C%201759.1361996720714%2C%201760.2658407724539%2C%201761.3954818728366%2C%201762.5251229732191%2C%201763.6547640736017%2C%201764.7844051739844%2C%201765.914046274367%2C%201767.0436873747494%2C%201768.173328475132%2C%201769.3029695755147%2C%201770.4326106758972%2C%201771.5622517762797%2C%201772.6918928766622%2C%201773.821533977045%2C%201774.9511750774275%2C%201776.08081617781%2C%201777.2104572781927%2C%201778.3400983785752%2C%201779.4697394789578%2C%201780.5993805793405%2C%201781.729021679723%2C%201782.8586627801055%2C%201783.9883038804883%2C%201785.1179449808708%2C%201786.2475860812533%2C%201787.377227181636%2C%201788.5068682820186%2C%201789.636509382401%2C%201790.7661504827838%2C%201791.895791583166%2C%201793.0254326835488%2C%201794.1550737839314%2C%201795.2847148843139%2C%201796.4143559846966%2C%201797.5439970850791%2C%201798.6736381854616%2C%201799.8032792858444%2C%201800.932920386227%2C%201802.0625614866094%2C%201803.1922025869922%2C%201804.3218436873747%2C%201805.4514847877572%2C%201806.58112588814%2C%201807.7107669885222%2C%201808.840408088905%2C%201809.9700491892877%2C%201811.0996902896702%2C%201812.2293313900527%2C%201813.3589724904355%2C%201814.4886135908177%2C%201815.6182546912005%2C%201816.747895791583%2C%201817.8775368919655%2C%201819.0071779923483%2C%201820.136819092731%2C%201821.2664601931135%2C%201822.396101293496%2C%201823.5257423938785%2C%201824.655383494261%2C%201825.7850245946438%2C%201826.9146656950263%2C%201828.0443067954088%2C%201829.1739478957916%2C%201830.303588996174%2C%201831.4332300965566%2C%201832.5628711969393%2C%201833.6925122973219%2C%201834.8221533977044%2C%201835.951794498087%2C%201837.0814355984696%2C%201838.2110766988521%2C%201839.3407177992349%2C%201840.4703588996172%2C%201841.6%5D%29%0A%20%20%20%20%20%20%20%20%20%20%20%20%20%20.range%28%5B%27%23f1eef6ff%27%2C%20%27%23f1eef6ff%27%2C%20%27%23f1eef6ff%27%2C%20%27%23f1eef6ff%27%2C%20%27%23f1eef6ff%27%2C%20%27%23f1eef6ff%27%2C%20%27%23f1eef6ff%27%2C%20%27%23f1eef6ff%27%2C%20%27%23f1eef6ff%27%2C%20%27%23f1eef6ff%27%2C%20%27%23f1eef6ff%27%2C%20%27%23f1eef6ff%27%2C%20%27%23f1eef6ff%27%2C%20%27%23f1eef6ff%27%2C%20%27%23f1eef6ff%27%2C%20%27%23f1eef6ff%27%2C%20%27%23f1eef6ff%27%2C%20%27%23f1eef6ff%27%2C%20%27%23f1eef6ff%27%2C%20%27%23f1eef6ff%27%2C%20%27%23f1eef6ff%27%2C%20%27%23f1eef6ff%27%2C%20%27%23f1eef6ff%27%2C%20%27%23f1eef6ff%27%2C%20%27%23f1eef6ff%27%2C%20%27%23f1eef6ff%27%2C%20%27%23f1eef6ff%27%2C%20%27%23f1eef6ff%27%2C%20%27%23f1eef6ff%27%2C%20%27%23f1eef6ff%27%2C%20%27%23f1eef6ff%27%2C%20%27%23f1eef6ff%27%2C%20%27%23f1eef6ff%27%2C%20%27%23f1eef6ff%27%2C%20%27%23f1eef6ff%27%2C%20%27%23f1eef6ff%27%2C%20%27%23f1eef6ff%27%2C%20%27%23f1eef6ff%27%2C%20%27%23f1eef6ff%27%2C%20%27%23f1eef6ff%27%2C%20%27%23f1eef6ff%27%2C%20%27%23f1eef6ff%27%2C%20%27%23f1eef6ff%27%2C%20%27%23f1eef6ff%27%2C%20%27%23f1eef6ff%27%2C%20%27%23f1eef6ff%27%2C%20%27%23f1eef6ff%27%2C%20%27%23f1eef6ff%27%2C%20%27%23f1eef6ff%27%2C%20%27%23f1eef6ff%27%2C%20%27%23f1eef6ff%27%2C%20%27%23f1eef6ff%27%2C%20%27%23f1eef6ff%27%2C%20%27%23f1eef6ff%27%2C%20%27%23f1eef6ff%27%2C%20%27%23f1eef6ff%27%2C%20%27%23f1eef6ff%27%2C%20%27%23f1eef6ff%27%2C%20%27%23f1eef6ff%27%2C%20%27%23f1eef6ff%27%2C%20%27%23f1eef6ff%27%2C%20%27%23f1eef6ff%27%2C%20%27%23f1eef6ff%27%2C%20%27%23f1eef6ff%27%2C%20%27%23f1eef6ff%27%2C%20%27%23f1eef6ff%27%2C%20%27%23f1eef6ff%27%2C%20%27%23f1eef6ff%27%2C%20%27%23f1eef6ff%27%2C%20%27%23f1eef6ff%27%2C%20%27%23f1eef6ff%27%2C%20%27%23f1eef6ff%27%2C%20%27%23f1eef6ff%27%2C%20%27%23f1eef6ff%27%2C%20%27%23f1eef6ff%27%2C%20%27%23f1eef6ff%27%2C%20%27%23f1eef6ff%27%2C%20%27%23f1eef6ff%27%2C%20%27%23f1eef6ff%27%2C%20%27%23f1eef6ff%27%2C%20%27%23f1eef6ff%27%2C%20%27%23f1eef6ff%27%2C%20%27%23f1eef6ff%27%2C%20%27%23f1eef6ff%27%2C%20%27%23d4b9daff%27%2C%20%27%23d4b9daff%27%2C%20%27%23d4b9daff%27%2C%20%27%23d4b9daff%27%2C%20%27%23d4b9daff%27%2C%20%27%23d4b9daff%27%2C%20%27%23d4b9daff%27%2C%20%27%23d4b9daff%27%2C%20%27%23d4b9daff%27%2C%20%27%23d4b9daff%27%2C%20%27%23d4b9daff%27%2C%20%27%23d4b9daff%27%2C%20%27%23d4b9daff%27%2C%20%27%23d4b9daff%27%2C%20%27%23d4b9daff%27%2C%20%27%23d4b9daff%27%2C%20%27%23d4b9daff%27%2C%20%27%23d4b9daff%27%2C%20%27%23d4b9daff%27%2C%20%27%23d4b9daff%27%2C%20%27%23d4b9daff%27%2C%20%27%23d4b9daff%27%2C%20%27%23d4b9daff%27%2C%20%27%23d4b9daff%27%2C%20%27%23d4b9daff%27%2C%20%27%23d4b9daff%27%2C%20%27%23d4b9daff%27%2C%20%27%23d4b9daff%27%2C%20%27%23d4b9daff%27%2C%20%27%23d4b9daff%27%2C%20%27%23d4b9daff%27%2C%20%27%23d4b9daff%27%2C%20%27%23d4b9daff%27%2C%20%27%23d4b9daff%27%2C%20%27%23d4b9daff%27%2C%20%27%23d4b9daff%27%2C%20%27%23d4b9daff%27%2C%20%27%23d4b9daff%27%2C%20%27%23d4b9daff%27%2C%20%27%23d4b9daff%27%2C%20%27%23d4b9daff%27%2C%20%27%23d4b9daff%27%2C%20%27%23d4b9daff%27%2C%20%27%23d4b9daff%27%2C%20%27%23d4b9daff%27%2C%20%27%23d4b9daff%27%2C%20%27%23d4b9daff%27%2C%20%27%23d4b9daff%27%2C%20%27%23d4b9daff%27%2C%20%27%23d4b9daff%27%2C%20%27%23d4b9daff%27%2C%20%27%23d4b9daff%27%2C%20%27%23d4b9daff%27%2C%20%27%23d4b9daff%27%2C%20%27%23d4b9daff%27%2C%20%27%23d4b9daff%27%2C%20%27%23d4b9daff%27%2C%20%27%23d4b9daff%27%2C%20%27%23d4b9daff%27%2C%20%27%23d4b9daff%27%2C%20%27%23d4b9daff%27%2C%20%27%23d4b9daff%27%2C%20%27%23d4b9daff%27%2C%20%27%23d4b9daff%27%2C%20%27%23d4b9daff%27%2C%20%27%23d4b9daff%27%2C%20%27%23d4b9daff%27%2C%20%27%23d4b9daff%27%2C%20%27%23d4b9daff%27%2C%20%27%23d4b9daff%27%2C%20%27%23d4b9daff%27%2C%20%27%23d4b9daff%27%2C%20%27%23d4b9daff%27%2C%20%27%23d4b9daff%27%2C%20%27%23d4b9daff%27%2C%20%27%23d4b9daff%27%2C%20%27%23d4b9daff%27%2C%20%27%23d4b9daff%27%2C%20%27%23d4b9daff%27%2C%20%27%23d4b9daff%27%2C%20%27%23d4b9daff%27%2C%20%27%23d4b9daff%27%2C%20%27%23d4b9daff%27%2C%20%27%23c994c7ff%27%2C%20%27%23c994c7ff%27%2C%20%27%23c994c7ff%27%2C%20%27%23c994c7ff%27%2C%20%27%23c994c7ff%27%2C%20%27%23c994c7ff%27%2C%20%27%23c994c7ff%27%2C%20%27%23c994c7ff%27%2C%20%27%23c994c7ff%27%2C%20%27%23c994c7ff%27%2C%20%27%23c994c7ff%27%2C%20%27%23c994c7ff%27%2C%20%27%23c994c7ff%27%2C%20%27%23c994c7ff%27%2C%20%27%23c994c7ff%27%2C%20%27%23c994c7ff%27%2C%20%27%23c994c7ff%27%2C%20%27%23c994c7ff%27%2C%20%27%23c994c7ff%27%2C%20%27%23c994c7ff%27%2C%20%27%23c994c7ff%27%2C%20%27%23c994c7ff%27%2C%20%27%23c994c7ff%27%2C%20%27%23c994c7ff%27%2C%20%27%23c994c7ff%27%2C%20%27%23c994c7ff%27%2C%20%27%23c994c7ff%27%2C%20%27%23c994c7ff%27%2C%20%27%23c994c7ff%27%2C%20%27%23c994c7ff%27%2C%20%27%23c994c7ff%27%2C%20%27%23c994c7ff%27%2C%20%27%23c994c7ff%27%2C%20%27%23c994c7ff%27%2C%20%27%23c994c7ff%27%2C%20%27%23c994c7ff%27%2C%20%27%23c994c7ff%27%2C%20%27%23c994c7ff%27%2C%20%27%23c994c7ff%27%2C%20%27%23c994c7ff%27%2C%20%27%23c994c7ff%27%2C%20%27%23c994c7ff%27%2C%20%27%23c994c7ff%27%2C%20%27%23c994c7ff%27%2C%20%27%23c994c7ff%27%2C%20%27%23c994c7ff%27%2C%20%27%23c994c7ff%27%2C%20%27%23c994c7ff%27%2C%20%27%23c994c7ff%27%2C%20%27%23c994c7ff%27%2C%20%27%23c994c7ff%27%2C%20%27%23c994c7ff%27%2C%20%27%23c994c7ff%27%2C%20%27%23c994c7ff%27%2C%20%27%23c994c7ff%27%2C%20%27%23c994c7ff%27%2C%20%27%23c994c7ff%27%2C%20%27%23c994c7ff%27%2C%20%27%23c994c7ff%27%2C%20%27%23c994c7ff%27%2C%20%27%23c994c7ff%27%2C%20%27%23c994c7ff%27%2C%20%27%23c994c7ff%27%2C%20%27%23c994c7ff%27%2C%20%27%23c994c7ff%27%2C%20%27%23c994c7ff%27%2C%20%27%23c994c7ff%27%2C%20%27%23c994c7ff%27%2C%20%27%23c994c7ff%27%2C%20%27%23c994c7ff%27%2C%20%27%23c994c7ff%27%2C%20%27%23c994c7ff%27%2C%20%27%23c994c7ff%27%2C%20%27%23c994c7ff%27%2C%20%27%23c994c7ff%27%2C%20%27%23c994c7ff%27%2C%20%27%23c994c7ff%27%2C%20%27%23c994c7ff%27%2C%20%27%23c994c7ff%27%2C%20%27%23c994c7ff%27%2C%20%27%23c994c7ff%27%2C%20%27%23c994c7ff%27%2C%20%27%23c994c7ff%27%2C%20%27%23df65b0ff%27%2C%20%27%23df65b0ff%27%2C%20%27%23df65b0ff%27%2C%20%27%23df65b0ff%27%2C%20%27%23df65b0ff%27%2C%20%27%23df65b0ff%27%2C%20%27%23df65b0ff%27%2C%20%27%23df65b0ff%27%2C%20%27%23df65b0ff%27%2C%20%27%23df65b0ff%27%2C%20%27%23df65b0ff%27%2C%20%27%23df65b0ff%27%2C%20%27%23df65b0ff%27%2C%20%27%23df65b0ff%27%2C%20%27%23df65b0ff%27%2C%20%27%23df65b0ff%27%2C%20%27%23df65b0ff%27%2C%20%27%23df65b0ff%27%2C%20%27%23df65b0ff%27%2C%20%27%23df65b0ff%27%2C%20%27%23df65b0ff%27%2C%20%27%23df65b0ff%27%2C%20%27%23df65b0ff%27%2C%20%27%23df65b0ff%27%2C%20%27%23df65b0ff%27%2C%20%27%23df65b0ff%27%2C%20%27%23df65b0ff%27%2C%20%27%23df65b0ff%27%2C%20%27%23df65b0ff%27%2C%20%27%23df65b0ff%27%2C%20%27%23df65b0ff%27%2C%20%27%23df65b0ff%27%2C%20%27%23df65b0ff%27%2C%20%27%23df65b0ff%27%2C%20%27%23df65b0ff%27%2C%20%27%23df65b0ff%27%2C%20%27%23df65b0ff%27%2C%20%27%23df65b0ff%27%2C%20%27%23df65b0ff%27%2C%20%27%23df65b0ff%27%2C%20%27%23df65b0ff%27%2C%20%27%23df65b0ff%27%2C%20%27%23df65b0ff%27%2C%20%27%23df65b0ff%27%2C%20%27%23df65b0ff%27%2C%20%27%23df65b0ff%27%2C%20%27%23df65b0ff%27%2C%20%27%23df65b0ff%27%2C%20%27%23df65b0ff%27%2C%20%27%23df65b0ff%27%2C%20%27%23df65b0ff%27%2C%20%27%23df65b0ff%27%2C%20%27%23df65b0ff%27%2C%20%27%23df65b0ff%27%2C%20%27%23df65b0ff%27%2C%20%27%23df65b0ff%27%2C%20%27%23df65b0ff%27%2C%20%27%23df65b0ff%27%2C%20%27%23df65b0ff%27%2C%20%27%23df65b0ff%27%2C%20%27%23df65b0ff%27%2C%20%27%23df65b0ff%27%2C%20%27%23df65b0ff%27%2C%20%27%23df65b0ff%27%2C%20%27%23df65b0ff%27%2C%20%27%23df65b0ff%27%2C%20%27%23df65b0ff%27%2C%20%27%23df65b0ff%27%2C%20%27%23df65b0ff%27%2C%20%27%23df65b0ff%27%2C%20%27%23df65b0ff%27%2C%20%27%23df65b0ff%27%2C%20%27%23df65b0ff%27%2C%20%27%23df65b0ff%27%2C%20%27%23df65b0ff%27%2C%20%27%23df65b0ff%27%2C%20%27%23df65b0ff%27%2C%20%27%23df65b0ff%27%2C%20%27%23df65b0ff%27%2C%20%27%23df65b0ff%27%2C%20%27%23df65b0ff%27%2C%20%27%23df65b0ff%27%2C%20%27%23df65b0ff%27%2C%20%27%23dd1c77ff%27%2C%20%27%23dd1c77ff%27%2C%20%27%23dd1c77ff%27%2C%20%27%23dd1c77ff%27%2C%20%27%23dd1c77ff%27%2C%20%27%23dd1c77ff%27%2C%20%27%23dd1c77ff%27%2C%20%27%23dd1c77ff%27%2C%20%27%23dd1c77ff%27%2C%20%27%23dd1c77ff%27%2C%20%27%23dd1c77ff%27%2C%20%27%23dd1c77ff%27%2C%20%27%23dd1c77ff%27%2C%20%27%23dd1c77ff%27%2C%20%27%23dd1c77ff%27%2C%20%27%23dd1c77ff%27%2C%20%27%23dd1c77ff%27%2C%20%27%23dd1c77ff%27%2C%20%27%23dd1c77ff%27%2C%20%27%23dd1c77ff%27%2C%20%27%23dd1c77ff%27%2C%20%27%23dd1c77ff%27%2C%20%27%23dd1c77ff%27%2C%20%27%23dd1c77ff%27%2C%20%27%23dd1c77ff%27%2C%20%27%23dd1c77ff%27%2C%20%27%23dd1c77ff%27%2C%20%27%23dd1c77ff%27%2C%20%27%23dd1c77ff%27%2C%20%27%23dd1c77ff%27%2C%20%27%23dd1c77ff%27%2C%20%27%23dd1c77ff%27%2C%20%27%23dd1c77ff%27%2C%20%27%23dd1c77ff%27%2C%20%27%23dd1c77ff%27%2C%20%27%23dd1c77ff%27%2C%20%27%23dd1c77ff%27%2C%20%27%23dd1c77ff%27%2C%20%27%23dd1c77ff%27%2C%20%27%23dd1c77ff%27%2C%20%27%23dd1c77ff%27%2C%20%27%23dd1c77ff%27%2C%20%27%23dd1c77ff%27%2C%20%27%23dd1c77ff%27%2C%20%27%23dd1c77ff%27%2C%20%27%23dd1c77ff%27%2C%20%27%23dd1c77ff%27%2C%20%27%23dd1c77ff%27%2C%20%27%23dd1c77ff%27%2C%20%27%23dd1c77ff%27%2C%20%27%23dd1c77ff%27%2C%20%27%23dd1c77ff%27%2C%20%27%23dd1c77ff%27%2C%20%27%23dd1c77ff%27%2C%20%27%23dd1c77ff%27%2C%20%27%23dd1c77ff%27%2C%20%27%23dd1c77ff%27%2C%20%27%23dd1c77ff%27%2C%20%27%23dd1c77ff%27%2C%20%27%23dd1c77ff%27%2C%20%27%23dd1c77ff%27%2C%20%27%23dd1c77ff%27%2C%20%27%23dd1c77ff%27%2C%20%27%23dd1c77ff%27%2C%20%27%23dd1c77ff%27%2C%20%27%23dd1c77ff%27%2C%20%27%23dd1c77ff%27%2C%20%27%23dd1c77ff%27%2C%20%27%23dd1c77ff%27%2C%20%27%23dd1c77ff%27%2C%20%27%23dd1c77ff%27%2C%20%27%23dd1c77ff%27%2C%20%27%23dd1c77ff%27%2C%20%27%23dd1c77ff%27%2C%20%27%23dd1c77ff%27%2C%20%27%23dd1c77ff%27%2C%20%27%23dd1c77ff%27%2C%20%27%23dd1c77ff%27%2C%20%27%23dd1c77ff%27%2C%20%27%23dd1c77ff%27%2C%20%27%23dd1c77ff%27%2C%20%27%23dd1c77ff%27%2C%20%27%23dd1c77ff%27%2C%20%27%23980043ff%27%2C%20%27%23980043ff%27%2C%20%27%23980043ff%27%2C%20%27%23980043ff%27%2C%20%27%23980043ff%27%2C%20%27%23980043ff%27%2C%20%27%23980043ff%27%2C%20%27%23980043ff%27%2C%20%27%23980043ff%27%2C%20%27%23980043ff%27%2C%20%27%23980043ff%27%2C%20%27%23980043ff%27%2C%20%27%23980043ff%27%2C%20%27%23980043ff%27%2C%20%27%23980043ff%27%2C%20%27%23980043ff%27%2C%20%27%23980043ff%27%2C%20%27%23980043ff%27%2C%20%27%23980043ff%27%2C%20%27%23980043ff%27%2C%20%27%23980043ff%27%2C%20%27%23980043ff%27%2C%20%27%23980043ff%27%2C%20%27%23980043ff%27%2C%20%27%23980043ff%27%2C%20%27%23980043ff%27%2C%20%27%23980043ff%27%2C%20%27%23980043ff%27%2C%20%27%23980043ff%27%2C%20%27%23980043ff%27%2C%20%27%23980043ff%27%2C%20%27%23980043ff%27%2C%20%27%23980043ff%27%2C%20%27%23980043ff%27%2C%20%27%23980043ff%27%2C%20%27%23980043ff%27%2C%20%27%23980043ff%27%2C%20%27%23980043ff%27%2C%20%27%23980043ff%27%2C%20%27%23980043ff%27%2C%20%27%23980043ff%27%2C%20%27%23980043ff%27%2C%20%27%23980043ff%27%2C%20%27%23980043ff%27%2C%20%27%23980043ff%27%2C%20%27%23980043ff%27%2C%20%27%23980043ff%27%2C%20%27%23980043ff%27%2C%20%27%23980043ff%27%2C%20%27%23980043ff%27%2C%20%27%23980043ff%27%2C%20%27%23980043ff%27%2C%20%27%23980043ff%27%2C%20%27%23980043ff%27%2C%20%27%23980043ff%27%2C%20%27%23980043ff%27%2C%20%27%23980043ff%27%2C%20%27%23980043ff%27%2C%20%27%23980043ff%27%2C%20%27%23980043ff%27%2C%20%27%23980043ff%27%2C%20%27%23980043ff%27%2C%20%27%23980043ff%27%2C%20%27%23980043ff%27%2C%20%27%23980043ff%27%2C%20%27%23980043ff%27%2C%20%27%23980043ff%27%2C%20%27%23980043ff%27%2C%20%27%23980043ff%27%2C%20%27%23980043ff%27%2C%20%27%23980043ff%27%2C%20%27%23980043ff%27%2C%20%27%23980043ff%27%2C%20%27%23980043ff%27%2C%20%27%23980043ff%27%2C%20%27%23980043ff%27%2C%20%27%23980043ff%27%2C%20%27%23980043ff%27%2C%20%27%23980043ff%27%2C%20%27%23980043ff%27%2C%20%27%23980043ff%27%2C%20%27%23980043ff%27%2C%20%27%23980043ff%27%2C%20%27%23980043ff%27%5D%29%3B%0A%20%20%20%20%0A%0A%20%20%20%20color_map_f3f10f737eee44c5abd276290982f499.x%20%3D%20d3.scale.linear%28%29%0A%20%20%20%20%20%20%20%20%20%20%20%20%20%20.domain%28%5B1277.909090909091%2C%201841.6%5D%29%0A%20%20%20%20%20%20%20%20%20%20%20%20%20%20.range%28%5B0%2C%20400%5D%29%3B%0A%0A%20%20%20%20color_map_f3f10f737eee44c5abd276290982f499.legend%20%3D%20L.control%28%7Bposition%3A%20%27topright%27%7D%29%3B%0A%20%20%20%20color_map_f3f10f737eee44c5abd276290982f499.legend.onAdd%20%3D%20function%20%28map%29%20%7Bvar%20div%20%3D%20L.DomUtil.create%28%27div%27%2C%20%27legend%27%29%3B%20return%20div%7D%3B%0A%20%20%20%20color_map_f3f10f737eee44c5abd276290982f499.legend.addTo%28map_7741f1c5558644c18d5b0bd8cc85b2e1%29%3B%0A%0A%20%20%20%20color_map_f3f10f737eee44c5abd276290982f499.xAxis%20%3D%20d3.svg.axis%28%29%0A%20%20%20%20%20%20%20%20.scale%28color_map_f3f10f737eee44c5abd276290982f499.x%29%0A%20%20%20%20%20%20%20%20.orient%28%22top%22%29%0A%20%20%20%20%20%20%20%20.tickSize%281%29%0A%20%20%20%20%20%20%20%20.tickValues%28%5B1277.909090909091%2C%201371.857575757576%2C%201465.8060606060606%2C%201559.7545454545455%2C%201653.7030303030303%2C%201747.651515151515%2C%201841.6%5D%29%3B%0A%0A%20%20%20%20color_map_f3f10f737eee44c5abd276290982f499.svg%20%3D%20d3.select%28%22.legend.leaflet-control%22%29.append%28%22svg%22%29%0A%20%20%20%20%20%20%20%20.attr%28%22id%22%2C%20%27legend%27%29%0A%20%20%20%20%20%20%20%20.attr%28%22width%22%2C%20450%29%0A%20%20%20%20%20%20%20%20.attr%28%22height%22%2C%2040%29%3B%0A%0A%20%20%20%20color_map_f3f10f737eee44c5abd276290982f499.g%20%3D%20color_map_f3f10f737eee44c5abd276290982f499.svg.append%28%22g%22%29%0A%20%20%20%20%20%20%20%20.attr%28%22class%22%2C%20%22key%22%29%0A%20%20%20%20%20%20%20%20.attr%28%22transform%22%2C%20%22translate%2825%2C16%29%22%29%3B%0A%0A%20%20%20%20color_map_f3f10f737eee44c5abd276290982f499.g.selectAll%28%22rect%22%29%0A%20%20%20%20%20%20%20%20.data%28color_map_f3f10f737eee44c5abd276290982f499.color.range%28%29.map%28function%28d%2C%20i%29%20%7B%0A%20%20%20%20%20%20%20%20%20%20return%20%7B%0A%20%20%20%20%20%20%20%20%20%20%20%20x0%3A%20i%20%3F%20color_map_f3f10f737eee44c5abd276290982f499.x%28color_map_f3f10f737eee44c5abd276290982f499.color.domain%28%29%5Bi%20-%201%5D%29%20%3A%20color_map_f3f10f737eee44c5abd276290982f499.x.range%28%29%5B0%5D%2C%0A%20%20%20%20%20%20%20%20%20%20%20%20x1%3A%20i%20%3C%20color_map_f3f10f737eee44c5abd276290982f499.color.domain%28%29.length%20%3F%20color_map_f3f10f737eee44c5abd276290982f499.x%28color_map_f3f10f737eee44c5abd276290982f499.color.domain%28%29%5Bi%5D%29%20%3A%20color_map_f3f10f737eee44c5abd276290982f499.x.range%28%29%5B1%5D%2C%0A%20%20%20%20%20%20%20%20%20%20%20%20z%3A%20d%0A%20%20%20%20%20%20%20%20%20%20%7D%3B%0A%20%20%20%20%20%20%20%20%7D%29%29%0A%20%20%20%20%20%20.enter%28%29.append%28%22rect%22%29%0A%20%20%20%20%20%20%20%20.attr%28%22height%22%2C%2010%29%0A%20%20%20%20%20%20%20%20.attr%28%22x%22%2C%20function%28d%29%20%7B%20return%20d.x0%3B%20%7D%29%0A%20%20%20%20%20%20%20%20.attr%28%22width%22%2C%20function%28d%29%20%7B%20return%20d.x1%20-%20d.x0%3B%20%7D%29%0A%20%20%20%20%20%20%20%20.style%28%22fill%22%2C%20function%28d%29%20%7B%20return%20d.z%3B%20%7D%29%3B%0A%0A%20%20%20%20color_map_f3f10f737eee44c5abd276290982f499.g.call%28color_map_f3f10f737eee44c5abd276290982f499.xAxis%29.append%28%22text%22%29%0A%20%20%20%20%20%20%20%20.attr%28%22class%22%2C%20%22caption%22%29%0A%20%20%20%20%20%20%20%20.attr%28%22y%22%2C%2021%29%0A%20%20%20%20%20%20%20%20.text%28%27%27%29%3B%0A%3C/script%3E onload=\"this.contentDocument.open();this.contentDocument.write(    decodeURIComponent(this.getAttribute('data-html')));this.contentDocument.close();\" allowfullscreen webkitallowfullscreen mozallowfullscreen></iframe></div></div>"
      ],
      "text/plain": [
       "<folium.folium.Map at 0x27a7d8a66a0>"
      ]
     },
     "execution_count": 20,
     "metadata": {},
     "output_type": "execute_result"
    }
   ],
   "source": [
    "geo_path = 'data/02. skorea_municipalities_geo_simple.json'\n",
    "geo_str = json.load(open(geo_path, encoding='utf-8'))\n",
    "\n",
    "map = folium.Map(location=[37.5502, 126.982], zoom_start=10.5, tiles='Stamen Toner')\n",
    "\n",
    "map.choropleth(geo_data = geo_str,\n",
    "              data=gu_data,\n",
    "              columns=[gu_data.index,'가격'],\n",
    "              fill_color='PuRd', #PuRd, YlGnBu\n",
    "              key_on='feature.id')\n",
    "map"
   ]
  },
  {
   "cell_type": "markdown",
   "metadata": {},
   "source": [
    "- 중구, 용산구, 종로구 순으로 가장 높으며, 그 다음으로 강남구도 비교적 높게 나타남"
   ]
  },
  {
   "cell_type": "markdown",
   "metadata": {},
   "source": [
    "# 서울시 주유 가격 상하위 10개 주유소 지도에 표기"
   ]
  },
  {
   "cell_type": "markdown",
   "metadata": {},
   "source": [
    "## 상하위 데이터 나누기"
   ]
  },
  {
   "cell_type": "code",
   "execution_count": 24,
   "metadata": {
    "ExecuteTime": {
     "end_time": "2020-11-23T15:21:13.960183Z",
     "start_time": "2020-11-23T15:21:13.935472Z"
    }
   },
   "outputs": [
    {
     "data": {
      "text/html": [
       "<div>\n",
       "<style scoped>\n",
       "    .dataframe tbody tr th:only-of-type {\n",
       "        vertical-align: middle;\n",
       "    }\n",
       "\n",
       "    .dataframe tbody tr th {\n",
       "        vertical-align: top;\n",
       "    }\n",
       "\n",
       "    .dataframe thead th {\n",
       "        text-align: right;\n",
       "    }\n",
       "</style>\n",
       "<table border=\"1\" class=\"dataframe\">\n",
       "  <thead>\n",
       "    <tr style=\"text-align: right;\">\n",
       "      <th></th>\n",
       "      <th>상호</th>\n",
       "      <th>브랜드</th>\n",
       "      <th>주소</th>\n",
       "      <th>가격</th>\n",
       "      <th>셀프</th>\n",
       "      <th>구</th>\n",
       "    </tr>\n",
       "  </thead>\n",
       "  <tbody>\n",
       "    <tr>\n",
       "      <th>248</th>\n",
       "      <td>서남주유소</td>\n",
       "      <td>SK에너지</td>\n",
       "      <td>서울 중구 통일로 30</td>\n",
       "      <td>2183</td>\n",
       "      <td>N</td>\n",
       "      <td>중구</td>\n",
       "    </tr>\n",
       "    <tr>\n",
       "      <th>216</th>\n",
       "      <td>서계주유소</td>\n",
       "      <td>GS칼텍스</td>\n",
       "      <td>서울 용산구 청파로 367 (서계동)</td>\n",
       "      <td>2089</td>\n",
       "      <td>N</td>\n",
       "      <td>용산구</td>\n",
       "    </tr>\n",
       "    <tr>\n",
       "      <th>247</th>\n",
       "      <td>필동주유소</td>\n",
       "      <td>GS칼텍스</td>\n",
       "      <td>서울 중구  퇴계로 196 (필동2가)</td>\n",
       "      <td>2079</td>\n",
       "      <td>N</td>\n",
       "      <td>중구</td>\n",
       "    </tr>\n",
       "    <tr>\n",
       "      <th>246</th>\n",
       "      <td>SK에너지(주) 퇴계로주유소</td>\n",
       "      <td>SK에너지</td>\n",
       "      <td>서울 중구 퇴계로 228 (필동2가)</td>\n",
       "      <td>2069</td>\n",
       "      <td>N</td>\n",
       "      <td>중구</td>\n",
       "    </tr>\n",
       "    <tr>\n",
       "      <th>396</th>\n",
       "      <td>뉴서울(강남)</td>\n",
       "      <td>SK에너지</td>\n",
       "      <td>서울 강남구 언주로 716 (논현동)</td>\n",
       "      <td>2025</td>\n",
       "      <td>N</td>\n",
       "      <td>강남구</td>\n",
       "    </tr>\n",
       "    <tr>\n",
       "      <th>238</th>\n",
       "      <td>(주)대양씨앤씨 사직주유소</td>\n",
       "      <td>GS칼텍스</td>\n",
       "      <td>서울 종로구 사직로 65 (사직동)</td>\n",
       "      <td>1998</td>\n",
       "      <td>N</td>\n",
       "      <td>종로구</td>\n",
       "    </tr>\n",
       "    <tr>\n",
       "      <th>215</th>\n",
       "      <td>에너비스</td>\n",
       "      <td>SK에너지</td>\n",
       "      <td>서울 용산구 한남대로 82 (한남동)</td>\n",
       "      <td>1998</td>\n",
       "      <td>N</td>\n",
       "      <td>용산구</td>\n",
       "    </tr>\n",
       "    <tr>\n",
       "      <th>237</th>\n",
       "      <td>(주)중앙에너비스 혜화주유소</td>\n",
       "      <td>SK에너지</td>\n",
       "      <td>서울 종로구 창경궁로35길 1</td>\n",
       "      <td>1998</td>\n",
       "      <td>N</td>\n",
       "      <td>종로구</td>\n",
       "    </tr>\n",
       "    <tr>\n",
       "      <th>236</th>\n",
       "      <td>경복궁주유소</td>\n",
       "      <td>GS칼텍스</td>\n",
       "      <td>서울 종로구 율곡로 6 (중학동)</td>\n",
       "      <td>1960</td>\n",
       "      <td>N</td>\n",
       "      <td>종로구</td>\n",
       "    </tr>\n",
       "    <tr>\n",
       "      <th>193</th>\n",
       "      <td>SJ오일(주) 여의도주유소</td>\n",
       "      <td>GS칼텍스</td>\n",
       "      <td>서울 영등포구 은행로 64</td>\n",
       "      <td>1939</td>\n",
       "      <td>N</td>\n",
       "      <td>영등포구</td>\n",
       "    </tr>\n",
       "  </tbody>\n",
       "</table>\n",
       "</div>"
      ],
      "text/plain": [
       "                  상호    브랜드                     주소    가격 셀프     구\n",
       "248            서남주유소  SK에너지           서울 중구 통일로 30  2183  N    중구\n",
       "216            서계주유소  GS칼텍스   서울 용산구 청파로 367 (서계동)  2089  N   용산구\n",
       "247            필동주유소  GS칼텍스  서울 중구  퇴계로 196 (필동2가)  2079  N    중구\n",
       "246  SK에너지(주) 퇴계로주유소  SK에너지   서울 중구 퇴계로 228 (필동2가)  2069  N    중구\n",
       "396          뉴서울(강남)  SK에너지   서울 강남구 언주로 716 (논현동)  2025  N   강남구\n",
       "238   (주)대양씨앤씨 사직주유소  GS칼텍스    서울 종로구 사직로 65 (사직동)  1998  N   종로구\n",
       "215             에너비스  SK에너지   서울 용산구 한남대로 82 (한남동)  1998  N   용산구\n",
       "237  (주)중앙에너비스 혜화주유소  SK에너지       서울 종로구 창경궁로35길 1  1998  N   종로구\n",
       "236           경복궁주유소  GS칼텍스     서울 종로구 율곡로 6 (중학동)  1960  N   종로구\n",
       "193   SJ오일(주) 여의도주유소  GS칼텍스         서울 영등포구 은행로 64  1939  N  영등포구"
      ]
     },
     "execution_count": 24,
     "metadata": {},
     "output_type": "execute_result"
    }
   ],
   "source": [
    "# 상위 10개\n",
    "oil_price_top10 = stations.sort_values(by='가격', ascending=False).head(10)\n",
    "oil_price_top10"
   ]
  },
  {
   "cell_type": "code",
   "execution_count": 25,
   "metadata": {
    "ExecuteTime": {
     "end_time": "2020-11-23T15:21:46.574763Z",
     "start_time": "2020-11-23T15:21:46.548354Z"
    }
   },
   "outputs": [
    {
     "data": {
      "text/html": [
       "<div>\n",
       "<style scoped>\n",
       "    .dataframe tbody tr th:only-of-type {\n",
       "        vertical-align: middle;\n",
       "    }\n",
       "\n",
       "    .dataframe tbody tr th {\n",
       "        vertical-align: top;\n",
       "    }\n",
       "\n",
       "    .dataframe thead th {\n",
       "        text-align: right;\n",
       "    }\n",
       "</style>\n",
       "<table border=\"1\" class=\"dataframe\">\n",
       "  <thead>\n",
       "    <tr style=\"text-align: right;\">\n",
       "      <th></th>\n",
       "      <th>상호</th>\n",
       "      <th>브랜드</th>\n",
       "      <th>주소</th>\n",
       "      <th>가격</th>\n",
       "      <th>셀프</th>\n",
       "      <th>구</th>\n",
       "    </tr>\n",
       "  </thead>\n",
       "  <tbody>\n",
       "    <tr>\n",
       "      <th>262</th>\n",
       "      <td>뉴신정주유소</td>\n",
       "      <td>알뜰주유소</td>\n",
       "      <td>서울 강서구 곰달래로 207(화곡동)</td>\n",
       "      <td>1243</td>\n",
       "      <td>N</td>\n",
       "      <td>강서구</td>\n",
       "    </tr>\n",
       "    <tr>\n",
       "      <th>263</th>\n",
       "      <td>화곡역주유소</td>\n",
       "      <td>알뜰주유소</td>\n",
       "      <td>서울특별시 강서구  강서로 154 (화곡동)</td>\n",
       "      <td>1243</td>\n",
       "      <td>Y</td>\n",
       "      <td>강서구</td>\n",
       "    </tr>\n",
       "    <tr>\n",
       "      <th>63</th>\n",
       "      <td>만남의광장주유소</td>\n",
       "      <td>알뜰(ex)</td>\n",
       "      <td>서울 서초구 양재대로12길 73-71</td>\n",
       "      <td>1244</td>\n",
       "      <td>Y</td>\n",
       "      <td>서초구</td>\n",
       "    </tr>\n",
       "    <tr>\n",
       "      <th>354</th>\n",
       "      <td>도봉제일주유소(주)송만에너지</td>\n",
       "      <td>현대오일뱅크</td>\n",
       "      <td>서울 도봉구 도봉로 783 (도봉동)</td>\n",
       "      <td>1249</td>\n",
       "      <td>N</td>\n",
       "      <td>도봉구</td>\n",
       "    </tr>\n",
       "    <tr>\n",
       "      <th>150</th>\n",
       "      <td>현대주유소</td>\n",
       "      <td>S-OIL</td>\n",
       "      <td>서울 양천구 남부순환로 372 (신월동)</td>\n",
       "      <td>1249</td>\n",
       "      <td>Y</td>\n",
       "      <td>양천구</td>\n",
       "    </tr>\n",
       "    <tr>\n",
       "      <th>149</th>\n",
       "      <td>가로공원주유소</td>\n",
       "      <td>SK에너지</td>\n",
       "      <td>서울 양천구 가로공원로 165 (신월동)</td>\n",
       "      <td>1249</td>\n",
       "      <td>N</td>\n",
       "      <td>양천구</td>\n",
       "    </tr>\n",
       "    <tr>\n",
       "      <th>148</th>\n",
       "      <td>개나리Self주유소</td>\n",
       "      <td>SK에너지</td>\n",
       "      <td>서울 양천구 남부순환로 442 (신월동)</td>\n",
       "      <td>1249</td>\n",
       "      <td>Y</td>\n",
       "      <td>양천구</td>\n",
       "    </tr>\n",
       "    <tr>\n",
       "      <th>194</th>\n",
       "      <td>북서울고속주유소</td>\n",
       "      <td>S-OIL</td>\n",
       "      <td>서울 강북구 삼양로 410 (수유동)</td>\n",
       "      <td>1249</td>\n",
       "      <td>Y</td>\n",
       "      <td>강북구</td>\n",
       "    </tr>\n",
       "    <tr>\n",
       "      <th>195</th>\n",
       "      <td>(주)석산에너지</td>\n",
       "      <td>현대오일뱅크</td>\n",
       "      <td>서울 강북구 삼양로 316 (수유동)</td>\n",
       "      <td>1249</td>\n",
       "      <td>Y</td>\n",
       "      <td>강북구</td>\n",
       "    </tr>\n",
       "    <tr>\n",
       "      <th>196</th>\n",
       "      <td>수유동주유소</td>\n",
       "      <td>GS칼텍스</td>\n",
       "      <td>서울 강북구 도봉로 395 (수유동)</td>\n",
       "      <td>1249</td>\n",
       "      <td>Y</td>\n",
       "      <td>강북구</td>\n",
       "    </tr>\n",
       "  </tbody>\n",
       "</table>\n",
       "</div>"
      ],
      "text/plain": [
       "                  상호     브랜드                        주소    가격 셀프    구\n",
       "262           뉴신정주유소   알뜰주유소      서울 강서구 곰달래로 207(화곡동)  1243  N  강서구\n",
       "263           화곡역주유소   알뜰주유소  서울특별시 강서구  강서로 154 (화곡동)  1243  Y  강서구\n",
       "63          만남의광장주유소  알뜰(ex)      서울 서초구 양재대로12길 73-71  1244  Y  서초구\n",
       "354  도봉제일주유소(주)송만에너지  현대오일뱅크      서울 도봉구 도봉로 783 (도봉동)  1249  N  도봉구\n",
       "150            현대주유소   S-OIL    서울 양천구 남부순환로 372 (신월동)  1249  Y  양천구\n",
       "149          가로공원주유소   SK에너지    서울 양천구 가로공원로 165 (신월동)  1249  N  양천구\n",
       "148       개나리Self주유소   SK에너지    서울 양천구 남부순환로 442 (신월동)  1249  Y  양천구\n",
       "194         북서울고속주유소   S-OIL      서울 강북구 삼양로 410 (수유동)  1249  Y  강북구\n",
       "195         (주)석산에너지  현대오일뱅크      서울 강북구 삼양로 316 (수유동)  1249  Y  강북구\n",
       "196           수유동주유소   GS칼텍스      서울 강북구 도봉로 395 (수유동)  1249  Y  강북구"
      ]
     },
     "execution_count": 25,
     "metadata": {},
     "output_type": "execute_result"
    }
   ],
   "source": [
    "# 하위 10개\n",
    "oil_price_bottom10 = stations.sort_values(by='가격', ascending=True).head(10)\n",
    "oil_price_bottom10"
   ]
  },
  {
   "cell_type": "markdown",
   "metadata": {},
   "source": [
    "## google map api로 위도 경도 얻기"
   ]
  },
  {
   "cell_type": "code",
   "execution_count": 26,
   "metadata": {
    "ExecuteTime": {
     "end_time": "2020-11-23T15:22:56.645200Z",
     "start_time": "2020-11-23T15:22:56.639213Z"
    }
   },
   "outputs": [],
   "source": [
    "gmap_key = '***'\n",
    "gmaps = googlemaps.Client(key=gmap_key)"
   ]
  },
  {
   "cell_type": "code",
   "execution_count": 27,
   "metadata": {
    "ExecuteTime": {
     "end_time": "2020-11-23T15:27:49.749647Z",
     "start_time": "2020-11-23T15:27:45.805000Z"
    }
   },
   "outputs": [
    {
     "data": {
      "application/vnd.jupyter.widget-view+json": {
       "model_id": "0b5b7395de6246c4859b57b06c92e3c6",
       "version_major": 2,
       "version_minor": 0
      },
      "text/plain": [
       "HBox(children=(FloatProgress(value=0.0, max=10.0), HTML(value='')))"
      ]
     },
     "metadata": {},
     "output_type": "display_data"
    },
    {
     "name": "stdout",
     "output_type": "stream",
     "text": [
      "\n"
     ]
    }
   ],
   "source": [
    "from tqdm.notebook import tqdm\n",
    "import numpy as np\n",
    "\n",
    "lat = []\n",
    "lng = []\n",
    "\n",
    "for n in tqdm(oil_price_top10.index):\n",
    "    try:\n",
    "        tmp_address = str(oil_price_top10['주소'][n]).split('(')[0]   # (**동) 제거\n",
    "        tmp_map = gmaps.geocode(tmp_address)\n",
    "        \n",
    "        tmp_loc = tmp_map[0].get('geometry')\n",
    "        lat.append(tmp_loc['location']['lat'])\n",
    "        lng.append(tmp_loc['location']['lng'])\n",
    "        \n",
    "    except:\n",
    "        lat.append(np.nan)\n",
    "        lng.append(np.nan)\n",
    "        print('Here is nan !')"
   ]
  },
  {
   "cell_type": "code",
   "execution_count": 29,
   "metadata": {
    "ExecuteTime": {
     "end_time": "2020-11-23T15:28:31.297685Z",
     "start_time": "2020-11-23T15:28:31.273748Z"
    }
   },
   "outputs": [
    {
     "data": {
      "text/html": [
       "<div>\n",
       "<style scoped>\n",
       "    .dataframe tbody tr th:only-of-type {\n",
       "        vertical-align: middle;\n",
       "    }\n",
       "\n",
       "    .dataframe tbody tr th {\n",
       "        vertical-align: top;\n",
       "    }\n",
       "\n",
       "    .dataframe thead th {\n",
       "        text-align: right;\n",
       "    }\n",
       "</style>\n",
       "<table border=\"1\" class=\"dataframe\">\n",
       "  <thead>\n",
       "    <tr style=\"text-align: right;\">\n",
       "      <th></th>\n",
       "      <th>상호</th>\n",
       "      <th>브랜드</th>\n",
       "      <th>주소</th>\n",
       "      <th>가격</th>\n",
       "      <th>셀프</th>\n",
       "      <th>구</th>\n",
       "      <th>lat</th>\n",
       "      <th>lng</th>\n",
       "    </tr>\n",
       "  </thead>\n",
       "  <tbody>\n",
       "    <tr>\n",
       "      <th>248</th>\n",
       "      <td>서남주유소</td>\n",
       "      <td>SK에너지</td>\n",
       "      <td>서울 중구 통일로 30</td>\n",
       "      <td>2183</td>\n",
       "      <td>N</td>\n",
       "      <td>중구</td>\n",
       "      <td>37.558348</td>\n",
       "      <td>126.972090</td>\n",
       "    </tr>\n",
       "    <tr>\n",
       "      <th>216</th>\n",
       "      <td>서계주유소</td>\n",
       "      <td>GS칼텍스</td>\n",
       "      <td>서울 용산구 청파로 367 (서계동)</td>\n",
       "      <td>2089</td>\n",
       "      <td>N</td>\n",
       "      <td>용산구</td>\n",
       "      <td>37.552290</td>\n",
       "      <td>126.968935</td>\n",
       "    </tr>\n",
       "    <tr>\n",
       "      <th>247</th>\n",
       "      <td>필동주유소</td>\n",
       "      <td>GS칼텍스</td>\n",
       "      <td>서울 중구  퇴계로 196 (필동2가)</td>\n",
       "      <td>2079</td>\n",
       "      <td>N</td>\n",
       "      <td>중구</td>\n",
       "      <td>37.560850</td>\n",
       "      <td>126.993653</td>\n",
       "    </tr>\n",
       "    <tr>\n",
       "      <th>246</th>\n",
       "      <td>SK에너지(주) 퇴계로주유소</td>\n",
       "      <td>SK에너지</td>\n",
       "      <td>서울 중구 퇴계로 228 (필동2가)</td>\n",
       "      <td>2069</td>\n",
       "      <td>N</td>\n",
       "      <td>중구</td>\n",
       "      <td>37.561648</td>\n",
       "      <td>126.997142</td>\n",
       "    </tr>\n",
       "    <tr>\n",
       "      <th>396</th>\n",
       "      <td>뉴서울(강남)</td>\n",
       "      <td>SK에너지</td>\n",
       "      <td>서울 강남구 언주로 716 (논현동)</td>\n",
       "      <td>2025</td>\n",
       "      <td>N</td>\n",
       "      <td>강남구</td>\n",
       "      <td>37.517636</td>\n",
       "      <td>127.035756</td>\n",
       "    </tr>\n",
       "    <tr>\n",
       "      <th>238</th>\n",
       "      <td>(주)대양씨앤씨 사직주유소</td>\n",
       "      <td>GS칼텍스</td>\n",
       "      <td>서울 종로구 사직로 65 (사직동)</td>\n",
       "      <td>1998</td>\n",
       "      <td>N</td>\n",
       "      <td>종로구</td>\n",
       "      <td>37.574464</td>\n",
       "      <td>126.966618</td>\n",
       "    </tr>\n",
       "    <tr>\n",
       "      <th>215</th>\n",
       "      <td>에너비스</td>\n",
       "      <td>SK에너지</td>\n",
       "      <td>서울 용산구 한남대로 82 (한남동)</td>\n",
       "      <td>1998</td>\n",
       "      <td>N</td>\n",
       "      <td>용산구</td>\n",
       "      <td>37.535952</td>\n",
       "      <td>127.006130</td>\n",
       "    </tr>\n",
       "    <tr>\n",
       "      <th>237</th>\n",
       "      <td>(주)중앙에너비스 혜화주유소</td>\n",
       "      <td>SK에너지</td>\n",
       "      <td>서울 종로구 창경궁로35길 1</td>\n",
       "      <td>1998</td>\n",
       "      <td>N</td>\n",
       "      <td>종로구</td>\n",
       "      <td>37.586068</td>\n",
       "      <td>127.001058</td>\n",
       "    </tr>\n",
       "    <tr>\n",
       "      <th>236</th>\n",
       "      <td>경복궁주유소</td>\n",
       "      <td>GS칼텍스</td>\n",
       "      <td>서울 종로구 율곡로 6 (중학동)</td>\n",
       "      <td>1960</td>\n",
       "      <td>N</td>\n",
       "      <td>종로구</td>\n",
       "      <td>37.575416</td>\n",
       "      <td>126.980132</td>\n",
       "    </tr>\n",
       "    <tr>\n",
       "      <th>193</th>\n",
       "      <td>SJ오일(주) 여의도주유소</td>\n",
       "      <td>GS칼텍스</td>\n",
       "      <td>서울 영등포구 은행로 64</td>\n",
       "      <td>1939</td>\n",
       "      <td>N</td>\n",
       "      <td>영등포구</td>\n",
       "      <td>37.530338</td>\n",
       "      <td>126.925579</td>\n",
       "    </tr>\n",
       "  </tbody>\n",
       "</table>\n",
       "</div>"
      ],
      "text/plain": [
       "                  상호    브랜드                     주소    가격 셀프     구        lat  \\\n",
       "248            서남주유소  SK에너지           서울 중구 통일로 30  2183  N    중구  37.558348   \n",
       "216            서계주유소  GS칼텍스   서울 용산구 청파로 367 (서계동)  2089  N   용산구  37.552290   \n",
       "247            필동주유소  GS칼텍스  서울 중구  퇴계로 196 (필동2가)  2079  N    중구  37.560850   \n",
       "246  SK에너지(주) 퇴계로주유소  SK에너지   서울 중구 퇴계로 228 (필동2가)  2069  N    중구  37.561648   \n",
       "396          뉴서울(강남)  SK에너지   서울 강남구 언주로 716 (논현동)  2025  N   강남구  37.517636   \n",
       "238   (주)대양씨앤씨 사직주유소  GS칼텍스    서울 종로구 사직로 65 (사직동)  1998  N   종로구  37.574464   \n",
       "215             에너비스  SK에너지   서울 용산구 한남대로 82 (한남동)  1998  N   용산구  37.535952   \n",
       "237  (주)중앙에너비스 혜화주유소  SK에너지       서울 종로구 창경궁로35길 1  1998  N   종로구  37.586068   \n",
       "236           경복궁주유소  GS칼텍스     서울 종로구 율곡로 6 (중학동)  1960  N   종로구  37.575416   \n",
       "193   SJ오일(주) 여의도주유소  GS칼텍스         서울 영등포구 은행로 64  1939  N  영등포구  37.530338   \n",
       "\n",
       "            lng  \n",
       "248  126.972090  \n",
       "216  126.968935  \n",
       "247  126.993653  \n",
       "246  126.997142  \n",
       "396  127.035756  \n",
       "238  126.966618  \n",
       "215  127.006130  \n",
       "237  127.001058  \n",
       "236  126.980132  \n",
       "193  126.925579  "
      ]
     },
     "execution_count": 29,
     "metadata": {},
     "output_type": "execute_result"
    }
   ],
   "source": [
    "oil_price_top10['lat'] = lat\n",
    "oil_price_top10['lng'] = lng\n",
    "oil_price_top10"
   ]
  },
  {
   "cell_type": "code",
   "execution_count": 30,
   "metadata": {
    "ExecuteTime": {
     "end_time": "2020-11-23T15:29:27.259942Z",
     "start_time": "2020-11-23T15:29:23.728347Z"
    }
   },
   "outputs": [
    {
     "data": {
      "application/vnd.jupyter.widget-view+json": {
       "model_id": "63fa6f2ce7a341a2bb744d11902126f4",
       "version_major": 2,
       "version_minor": 0
      },
      "text/plain": [
       "HBox(children=(FloatProgress(value=0.0, max=10.0), HTML(value='')))"
      ]
     },
     "metadata": {},
     "output_type": "display_data"
    },
    {
     "name": "stdout",
     "output_type": "stream",
     "text": [
      "\n"
     ]
    }
   ],
   "source": [
    "lat = []\n",
    "lng = []\n",
    "\n",
    "for n in tqdm(oil_price_bottom10.index):\n",
    "    try:\n",
    "        tmp_address = str(oil_price_bottom10['주소'][n]).split('(')[0]   # (**동) 제거\n",
    "        tmp_map = gmaps.geocode(tmp_address)\n",
    "        \n",
    "        tmp_loc = tmp_map[0].get('geometry')\n",
    "        lat.append(tmp_loc['location']['lat'])\n",
    "        lng.append(tmp_loc['location']['lng'])\n",
    "        \n",
    "    except:\n",
    "        lat.append(np.nan)\n",
    "        lng.append(np.nan)\n",
    "        print('Here is nan !')"
   ]
  },
  {
   "cell_type": "code",
   "execution_count": 31,
   "metadata": {
    "ExecuteTime": {
     "end_time": "2020-11-23T15:29:28.053383Z",
     "start_time": "2020-11-23T15:29:28.012492Z"
    }
   },
   "outputs": [
    {
     "data": {
      "text/html": [
       "<div>\n",
       "<style scoped>\n",
       "    .dataframe tbody tr th:only-of-type {\n",
       "        vertical-align: middle;\n",
       "    }\n",
       "\n",
       "    .dataframe tbody tr th {\n",
       "        vertical-align: top;\n",
       "    }\n",
       "\n",
       "    .dataframe thead th {\n",
       "        text-align: right;\n",
       "    }\n",
       "</style>\n",
       "<table border=\"1\" class=\"dataframe\">\n",
       "  <thead>\n",
       "    <tr style=\"text-align: right;\">\n",
       "      <th></th>\n",
       "      <th>상호</th>\n",
       "      <th>브랜드</th>\n",
       "      <th>주소</th>\n",
       "      <th>가격</th>\n",
       "      <th>셀프</th>\n",
       "      <th>구</th>\n",
       "      <th>lat</th>\n",
       "      <th>lng</th>\n",
       "    </tr>\n",
       "  </thead>\n",
       "  <tbody>\n",
       "    <tr>\n",
       "      <th>262</th>\n",
       "      <td>뉴신정주유소</td>\n",
       "      <td>알뜰주유소</td>\n",
       "      <td>서울 강서구 곰달래로 207(화곡동)</td>\n",
       "      <td>1243</td>\n",
       "      <td>N</td>\n",
       "      <td>강서구</td>\n",
       "      <td>37.531554</td>\n",
       "      <td>126.856024</td>\n",
       "    </tr>\n",
       "    <tr>\n",
       "      <th>263</th>\n",
       "      <td>화곡역주유소</td>\n",
       "      <td>알뜰주유소</td>\n",
       "      <td>서울특별시 강서구  강서로 154 (화곡동)</td>\n",
       "      <td>1243</td>\n",
       "      <td>Y</td>\n",
       "      <td>강서구</td>\n",
       "      <td>37.540657</td>\n",
       "      <td>126.841506</td>\n",
       "    </tr>\n",
       "    <tr>\n",
       "      <th>63</th>\n",
       "      <td>만남의광장주유소</td>\n",
       "      <td>알뜰(ex)</td>\n",
       "      <td>서울 서초구 양재대로12길 73-71</td>\n",
       "      <td>1244</td>\n",
       "      <td>Y</td>\n",
       "      <td>서초구</td>\n",
       "      <td>37.459906</td>\n",
       "      <td>127.042060</td>\n",
       "    </tr>\n",
       "    <tr>\n",
       "      <th>354</th>\n",
       "      <td>도봉제일주유소(주)송만에너지</td>\n",
       "      <td>현대오일뱅크</td>\n",
       "      <td>서울 도봉구 도봉로 783 (도봉동)</td>\n",
       "      <td>1249</td>\n",
       "      <td>N</td>\n",
       "      <td>도봉구</td>\n",
       "      <td>37.674434</td>\n",
       "      <td>127.044051</td>\n",
       "    </tr>\n",
       "    <tr>\n",
       "      <th>150</th>\n",
       "      <td>현대주유소</td>\n",
       "      <td>S-OIL</td>\n",
       "      <td>서울 양천구 남부순환로 372 (신월동)</td>\n",
       "      <td>1249</td>\n",
       "      <td>Y</td>\n",
       "      <td>양천구</td>\n",
       "      <td>37.533811</td>\n",
       "      <td>126.829240</td>\n",
       "    </tr>\n",
       "    <tr>\n",
       "      <th>149</th>\n",
       "      <td>가로공원주유소</td>\n",
       "      <td>SK에너지</td>\n",
       "      <td>서울 양천구 가로공원로 165 (신월동)</td>\n",
       "      <td>1249</td>\n",
       "      <td>N</td>\n",
       "      <td>양천구</td>\n",
       "      <td>37.536940</td>\n",
       "      <td>126.834278</td>\n",
       "    </tr>\n",
       "    <tr>\n",
       "      <th>148</th>\n",
       "      <td>개나리Self주유소</td>\n",
       "      <td>SK에너지</td>\n",
       "      <td>서울 양천구 남부순환로 442 (신월동)</td>\n",
       "      <td>1249</td>\n",
       "      <td>Y</td>\n",
       "      <td>양천구</td>\n",
       "      <td>37.528087</td>\n",
       "      <td>126.832981</td>\n",
       "    </tr>\n",
       "    <tr>\n",
       "      <th>194</th>\n",
       "      <td>북서울고속주유소</td>\n",
       "      <td>S-OIL</td>\n",
       "      <td>서울 강북구 삼양로 410 (수유동)</td>\n",
       "      <td>1249</td>\n",
       "      <td>Y</td>\n",
       "      <td>강북구</td>\n",
       "      <td>37.640155</td>\n",
       "      <td>127.017203</td>\n",
       "    </tr>\n",
       "    <tr>\n",
       "      <th>195</th>\n",
       "      <td>(주)석산에너지</td>\n",
       "      <td>현대오일뱅크</td>\n",
       "      <td>서울 강북구 삼양로 316 (수유동)</td>\n",
       "      <td>1249</td>\n",
       "      <td>Y</td>\n",
       "      <td>강북구</td>\n",
       "      <td>37.631582</td>\n",
       "      <td>127.017939</td>\n",
       "    </tr>\n",
       "    <tr>\n",
       "      <th>196</th>\n",
       "      <td>수유동주유소</td>\n",
       "      <td>GS칼텍스</td>\n",
       "      <td>서울 강북구 도봉로 395 (수유동)</td>\n",
       "      <td>1249</td>\n",
       "      <td>Y</td>\n",
       "      <td>강북구</td>\n",
       "      <td>37.642140</td>\n",
       "      <td>127.029568</td>\n",
       "    </tr>\n",
       "  </tbody>\n",
       "</table>\n",
       "</div>"
      ],
      "text/plain": [
       "                  상호     브랜드                        주소    가격 셀프    구  \\\n",
       "262           뉴신정주유소   알뜰주유소      서울 강서구 곰달래로 207(화곡동)  1243  N  강서구   \n",
       "263           화곡역주유소   알뜰주유소  서울특별시 강서구  강서로 154 (화곡동)  1243  Y  강서구   \n",
       "63          만남의광장주유소  알뜰(ex)      서울 서초구 양재대로12길 73-71  1244  Y  서초구   \n",
       "354  도봉제일주유소(주)송만에너지  현대오일뱅크      서울 도봉구 도봉로 783 (도봉동)  1249  N  도봉구   \n",
       "150            현대주유소   S-OIL    서울 양천구 남부순환로 372 (신월동)  1249  Y  양천구   \n",
       "149          가로공원주유소   SK에너지    서울 양천구 가로공원로 165 (신월동)  1249  N  양천구   \n",
       "148       개나리Self주유소   SK에너지    서울 양천구 남부순환로 442 (신월동)  1249  Y  양천구   \n",
       "194         북서울고속주유소   S-OIL      서울 강북구 삼양로 410 (수유동)  1249  Y  강북구   \n",
       "195         (주)석산에너지  현대오일뱅크      서울 강북구 삼양로 316 (수유동)  1249  Y  강북구   \n",
       "196           수유동주유소   GS칼텍스      서울 강북구 도봉로 395 (수유동)  1249  Y  강북구   \n",
       "\n",
       "           lat         lng  \n",
       "262  37.531554  126.856024  \n",
       "263  37.540657  126.841506  \n",
       "63   37.459906  127.042060  \n",
       "354  37.674434  127.044051  \n",
       "150  37.533811  126.829240  \n",
       "149  37.536940  126.834278  \n",
       "148  37.528087  126.832981  \n",
       "194  37.640155  127.017203  \n",
       "195  37.631582  127.017939  \n",
       "196  37.642140  127.029568  "
      ]
     },
     "execution_count": 31,
     "metadata": {},
     "output_type": "execute_result"
    }
   ],
   "source": [
    "oil_price_bottom10['lat'] = lat\n",
    "oil_price_bottom10['lng'] = lng\n",
    "oil_price_bottom10"
   ]
  },
  {
   "cell_type": "code",
   "execution_count": 32,
   "metadata": {
    "ExecuteTime": {
     "end_time": "2020-11-23T15:45:58.964210Z",
     "start_time": "2020-11-23T15:45:58.791706Z"
    }
   },
   "outputs": [
    {
     "data": {
      "text/html": [
       "<div style=\"width:100%;\"><div style=\"position:relative;width:100%;height:0;padding-bottom:60%;\"><span style=\"color:#565656\">Make this Notebook Trusted to load map: File -> Trust Notebook</span><iframe src=\"about:blank\" style=\"position:absolute;width:100%;height:100%;left:0;top:0;border:none !important;\" data-html=%3C%21DOCTYPE%20html%3E%0A%3Chead%3E%20%20%20%20%0A%20%20%20%20%3Cmeta%20http-equiv%3D%22content-type%22%20content%3D%22text/html%3B%20charset%3DUTF-8%22%20/%3E%0A%20%20%20%20%0A%20%20%20%20%20%20%20%20%3Cscript%3E%0A%20%20%20%20%20%20%20%20%20%20%20%20L_NO_TOUCH%20%3D%20false%3B%0A%20%20%20%20%20%20%20%20%20%20%20%20L_DISABLE_3D%20%3D%20false%3B%0A%20%20%20%20%20%20%20%20%3C/script%3E%0A%20%20%20%20%0A%20%20%20%20%3Cscript%20src%3D%22https%3A//cdn.jsdelivr.net/npm/leaflet%401.6.0/dist/leaflet.js%22%3E%3C/script%3E%0A%20%20%20%20%3Cscript%20src%3D%22https%3A//code.jquery.com/jquery-1.12.4.min.js%22%3E%3C/script%3E%0A%20%20%20%20%3Cscript%20src%3D%22https%3A//maxcdn.bootstrapcdn.com/bootstrap/3.2.0/js/bootstrap.min.js%22%3E%3C/script%3E%0A%20%20%20%20%3Cscript%20src%3D%22https%3A//cdnjs.cloudflare.com/ajax/libs/Leaflet.awesome-markers/2.0.2/leaflet.awesome-markers.js%22%3E%3C/script%3E%0A%20%20%20%20%3Clink%20rel%3D%22stylesheet%22%20href%3D%22https%3A//cdn.jsdelivr.net/npm/leaflet%401.6.0/dist/leaflet.css%22/%3E%0A%20%20%20%20%3Clink%20rel%3D%22stylesheet%22%20href%3D%22https%3A//maxcdn.bootstrapcdn.com/bootstrap/3.2.0/css/bootstrap.min.css%22/%3E%0A%20%20%20%20%3Clink%20rel%3D%22stylesheet%22%20href%3D%22https%3A//maxcdn.bootstrapcdn.com/bootstrap/3.2.0/css/bootstrap-theme.min.css%22/%3E%0A%20%20%20%20%3Clink%20rel%3D%22stylesheet%22%20href%3D%22https%3A//maxcdn.bootstrapcdn.com/font-awesome/4.6.3/css/font-awesome.min.css%22/%3E%0A%20%20%20%20%3Clink%20rel%3D%22stylesheet%22%20href%3D%22https%3A//cdnjs.cloudflare.com/ajax/libs/Leaflet.awesome-markers/2.0.2/leaflet.awesome-markers.css%22/%3E%0A%20%20%20%20%3Clink%20rel%3D%22stylesheet%22%20href%3D%22https%3A//rawcdn.githack.com/python-visualization/folium/master/folium/templates/leaflet.awesome.rotate.css%22/%3E%0A%20%20%20%20%3Cstyle%3Ehtml%2C%20body%20%7Bwidth%3A%20100%25%3Bheight%3A%20100%25%3Bmargin%3A%200%3Bpadding%3A%200%3B%7D%3C/style%3E%0A%20%20%20%20%3Cstyle%3E%23map%20%7Bposition%3Aabsolute%3Btop%3A0%3Bbottom%3A0%3Bright%3A0%3Bleft%3A0%3B%7D%3C/style%3E%0A%20%20%20%20%0A%20%20%20%20%20%20%20%20%20%20%20%20%3Cmeta%20name%3D%22viewport%22%20content%3D%22width%3Ddevice-width%2C%0A%20%20%20%20%20%20%20%20%20%20%20%20%20%20%20%20initial-scale%3D1.0%2C%20maximum-scale%3D1.0%2C%20user-scalable%3Dno%22%20/%3E%0A%20%20%20%20%20%20%20%20%20%20%20%20%3Cstyle%3E%0A%20%20%20%20%20%20%20%20%20%20%20%20%20%20%20%20%23map_e15f7a34901d40ea9ae54b3367b7221e%20%7B%0A%20%20%20%20%20%20%20%20%20%20%20%20%20%20%20%20%20%20%20%20position%3A%20relative%3B%0A%20%20%20%20%20%20%20%20%20%20%20%20%20%20%20%20%20%20%20%20width%3A%20100.0%25%3B%0A%20%20%20%20%20%20%20%20%20%20%20%20%20%20%20%20%20%20%20%20height%3A%20100.0%25%3B%0A%20%20%20%20%20%20%20%20%20%20%20%20%20%20%20%20%20%20%20%20left%3A%200.0%25%3B%0A%20%20%20%20%20%20%20%20%20%20%20%20%20%20%20%20%20%20%20%20top%3A%200.0%25%3B%0A%20%20%20%20%20%20%20%20%20%20%20%20%20%20%20%20%7D%0A%20%20%20%20%20%20%20%20%20%20%20%20%3C/style%3E%0A%20%20%20%20%20%20%20%20%0A%3C/head%3E%0A%3Cbody%3E%20%20%20%20%0A%20%20%20%20%0A%20%20%20%20%20%20%20%20%20%20%20%20%3Cdiv%20class%3D%22folium-map%22%20id%3D%22map_e15f7a34901d40ea9ae54b3367b7221e%22%20%3E%3C/div%3E%0A%20%20%20%20%20%20%20%20%0A%3C/body%3E%0A%3Cscript%3E%20%20%20%20%0A%20%20%20%20%0A%20%20%20%20%20%20%20%20%20%20%20%20var%20map_e15f7a34901d40ea9ae54b3367b7221e%20%3D%20L.map%28%0A%20%20%20%20%20%20%20%20%20%20%20%20%20%20%20%20%22map_e15f7a34901d40ea9ae54b3367b7221e%22%2C%0A%20%20%20%20%20%20%20%20%20%20%20%20%20%20%20%20%7B%0A%20%20%20%20%20%20%20%20%20%20%20%20%20%20%20%20%20%20%20%20center%3A%20%5B37.5202%2C%20126.975%5D%2C%0A%20%20%20%20%20%20%20%20%20%20%20%20%20%20%20%20%20%20%20%20crs%3A%20L.CRS.EPSG3857%2C%0A%20%20%20%20%20%20%20%20%20%20%20%20%20%20%20%20%20%20%20%20zoom%3A%2010.5%2C%0A%20%20%20%20%20%20%20%20%20%20%20%20%20%20%20%20%20%20%20%20zoomControl%3A%20true%2C%0A%20%20%20%20%20%20%20%20%20%20%20%20%20%20%20%20%20%20%20%20preferCanvas%3A%20false%2C%0A%20%20%20%20%20%20%20%20%20%20%20%20%20%20%20%20%7D%0A%20%20%20%20%20%20%20%20%20%20%20%20%29%3B%0A%0A%20%20%20%20%20%20%20%20%20%20%20%20%0A%0A%20%20%20%20%20%20%20%20%0A%20%20%20%20%0A%20%20%20%20%20%20%20%20%20%20%20%20var%20tile_layer_7b9d790210394766817b7f59106d86fb%20%3D%20L.tileLayer%28%0A%20%20%20%20%20%20%20%20%20%20%20%20%20%20%20%20%22https%3A//%7Bs%7D.tile.openstreetmap.org/%7Bz%7D/%7Bx%7D/%7By%7D.png%22%2C%0A%20%20%20%20%20%20%20%20%20%20%20%20%20%20%20%20%7B%22attribution%22%3A%20%22Data%20by%20%5Cu0026copy%3B%20%5Cu003ca%20href%3D%5C%22http%3A//openstreetmap.org%5C%22%5Cu003eOpenStreetMap%5Cu003c/a%5Cu003e%2C%20under%20%5Cu003ca%20href%3D%5C%22http%3A//www.openstreetmap.org/copyright%5C%22%5Cu003eODbL%5Cu003c/a%5Cu003e.%22%2C%20%22detectRetina%22%3A%20false%2C%20%22maxNativeZoom%22%3A%2018%2C%20%22maxZoom%22%3A%2018%2C%20%22minZoom%22%3A%200%2C%20%22noWrap%22%3A%20false%2C%20%22opacity%22%3A%201%2C%20%22subdomains%22%3A%20%22abc%22%2C%20%22tms%22%3A%20false%7D%0A%20%20%20%20%20%20%20%20%20%20%20%20%29.addTo%28map_e15f7a34901d40ea9ae54b3367b7221e%29%3B%0A%20%20%20%20%20%20%20%20%0A%20%20%20%20%0A%20%20%20%20%20%20%20%20%20%20%20%20var%20circle_marker_98d507218c1344319c46e70a4325dd67%20%3D%20L.circleMarker%28%0A%20%20%20%20%20%20%20%20%20%20%20%20%20%20%20%20%5B37.5583477%2C%20126.9720901%5D%2C%0A%20%20%20%20%20%20%20%20%20%20%20%20%20%20%20%20%7B%22bubblingMouseEvents%22%3A%20true%2C%20%22color%22%3A%20%22%23CD3181%22%2C%20%22dashArray%22%3A%20null%2C%20%22dashOffset%22%3A%20null%2C%20%22fill%22%3A%20true%2C%20%22fillColor%22%3A%20%22%23CD3181%22%2C%20%22fillOpacity%22%3A%200.2%2C%20%22fillRule%22%3A%20%22evenodd%22%2C%20%22lineCap%22%3A%20%22round%22%2C%20%22lineJoin%22%3A%20%22round%22%2C%20%22opacity%22%3A%201.0%2C%20%22radius%22%3A%2015%2C%20%22stroke%22%3A%20true%2C%20%22weight%22%3A%203%7D%0A%20%20%20%20%20%20%20%20%20%20%20%20%29.addTo%28map_e15f7a34901d40ea9ae54b3367b7221e%29%3B%0A%20%20%20%20%20%20%20%20%0A%20%20%20%20%0A%20%20%20%20%20%20%20%20%20%20%20%20var%20circle_marker_c6155e99fdb84017be57e0ecd2f3462f%20%3D%20L.circleMarker%28%0A%20%20%20%20%20%20%20%20%20%20%20%20%20%20%20%20%5B37.5315539%2C%20126.8560239%5D%2C%0A%20%20%20%20%20%20%20%20%20%20%20%20%20%20%20%20%7B%22bubblingMouseEvents%22%3A%20true%2C%20%22color%22%3A%20%22%233186cc%22%2C%20%22dashArray%22%3A%20null%2C%20%22dashOffset%22%3A%20null%2C%20%22fill%22%3A%20true%2C%20%22fillColor%22%3A%20%22%233186cc%22%2C%20%22fillOpacity%22%3A%200.2%2C%20%22fillRule%22%3A%20%22evenodd%22%2C%20%22lineCap%22%3A%20%22round%22%2C%20%22lineJoin%22%3A%20%22round%22%2C%20%22opacity%22%3A%201.0%2C%20%22radius%22%3A%2015%2C%20%22stroke%22%3A%20true%2C%20%22weight%22%3A%203%7D%0A%20%20%20%20%20%20%20%20%20%20%20%20%29.addTo%28map_e15f7a34901d40ea9ae54b3367b7221e%29%3B%0A%20%20%20%20%20%20%20%20%0A%20%20%20%20%0A%20%20%20%20%20%20%20%20%20%20%20%20var%20circle_marker_987ba28751f0450786796d5535c70342%20%3D%20L.circleMarker%28%0A%20%20%20%20%20%20%20%20%20%20%20%20%20%20%20%20%5B37.54065689999999%2C%20126.8415062%5D%2C%0A%20%20%20%20%20%20%20%20%20%20%20%20%20%20%20%20%7B%22bubblingMouseEvents%22%3A%20true%2C%20%22color%22%3A%20%22%233186cc%22%2C%20%22dashArray%22%3A%20null%2C%20%22dashOffset%22%3A%20null%2C%20%22fill%22%3A%20true%2C%20%22fillColor%22%3A%20%22%233186cc%22%2C%20%22fillOpacity%22%3A%200.2%2C%20%22fillRule%22%3A%20%22evenodd%22%2C%20%22lineCap%22%3A%20%22round%22%2C%20%22lineJoin%22%3A%20%22round%22%2C%20%22opacity%22%3A%201.0%2C%20%22radius%22%3A%2015%2C%20%22stroke%22%3A%20true%2C%20%22weight%22%3A%203%7D%0A%20%20%20%20%20%20%20%20%20%20%20%20%29.addTo%28map_e15f7a34901d40ea9ae54b3367b7221e%29%3B%0A%20%20%20%20%20%20%20%20%0A%20%20%20%20%0A%20%20%20%20%20%20%20%20%20%20%20%20var%20circle_marker_9e05789841e948ad81614044465a65e6%20%3D%20L.circleMarker%28%0A%20%20%20%20%20%20%20%20%20%20%20%20%20%20%20%20%5B37.4599063%2C%20127.0420601%5D%2C%0A%20%20%20%20%20%20%20%20%20%20%20%20%20%20%20%20%7B%22bubblingMouseEvents%22%3A%20true%2C%20%22color%22%3A%20%22%233186cc%22%2C%20%22dashArray%22%3A%20null%2C%20%22dashOffset%22%3A%20null%2C%20%22fill%22%3A%20true%2C%20%22fillColor%22%3A%20%22%233186cc%22%2C%20%22fillOpacity%22%3A%200.2%2C%20%22fillRule%22%3A%20%22evenodd%22%2C%20%22lineCap%22%3A%20%22round%22%2C%20%22lineJoin%22%3A%20%22round%22%2C%20%22opacity%22%3A%201.0%2C%20%22radius%22%3A%2015%2C%20%22stroke%22%3A%20true%2C%20%22weight%22%3A%203%7D%0A%20%20%20%20%20%20%20%20%20%20%20%20%29.addTo%28map_e15f7a34901d40ea9ae54b3367b7221e%29%3B%0A%20%20%20%20%20%20%20%20%0A%20%20%20%20%0A%20%20%20%20%20%20%20%20%20%20%20%20var%20circle_marker_f20b8971ef75412a82e68d86dbfb9654%20%3D%20L.circleMarker%28%0A%20%20%20%20%20%20%20%20%20%20%20%20%20%20%20%20%5B37.674434%2C%20127.0440507%5D%2C%0A%20%20%20%20%20%20%20%20%20%20%20%20%20%20%20%20%7B%22bubblingMouseEvents%22%3A%20true%2C%20%22color%22%3A%20%22%233186cc%22%2C%20%22dashArray%22%3A%20null%2C%20%22dashOffset%22%3A%20null%2C%20%22fill%22%3A%20true%2C%20%22fillColor%22%3A%20%22%233186cc%22%2C%20%22fillOpacity%22%3A%200.2%2C%20%22fillRule%22%3A%20%22evenodd%22%2C%20%22lineCap%22%3A%20%22round%22%2C%20%22lineJoin%22%3A%20%22round%22%2C%20%22opacity%22%3A%201.0%2C%20%22radius%22%3A%2015%2C%20%22stroke%22%3A%20true%2C%20%22weight%22%3A%203%7D%0A%20%20%20%20%20%20%20%20%20%20%20%20%29.addTo%28map_e15f7a34901d40ea9ae54b3367b7221e%29%3B%0A%20%20%20%20%20%20%20%20%0A%20%20%20%20%0A%20%20%20%20%20%20%20%20%20%20%20%20var%20circle_marker_885f212a432b473ab1741a652a75cb19%20%3D%20L.circleMarker%28%0A%20%20%20%20%20%20%20%20%20%20%20%20%20%20%20%20%5B37.5338107%2C%20126.8292398%5D%2C%0A%20%20%20%20%20%20%20%20%20%20%20%20%20%20%20%20%7B%22bubblingMouseEvents%22%3A%20true%2C%20%22color%22%3A%20%22%233186cc%22%2C%20%22dashArray%22%3A%20null%2C%20%22dashOffset%22%3A%20null%2C%20%22fill%22%3A%20true%2C%20%22fillColor%22%3A%20%22%233186cc%22%2C%20%22fillOpacity%22%3A%200.2%2C%20%22fillRule%22%3A%20%22evenodd%22%2C%20%22lineCap%22%3A%20%22round%22%2C%20%22lineJoin%22%3A%20%22round%22%2C%20%22opacity%22%3A%201.0%2C%20%22radius%22%3A%2015%2C%20%22stroke%22%3A%20true%2C%20%22weight%22%3A%203%7D%0A%20%20%20%20%20%20%20%20%20%20%20%20%29.addTo%28map_e15f7a34901d40ea9ae54b3367b7221e%29%3B%0A%20%20%20%20%20%20%20%20%0A%20%20%20%20%0A%20%20%20%20%20%20%20%20%20%20%20%20var%20circle_marker_b4a34192403742269cb59d857e26bddf%20%3D%20L.circleMarker%28%0A%20%20%20%20%20%20%20%20%20%20%20%20%20%20%20%20%5B37.5369402%2C%20126.8342781%5D%2C%0A%20%20%20%20%20%20%20%20%20%20%20%20%20%20%20%20%7B%22bubblingMouseEvents%22%3A%20true%2C%20%22color%22%3A%20%22%233186cc%22%2C%20%22dashArray%22%3A%20null%2C%20%22dashOffset%22%3A%20null%2C%20%22fill%22%3A%20true%2C%20%22fillColor%22%3A%20%22%233186cc%22%2C%20%22fillOpacity%22%3A%200.2%2C%20%22fillRule%22%3A%20%22evenodd%22%2C%20%22lineCap%22%3A%20%22round%22%2C%20%22lineJoin%22%3A%20%22round%22%2C%20%22opacity%22%3A%201.0%2C%20%22radius%22%3A%2015%2C%20%22stroke%22%3A%20true%2C%20%22weight%22%3A%203%7D%0A%20%20%20%20%20%20%20%20%20%20%20%20%29.addTo%28map_e15f7a34901d40ea9ae54b3367b7221e%29%3B%0A%20%20%20%20%20%20%20%20%0A%20%20%20%20%0A%20%20%20%20%20%20%20%20%20%20%20%20var%20circle_marker_58fcb3abb13f4f6aad2495cfe5155ea6%20%3D%20L.circleMarker%28%0A%20%20%20%20%20%20%20%20%20%20%20%20%20%20%20%20%5B37.5280874%2C%20126.8329813%5D%2C%0A%20%20%20%20%20%20%20%20%20%20%20%20%20%20%20%20%7B%22bubblingMouseEvents%22%3A%20true%2C%20%22color%22%3A%20%22%233186cc%22%2C%20%22dashArray%22%3A%20null%2C%20%22dashOffset%22%3A%20null%2C%20%22fill%22%3A%20true%2C%20%22fillColor%22%3A%20%22%233186cc%22%2C%20%22fillOpacity%22%3A%200.2%2C%20%22fillRule%22%3A%20%22evenodd%22%2C%20%22lineCap%22%3A%20%22round%22%2C%20%22lineJoin%22%3A%20%22round%22%2C%20%22opacity%22%3A%201.0%2C%20%22radius%22%3A%2015%2C%20%22stroke%22%3A%20true%2C%20%22weight%22%3A%203%7D%0A%20%20%20%20%20%20%20%20%20%20%20%20%29.addTo%28map_e15f7a34901d40ea9ae54b3367b7221e%29%3B%0A%20%20%20%20%20%20%20%20%0A%20%20%20%20%0A%20%20%20%20%20%20%20%20%20%20%20%20var%20circle_marker_700d3ba709494256ab6b300bffb983de%20%3D%20L.circleMarker%28%0A%20%20%20%20%20%20%20%20%20%20%20%20%20%20%20%20%5B37.6401555%2C%20127.0172034%5D%2C%0A%20%20%20%20%20%20%20%20%20%20%20%20%20%20%20%20%7B%22bubblingMouseEvents%22%3A%20true%2C%20%22color%22%3A%20%22%233186cc%22%2C%20%22dashArray%22%3A%20null%2C%20%22dashOffset%22%3A%20null%2C%20%22fill%22%3A%20true%2C%20%22fillColor%22%3A%20%22%233186cc%22%2C%20%22fillOpacity%22%3A%200.2%2C%20%22fillRule%22%3A%20%22evenodd%22%2C%20%22lineCap%22%3A%20%22round%22%2C%20%22lineJoin%22%3A%20%22round%22%2C%20%22opacity%22%3A%201.0%2C%20%22radius%22%3A%2015%2C%20%22stroke%22%3A%20true%2C%20%22weight%22%3A%203%7D%0A%20%20%20%20%20%20%20%20%20%20%20%20%29.addTo%28map_e15f7a34901d40ea9ae54b3367b7221e%29%3B%0A%20%20%20%20%20%20%20%20%0A%20%20%20%20%0A%20%20%20%20%20%20%20%20%20%20%20%20var%20circle_marker_ac237d69913e40c7a71f8cb3960724cc%20%3D%20L.circleMarker%28%0A%20%20%20%20%20%20%20%20%20%20%20%20%20%20%20%20%5B37.6315821%2C%20127.0179395%5D%2C%0A%20%20%20%20%20%20%20%20%20%20%20%20%20%20%20%20%7B%22bubblingMouseEvents%22%3A%20true%2C%20%22color%22%3A%20%22%233186cc%22%2C%20%22dashArray%22%3A%20null%2C%20%22dashOffset%22%3A%20null%2C%20%22fill%22%3A%20true%2C%20%22fillColor%22%3A%20%22%233186cc%22%2C%20%22fillOpacity%22%3A%200.2%2C%20%22fillRule%22%3A%20%22evenodd%22%2C%20%22lineCap%22%3A%20%22round%22%2C%20%22lineJoin%22%3A%20%22round%22%2C%20%22opacity%22%3A%201.0%2C%20%22radius%22%3A%2015%2C%20%22stroke%22%3A%20true%2C%20%22weight%22%3A%203%7D%0A%20%20%20%20%20%20%20%20%20%20%20%20%29.addTo%28map_e15f7a34901d40ea9ae54b3367b7221e%29%3B%0A%20%20%20%20%20%20%20%20%0A%20%20%20%20%0A%20%20%20%20%20%20%20%20%20%20%20%20var%20circle_marker_bc50890a6f564983931af06ceedc99f4%20%3D%20L.circleMarker%28%0A%20%20%20%20%20%20%20%20%20%20%20%20%20%20%20%20%5B37.6421401%2C%20127.0295678%5D%2C%0A%20%20%20%20%20%20%20%20%20%20%20%20%20%20%20%20%7B%22bubblingMouseEvents%22%3A%20true%2C%20%22color%22%3A%20%22%233186cc%22%2C%20%22dashArray%22%3A%20null%2C%20%22dashOffset%22%3A%20null%2C%20%22fill%22%3A%20true%2C%20%22fillColor%22%3A%20%22%233186cc%22%2C%20%22fillOpacity%22%3A%200.2%2C%20%22fillRule%22%3A%20%22evenodd%22%2C%20%22lineCap%22%3A%20%22round%22%2C%20%22lineJoin%22%3A%20%22round%22%2C%20%22opacity%22%3A%201.0%2C%20%22radius%22%3A%2015%2C%20%22stroke%22%3A%20true%2C%20%22weight%22%3A%203%7D%0A%20%20%20%20%20%20%20%20%20%20%20%20%29.addTo%28map_e15f7a34901d40ea9ae54b3367b7221e%29%3B%0A%20%20%20%20%20%20%20%20%0A%20%20%20%20%0A%20%20%20%20%20%20%20%20%20%20%20%20var%20circle_marker_60b0045ad23e4ecb984034415b412a7f%20%3D%20L.circleMarker%28%0A%20%20%20%20%20%20%20%20%20%20%20%20%20%20%20%20%5B37.5522895%2C%20126.9689354%5D%2C%0A%20%20%20%20%20%20%20%20%20%20%20%20%20%20%20%20%7B%22bubblingMouseEvents%22%3A%20true%2C%20%22color%22%3A%20%22%23CD3181%22%2C%20%22dashArray%22%3A%20null%2C%20%22dashOffset%22%3A%20null%2C%20%22fill%22%3A%20true%2C%20%22fillColor%22%3A%20%22%23CD3181%22%2C%20%22fillOpacity%22%3A%200.2%2C%20%22fillRule%22%3A%20%22evenodd%22%2C%20%22lineCap%22%3A%20%22round%22%2C%20%22lineJoin%22%3A%20%22round%22%2C%20%22opacity%22%3A%201.0%2C%20%22radius%22%3A%2015%2C%20%22stroke%22%3A%20true%2C%20%22weight%22%3A%203%7D%0A%20%20%20%20%20%20%20%20%20%20%20%20%29.addTo%28map_e15f7a34901d40ea9ae54b3367b7221e%29%3B%0A%20%20%20%20%20%20%20%20%0A%20%20%20%20%0A%20%20%20%20%20%20%20%20%20%20%20%20var%20circle_marker_cced0b73411d4e80a207441523b7ea00%20%3D%20L.circleMarker%28%0A%20%20%20%20%20%20%20%20%20%20%20%20%20%20%20%20%5B37.5315539%2C%20126.8560239%5D%2C%0A%20%20%20%20%20%20%20%20%20%20%20%20%20%20%20%20%7B%22bubblingMouseEvents%22%3A%20true%2C%20%22color%22%3A%20%22%233186cc%22%2C%20%22dashArray%22%3A%20null%2C%20%22dashOffset%22%3A%20null%2C%20%22fill%22%3A%20true%2C%20%22fillColor%22%3A%20%22%233186cc%22%2C%20%22fillOpacity%22%3A%200.2%2C%20%22fillRule%22%3A%20%22evenodd%22%2C%20%22lineCap%22%3A%20%22round%22%2C%20%22lineJoin%22%3A%20%22round%22%2C%20%22opacity%22%3A%201.0%2C%20%22radius%22%3A%2015%2C%20%22stroke%22%3A%20true%2C%20%22weight%22%3A%203%7D%0A%20%20%20%20%20%20%20%20%20%20%20%20%29.addTo%28map_e15f7a34901d40ea9ae54b3367b7221e%29%3B%0A%20%20%20%20%20%20%20%20%0A%20%20%20%20%0A%20%20%20%20%20%20%20%20%20%20%20%20var%20circle_marker_b9ae85ccaff3405999687aceccf89557%20%3D%20L.circleMarker%28%0A%20%20%20%20%20%20%20%20%20%20%20%20%20%20%20%20%5B37.54065689999999%2C%20126.8415062%5D%2C%0A%20%20%20%20%20%20%20%20%20%20%20%20%20%20%20%20%7B%22bubblingMouseEvents%22%3A%20true%2C%20%22color%22%3A%20%22%233186cc%22%2C%20%22dashArray%22%3A%20null%2C%20%22dashOffset%22%3A%20null%2C%20%22fill%22%3A%20true%2C%20%22fillColor%22%3A%20%22%233186cc%22%2C%20%22fillOpacity%22%3A%200.2%2C%20%22fillRule%22%3A%20%22evenodd%22%2C%20%22lineCap%22%3A%20%22round%22%2C%20%22lineJoin%22%3A%20%22round%22%2C%20%22opacity%22%3A%201.0%2C%20%22radius%22%3A%2015%2C%20%22stroke%22%3A%20true%2C%20%22weight%22%3A%203%7D%0A%20%20%20%20%20%20%20%20%20%20%20%20%29.addTo%28map_e15f7a34901d40ea9ae54b3367b7221e%29%3B%0A%20%20%20%20%20%20%20%20%0A%20%20%20%20%0A%20%20%20%20%20%20%20%20%20%20%20%20var%20circle_marker_8e1986b4c99d495f9a413bf3438b11b6%20%3D%20L.circleMarker%28%0A%20%20%20%20%20%20%20%20%20%20%20%20%20%20%20%20%5B37.4599063%2C%20127.0420601%5D%2C%0A%20%20%20%20%20%20%20%20%20%20%20%20%20%20%20%20%7B%22bubblingMouseEvents%22%3A%20true%2C%20%22color%22%3A%20%22%233186cc%22%2C%20%22dashArray%22%3A%20null%2C%20%22dashOffset%22%3A%20null%2C%20%22fill%22%3A%20true%2C%20%22fillColor%22%3A%20%22%233186cc%22%2C%20%22fillOpacity%22%3A%200.2%2C%20%22fillRule%22%3A%20%22evenodd%22%2C%20%22lineCap%22%3A%20%22round%22%2C%20%22lineJoin%22%3A%20%22round%22%2C%20%22opacity%22%3A%201.0%2C%20%22radius%22%3A%2015%2C%20%22stroke%22%3A%20true%2C%20%22weight%22%3A%203%7D%0A%20%20%20%20%20%20%20%20%20%20%20%20%29.addTo%28map_e15f7a34901d40ea9ae54b3367b7221e%29%3B%0A%20%20%20%20%20%20%20%20%0A%20%20%20%20%0A%20%20%20%20%20%20%20%20%20%20%20%20var%20circle_marker_04c11f21c4214ba9915c7c31fca62db4%20%3D%20L.circleMarker%28%0A%20%20%20%20%20%20%20%20%20%20%20%20%20%20%20%20%5B37.674434%2C%20127.0440507%5D%2C%0A%20%20%20%20%20%20%20%20%20%20%20%20%20%20%20%20%7B%22bubblingMouseEvents%22%3A%20true%2C%20%22color%22%3A%20%22%233186cc%22%2C%20%22dashArray%22%3A%20null%2C%20%22dashOffset%22%3A%20null%2C%20%22fill%22%3A%20true%2C%20%22fillColor%22%3A%20%22%233186cc%22%2C%20%22fillOpacity%22%3A%200.2%2C%20%22fillRule%22%3A%20%22evenodd%22%2C%20%22lineCap%22%3A%20%22round%22%2C%20%22lineJoin%22%3A%20%22round%22%2C%20%22opacity%22%3A%201.0%2C%20%22radius%22%3A%2015%2C%20%22stroke%22%3A%20true%2C%20%22weight%22%3A%203%7D%0A%20%20%20%20%20%20%20%20%20%20%20%20%29.addTo%28map_e15f7a34901d40ea9ae54b3367b7221e%29%3B%0A%20%20%20%20%20%20%20%20%0A%20%20%20%20%0A%20%20%20%20%20%20%20%20%20%20%20%20var%20circle_marker_b21db342bf0448b3870b1683af3eec81%20%3D%20L.circleMarker%28%0A%20%20%20%20%20%20%20%20%20%20%20%20%20%20%20%20%5B37.5338107%2C%20126.8292398%5D%2C%0A%20%20%20%20%20%20%20%20%20%20%20%20%20%20%20%20%7B%22bubblingMouseEvents%22%3A%20true%2C%20%22color%22%3A%20%22%233186cc%22%2C%20%22dashArray%22%3A%20null%2C%20%22dashOffset%22%3A%20null%2C%20%22fill%22%3A%20true%2C%20%22fillColor%22%3A%20%22%233186cc%22%2C%20%22fillOpacity%22%3A%200.2%2C%20%22fillRule%22%3A%20%22evenodd%22%2C%20%22lineCap%22%3A%20%22round%22%2C%20%22lineJoin%22%3A%20%22round%22%2C%20%22opacity%22%3A%201.0%2C%20%22radius%22%3A%2015%2C%20%22stroke%22%3A%20true%2C%20%22weight%22%3A%203%7D%0A%20%20%20%20%20%20%20%20%20%20%20%20%29.addTo%28map_e15f7a34901d40ea9ae54b3367b7221e%29%3B%0A%20%20%20%20%20%20%20%20%0A%20%20%20%20%0A%20%20%20%20%20%20%20%20%20%20%20%20var%20circle_marker_fbedeb381f3c450488b5fc38fc23e4bf%20%3D%20L.circleMarker%28%0A%20%20%20%20%20%20%20%20%20%20%20%20%20%20%20%20%5B37.5369402%2C%20126.8342781%5D%2C%0A%20%20%20%20%20%20%20%20%20%20%20%20%20%20%20%20%7B%22bubblingMouseEvents%22%3A%20true%2C%20%22color%22%3A%20%22%233186cc%22%2C%20%22dashArray%22%3A%20null%2C%20%22dashOffset%22%3A%20null%2C%20%22fill%22%3A%20true%2C%20%22fillColor%22%3A%20%22%233186cc%22%2C%20%22fillOpacity%22%3A%200.2%2C%20%22fillRule%22%3A%20%22evenodd%22%2C%20%22lineCap%22%3A%20%22round%22%2C%20%22lineJoin%22%3A%20%22round%22%2C%20%22opacity%22%3A%201.0%2C%20%22radius%22%3A%2015%2C%20%22stroke%22%3A%20true%2C%20%22weight%22%3A%203%7D%0A%20%20%20%20%20%20%20%20%20%20%20%20%29.addTo%28map_e15f7a34901d40ea9ae54b3367b7221e%29%3B%0A%20%20%20%20%20%20%20%20%0A%20%20%20%20%0A%20%20%20%20%20%20%20%20%20%20%20%20var%20circle_marker_3bd355c48ef54d2a9b0cd7e8e220a63b%20%3D%20L.circleMarker%28%0A%20%20%20%20%20%20%20%20%20%20%20%20%20%20%20%20%5B37.5280874%2C%20126.8329813%5D%2C%0A%20%20%20%20%20%20%20%20%20%20%20%20%20%20%20%20%7B%22bubblingMouseEvents%22%3A%20true%2C%20%22color%22%3A%20%22%233186cc%22%2C%20%22dashArray%22%3A%20null%2C%20%22dashOffset%22%3A%20null%2C%20%22fill%22%3A%20true%2C%20%22fillColor%22%3A%20%22%233186cc%22%2C%20%22fillOpacity%22%3A%200.2%2C%20%22fillRule%22%3A%20%22evenodd%22%2C%20%22lineCap%22%3A%20%22round%22%2C%20%22lineJoin%22%3A%20%22round%22%2C%20%22opacity%22%3A%201.0%2C%20%22radius%22%3A%2015%2C%20%22stroke%22%3A%20true%2C%20%22weight%22%3A%203%7D%0A%20%20%20%20%20%20%20%20%20%20%20%20%29.addTo%28map_e15f7a34901d40ea9ae54b3367b7221e%29%3B%0A%20%20%20%20%20%20%20%20%0A%20%20%20%20%0A%20%20%20%20%20%20%20%20%20%20%20%20var%20circle_marker_7881582b841c4022a42a642128f1e88a%20%3D%20L.circleMarker%28%0A%20%20%20%20%20%20%20%20%20%20%20%20%20%20%20%20%5B37.6401555%2C%20127.0172034%5D%2C%0A%20%20%20%20%20%20%20%20%20%20%20%20%20%20%20%20%7B%22bubblingMouseEvents%22%3A%20true%2C%20%22color%22%3A%20%22%233186cc%22%2C%20%22dashArray%22%3A%20null%2C%20%22dashOffset%22%3A%20null%2C%20%22fill%22%3A%20true%2C%20%22fillColor%22%3A%20%22%233186cc%22%2C%20%22fillOpacity%22%3A%200.2%2C%20%22fillRule%22%3A%20%22evenodd%22%2C%20%22lineCap%22%3A%20%22round%22%2C%20%22lineJoin%22%3A%20%22round%22%2C%20%22opacity%22%3A%201.0%2C%20%22radius%22%3A%2015%2C%20%22stroke%22%3A%20true%2C%20%22weight%22%3A%203%7D%0A%20%20%20%20%20%20%20%20%20%20%20%20%29.addTo%28map_e15f7a34901d40ea9ae54b3367b7221e%29%3B%0A%20%20%20%20%20%20%20%20%0A%20%20%20%20%0A%20%20%20%20%20%20%20%20%20%20%20%20var%20circle_marker_669eb2ef932742b0ad42cf88ad540681%20%3D%20L.circleMarker%28%0A%20%20%20%20%20%20%20%20%20%20%20%20%20%20%20%20%5B37.6315821%2C%20127.0179395%5D%2C%0A%20%20%20%20%20%20%20%20%20%20%20%20%20%20%20%20%7B%22bubblingMouseEvents%22%3A%20true%2C%20%22color%22%3A%20%22%233186cc%22%2C%20%22dashArray%22%3A%20null%2C%20%22dashOffset%22%3A%20null%2C%20%22fill%22%3A%20true%2C%20%22fillColor%22%3A%20%22%233186cc%22%2C%20%22fillOpacity%22%3A%200.2%2C%20%22fillRule%22%3A%20%22evenodd%22%2C%20%22lineCap%22%3A%20%22round%22%2C%20%22lineJoin%22%3A%20%22round%22%2C%20%22opacity%22%3A%201.0%2C%20%22radius%22%3A%2015%2C%20%22stroke%22%3A%20true%2C%20%22weight%22%3A%203%7D%0A%20%20%20%20%20%20%20%20%20%20%20%20%29.addTo%28map_e15f7a34901d40ea9ae54b3367b7221e%29%3B%0A%20%20%20%20%20%20%20%20%0A%20%20%20%20%0A%20%20%20%20%20%20%20%20%20%20%20%20var%20circle_marker_73efed7d161143788c28c695f2c84ea6%20%3D%20L.circleMarker%28%0A%20%20%20%20%20%20%20%20%20%20%20%20%20%20%20%20%5B37.6421401%2C%20127.0295678%5D%2C%0A%20%20%20%20%20%20%20%20%20%20%20%20%20%20%20%20%7B%22bubblingMouseEvents%22%3A%20true%2C%20%22color%22%3A%20%22%233186cc%22%2C%20%22dashArray%22%3A%20null%2C%20%22dashOffset%22%3A%20null%2C%20%22fill%22%3A%20true%2C%20%22fillColor%22%3A%20%22%233186cc%22%2C%20%22fillOpacity%22%3A%200.2%2C%20%22fillRule%22%3A%20%22evenodd%22%2C%20%22lineCap%22%3A%20%22round%22%2C%20%22lineJoin%22%3A%20%22round%22%2C%20%22opacity%22%3A%201.0%2C%20%22radius%22%3A%2015%2C%20%22stroke%22%3A%20true%2C%20%22weight%22%3A%203%7D%0A%20%20%20%20%20%20%20%20%20%20%20%20%29.addTo%28map_e15f7a34901d40ea9ae54b3367b7221e%29%3B%0A%20%20%20%20%20%20%20%20%0A%20%20%20%20%0A%20%20%20%20%20%20%20%20%20%20%20%20var%20circle_marker_e773ea322b7f4ac1baa18219a82a3cef%20%3D%20L.circleMarker%28%0A%20%20%20%20%20%20%20%20%20%20%20%20%20%20%20%20%5B37.56084999999999%2C%20126.9936529%5D%2C%0A%20%20%20%20%20%20%20%20%20%20%20%20%20%20%20%20%7B%22bubblingMouseEvents%22%3A%20true%2C%20%22color%22%3A%20%22%23CD3181%22%2C%20%22dashArray%22%3A%20null%2C%20%22dashOffset%22%3A%20null%2C%20%22fill%22%3A%20true%2C%20%22fillColor%22%3A%20%22%23CD3181%22%2C%20%22fillOpacity%22%3A%200.2%2C%20%22fillRule%22%3A%20%22evenodd%22%2C%20%22lineCap%22%3A%20%22round%22%2C%20%22lineJoin%22%3A%20%22round%22%2C%20%22opacity%22%3A%201.0%2C%20%22radius%22%3A%2015%2C%20%22stroke%22%3A%20true%2C%20%22weight%22%3A%203%7D%0A%20%20%20%20%20%20%20%20%20%20%20%20%29.addTo%28map_e15f7a34901d40ea9ae54b3367b7221e%29%3B%0A%20%20%20%20%20%20%20%20%0A%20%20%20%20%0A%20%20%20%20%20%20%20%20%20%20%20%20var%20circle_marker_d37dbc078e3e4c128ed6e00af0b7ead2%20%3D%20L.circleMarker%28%0A%20%20%20%20%20%20%20%20%20%20%20%20%20%20%20%20%5B37.5315539%2C%20126.8560239%5D%2C%0A%20%20%20%20%20%20%20%20%20%20%20%20%20%20%20%20%7B%22bubblingMouseEvents%22%3A%20true%2C%20%22color%22%3A%20%22%233186cc%22%2C%20%22dashArray%22%3A%20null%2C%20%22dashOffset%22%3A%20null%2C%20%22fill%22%3A%20true%2C%20%22fillColor%22%3A%20%22%233186cc%22%2C%20%22fillOpacity%22%3A%200.2%2C%20%22fillRule%22%3A%20%22evenodd%22%2C%20%22lineCap%22%3A%20%22round%22%2C%20%22lineJoin%22%3A%20%22round%22%2C%20%22opacity%22%3A%201.0%2C%20%22radius%22%3A%2015%2C%20%22stroke%22%3A%20true%2C%20%22weight%22%3A%203%7D%0A%20%20%20%20%20%20%20%20%20%20%20%20%29.addTo%28map_e15f7a34901d40ea9ae54b3367b7221e%29%3B%0A%20%20%20%20%20%20%20%20%0A%20%20%20%20%0A%20%20%20%20%20%20%20%20%20%20%20%20var%20circle_marker_852faa363f734973b56154c3e594f016%20%3D%20L.circleMarker%28%0A%20%20%20%20%20%20%20%20%20%20%20%20%20%20%20%20%5B37.54065689999999%2C%20126.8415062%5D%2C%0A%20%20%20%20%20%20%20%20%20%20%20%20%20%20%20%20%7B%22bubblingMouseEvents%22%3A%20true%2C%20%22color%22%3A%20%22%233186cc%22%2C%20%22dashArray%22%3A%20null%2C%20%22dashOffset%22%3A%20null%2C%20%22fill%22%3A%20true%2C%20%22fillColor%22%3A%20%22%233186cc%22%2C%20%22fillOpacity%22%3A%200.2%2C%20%22fillRule%22%3A%20%22evenodd%22%2C%20%22lineCap%22%3A%20%22round%22%2C%20%22lineJoin%22%3A%20%22round%22%2C%20%22opacity%22%3A%201.0%2C%20%22radius%22%3A%2015%2C%20%22stroke%22%3A%20true%2C%20%22weight%22%3A%203%7D%0A%20%20%20%20%20%20%20%20%20%20%20%20%29.addTo%28map_e15f7a34901d40ea9ae54b3367b7221e%29%3B%0A%20%20%20%20%20%20%20%20%0A%20%20%20%20%0A%20%20%20%20%20%20%20%20%20%20%20%20var%20circle_marker_602a45437a5348dca8ebdf375e60a1f9%20%3D%20L.circleMarker%28%0A%20%20%20%20%20%20%20%20%20%20%20%20%20%20%20%20%5B37.4599063%2C%20127.0420601%5D%2C%0A%20%20%20%20%20%20%20%20%20%20%20%20%20%20%20%20%7B%22bubblingMouseEvents%22%3A%20true%2C%20%22color%22%3A%20%22%233186cc%22%2C%20%22dashArray%22%3A%20null%2C%20%22dashOffset%22%3A%20null%2C%20%22fill%22%3A%20true%2C%20%22fillColor%22%3A%20%22%233186cc%22%2C%20%22fillOpacity%22%3A%200.2%2C%20%22fillRule%22%3A%20%22evenodd%22%2C%20%22lineCap%22%3A%20%22round%22%2C%20%22lineJoin%22%3A%20%22round%22%2C%20%22opacity%22%3A%201.0%2C%20%22radius%22%3A%2015%2C%20%22stroke%22%3A%20true%2C%20%22weight%22%3A%203%7D%0A%20%20%20%20%20%20%20%20%20%20%20%20%29.addTo%28map_e15f7a34901d40ea9ae54b3367b7221e%29%3B%0A%20%20%20%20%20%20%20%20%0A%20%20%20%20%0A%20%20%20%20%20%20%20%20%20%20%20%20var%20circle_marker_6a5f5f881d264f7c9510740530d7016f%20%3D%20L.circleMarker%28%0A%20%20%20%20%20%20%20%20%20%20%20%20%20%20%20%20%5B37.674434%2C%20127.0440507%5D%2C%0A%20%20%20%20%20%20%20%20%20%20%20%20%20%20%20%20%7B%22bubblingMouseEvents%22%3A%20true%2C%20%22color%22%3A%20%22%233186cc%22%2C%20%22dashArray%22%3A%20null%2C%20%22dashOffset%22%3A%20null%2C%20%22fill%22%3A%20true%2C%20%22fillColor%22%3A%20%22%233186cc%22%2C%20%22fillOpacity%22%3A%200.2%2C%20%22fillRule%22%3A%20%22evenodd%22%2C%20%22lineCap%22%3A%20%22round%22%2C%20%22lineJoin%22%3A%20%22round%22%2C%20%22opacity%22%3A%201.0%2C%20%22radius%22%3A%2015%2C%20%22stroke%22%3A%20true%2C%20%22weight%22%3A%203%7D%0A%20%20%20%20%20%20%20%20%20%20%20%20%29.addTo%28map_e15f7a34901d40ea9ae54b3367b7221e%29%3B%0A%20%20%20%20%20%20%20%20%0A%20%20%20%20%0A%20%20%20%20%20%20%20%20%20%20%20%20var%20circle_marker_de958e8d902c4bfba033f769869525d6%20%3D%20L.circleMarker%28%0A%20%20%20%20%20%20%20%20%20%20%20%20%20%20%20%20%5B37.5338107%2C%20126.8292398%5D%2C%0A%20%20%20%20%20%20%20%20%20%20%20%20%20%20%20%20%7B%22bubblingMouseEvents%22%3A%20true%2C%20%22color%22%3A%20%22%233186cc%22%2C%20%22dashArray%22%3A%20null%2C%20%22dashOffset%22%3A%20null%2C%20%22fill%22%3A%20true%2C%20%22fillColor%22%3A%20%22%233186cc%22%2C%20%22fillOpacity%22%3A%200.2%2C%20%22fillRule%22%3A%20%22evenodd%22%2C%20%22lineCap%22%3A%20%22round%22%2C%20%22lineJoin%22%3A%20%22round%22%2C%20%22opacity%22%3A%201.0%2C%20%22radius%22%3A%2015%2C%20%22stroke%22%3A%20true%2C%20%22weight%22%3A%203%7D%0A%20%20%20%20%20%20%20%20%20%20%20%20%29.addTo%28map_e15f7a34901d40ea9ae54b3367b7221e%29%3B%0A%20%20%20%20%20%20%20%20%0A%20%20%20%20%0A%20%20%20%20%20%20%20%20%20%20%20%20var%20circle_marker_a037bbf612334812b99158cf23d11e68%20%3D%20L.circleMarker%28%0A%20%20%20%20%20%20%20%20%20%20%20%20%20%20%20%20%5B37.5369402%2C%20126.8342781%5D%2C%0A%20%20%20%20%20%20%20%20%20%20%20%20%20%20%20%20%7B%22bubblingMouseEvents%22%3A%20true%2C%20%22color%22%3A%20%22%233186cc%22%2C%20%22dashArray%22%3A%20null%2C%20%22dashOffset%22%3A%20null%2C%20%22fill%22%3A%20true%2C%20%22fillColor%22%3A%20%22%233186cc%22%2C%20%22fillOpacity%22%3A%200.2%2C%20%22fillRule%22%3A%20%22evenodd%22%2C%20%22lineCap%22%3A%20%22round%22%2C%20%22lineJoin%22%3A%20%22round%22%2C%20%22opacity%22%3A%201.0%2C%20%22radius%22%3A%2015%2C%20%22stroke%22%3A%20true%2C%20%22weight%22%3A%203%7D%0A%20%20%20%20%20%20%20%20%20%20%20%20%29.addTo%28map_e15f7a34901d40ea9ae54b3367b7221e%29%3B%0A%20%20%20%20%20%20%20%20%0A%20%20%20%20%0A%20%20%20%20%20%20%20%20%20%20%20%20var%20circle_marker_030bcf8d7c7142ff856d03d1d5a6dc18%20%3D%20L.circleMarker%28%0A%20%20%20%20%20%20%20%20%20%20%20%20%20%20%20%20%5B37.5280874%2C%20126.8329813%5D%2C%0A%20%20%20%20%20%20%20%20%20%20%20%20%20%20%20%20%7B%22bubblingMouseEvents%22%3A%20true%2C%20%22color%22%3A%20%22%233186cc%22%2C%20%22dashArray%22%3A%20null%2C%20%22dashOffset%22%3A%20null%2C%20%22fill%22%3A%20true%2C%20%22fillColor%22%3A%20%22%233186cc%22%2C%20%22fillOpacity%22%3A%200.2%2C%20%22fillRule%22%3A%20%22evenodd%22%2C%20%22lineCap%22%3A%20%22round%22%2C%20%22lineJoin%22%3A%20%22round%22%2C%20%22opacity%22%3A%201.0%2C%20%22radius%22%3A%2015%2C%20%22stroke%22%3A%20true%2C%20%22weight%22%3A%203%7D%0A%20%20%20%20%20%20%20%20%20%20%20%20%29.addTo%28map_e15f7a34901d40ea9ae54b3367b7221e%29%3B%0A%20%20%20%20%20%20%20%20%0A%20%20%20%20%0A%20%20%20%20%20%20%20%20%20%20%20%20var%20circle_marker_c5418fe1af194c138555ef8700ed95d9%20%3D%20L.circleMarker%28%0A%20%20%20%20%20%20%20%20%20%20%20%20%20%20%20%20%5B37.6401555%2C%20127.0172034%5D%2C%0A%20%20%20%20%20%20%20%20%20%20%20%20%20%20%20%20%7B%22bubblingMouseEvents%22%3A%20true%2C%20%22color%22%3A%20%22%233186cc%22%2C%20%22dashArray%22%3A%20null%2C%20%22dashOffset%22%3A%20null%2C%20%22fill%22%3A%20true%2C%20%22fillColor%22%3A%20%22%233186cc%22%2C%20%22fillOpacity%22%3A%200.2%2C%20%22fillRule%22%3A%20%22evenodd%22%2C%20%22lineCap%22%3A%20%22round%22%2C%20%22lineJoin%22%3A%20%22round%22%2C%20%22opacity%22%3A%201.0%2C%20%22radius%22%3A%2015%2C%20%22stroke%22%3A%20true%2C%20%22weight%22%3A%203%7D%0A%20%20%20%20%20%20%20%20%20%20%20%20%29.addTo%28map_e15f7a34901d40ea9ae54b3367b7221e%29%3B%0A%20%20%20%20%20%20%20%20%0A%20%20%20%20%0A%20%20%20%20%20%20%20%20%20%20%20%20var%20circle_marker_352e6a92ded349afad653ea76811cef7%20%3D%20L.circleMarker%28%0A%20%20%20%20%20%20%20%20%20%20%20%20%20%20%20%20%5B37.6315821%2C%20127.0179395%5D%2C%0A%20%20%20%20%20%20%20%20%20%20%20%20%20%20%20%20%7B%22bubblingMouseEvents%22%3A%20true%2C%20%22color%22%3A%20%22%233186cc%22%2C%20%22dashArray%22%3A%20null%2C%20%22dashOffset%22%3A%20null%2C%20%22fill%22%3A%20true%2C%20%22fillColor%22%3A%20%22%233186cc%22%2C%20%22fillOpacity%22%3A%200.2%2C%20%22fillRule%22%3A%20%22evenodd%22%2C%20%22lineCap%22%3A%20%22round%22%2C%20%22lineJoin%22%3A%20%22round%22%2C%20%22opacity%22%3A%201.0%2C%20%22radius%22%3A%2015%2C%20%22stroke%22%3A%20true%2C%20%22weight%22%3A%203%7D%0A%20%20%20%20%20%20%20%20%20%20%20%20%29.addTo%28map_e15f7a34901d40ea9ae54b3367b7221e%29%3B%0A%20%20%20%20%20%20%20%20%0A%20%20%20%20%0A%20%20%20%20%20%20%20%20%20%20%20%20var%20circle_marker_c16f03f3aaba4ec88d6e2be4740d03ee%20%3D%20L.circleMarker%28%0A%20%20%20%20%20%20%20%20%20%20%20%20%20%20%20%20%5B37.6421401%2C%20127.0295678%5D%2C%0A%20%20%20%20%20%20%20%20%20%20%20%20%20%20%20%20%7B%22bubblingMouseEvents%22%3A%20true%2C%20%22color%22%3A%20%22%233186cc%22%2C%20%22dashArray%22%3A%20null%2C%20%22dashOffset%22%3A%20null%2C%20%22fill%22%3A%20true%2C%20%22fillColor%22%3A%20%22%233186cc%22%2C%20%22fillOpacity%22%3A%200.2%2C%20%22fillRule%22%3A%20%22evenodd%22%2C%20%22lineCap%22%3A%20%22round%22%2C%20%22lineJoin%22%3A%20%22round%22%2C%20%22opacity%22%3A%201.0%2C%20%22radius%22%3A%2015%2C%20%22stroke%22%3A%20true%2C%20%22weight%22%3A%203%7D%0A%20%20%20%20%20%20%20%20%20%20%20%20%29.addTo%28map_e15f7a34901d40ea9ae54b3367b7221e%29%3B%0A%20%20%20%20%20%20%20%20%0A%20%20%20%20%0A%20%20%20%20%20%20%20%20%20%20%20%20var%20circle_marker_d900576ffc434b09b6e57a0944d975b4%20%3D%20L.circleMarker%28%0A%20%20%20%20%20%20%20%20%20%20%20%20%20%20%20%20%5B37.5616483%2C%20126.9971419%5D%2C%0A%20%20%20%20%20%20%20%20%20%20%20%20%20%20%20%20%7B%22bubblingMouseEvents%22%3A%20true%2C%20%22color%22%3A%20%22%23CD3181%22%2C%20%22dashArray%22%3A%20null%2C%20%22dashOffset%22%3A%20null%2C%20%22fill%22%3A%20true%2C%20%22fillColor%22%3A%20%22%23CD3181%22%2C%20%22fillOpacity%22%3A%200.2%2C%20%22fillRule%22%3A%20%22evenodd%22%2C%20%22lineCap%22%3A%20%22round%22%2C%20%22lineJoin%22%3A%20%22round%22%2C%20%22opacity%22%3A%201.0%2C%20%22radius%22%3A%2015%2C%20%22stroke%22%3A%20true%2C%20%22weight%22%3A%203%7D%0A%20%20%20%20%20%20%20%20%20%20%20%20%29.addTo%28map_e15f7a34901d40ea9ae54b3367b7221e%29%3B%0A%20%20%20%20%20%20%20%20%0A%20%20%20%20%0A%20%20%20%20%20%20%20%20%20%20%20%20var%20circle_marker_73d4d1ef49e247a39a37b6cc65ae9d54%20%3D%20L.circleMarker%28%0A%20%20%20%20%20%20%20%20%20%20%20%20%20%20%20%20%5B37.5315539%2C%20126.8560239%5D%2C%0A%20%20%20%20%20%20%20%20%20%20%20%20%20%20%20%20%7B%22bubblingMouseEvents%22%3A%20true%2C%20%22color%22%3A%20%22%233186cc%22%2C%20%22dashArray%22%3A%20null%2C%20%22dashOffset%22%3A%20null%2C%20%22fill%22%3A%20true%2C%20%22fillColor%22%3A%20%22%233186cc%22%2C%20%22fillOpacity%22%3A%200.2%2C%20%22fillRule%22%3A%20%22evenodd%22%2C%20%22lineCap%22%3A%20%22round%22%2C%20%22lineJoin%22%3A%20%22round%22%2C%20%22opacity%22%3A%201.0%2C%20%22radius%22%3A%2015%2C%20%22stroke%22%3A%20true%2C%20%22weight%22%3A%203%7D%0A%20%20%20%20%20%20%20%20%20%20%20%20%29.addTo%28map_e15f7a34901d40ea9ae54b3367b7221e%29%3B%0A%20%20%20%20%20%20%20%20%0A%20%20%20%20%0A%20%20%20%20%20%20%20%20%20%20%20%20var%20circle_marker_04e31b8243b847a3bb8dc727626f0da3%20%3D%20L.circleMarker%28%0A%20%20%20%20%20%20%20%20%20%20%20%20%20%20%20%20%5B37.54065689999999%2C%20126.8415062%5D%2C%0A%20%20%20%20%20%20%20%20%20%20%20%20%20%20%20%20%7B%22bubblingMouseEvents%22%3A%20true%2C%20%22color%22%3A%20%22%233186cc%22%2C%20%22dashArray%22%3A%20null%2C%20%22dashOffset%22%3A%20null%2C%20%22fill%22%3A%20true%2C%20%22fillColor%22%3A%20%22%233186cc%22%2C%20%22fillOpacity%22%3A%200.2%2C%20%22fillRule%22%3A%20%22evenodd%22%2C%20%22lineCap%22%3A%20%22round%22%2C%20%22lineJoin%22%3A%20%22round%22%2C%20%22opacity%22%3A%201.0%2C%20%22radius%22%3A%2015%2C%20%22stroke%22%3A%20true%2C%20%22weight%22%3A%203%7D%0A%20%20%20%20%20%20%20%20%20%20%20%20%29.addTo%28map_e15f7a34901d40ea9ae54b3367b7221e%29%3B%0A%20%20%20%20%20%20%20%20%0A%20%20%20%20%0A%20%20%20%20%20%20%20%20%20%20%20%20var%20circle_marker_631f619909fc49feb9da2a6b308d54a3%20%3D%20L.circleMarker%28%0A%20%20%20%20%20%20%20%20%20%20%20%20%20%20%20%20%5B37.4599063%2C%20127.0420601%5D%2C%0A%20%20%20%20%20%20%20%20%20%20%20%20%20%20%20%20%7B%22bubblingMouseEvents%22%3A%20true%2C%20%22color%22%3A%20%22%233186cc%22%2C%20%22dashArray%22%3A%20null%2C%20%22dashOffset%22%3A%20null%2C%20%22fill%22%3A%20true%2C%20%22fillColor%22%3A%20%22%233186cc%22%2C%20%22fillOpacity%22%3A%200.2%2C%20%22fillRule%22%3A%20%22evenodd%22%2C%20%22lineCap%22%3A%20%22round%22%2C%20%22lineJoin%22%3A%20%22round%22%2C%20%22opacity%22%3A%201.0%2C%20%22radius%22%3A%2015%2C%20%22stroke%22%3A%20true%2C%20%22weight%22%3A%203%7D%0A%20%20%20%20%20%20%20%20%20%20%20%20%29.addTo%28map_e15f7a34901d40ea9ae54b3367b7221e%29%3B%0A%20%20%20%20%20%20%20%20%0A%20%20%20%20%0A%20%20%20%20%20%20%20%20%20%20%20%20var%20circle_marker_08697e8868324c82bb387ef79a8db996%20%3D%20L.circleMarker%28%0A%20%20%20%20%20%20%20%20%20%20%20%20%20%20%20%20%5B37.674434%2C%20127.0440507%5D%2C%0A%20%20%20%20%20%20%20%20%20%20%20%20%20%20%20%20%7B%22bubblingMouseEvents%22%3A%20true%2C%20%22color%22%3A%20%22%233186cc%22%2C%20%22dashArray%22%3A%20null%2C%20%22dashOffset%22%3A%20null%2C%20%22fill%22%3A%20true%2C%20%22fillColor%22%3A%20%22%233186cc%22%2C%20%22fillOpacity%22%3A%200.2%2C%20%22fillRule%22%3A%20%22evenodd%22%2C%20%22lineCap%22%3A%20%22round%22%2C%20%22lineJoin%22%3A%20%22round%22%2C%20%22opacity%22%3A%201.0%2C%20%22radius%22%3A%2015%2C%20%22stroke%22%3A%20true%2C%20%22weight%22%3A%203%7D%0A%20%20%20%20%20%20%20%20%20%20%20%20%29.addTo%28map_e15f7a34901d40ea9ae54b3367b7221e%29%3B%0A%20%20%20%20%20%20%20%20%0A%20%20%20%20%0A%20%20%20%20%20%20%20%20%20%20%20%20var%20circle_marker_aaf32595065c4efda0a97b97c86c66cd%20%3D%20L.circleMarker%28%0A%20%20%20%20%20%20%20%20%20%20%20%20%20%20%20%20%5B37.5338107%2C%20126.8292398%5D%2C%0A%20%20%20%20%20%20%20%20%20%20%20%20%20%20%20%20%7B%22bubblingMouseEvents%22%3A%20true%2C%20%22color%22%3A%20%22%233186cc%22%2C%20%22dashArray%22%3A%20null%2C%20%22dashOffset%22%3A%20null%2C%20%22fill%22%3A%20true%2C%20%22fillColor%22%3A%20%22%233186cc%22%2C%20%22fillOpacity%22%3A%200.2%2C%20%22fillRule%22%3A%20%22evenodd%22%2C%20%22lineCap%22%3A%20%22round%22%2C%20%22lineJoin%22%3A%20%22round%22%2C%20%22opacity%22%3A%201.0%2C%20%22radius%22%3A%2015%2C%20%22stroke%22%3A%20true%2C%20%22weight%22%3A%203%7D%0A%20%20%20%20%20%20%20%20%20%20%20%20%29.addTo%28map_e15f7a34901d40ea9ae54b3367b7221e%29%3B%0A%20%20%20%20%20%20%20%20%0A%20%20%20%20%0A%20%20%20%20%20%20%20%20%20%20%20%20var%20circle_marker_1bd7bb752b42435f8ca92899879cc2f0%20%3D%20L.circleMarker%28%0A%20%20%20%20%20%20%20%20%20%20%20%20%20%20%20%20%5B37.5369402%2C%20126.8342781%5D%2C%0A%20%20%20%20%20%20%20%20%20%20%20%20%20%20%20%20%7B%22bubblingMouseEvents%22%3A%20true%2C%20%22color%22%3A%20%22%233186cc%22%2C%20%22dashArray%22%3A%20null%2C%20%22dashOffset%22%3A%20null%2C%20%22fill%22%3A%20true%2C%20%22fillColor%22%3A%20%22%233186cc%22%2C%20%22fillOpacity%22%3A%200.2%2C%20%22fillRule%22%3A%20%22evenodd%22%2C%20%22lineCap%22%3A%20%22round%22%2C%20%22lineJoin%22%3A%20%22round%22%2C%20%22opacity%22%3A%201.0%2C%20%22radius%22%3A%2015%2C%20%22stroke%22%3A%20true%2C%20%22weight%22%3A%203%7D%0A%20%20%20%20%20%20%20%20%20%20%20%20%29.addTo%28map_e15f7a34901d40ea9ae54b3367b7221e%29%3B%0A%20%20%20%20%20%20%20%20%0A%20%20%20%20%0A%20%20%20%20%20%20%20%20%20%20%20%20var%20circle_marker_1aa9626792cb4243967832bfb53b23c6%20%3D%20L.circleMarker%28%0A%20%20%20%20%20%20%20%20%20%20%20%20%20%20%20%20%5B37.5280874%2C%20126.8329813%5D%2C%0A%20%20%20%20%20%20%20%20%20%20%20%20%20%20%20%20%7B%22bubblingMouseEvents%22%3A%20true%2C%20%22color%22%3A%20%22%233186cc%22%2C%20%22dashArray%22%3A%20null%2C%20%22dashOffset%22%3A%20null%2C%20%22fill%22%3A%20true%2C%20%22fillColor%22%3A%20%22%233186cc%22%2C%20%22fillOpacity%22%3A%200.2%2C%20%22fillRule%22%3A%20%22evenodd%22%2C%20%22lineCap%22%3A%20%22round%22%2C%20%22lineJoin%22%3A%20%22round%22%2C%20%22opacity%22%3A%201.0%2C%20%22radius%22%3A%2015%2C%20%22stroke%22%3A%20true%2C%20%22weight%22%3A%203%7D%0A%20%20%20%20%20%20%20%20%20%20%20%20%29.addTo%28map_e15f7a34901d40ea9ae54b3367b7221e%29%3B%0A%20%20%20%20%20%20%20%20%0A%20%20%20%20%0A%20%20%20%20%20%20%20%20%20%20%20%20var%20circle_marker_af823075f39746f194fac83a5258f0c1%20%3D%20L.circleMarker%28%0A%20%20%20%20%20%20%20%20%20%20%20%20%20%20%20%20%5B37.6401555%2C%20127.0172034%5D%2C%0A%20%20%20%20%20%20%20%20%20%20%20%20%20%20%20%20%7B%22bubblingMouseEvents%22%3A%20true%2C%20%22color%22%3A%20%22%233186cc%22%2C%20%22dashArray%22%3A%20null%2C%20%22dashOffset%22%3A%20null%2C%20%22fill%22%3A%20true%2C%20%22fillColor%22%3A%20%22%233186cc%22%2C%20%22fillOpacity%22%3A%200.2%2C%20%22fillRule%22%3A%20%22evenodd%22%2C%20%22lineCap%22%3A%20%22round%22%2C%20%22lineJoin%22%3A%20%22round%22%2C%20%22opacity%22%3A%201.0%2C%20%22radius%22%3A%2015%2C%20%22stroke%22%3A%20true%2C%20%22weight%22%3A%203%7D%0A%20%20%20%20%20%20%20%20%20%20%20%20%29.addTo%28map_e15f7a34901d40ea9ae54b3367b7221e%29%3B%0A%20%20%20%20%20%20%20%20%0A%20%20%20%20%0A%20%20%20%20%20%20%20%20%20%20%20%20var%20circle_marker_f530333812d542ca832c524abfc43c9d%20%3D%20L.circleMarker%28%0A%20%20%20%20%20%20%20%20%20%20%20%20%20%20%20%20%5B37.6315821%2C%20127.0179395%5D%2C%0A%20%20%20%20%20%20%20%20%20%20%20%20%20%20%20%20%7B%22bubblingMouseEvents%22%3A%20true%2C%20%22color%22%3A%20%22%233186cc%22%2C%20%22dashArray%22%3A%20null%2C%20%22dashOffset%22%3A%20null%2C%20%22fill%22%3A%20true%2C%20%22fillColor%22%3A%20%22%233186cc%22%2C%20%22fillOpacity%22%3A%200.2%2C%20%22fillRule%22%3A%20%22evenodd%22%2C%20%22lineCap%22%3A%20%22round%22%2C%20%22lineJoin%22%3A%20%22round%22%2C%20%22opacity%22%3A%201.0%2C%20%22radius%22%3A%2015%2C%20%22stroke%22%3A%20true%2C%20%22weight%22%3A%203%7D%0A%20%20%20%20%20%20%20%20%20%20%20%20%29.addTo%28map_e15f7a34901d40ea9ae54b3367b7221e%29%3B%0A%20%20%20%20%20%20%20%20%0A%20%20%20%20%0A%20%20%20%20%20%20%20%20%20%20%20%20var%20circle_marker_c5ea37edaf6b452ab5a72a50041459c9%20%3D%20L.circleMarker%28%0A%20%20%20%20%20%20%20%20%20%20%20%20%20%20%20%20%5B37.6421401%2C%20127.0295678%5D%2C%0A%20%20%20%20%20%20%20%20%20%20%20%20%20%20%20%20%7B%22bubblingMouseEvents%22%3A%20true%2C%20%22color%22%3A%20%22%233186cc%22%2C%20%22dashArray%22%3A%20null%2C%20%22dashOffset%22%3A%20null%2C%20%22fill%22%3A%20true%2C%20%22fillColor%22%3A%20%22%233186cc%22%2C%20%22fillOpacity%22%3A%200.2%2C%20%22fillRule%22%3A%20%22evenodd%22%2C%20%22lineCap%22%3A%20%22round%22%2C%20%22lineJoin%22%3A%20%22round%22%2C%20%22opacity%22%3A%201.0%2C%20%22radius%22%3A%2015%2C%20%22stroke%22%3A%20true%2C%20%22weight%22%3A%203%7D%0A%20%20%20%20%20%20%20%20%20%20%20%20%29.addTo%28map_e15f7a34901d40ea9ae54b3367b7221e%29%3B%0A%20%20%20%20%20%20%20%20%0A%20%20%20%20%0A%20%20%20%20%20%20%20%20%20%20%20%20var%20circle_marker_520dc8b1e3a341c8b009ca78ec44b9c1%20%3D%20L.circleMarker%28%0A%20%20%20%20%20%20%20%20%20%20%20%20%20%20%20%20%5B37.51763589999999%2C%20127.0357559%5D%2C%0A%20%20%20%20%20%20%20%20%20%20%20%20%20%20%20%20%7B%22bubblingMouseEvents%22%3A%20true%2C%20%22color%22%3A%20%22%23CD3181%22%2C%20%22dashArray%22%3A%20null%2C%20%22dashOffset%22%3A%20null%2C%20%22fill%22%3A%20true%2C%20%22fillColor%22%3A%20%22%23CD3181%22%2C%20%22fillOpacity%22%3A%200.2%2C%20%22fillRule%22%3A%20%22evenodd%22%2C%20%22lineCap%22%3A%20%22round%22%2C%20%22lineJoin%22%3A%20%22round%22%2C%20%22opacity%22%3A%201.0%2C%20%22radius%22%3A%2015%2C%20%22stroke%22%3A%20true%2C%20%22weight%22%3A%203%7D%0A%20%20%20%20%20%20%20%20%20%20%20%20%29.addTo%28map_e15f7a34901d40ea9ae54b3367b7221e%29%3B%0A%20%20%20%20%20%20%20%20%0A%20%20%20%20%0A%20%20%20%20%20%20%20%20%20%20%20%20var%20circle_marker_ab35ba1d14ec4732949969b366853e8a%20%3D%20L.circleMarker%28%0A%20%20%20%20%20%20%20%20%20%20%20%20%20%20%20%20%5B37.5315539%2C%20126.8560239%5D%2C%0A%20%20%20%20%20%20%20%20%20%20%20%20%20%20%20%20%7B%22bubblingMouseEvents%22%3A%20true%2C%20%22color%22%3A%20%22%233186cc%22%2C%20%22dashArray%22%3A%20null%2C%20%22dashOffset%22%3A%20null%2C%20%22fill%22%3A%20true%2C%20%22fillColor%22%3A%20%22%233186cc%22%2C%20%22fillOpacity%22%3A%200.2%2C%20%22fillRule%22%3A%20%22evenodd%22%2C%20%22lineCap%22%3A%20%22round%22%2C%20%22lineJoin%22%3A%20%22round%22%2C%20%22opacity%22%3A%201.0%2C%20%22radius%22%3A%2015%2C%20%22stroke%22%3A%20true%2C%20%22weight%22%3A%203%7D%0A%20%20%20%20%20%20%20%20%20%20%20%20%29.addTo%28map_e15f7a34901d40ea9ae54b3367b7221e%29%3B%0A%20%20%20%20%20%20%20%20%0A%20%20%20%20%0A%20%20%20%20%20%20%20%20%20%20%20%20var%20circle_marker_8ef1aabce63746f0bdad3845ddcaea1c%20%3D%20L.circleMarker%28%0A%20%20%20%20%20%20%20%20%20%20%20%20%20%20%20%20%5B37.54065689999999%2C%20126.8415062%5D%2C%0A%20%20%20%20%20%20%20%20%20%20%20%20%20%20%20%20%7B%22bubblingMouseEvents%22%3A%20true%2C%20%22color%22%3A%20%22%233186cc%22%2C%20%22dashArray%22%3A%20null%2C%20%22dashOffset%22%3A%20null%2C%20%22fill%22%3A%20true%2C%20%22fillColor%22%3A%20%22%233186cc%22%2C%20%22fillOpacity%22%3A%200.2%2C%20%22fillRule%22%3A%20%22evenodd%22%2C%20%22lineCap%22%3A%20%22round%22%2C%20%22lineJoin%22%3A%20%22round%22%2C%20%22opacity%22%3A%201.0%2C%20%22radius%22%3A%2015%2C%20%22stroke%22%3A%20true%2C%20%22weight%22%3A%203%7D%0A%20%20%20%20%20%20%20%20%20%20%20%20%29.addTo%28map_e15f7a34901d40ea9ae54b3367b7221e%29%3B%0A%20%20%20%20%20%20%20%20%0A%20%20%20%20%0A%20%20%20%20%20%20%20%20%20%20%20%20var%20circle_marker_983c6ec0f7ab408db1ede8451cb1a125%20%3D%20L.circleMarker%28%0A%20%20%20%20%20%20%20%20%20%20%20%20%20%20%20%20%5B37.4599063%2C%20127.0420601%5D%2C%0A%20%20%20%20%20%20%20%20%20%20%20%20%20%20%20%20%7B%22bubblingMouseEvents%22%3A%20true%2C%20%22color%22%3A%20%22%233186cc%22%2C%20%22dashArray%22%3A%20null%2C%20%22dashOffset%22%3A%20null%2C%20%22fill%22%3A%20true%2C%20%22fillColor%22%3A%20%22%233186cc%22%2C%20%22fillOpacity%22%3A%200.2%2C%20%22fillRule%22%3A%20%22evenodd%22%2C%20%22lineCap%22%3A%20%22round%22%2C%20%22lineJoin%22%3A%20%22round%22%2C%20%22opacity%22%3A%201.0%2C%20%22radius%22%3A%2015%2C%20%22stroke%22%3A%20true%2C%20%22weight%22%3A%203%7D%0A%20%20%20%20%20%20%20%20%20%20%20%20%29.addTo%28map_e15f7a34901d40ea9ae54b3367b7221e%29%3B%0A%20%20%20%20%20%20%20%20%0A%20%20%20%20%0A%20%20%20%20%20%20%20%20%20%20%20%20var%20circle_marker_c6ffb9b19b5544b0a301a1c181e40d25%20%3D%20L.circleMarker%28%0A%20%20%20%20%20%20%20%20%20%20%20%20%20%20%20%20%5B37.674434%2C%20127.0440507%5D%2C%0A%20%20%20%20%20%20%20%20%20%20%20%20%20%20%20%20%7B%22bubblingMouseEvents%22%3A%20true%2C%20%22color%22%3A%20%22%233186cc%22%2C%20%22dashArray%22%3A%20null%2C%20%22dashOffset%22%3A%20null%2C%20%22fill%22%3A%20true%2C%20%22fillColor%22%3A%20%22%233186cc%22%2C%20%22fillOpacity%22%3A%200.2%2C%20%22fillRule%22%3A%20%22evenodd%22%2C%20%22lineCap%22%3A%20%22round%22%2C%20%22lineJoin%22%3A%20%22round%22%2C%20%22opacity%22%3A%201.0%2C%20%22radius%22%3A%2015%2C%20%22stroke%22%3A%20true%2C%20%22weight%22%3A%203%7D%0A%20%20%20%20%20%20%20%20%20%20%20%20%29.addTo%28map_e15f7a34901d40ea9ae54b3367b7221e%29%3B%0A%20%20%20%20%20%20%20%20%0A%20%20%20%20%0A%20%20%20%20%20%20%20%20%20%20%20%20var%20circle_marker_9d4bcb255481402c8e7ec51f4eb3b03d%20%3D%20L.circleMarker%28%0A%20%20%20%20%20%20%20%20%20%20%20%20%20%20%20%20%5B37.5338107%2C%20126.8292398%5D%2C%0A%20%20%20%20%20%20%20%20%20%20%20%20%20%20%20%20%7B%22bubblingMouseEvents%22%3A%20true%2C%20%22color%22%3A%20%22%233186cc%22%2C%20%22dashArray%22%3A%20null%2C%20%22dashOffset%22%3A%20null%2C%20%22fill%22%3A%20true%2C%20%22fillColor%22%3A%20%22%233186cc%22%2C%20%22fillOpacity%22%3A%200.2%2C%20%22fillRule%22%3A%20%22evenodd%22%2C%20%22lineCap%22%3A%20%22round%22%2C%20%22lineJoin%22%3A%20%22round%22%2C%20%22opacity%22%3A%201.0%2C%20%22radius%22%3A%2015%2C%20%22stroke%22%3A%20true%2C%20%22weight%22%3A%203%7D%0A%20%20%20%20%20%20%20%20%20%20%20%20%29.addTo%28map_e15f7a34901d40ea9ae54b3367b7221e%29%3B%0A%20%20%20%20%20%20%20%20%0A%20%20%20%20%0A%20%20%20%20%20%20%20%20%20%20%20%20var%20circle_marker_9705b57fa0b548bf86995e4d2bd2b5f2%20%3D%20L.circleMarker%28%0A%20%20%20%20%20%20%20%20%20%20%20%20%20%20%20%20%5B37.5369402%2C%20126.8342781%5D%2C%0A%20%20%20%20%20%20%20%20%20%20%20%20%20%20%20%20%7B%22bubblingMouseEvents%22%3A%20true%2C%20%22color%22%3A%20%22%233186cc%22%2C%20%22dashArray%22%3A%20null%2C%20%22dashOffset%22%3A%20null%2C%20%22fill%22%3A%20true%2C%20%22fillColor%22%3A%20%22%233186cc%22%2C%20%22fillOpacity%22%3A%200.2%2C%20%22fillRule%22%3A%20%22evenodd%22%2C%20%22lineCap%22%3A%20%22round%22%2C%20%22lineJoin%22%3A%20%22round%22%2C%20%22opacity%22%3A%201.0%2C%20%22radius%22%3A%2015%2C%20%22stroke%22%3A%20true%2C%20%22weight%22%3A%203%7D%0A%20%20%20%20%20%20%20%20%20%20%20%20%29.addTo%28map_e15f7a34901d40ea9ae54b3367b7221e%29%3B%0A%20%20%20%20%20%20%20%20%0A%20%20%20%20%0A%20%20%20%20%20%20%20%20%20%20%20%20var%20circle_marker_499a35e9a7e949e0bf802b195a9099c5%20%3D%20L.circleMarker%28%0A%20%20%20%20%20%20%20%20%20%20%20%20%20%20%20%20%5B37.5280874%2C%20126.8329813%5D%2C%0A%20%20%20%20%20%20%20%20%20%20%20%20%20%20%20%20%7B%22bubblingMouseEvents%22%3A%20true%2C%20%22color%22%3A%20%22%233186cc%22%2C%20%22dashArray%22%3A%20null%2C%20%22dashOffset%22%3A%20null%2C%20%22fill%22%3A%20true%2C%20%22fillColor%22%3A%20%22%233186cc%22%2C%20%22fillOpacity%22%3A%200.2%2C%20%22fillRule%22%3A%20%22evenodd%22%2C%20%22lineCap%22%3A%20%22round%22%2C%20%22lineJoin%22%3A%20%22round%22%2C%20%22opacity%22%3A%201.0%2C%20%22radius%22%3A%2015%2C%20%22stroke%22%3A%20true%2C%20%22weight%22%3A%203%7D%0A%20%20%20%20%20%20%20%20%20%20%20%20%29.addTo%28map_e15f7a34901d40ea9ae54b3367b7221e%29%3B%0A%20%20%20%20%20%20%20%20%0A%20%20%20%20%0A%20%20%20%20%20%20%20%20%20%20%20%20var%20circle_marker_2e7064fa89fc41dc86e9da0cc3bbbe18%20%3D%20L.circleMarker%28%0A%20%20%20%20%20%20%20%20%20%20%20%20%20%20%20%20%5B37.6401555%2C%20127.0172034%5D%2C%0A%20%20%20%20%20%20%20%20%20%20%20%20%20%20%20%20%7B%22bubblingMouseEvents%22%3A%20true%2C%20%22color%22%3A%20%22%233186cc%22%2C%20%22dashArray%22%3A%20null%2C%20%22dashOffset%22%3A%20null%2C%20%22fill%22%3A%20true%2C%20%22fillColor%22%3A%20%22%233186cc%22%2C%20%22fillOpacity%22%3A%200.2%2C%20%22fillRule%22%3A%20%22evenodd%22%2C%20%22lineCap%22%3A%20%22round%22%2C%20%22lineJoin%22%3A%20%22round%22%2C%20%22opacity%22%3A%201.0%2C%20%22radius%22%3A%2015%2C%20%22stroke%22%3A%20true%2C%20%22weight%22%3A%203%7D%0A%20%20%20%20%20%20%20%20%20%20%20%20%29.addTo%28map_e15f7a34901d40ea9ae54b3367b7221e%29%3B%0A%20%20%20%20%20%20%20%20%0A%20%20%20%20%0A%20%20%20%20%20%20%20%20%20%20%20%20var%20circle_marker_be34d447b77e469d87fa69daf15fa062%20%3D%20L.circleMarker%28%0A%20%20%20%20%20%20%20%20%20%20%20%20%20%20%20%20%5B37.6315821%2C%20127.0179395%5D%2C%0A%20%20%20%20%20%20%20%20%20%20%20%20%20%20%20%20%7B%22bubblingMouseEvents%22%3A%20true%2C%20%22color%22%3A%20%22%233186cc%22%2C%20%22dashArray%22%3A%20null%2C%20%22dashOffset%22%3A%20null%2C%20%22fill%22%3A%20true%2C%20%22fillColor%22%3A%20%22%233186cc%22%2C%20%22fillOpacity%22%3A%200.2%2C%20%22fillRule%22%3A%20%22evenodd%22%2C%20%22lineCap%22%3A%20%22round%22%2C%20%22lineJoin%22%3A%20%22round%22%2C%20%22opacity%22%3A%201.0%2C%20%22radius%22%3A%2015%2C%20%22stroke%22%3A%20true%2C%20%22weight%22%3A%203%7D%0A%20%20%20%20%20%20%20%20%20%20%20%20%29.addTo%28map_e15f7a34901d40ea9ae54b3367b7221e%29%3B%0A%20%20%20%20%20%20%20%20%0A%20%20%20%20%0A%20%20%20%20%20%20%20%20%20%20%20%20var%20circle_marker_eebdf3ef0eaf4ce89846c8c85655b18a%20%3D%20L.circleMarker%28%0A%20%20%20%20%20%20%20%20%20%20%20%20%20%20%20%20%5B37.6421401%2C%20127.0295678%5D%2C%0A%20%20%20%20%20%20%20%20%20%20%20%20%20%20%20%20%7B%22bubblingMouseEvents%22%3A%20true%2C%20%22color%22%3A%20%22%233186cc%22%2C%20%22dashArray%22%3A%20null%2C%20%22dashOffset%22%3A%20null%2C%20%22fill%22%3A%20true%2C%20%22fillColor%22%3A%20%22%233186cc%22%2C%20%22fillOpacity%22%3A%200.2%2C%20%22fillRule%22%3A%20%22evenodd%22%2C%20%22lineCap%22%3A%20%22round%22%2C%20%22lineJoin%22%3A%20%22round%22%2C%20%22opacity%22%3A%201.0%2C%20%22radius%22%3A%2015%2C%20%22stroke%22%3A%20true%2C%20%22weight%22%3A%203%7D%0A%20%20%20%20%20%20%20%20%20%20%20%20%29.addTo%28map_e15f7a34901d40ea9ae54b3367b7221e%29%3B%0A%20%20%20%20%20%20%20%20%0A%20%20%20%20%0A%20%20%20%20%20%20%20%20%20%20%20%20var%20circle_marker_d076c2057ae7474297a35abb8345517d%20%3D%20L.circleMarker%28%0A%20%20%20%20%20%20%20%20%20%20%20%20%20%20%20%20%5B37.5744645%2C%20126.9666181%5D%2C%0A%20%20%20%20%20%20%20%20%20%20%20%20%20%20%20%20%7B%22bubblingMouseEvents%22%3A%20true%2C%20%22color%22%3A%20%22%23CD3181%22%2C%20%22dashArray%22%3A%20null%2C%20%22dashOffset%22%3A%20null%2C%20%22fill%22%3A%20true%2C%20%22fillColor%22%3A%20%22%23CD3181%22%2C%20%22fillOpacity%22%3A%200.2%2C%20%22fillRule%22%3A%20%22evenodd%22%2C%20%22lineCap%22%3A%20%22round%22%2C%20%22lineJoin%22%3A%20%22round%22%2C%20%22opacity%22%3A%201.0%2C%20%22radius%22%3A%2015%2C%20%22stroke%22%3A%20true%2C%20%22weight%22%3A%203%7D%0A%20%20%20%20%20%20%20%20%20%20%20%20%29.addTo%28map_e15f7a34901d40ea9ae54b3367b7221e%29%3B%0A%20%20%20%20%20%20%20%20%0A%20%20%20%20%0A%20%20%20%20%20%20%20%20%20%20%20%20var%20circle_marker_d544a9b68f39400a8c493b7d3213d192%20%3D%20L.circleMarker%28%0A%20%20%20%20%20%20%20%20%20%20%20%20%20%20%20%20%5B37.5315539%2C%20126.8560239%5D%2C%0A%20%20%20%20%20%20%20%20%20%20%20%20%20%20%20%20%7B%22bubblingMouseEvents%22%3A%20true%2C%20%22color%22%3A%20%22%233186cc%22%2C%20%22dashArray%22%3A%20null%2C%20%22dashOffset%22%3A%20null%2C%20%22fill%22%3A%20true%2C%20%22fillColor%22%3A%20%22%233186cc%22%2C%20%22fillOpacity%22%3A%200.2%2C%20%22fillRule%22%3A%20%22evenodd%22%2C%20%22lineCap%22%3A%20%22round%22%2C%20%22lineJoin%22%3A%20%22round%22%2C%20%22opacity%22%3A%201.0%2C%20%22radius%22%3A%2015%2C%20%22stroke%22%3A%20true%2C%20%22weight%22%3A%203%7D%0A%20%20%20%20%20%20%20%20%20%20%20%20%29.addTo%28map_e15f7a34901d40ea9ae54b3367b7221e%29%3B%0A%20%20%20%20%20%20%20%20%0A%20%20%20%20%0A%20%20%20%20%20%20%20%20%20%20%20%20var%20circle_marker_33153e299b0e4173ac667eaca37596ea%20%3D%20L.circleMarker%28%0A%20%20%20%20%20%20%20%20%20%20%20%20%20%20%20%20%5B37.54065689999999%2C%20126.8415062%5D%2C%0A%20%20%20%20%20%20%20%20%20%20%20%20%20%20%20%20%7B%22bubblingMouseEvents%22%3A%20true%2C%20%22color%22%3A%20%22%233186cc%22%2C%20%22dashArray%22%3A%20null%2C%20%22dashOffset%22%3A%20null%2C%20%22fill%22%3A%20true%2C%20%22fillColor%22%3A%20%22%233186cc%22%2C%20%22fillOpacity%22%3A%200.2%2C%20%22fillRule%22%3A%20%22evenodd%22%2C%20%22lineCap%22%3A%20%22round%22%2C%20%22lineJoin%22%3A%20%22round%22%2C%20%22opacity%22%3A%201.0%2C%20%22radius%22%3A%2015%2C%20%22stroke%22%3A%20true%2C%20%22weight%22%3A%203%7D%0A%20%20%20%20%20%20%20%20%20%20%20%20%29.addTo%28map_e15f7a34901d40ea9ae54b3367b7221e%29%3B%0A%20%20%20%20%20%20%20%20%0A%20%20%20%20%0A%20%20%20%20%20%20%20%20%20%20%20%20var%20circle_marker_bb121b972ec44d28b1491d79554ea6f5%20%3D%20L.circleMarker%28%0A%20%20%20%20%20%20%20%20%20%20%20%20%20%20%20%20%5B37.4599063%2C%20127.0420601%5D%2C%0A%20%20%20%20%20%20%20%20%20%20%20%20%20%20%20%20%7B%22bubblingMouseEvents%22%3A%20true%2C%20%22color%22%3A%20%22%233186cc%22%2C%20%22dashArray%22%3A%20null%2C%20%22dashOffset%22%3A%20null%2C%20%22fill%22%3A%20true%2C%20%22fillColor%22%3A%20%22%233186cc%22%2C%20%22fillOpacity%22%3A%200.2%2C%20%22fillRule%22%3A%20%22evenodd%22%2C%20%22lineCap%22%3A%20%22round%22%2C%20%22lineJoin%22%3A%20%22round%22%2C%20%22opacity%22%3A%201.0%2C%20%22radius%22%3A%2015%2C%20%22stroke%22%3A%20true%2C%20%22weight%22%3A%203%7D%0A%20%20%20%20%20%20%20%20%20%20%20%20%29.addTo%28map_e15f7a34901d40ea9ae54b3367b7221e%29%3B%0A%20%20%20%20%20%20%20%20%0A%20%20%20%20%0A%20%20%20%20%20%20%20%20%20%20%20%20var%20circle_marker_e61329d6036143828e188a0bbd4548cf%20%3D%20L.circleMarker%28%0A%20%20%20%20%20%20%20%20%20%20%20%20%20%20%20%20%5B37.674434%2C%20127.0440507%5D%2C%0A%20%20%20%20%20%20%20%20%20%20%20%20%20%20%20%20%7B%22bubblingMouseEvents%22%3A%20true%2C%20%22color%22%3A%20%22%233186cc%22%2C%20%22dashArray%22%3A%20null%2C%20%22dashOffset%22%3A%20null%2C%20%22fill%22%3A%20true%2C%20%22fillColor%22%3A%20%22%233186cc%22%2C%20%22fillOpacity%22%3A%200.2%2C%20%22fillRule%22%3A%20%22evenodd%22%2C%20%22lineCap%22%3A%20%22round%22%2C%20%22lineJoin%22%3A%20%22round%22%2C%20%22opacity%22%3A%201.0%2C%20%22radius%22%3A%2015%2C%20%22stroke%22%3A%20true%2C%20%22weight%22%3A%203%7D%0A%20%20%20%20%20%20%20%20%20%20%20%20%29.addTo%28map_e15f7a34901d40ea9ae54b3367b7221e%29%3B%0A%20%20%20%20%20%20%20%20%0A%20%20%20%20%0A%20%20%20%20%20%20%20%20%20%20%20%20var%20circle_marker_cb6cc765d2f946678a66a681e762ad99%20%3D%20L.circleMarker%28%0A%20%20%20%20%20%20%20%20%20%20%20%20%20%20%20%20%5B37.5338107%2C%20126.8292398%5D%2C%0A%20%20%20%20%20%20%20%20%20%20%20%20%20%20%20%20%7B%22bubblingMouseEvents%22%3A%20true%2C%20%22color%22%3A%20%22%233186cc%22%2C%20%22dashArray%22%3A%20null%2C%20%22dashOffset%22%3A%20null%2C%20%22fill%22%3A%20true%2C%20%22fillColor%22%3A%20%22%233186cc%22%2C%20%22fillOpacity%22%3A%200.2%2C%20%22fillRule%22%3A%20%22evenodd%22%2C%20%22lineCap%22%3A%20%22round%22%2C%20%22lineJoin%22%3A%20%22round%22%2C%20%22opacity%22%3A%201.0%2C%20%22radius%22%3A%2015%2C%20%22stroke%22%3A%20true%2C%20%22weight%22%3A%203%7D%0A%20%20%20%20%20%20%20%20%20%20%20%20%29.addTo%28map_e15f7a34901d40ea9ae54b3367b7221e%29%3B%0A%20%20%20%20%20%20%20%20%0A%20%20%20%20%0A%20%20%20%20%20%20%20%20%20%20%20%20var%20circle_marker_2782a536b6ea44fca464c20ebbfcbc86%20%3D%20L.circleMarker%28%0A%20%20%20%20%20%20%20%20%20%20%20%20%20%20%20%20%5B37.5369402%2C%20126.8342781%5D%2C%0A%20%20%20%20%20%20%20%20%20%20%20%20%20%20%20%20%7B%22bubblingMouseEvents%22%3A%20true%2C%20%22color%22%3A%20%22%233186cc%22%2C%20%22dashArray%22%3A%20null%2C%20%22dashOffset%22%3A%20null%2C%20%22fill%22%3A%20true%2C%20%22fillColor%22%3A%20%22%233186cc%22%2C%20%22fillOpacity%22%3A%200.2%2C%20%22fillRule%22%3A%20%22evenodd%22%2C%20%22lineCap%22%3A%20%22round%22%2C%20%22lineJoin%22%3A%20%22round%22%2C%20%22opacity%22%3A%201.0%2C%20%22radius%22%3A%2015%2C%20%22stroke%22%3A%20true%2C%20%22weight%22%3A%203%7D%0A%20%20%20%20%20%20%20%20%20%20%20%20%29.addTo%28map_e15f7a34901d40ea9ae54b3367b7221e%29%3B%0A%20%20%20%20%20%20%20%20%0A%20%20%20%20%0A%20%20%20%20%20%20%20%20%20%20%20%20var%20circle_marker_0d9250d4b4e64c28b6210df5ded73cbf%20%3D%20L.circleMarker%28%0A%20%20%20%20%20%20%20%20%20%20%20%20%20%20%20%20%5B37.5280874%2C%20126.8329813%5D%2C%0A%20%20%20%20%20%20%20%20%20%20%20%20%20%20%20%20%7B%22bubblingMouseEvents%22%3A%20true%2C%20%22color%22%3A%20%22%233186cc%22%2C%20%22dashArray%22%3A%20null%2C%20%22dashOffset%22%3A%20null%2C%20%22fill%22%3A%20true%2C%20%22fillColor%22%3A%20%22%233186cc%22%2C%20%22fillOpacity%22%3A%200.2%2C%20%22fillRule%22%3A%20%22evenodd%22%2C%20%22lineCap%22%3A%20%22round%22%2C%20%22lineJoin%22%3A%20%22round%22%2C%20%22opacity%22%3A%201.0%2C%20%22radius%22%3A%2015%2C%20%22stroke%22%3A%20true%2C%20%22weight%22%3A%203%7D%0A%20%20%20%20%20%20%20%20%20%20%20%20%29.addTo%28map_e15f7a34901d40ea9ae54b3367b7221e%29%3B%0A%20%20%20%20%20%20%20%20%0A%20%20%20%20%0A%20%20%20%20%20%20%20%20%20%20%20%20var%20circle_marker_7f4e35fc96ea4c45963c3b37e6db0725%20%3D%20L.circleMarker%28%0A%20%20%20%20%20%20%20%20%20%20%20%20%20%20%20%20%5B37.6401555%2C%20127.0172034%5D%2C%0A%20%20%20%20%20%20%20%20%20%20%20%20%20%20%20%20%7B%22bubblingMouseEvents%22%3A%20true%2C%20%22color%22%3A%20%22%233186cc%22%2C%20%22dashArray%22%3A%20null%2C%20%22dashOffset%22%3A%20null%2C%20%22fill%22%3A%20true%2C%20%22fillColor%22%3A%20%22%233186cc%22%2C%20%22fillOpacity%22%3A%200.2%2C%20%22fillRule%22%3A%20%22evenodd%22%2C%20%22lineCap%22%3A%20%22round%22%2C%20%22lineJoin%22%3A%20%22round%22%2C%20%22opacity%22%3A%201.0%2C%20%22radius%22%3A%2015%2C%20%22stroke%22%3A%20true%2C%20%22weight%22%3A%203%7D%0A%20%20%20%20%20%20%20%20%20%20%20%20%29.addTo%28map_e15f7a34901d40ea9ae54b3367b7221e%29%3B%0A%20%20%20%20%20%20%20%20%0A%20%20%20%20%0A%20%20%20%20%20%20%20%20%20%20%20%20var%20circle_marker_54848bc435c345daba1040083b0fc1cc%20%3D%20L.circleMarker%28%0A%20%20%20%20%20%20%20%20%20%20%20%20%20%20%20%20%5B37.6315821%2C%20127.0179395%5D%2C%0A%20%20%20%20%20%20%20%20%20%20%20%20%20%20%20%20%7B%22bubblingMouseEvents%22%3A%20true%2C%20%22color%22%3A%20%22%233186cc%22%2C%20%22dashArray%22%3A%20null%2C%20%22dashOffset%22%3A%20null%2C%20%22fill%22%3A%20true%2C%20%22fillColor%22%3A%20%22%233186cc%22%2C%20%22fillOpacity%22%3A%200.2%2C%20%22fillRule%22%3A%20%22evenodd%22%2C%20%22lineCap%22%3A%20%22round%22%2C%20%22lineJoin%22%3A%20%22round%22%2C%20%22opacity%22%3A%201.0%2C%20%22radius%22%3A%2015%2C%20%22stroke%22%3A%20true%2C%20%22weight%22%3A%203%7D%0A%20%20%20%20%20%20%20%20%20%20%20%20%29.addTo%28map_e15f7a34901d40ea9ae54b3367b7221e%29%3B%0A%20%20%20%20%20%20%20%20%0A%20%20%20%20%0A%20%20%20%20%20%20%20%20%20%20%20%20var%20circle_marker_3e06d18f75c24df2be7b02967f5b861b%20%3D%20L.circleMarker%28%0A%20%20%20%20%20%20%20%20%20%20%20%20%20%20%20%20%5B37.6421401%2C%20127.0295678%5D%2C%0A%20%20%20%20%20%20%20%20%20%20%20%20%20%20%20%20%7B%22bubblingMouseEvents%22%3A%20true%2C%20%22color%22%3A%20%22%233186cc%22%2C%20%22dashArray%22%3A%20null%2C%20%22dashOffset%22%3A%20null%2C%20%22fill%22%3A%20true%2C%20%22fillColor%22%3A%20%22%233186cc%22%2C%20%22fillOpacity%22%3A%200.2%2C%20%22fillRule%22%3A%20%22evenodd%22%2C%20%22lineCap%22%3A%20%22round%22%2C%20%22lineJoin%22%3A%20%22round%22%2C%20%22opacity%22%3A%201.0%2C%20%22radius%22%3A%2015%2C%20%22stroke%22%3A%20true%2C%20%22weight%22%3A%203%7D%0A%20%20%20%20%20%20%20%20%20%20%20%20%29.addTo%28map_e15f7a34901d40ea9ae54b3367b7221e%29%3B%0A%20%20%20%20%20%20%20%20%0A%20%20%20%20%0A%20%20%20%20%20%20%20%20%20%20%20%20var%20circle_marker_c6f3fa556d264ee0afa24754178afd62%20%3D%20L.circleMarker%28%0A%20%20%20%20%20%20%20%20%20%20%20%20%20%20%20%20%5B37.5359518%2C%20127.0061296%5D%2C%0A%20%20%20%20%20%20%20%20%20%20%20%20%20%20%20%20%7B%22bubblingMouseEvents%22%3A%20true%2C%20%22color%22%3A%20%22%23CD3181%22%2C%20%22dashArray%22%3A%20null%2C%20%22dashOffset%22%3A%20null%2C%20%22fill%22%3A%20true%2C%20%22fillColor%22%3A%20%22%23CD3181%22%2C%20%22fillOpacity%22%3A%200.2%2C%20%22fillRule%22%3A%20%22evenodd%22%2C%20%22lineCap%22%3A%20%22round%22%2C%20%22lineJoin%22%3A%20%22round%22%2C%20%22opacity%22%3A%201.0%2C%20%22radius%22%3A%2015%2C%20%22stroke%22%3A%20true%2C%20%22weight%22%3A%203%7D%0A%20%20%20%20%20%20%20%20%20%20%20%20%29.addTo%28map_e15f7a34901d40ea9ae54b3367b7221e%29%3B%0A%20%20%20%20%20%20%20%20%0A%20%20%20%20%0A%20%20%20%20%20%20%20%20%20%20%20%20var%20circle_marker_aaf839cc7ce543c19eb7edfef9f2541c%20%3D%20L.circleMarker%28%0A%20%20%20%20%20%20%20%20%20%20%20%20%20%20%20%20%5B37.5315539%2C%20126.8560239%5D%2C%0A%20%20%20%20%20%20%20%20%20%20%20%20%20%20%20%20%7B%22bubblingMouseEvents%22%3A%20true%2C%20%22color%22%3A%20%22%233186cc%22%2C%20%22dashArray%22%3A%20null%2C%20%22dashOffset%22%3A%20null%2C%20%22fill%22%3A%20true%2C%20%22fillColor%22%3A%20%22%233186cc%22%2C%20%22fillOpacity%22%3A%200.2%2C%20%22fillRule%22%3A%20%22evenodd%22%2C%20%22lineCap%22%3A%20%22round%22%2C%20%22lineJoin%22%3A%20%22round%22%2C%20%22opacity%22%3A%201.0%2C%20%22radius%22%3A%2015%2C%20%22stroke%22%3A%20true%2C%20%22weight%22%3A%203%7D%0A%20%20%20%20%20%20%20%20%20%20%20%20%29.addTo%28map_e15f7a34901d40ea9ae54b3367b7221e%29%3B%0A%20%20%20%20%20%20%20%20%0A%20%20%20%20%0A%20%20%20%20%20%20%20%20%20%20%20%20var%20circle_marker_63e5f44f45d44e4bb61bff288fc452fa%20%3D%20L.circleMarker%28%0A%20%20%20%20%20%20%20%20%20%20%20%20%20%20%20%20%5B37.54065689999999%2C%20126.8415062%5D%2C%0A%20%20%20%20%20%20%20%20%20%20%20%20%20%20%20%20%7B%22bubblingMouseEvents%22%3A%20true%2C%20%22color%22%3A%20%22%233186cc%22%2C%20%22dashArray%22%3A%20null%2C%20%22dashOffset%22%3A%20null%2C%20%22fill%22%3A%20true%2C%20%22fillColor%22%3A%20%22%233186cc%22%2C%20%22fillOpacity%22%3A%200.2%2C%20%22fillRule%22%3A%20%22evenodd%22%2C%20%22lineCap%22%3A%20%22round%22%2C%20%22lineJoin%22%3A%20%22round%22%2C%20%22opacity%22%3A%201.0%2C%20%22radius%22%3A%2015%2C%20%22stroke%22%3A%20true%2C%20%22weight%22%3A%203%7D%0A%20%20%20%20%20%20%20%20%20%20%20%20%29.addTo%28map_e15f7a34901d40ea9ae54b3367b7221e%29%3B%0A%20%20%20%20%20%20%20%20%0A%20%20%20%20%0A%20%20%20%20%20%20%20%20%20%20%20%20var%20circle_marker_4914fd36bb3d484f95506fd880f14bb6%20%3D%20L.circleMarker%28%0A%20%20%20%20%20%20%20%20%20%20%20%20%20%20%20%20%5B37.4599063%2C%20127.0420601%5D%2C%0A%20%20%20%20%20%20%20%20%20%20%20%20%20%20%20%20%7B%22bubblingMouseEvents%22%3A%20true%2C%20%22color%22%3A%20%22%233186cc%22%2C%20%22dashArray%22%3A%20null%2C%20%22dashOffset%22%3A%20null%2C%20%22fill%22%3A%20true%2C%20%22fillColor%22%3A%20%22%233186cc%22%2C%20%22fillOpacity%22%3A%200.2%2C%20%22fillRule%22%3A%20%22evenodd%22%2C%20%22lineCap%22%3A%20%22round%22%2C%20%22lineJoin%22%3A%20%22round%22%2C%20%22opacity%22%3A%201.0%2C%20%22radius%22%3A%2015%2C%20%22stroke%22%3A%20true%2C%20%22weight%22%3A%203%7D%0A%20%20%20%20%20%20%20%20%20%20%20%20%29.addTo%28map_e15f7a34901d40ea9ae54b3367b7221e%29%3B%0A%20%20%20%20%20%20%20%20%0A%20%20%20%20%0A%20%20%20%20%20%20%20%20%20%20%20%20var%20circle_marker_8e4cb50ed830408a85099c6699425b13%20%3D%20L.circleMarker%28%0A%20%20%20%20%20%20%20%20%20%20%20%20%20%20%20%20%5B37.674434%2C%20127.0440507%5D%2C%0A%20%20%20%20%20%20%20%20%20%20%20%20%20%20%20%20%7B%22bubblingMouseEvents%22%3A%20true%2C%20%22color%22%3A%20%22%233186cc%22%2C%20%22dashArray%22%3A%20null%2C%20%22dashOffset%22%3A%20null%2C%20%22fill%22%3A%20true%2C%20%22fillColor%22%3A%20%22%233186cc%22%2C%20%22fillOpacity%22%3A%200.2%2C%20%22fillRule%22%3A%20%22evenodd%22%2C%20%22lineCap%22%3A%20%22round%22%2C%20%22lineJoin%22%3A%20%22round%22%2C%20%22opacity%22%3A%201.0%2C%20%22radius%22%3A%2015%2C%20%22stroke%22%3A%20true%2C%20%22weight%22%3A%203%7D%0A%20%20%20%20%20%20%20%20%20%20%20%20%29.addTo%28map_e15f7a34901d40ea9ae54b3367b7221e%29%3B%0A%20%20%20%20%20%20%20%20%0A%20%20%20%20%0A%20%20%20%20%20%20%20%20%20%20%20%20var%20circle_marker_90cdf60013f34e6980006c40e4a11253%20%3D%20L.circleMarker%28%0A%20%20%20%20%20%20%20%20%20%20%20%20%20%20%20%20%5B37.5338107%2C%20126.8292398%5D%2C%0A%20%20%20%20%20%20%20%20%20%20%20%20%20%20%20%20%7B%22bubblingMouseEvents%22%3A%20true%2C%20%22color%22%3A%20%22%233186cc%22%2C%20%22dashArray%22%3A%20null%2C%20%22dashOffset%22%3A%20null%2C%20%22fill%22%3A%20true%2C%20%22fillColor%22%3A%20%22%233186cc%22%2C%20%22fillOpacity%22%3A%200.2%2C%20%22fillRule%22%3A%20%22evenodd%22%2C%20%22lineCap%22%3A%20%22round%22%2C%20%22lineJoin%22%3A%20%22round%22%2C%20%22opacity%22%3A%201.0%2C%20%22radius%22%3A%2015%2C%20%22stroke%22%3A%20true%2C%20%22weight%22%3A%203%7D%0A%20%20%20%20%20%20%20%20%20%20%20%20%29.addTo%28map_e15f7a34901d40ea9ae54b3367b7221e%29%3B%0A%20%20%20%20%20%20%20%20%0A%20%20%20%20%0A%20%20%20%20%20%20%20%20%20%20%20%20var%20circle_marker_f97ec88502814b4db88ceecad71f9a84%20%3D%20L.circleMarker%28%0A%20%20%20%20%20%20%20%20%20%20%20%20%20%20%20%20%5B37.5369402%2C%20126.8342781%5D%2C%0A%20%20%20%20%20%20%20%20%20%20%20%20%20%20%20%20%7B%22bubblingMouseEvents%22%3A%20true%2C%20%22color%22%3A%20%22%233186cc%22%2C%20%22dashArray%22%3A%20null%2C%20%22dashOffset%22%3A%20null%2C%20%22fill%22%3A%20true%2C%20%22fillColor%22%3A%20%22%233186cc%22%2C%20%22fillOpacity%22%3A%200.2%2C%20%22fillRule%22%3A%20%22evenodd%22%2C%20%22lineCap%22%3A%20%22round%22%2C%20%22lineJoin%22%3A%20%22round%22%2C%20%22opacity%22%3A%201.0%2C%20%22radius%22%3A%2015%2C%20%22stroke%22%3A%20true%2C%20%22weight%22%3A%203%7D%0A%20%20%20%20%20%20%20%20%20%20%20%20%29.addTo%28map_e15f7a34901d40ea9ae54b3367b7221e%29%3B%0A%20%20%20%20%20%20%20%20%0A%20%20%20%20%0A%20%20%20%20%20%20%20%20%20%20%20%20var%20circle_marker_dcdd787b43e3489ba92d2ea329b87e2a%20%3D%20L.circleMarker%28%0A%20%20%20%20%20%20%20%20%20%20%20%20%20%20%20%20%5B37.5280874%2C%20126.8329813%5D%2C%0A%20%20%20%20%20%20%20%20%20%20%20%20%20%20%20%20%7B%22bubblingMouseEvents%22%3A%20true%2C%20%22color%22%3A%20%22%233186cc%22%2C%20%22dashArray%22%3A%20null%2C%20%22dashOffset%22%3A%20null%2C%20%22fill%22%3A%20true%2C%20%22fillColor%22%3A%20%22%233186cc%22%2C%20%22fillOpacity%22%3A%200.2%2C%20%22fillRule%22%3A%20%22evenodd%22%2C%20%22lineCap%22%3A%20%22round%22%2C%20%22lineJoin%22%3A%20%22round%22%2C%20%22opacity%22%3A%201.0%2C%20%22radius%22%3A%2015%2C%20%22stroke%22%3A%20true%2C%20%22weight%22%3A%203%7D%0A%20%20%20%20%20%20%20%20%20%20%20%20%29.addTo%28map_e15f7a34901d40ea9ae54b3367b7221e%29%3B%0A%20%20%20%20%20%20%20%20%0A%20%20%20%20%0A%20%20%20%20%20%20%20%20%20%20%20%20var%20circle_marker_dd853a9a37174a1db202d66610731903%20%3D%20L.circleMarker%28%0A%20%20%20%20%20%20%20%20%20%20%20%20%20%20%20%20%5B37.6401555%2C%20127.0172034%5D%2C%0A%20%20%20%20%20%20%20%20%20%20%20%20%20%20%20%20%7B%22bubblingMouseEvents%22%3A%20true%2C%20%22color%22%3A%20%22%233186cc%22%2C%20%22dashArray%22%3A%20null%2C%20%22dashOffset%22%3A%20null%2C%20%22fill%22%3A%20true%2C%20%22fillColor%22%3A%20%22%233186cc%22%2C%20%22fillOpacity%22%3A%200.2%2C%20%22fillRule%22%3A%20%22evenodd%22%2C%20%22lineCap%22%3A%20%22round%22%2C%20%22lineJoin%22%3A%20%22round%22%2C%20%22opacity%22%3A%201.0%2C%20%22radius%22%3A%2015%2C%20%22stroke%22%3A%20true%2C%20%22weight%22%3A%203%7D%0A%20%20%20%20%20%20%20%20%20%20%20%20%29.addTo%28map_e15f7a34901d40ea9ae54b3367b7221e%29%3B%0A%20%20%20%20%20%20%20%20%0A%20%20%20%20%0A%20%20%20%20%20%20%20%20%20%20%20%20var%20circle_marker_135240f58d0e4033adf6c3684924560d%20%3D%20L.circleMarker%28%0A%20%20%20%20%20%20%20%20%20%20%20%20%20%20%20%20%5B37.6315821%2C%20127.0179395%5D%2C%0A%20%20%20%20%20%20%20%20%20%20%20%20%20%20%20%20%7B%22bubblingMouseEvents%22%3A%20true%2C%20%22color%22%3A%20%22%233186cc%22%2C%20%22dashArray%22%3A%20null%2C%20%22dashOffset%22%3A%20null%2C%20%22fill%22%3A%20true%2C%20%22fillColor%22%3A%20%22%233186cc%22%2C%20%22fillOpacity%22%3A%200.2%2C%20%22fillRule%22%3A%20%22evenodd%22%2C%20%22lineCap%22%3A%20%22round%22%2C%20%22lineJoin%22%3A%20%22round%22%2C%20%22opacity%22%3A%201.0%2C%20%22radius%22%3A%2015%2C%20%22stroke%22%3A%20true%2C%20%22weight%22%3A%203%7D%0A%20%20%20%20%20%20%20%20%20%20%20%20%29.addTo%28map_e15f7a34901d40ea9ae54b3367b7221e%29%3B%0A%20%20%20%20%20%20%20%20%0A%20%20%20%20%0A%20%20%20%20%20%20%20%20%20%20%20%20var%20circle_marker_b7b8211db99e476789a98d1a81908789%20%3D%20L.circleMarker%28%0A%20%20%20%20%20%20%20%20%20%20%20%20%20%20%20%20%5B37.6421401%2C%20127.0295678%5D%2C%0A%20%20%20%20%20%20%20%20%20%20%20%20%20%20%20%20%7B%22bubblingMouseEvents%22%3A%20true%2C%20%22color%22%3A%20%22%233186cc%22%2C%20%22dashArray%22%3A%20null%2C%20%22dashOffset%22%3A%20null%2C%20%22fill%22%3A%20true%2C%20%22fillColor%22%3A%20%22%233186cc%22%2C%20%22fillOpacity%22%3A%200.2%2C%20%22fillRule%22%3A%20%22evenodd%22%2C%20%22lineCap%22%3A%20%22round%22%2C%20%22lineJoin%22%3A%20%22round%22%2C%20%22opacity%22%3A%201.0%2C%20%22radius%22%3A%2015%2C%20%22stroke%22%3A%20true%2C%20%22weight%22%3A%203%7D%0A%20%20%20%20%20%20%20%20%20%20%20%20%29.addTo%28map_e15f7a34901d40ea9ae54b3367b7221e%29%3B%0A%20%20%20%20%20%20%20%20%0A%20%20%20%20%0A%20%20%20%20%20%20%20%20%20%20%20%20var%20circle_marker_f537249dd20946e39babe91e4a46ac8f%20%3D%20L.circleMarker%28%0A%20%20%20%20%20%20%20%20%20%20%20%20%20%20%20%20%5B37.586068%2C%20127.0010581%5D%2C%0A%20%20%20%20%20%20%20%20%20%20%20%20%20%20%20%20%7B%22bubblingMouseEvents%22%3A%20true%2C%20%22color%22%3A%20%22%23CD3181%22%2C%20%22dashArray%22%3A%20null%2C%20%22dashOffset%22%3A%20null%2C%20%22fill%22%3A%20true%2C%20%22fillColor%22%3A%20%22%23CD3181%22%2C%20%22fillOpacity%22%3A%200.2%2C%20%22fillRule%22%3A%20%22evenodd%22%2C%20%22lineCap%22%3A%20%22round%22%2C%20%22lineJoin%22%3A%20%22round%22%2C%20%22opacity%22%3A%201.0%2C%20%22radius%22%3A%2015%2C%20%22stroke%22%3A%20true%2C%20%22weight%22%3A%203%7D%0A%20%20%20%20%20%20%20%20%20%20%20%20%29.addTo%28map_e15f7a34901d40ea9ae54b3367b7221e%29%3B%0A%20%20%20%20%20%20%20%20%0A%20%20%20%20%0A%20%20%20%20%20%20%20%20%20%20%20%20var%20circle_marker_5c520de0866a4e75883f875591af76a6%20%3D%20L.circleMarker%28%0A%20%20%20%20%20%20%20%20%20%20%20%20%20%20%20%20%5B37.5315539%2C%20126.8560239%5D%2C%0A%20%20%20%20%20%20%20%20%20%20%20%20%20%20%20%20%7B%22bubblingMouseEvents%22%3A%20true%2C%20%22color%22%3A%20%22%233186cc%22%2C%20%22dashArray%22%3A%20null%2C%20%22dashOffset%22%3A%20null%2C%20%22fill%22%3A%20true%2C%20%22fillColor%22%3A%20%22%233186cc%22%2C%20%22fillOpacity%22%3A%200.2%2C%20%22fillRule%22%3A%20%22evenodd%22%2C%20%22lineCap%22%3A%20%22round%22%2C%20%22lineJoin%22%3A%20%22round%22%2C%20%22opacity%22%3A%201.0%2C%20%22radius%22%3A%2015%2C%20%22stroke%22%3A%20true%2C%20%22weight%22%3A%203%7D%0A%20%20%20%20%20%20%20%20%20%20%20%20%29.addTo%28map_e15f7a34901d40ea9ae54b3367b7221e%29%3B%0A%20%20%20%20%20%20%20%20%0A%20%20%20%20%0A%20%20%20%20%20%20%20%20%20%20%20%20var%20circle_marker_81b9db47b432436eb70046fd765c42c4%20%3D%20L.circleMarker%28%0A%20%20%20%20%20%20%20%20%20%20%20%20%20%20%20%20%5B37.54065689999999%2C%20126.8415062%5D%2C%0A%20%20%20%20%20%20%20%20%20%20%20%20%20%20%20%20%7B%22bubblingMouseEvents%22%3A%20true%2C%20%22color%22%3A%20%22%233186cc%22%2C%20%22dashArray%22%3A%20null%2C%20%22dashOffset%22%3A%20null%2C%20%22fill%22%3A%20true%2C%20%22fillColor%22%3A%20%22%233186cc%22%2C%20%22fillOpacity%22%3A%200.2%2C%20%22fillRule%22%3A%20%22evenodd%22%2C%20%22lineCap%22%3A%20%22round%22%2C%20%22lineJoin%22%3A%20%22round%22%2C%20%22opacity%22%3A%201.0%2C%20%22radius%22%3A%2015%2C%20%22stroke%22%3A%20true%2C%20%22weight%22%3A%203%7D%0A%20%20%20%20%20%20%20%20%20%20%20%20%29.addTo%28map_e15f7a34901d40ea9ae54b3367b7221e%29%3B%0A%20%20%20%20%20%20%20%20%0A%20%20%20%20%0A%20%20%20%20%20%20%20%20%20%20%20%20var%20circle_marker_d3cd4baea00e4d65b877e87fa2e33f28%20%3D%20L.circleMarker%28%0A%20%20%20%20%20%20%20%20%20%20%20%20%20%20%20%20%5B37.4599063%2C%20127.0420601%5D%2C%0A%20%20%20%20%20%20%20%20%20%20%20%20%20%20%20%20%7B%22bubblingMouseEvents%22%3A%20true%2C%20%22color%22%3A%20%22%233186cc%22%2C%20%22dashArray%22%3A%20null%2C%20%22dashOffset%22%3A%20null%2C%20%22fill%22%3A%20true%2C%20%22fillColor%22%3A%20%22%233186cc%22%2C%20%22fillOpacity%22%3A%200.2%2C%20%22fillRule%22%3A%20%22evenodd%22%2C%20%22lineCap%22%3A%20%22round%22%2C%20%22lineJoin%22%3A%20%22round%22%2C%20%22opacity%22%3A%201.0%2C%20%22radius%22%3A%2015%2C%20%22stroke%22%3A%20true%2C%20%22weight%22%3A%203%7D%0A%20%20%20%20%20%20%20%20%20%20%20%20%29.addTo%28map_e15f7a34901d40ea9ae54b3367b7221e%29%3B%0A%20%20%20%20%20%20%20%20%0A%20%20%20%20%0A%20%20%20%20%20%20%20%20%20%20%20%20var%20circle_marker_63b1a4c8c262472bbf348ad221e9a7a9%20%3D%20L.circleMarker%28%0A%20%20%20%20%20%20%20%20%20%20%20%20%20%20%20%20%5B37.674434%2C%20127.0440507%5D%2C%0A%20%20%20%20%20%20%20%20%20%20%20%20%20%20%20%20%7B%22bubblingMouseEvents%22%3A%20true%2C%20%22color%22%3A%20%22%233186cc%22%2C%20%22dashArray%22%3A%20null%2C%20%22dashOffset%22%3A%20null%2C%20%22fill%22%3A%20true%2C%20%22fillColor%22%3A%20%22%233186cc%22%2C%20%22fillOpacity%22%3A%200.2%2C%20%22fillRule%22%3A%20%22evenodd%22%2C%20%22lineCap%22%3A%20%22round%22%2C%20%22lineJoin%22%3A%20%22round%22%2C%20%22opacity%22%3A%201.0%2C%20%22radius%22%3A%2015%2C%20%22stroke%22%3A%20true%2C%20%22weight%22%3A%203%7D%0A%20%20%20%20%20%20%20%20%20%20%20%20%29.addTo%28map_e15f7a34901d40ea9ae54b3367b7221e%29%3B%0A%20%20%20%20%20%20%20%20%0A%20%20%20%20%0A%20%20%20%20%20%20%20%20%20%20%20%20var%20circle_marker_4e456726f9a1491589264c58e910f082%20%3D%20L.circleMarker%28%0A%20%20%20%20%20%20%20%20%20%20%20%20%20%20%20%20%5B37.5338107%2C%20126.8292398%5D%2C%0A%20%20%20%20%20%20%20%20%20%20%20%20%20%20%20%20%7B%22bubblingMouseEvents%22%3A%20true%2C%20%22color%22%3A%20%22%233186cc%22%2C%20%22dashArray%22%3A%20null%2C%20%22dashOffset%22%3A%20null%2C%20%22fill%22%3A%20true%2C%20%22fillColor%22%3A%20%22%233186cc%22%2C%20%22fillOpacity%22%3A%200.2%2C%20%22fillRule%22%3A%20%22evenodd%22%2C%20%22lineCap%22%3A%20%22round%22%2C%20%22lineJoin%22%3A%20%22round%22%2C%20%22opacity%22%3A%201.0%2C%20%22radius%22%3A%2015%2C%20%22stroke%22%3A%20true%2C%20%22weight%22%3A%203%7D%0A%20%20%20%20%20%20%20%20%20%20%20%20%29.addTo%28map_e15f7a34901d40ea9ae54b3367b7221e%29%3B%0A%20%20%20%20%20%20%20%20%0A%20%20%20%20%0A%20%20%20%20%20%20%20%20%20%20%20%20var%20circle_marker_131f03cef5284a8bbbac0c2fb4357dfe%20%3D%20L.circleMarker%28%0A%20%20%20%20%20%20%20%20%20%20%20%20%20%20%20%20%5B37.5369402%2C%20126.8342781%5D%2C%0A%20%20%20%20%20%20%20%20%20%20%20%20%20%20%20%20%7B%22bubblingMouseEvents%22%3A%20true%2C%20%22color%22%3A%20%22%233186cc%22%2C%20%22dashArray%22%3A%20null%2C%20%22dashOffset%22%3A%20null%2C%20%22fill%22%3A%20true%2C%20%22fillColor%22%3A%20%22%233186cc%22%2C%20%22fillOpacity%22%3A%200.2%2C%20%22fillRule%22%3A%20%22evenodd%22%2C%20%22lineCap%22%3A%20%22round%22%2C%20%22lineJoin%22%3A%20%22round%22%2C%20%22opacity%22%3A%201.0%2C%20%22radius%22%3A%2015%2C%20%22stroke%22%3A%20true%2C%20%22weight%22%3A%203%7D%0A%20%20%20%20%20%20%20%20%20%20%20%20%29.addTo%28map_e15f7a34901d40ea9ae54b3367b7221e%29%3B%0A%20%20%20%20%20%20%20%20%0A%20%20%20%20%0A%20%20%20%20%20%20%20%20%20%20%20%20var%20circle_marker_d52da27768b94ac0a0e6997dd3b30ff9%20%3D%20L.circleMarker%28%0A%20%20%20%20%20%20%20%20%20%20%20%20%20%20%20%20%5B37.5280874%2C%20126.8329813%5D%2C%0A%20%20%20%20%20%20%20%20%20%20%20%20%20%20%20%20%7B%22bubblingMouseEvents%22%3A%20true%2C%20%22color%22%3A%20%22%233186cc%22%2C%20%22dashArray%22%3A%20null%2C%20%22dashOffset%22%3A%20null%2C%20%22fill%22%3A%20true%2C%20%22fillColor%22%3A%20%22%233186cc%22%2C%20%22fillOpacity%22%3A%200.2%2C%20%22fillRule%22%3A%20%22evenodd%22%2C%20%22lineCap%22%3A%20%22round%22%2C%20%22lineJoin%22%3A%20%22round%22%2C%20%22opacity%22%3A%201.0%2C%20%22radius%22%3A%2015%2C%20%22stroke%22%3A%20true%2C%20%22weight%22%3A%203%7D%0A%20%20%20%20%20%20%20%20%20%20%20%20%29.addTo%28map_e15f7a34901d40ea9ae54b3367b7221e%29%3B%0A%20%20%20%20%20%20%20%20%0A%20%20%20%20%0A%20%20%20%20%20%20%20%20%20%20%20%20var%20circle_marker_83d89600f115473ab35672303e31fe5a%20%3D%20L.circleMarker%28%0A%20%20%20%20%20%20%20%20%20%20%20%20%20%20%20%20%5B37.6401555%2C%20127.0172034%5D%2C%0A%20%20%20%20%20%20%20%20%20%20%20%20%20%20%20%20%7B%22bubblingMouseEvents%22%3A%20true%2C%20%22color%22%3A%20%22%233186cc%22%2C%20%22dashArray%22%3A%20null%2C%20%22dashOffset%22%3A%20null%2C%20%22fill%22%3A%20true%2C%20%22fillColor%22%3A%20%22%233186cc%22%2C%20%22fillOpacity%22%3A%200.2%2C%20%22fillRule%22%3A%20%22evenodd%22%2C%20%22lineCap%22%3A%20%22round%22%2C%20%22lineJoin%22%3A%20%22round%22%2C%20%22opacity%22%3A%201.0%2C%20%22radius%22%3A%2015%2C%20%22stroke%22%3A%20true%2C%20%22weight%22%3A%203%7D%0A%20%20%20%20%20%20%20%20%20%20%20%20%29.addTo%28map_e15f7a34901d40ea9ae54b3367b7221e%29%3B%0A%20%20%20%20%20%20%20%20%0A%20%20%20%20%0A%20%20%20%20%20%20%20%20%20%20%20%20var%20circle_marker_1fbb7cedb5f34e97aa2cfa2fbdac7524%20%3D%20L.circleMarker%28%0A%20%20%20%20%20%20%20%20%20%20%20%20%20%20%20%20%5B37.6315821%2C%20127.0179395%5D%2C%0A%20%20%20%20%20%20%20%20%20%20%20%20%20%20%20%20%7B%22bubblingMouseEvents%22%3A%20true%2C%20%22color%22%3A%20%22%233186cc%22%2C%20%22dashArray%22%3A%20null%2C%20%22dashOffset%22%3A%20null%2C%20%22fill%22%3A%20true%2C%20%22fillColor%22%3A%20%22%233186cc%22%2C%20%22fillOpacity%22%3A%200.2%2C%20%22fillRule%22%3A%20%22evenodd%22%2C%20%22lineCap%22%3A%20%22round%22%2C%20%22lineJoin%22%3A%20%22round%22%2C%20%22opacity%22%3A%201.0%2C%20%22radius%22%3A%2015%2C%20%22stroke%22%3A%20true%2C%20%22weight%22%3A%203%7D%0A%20%20%20%20%20%20%20%20%20%20%20%20%29.addTo%28map_e15f7a34901d40ea9ae54b3367b7221e%29%3B%0A%20%20%20%20%20%20%20%20%0A%20%20%20%20%0A%20%20%20%20%20%20%20%20%20%20%20%20var%20circle_marker_521f1aeb4f504e5b89f50a08597f206a%20%3D%20L.circleMarker%28%0A%20%20%20%20%20%20%20%20%20%20%20%20%20%20%20%20%5B37.6421401%2C%20127.0295678%5D%2C%0A%20%20%20%20%20%20%20%20%20%20%20%20%20%20%20%20%7B%22bubblingMouseEvents%22%3A%20true%2C%20%22color%22%3A%20%22%233186cc%22%2C%20%22dashArray%22%3A%20null%2C%20%22dashOffset%22%3A%20null%2C%20%22fill%22%3A%20true%2C%20%22fillColor%22%3A%20%22%233186cc%22%2C%20%22fillOpacity%22%3A%200.2%2C%20%22fillRule%22%3A%20%22evenodd%22%2C%20%22lineCap%22%3A%20%22round%22%2C%20%22lineJoin%22%3A%20%22round%22%2C%20%22opacity%22%3A%201.0%2C%20%22radius%22%3A%2015%2C%20%22stroke%22%3A%20true%2C%20%22weight%22%3A%203%7D%0A%20%20%20%20%20%20%20%20%20%20%20%20%29.addTo%28map_e15f7a34901d40ea9ae54b3367b7221e%29%3B%0A%20%20%20%20%20%20%20%20%0A%20%20%20%20%0A%20%20%20%20%20%20%20%20%20%20%20%20var%20circle_marker_0f9768b40b554cc3bcbc18db1aadd0e5%20%3D%20L.circleMarker%28%0A%20%20%20%20%20%20%20%20%20%20%20%20%20%20%20%20%5B37.5754163%2C%20126.9801322%5D%2C%0A%20%20%20%20%20%20%20%20%20%20%20%20%20%20%20%20%7B%22bubblingMouseEvents%22%3A%20true%2C%20%22color%22%3A%20%22%23CD3181%22%2C%20%22dashArray%22%3A%20null%2C%20%22dashOffset%22%3A%20null%2C%20%22fill%22%3A%20true%2C%20%22fillColor%22%3A%20%22%23CD3181%22%2C%20%22fillOpacity%22%3A%200.2%2C%20%22fillRule%22%3A%20%22evenodd%22%2C%20%22lineCap%22%3A%20%22round%22%2C%20%22lineJoin%22%3A%20%22round%22%2C%20%22opacity%22%3A%201.0%2C%20%22radius%22%3A%2015%2C%20%22stroke%22%3A%20true%2C%20%22weight%22%3A%203%7D%0A%20%20%20%20%20%20%20%20%20%20%20%20%29.addTo%28map_e15f7a34901d40ea9ae54b3367b7221e%29%3B%0A%20%20%20%20%20%20%20%20%0A%20%20%20%20%0A%20%20%20%20%20%20%20%20%20%20%20%20var%20circle_marker_7fc77df3c0004ee68be7a921a7fa7511%20%3D%20L.circleMarker%28%0A%20%20%20%20%20%20%20%20%20%20%20%20%20%20%20%20%5B37.5315539%2C%20126.8560239%5D%2C%0A%20%20%20%20%20%20%20%20%20%20%20%20%20%20%20%20%7B%22bubblingMouseEvents%22%3A%20true%2C%20%22color%22%3A%20%22%233186cc%22%2C%20%22dashArray%22%3A%20null%2C%20%22dashOffset%22%3A%20null%2C%20%22fill%22%3A%20true%2C%20%22fillColor%22%3A%20%22%233186cc%22%2C%20%22fillOpacity%22%3A%200.2%2C%20%22fillRule%22%3A%20%22evenodd%22%2C%20%22lineCap%22%3A%20%22round%22%2C%20%22lineJoin%22%3A%20%22round%22%2C%20%22opacity%22%3A%201.0%2C%20%22radius%22%3A%2015%2C%20%22stroke%22%3A%20true%2C%20%22weight%22%3A%203%7D%0A%20%20%20%20%20%20%20%20%20%20%20%20%29.addTo%28map_e15f7a34901d40ea9ae54b3367b7221e%29%3B%0A%20%20%20%20%20%20%20%20%0A%20%20%20%20%0A%20%20%20%20%20%20%20%20%20%20%20%20var%20circle_marker_f8b93525713b4533b92c3ac5394c667b%20%3D%20L.circleMarker%28%0A%20%20%20%20%20%20%20%20%20%20%20%20%20%20%20%20%5B37.54065689999999%2C%20126.8415062%5D%2C%0A%20%20%20%20%20%20%20%20%20%20%20%20%20%20%20%20%7B%22bubblingMouseEvents%22%3A%20true%2C%20%22color%22%3A%20%22%233186cc%22%2C%20%22dashArray%22%3A%20null%2C%20%22dashOffset%22%3A%20null%2C%20%22fill%22%3A%20true%2C%20%22fillColor%22%3A%20%22%233186cc%22%2C%20%22fillOpacity%22%3A%200.2%2C%20%22fillRule%22%3A%20%22evenodd%22%2C%20%22lineCap%22%3A%20%22round%22%2C%20%22lineJoin%22%3A%20%22round%22%2C%20%22opacity%22%3A%201.0%2C%20%22radius%22%3A%2015%2C%20%22stroke%22%3A%20true%2C%20%22weight%22%3A%203%7D%0A%20%20%20%20%20%20%20%20%20%20%20%20%29.addTo%28map_e15f7a34901d40ea9ae54b3367b7221e%29%3B%0A%20%20%20%20%20%20%20%20%0A%20%20%20%20%0A%20%20%20%20%20%20%20%20%20%20%20%20var%20circle_marker_465e2c0e16574441ba19758cf832aafa%20%3D%20L.circleMarker%28%0A%20%20%20%20%20%20%20%20%20%20%20%20%20%20%20%20%5B37.4599063%2C%20127.0420601%5D%2C%0A%20%20%20%20%20%20%20%20%20%20%20%20%20%20%20%20%7B%22bubblingMouseEvents%22%3A%20true%2C%20%22color%22%3A%20%22%233186cc%22%2C%20%22dashArray%22%3A%20null%2C%20%22dashOffset%22%3A%20null%2C%20%22fill%22%3A%20true%2C%20%22fillColor%22%3A%20%22%233186cc%22%2C%20%22fillOpacity%22%3A%200.2%2C%20%22fillRule%22%3A%20%22evenodd%22%2C%20%22lineCap%22%3A%20%22round%22%2C%20%22lineJoin%22%3A%20%22round%22%2C%20%22opacity%22%3A%201.0%2C%20%22radius%22%3A%2015%2C%20%22stroke%22%3A%20true%2C%20%22weight%22%3A%203%7D%0A%20%20%20%20%20%20%20%20%20%20%20%20%29.addTo%28map_e15f7a34901d40ea9ae54b3367b7221e%29%3B%0A%20%20%20%20%20%20%20%20%0A%20%20%20%20%0A%20%20%20%20%20%20%20%20%20%20%20%20var%20circle_marker_3a5cd770efdd4e648abc3426436599a0%20%3D%20L.circleMarker%28%0A%20%20%20%20%20%20%20%20%20%20%20%20%20%20%20%20%5B37.674434%2C%20127.0440507%5D%2C%0A%20%20%20%20%20%20%20%20%20%20%20%20%20%20%20%20%7B%22bubblingMouseEvents%22%3A%20true%2C%20%22color%22%3A%20%22%233186cc%22%2C%20%22dashArray%22%3A%20null%2C%20%22dashOffset%22%3A%20null%2C%20%22fill%22%3A%20true%2C%20%22fillColor%22%3A%20%22%233186cc%22%2C%20%22fillOpacity%22%3A%200.2%2C%20%22fillRule%22%3A%20%22evenodd%22%2C%20%22lineCap%22%3A%20%22round%22%2C%20%22lineJoin%22%3A%20%22round%22%2C%20%22opacity%22%3A%201.0%2C%20%22radius%22%3A%2015%2C%20%22stroke%22%3A%20true%2C%20%22weight%22%3A%203%7D%0A%20%20%20%20%20%20%20%20%20%20%20%20%29.addTo%28map_e15f7a34901d40ea9ae54b3367b7221e%29%3B%0A%20%20%20%20%20%20%20%20%0A%20%20%20%20%0A%20%20%20%20%20%20%20%20%20%20%20%20var%20circle_marker_2e20b21509ca42c384e5434dc168e5ef%20%3D%20L.circleMarker%28%0A%20%20%20%20%20%20%20%20%20%20%20%20%20%20%20%20%5B37.5338107%2C%20126.8292398%5D%2C%0A%20%20%20%20%20%20%20%20%20%20%20%20%20%20%20%20%7B%22bubblingMouseEvents%22%3A%20true%2C%20%22color%22%3A%20%22%233186cc%22%2C%20%22dashArray%22%3A%20null%2C%20%22dashOffset%22%3A%20null%2C%20%22fill%22%3A%20true%2C%20%22fillColor%22%3A%20%22%233186cc%22%2C%20%22fillOpacity%22%3A%200.2%2C%20%22fillRule%22%3A%20%22evenodd%22%2C%20%22lineCap%22%3A%20%22round%22%2C%20%22lineJoin%22%3A%20%22round%22%2C%20%22opacity%22%3A%201.0%2C%20%22radius%22%3A%2015%2C%20%22stroke%22%3A%20true%2C%20%22weight%22%3A%203%7D%0A%20%20%20%20%20%20%20%20%20%20%20%20%29.addTo%28map_e15f7a34901d40ea9ae54b3367b7221e%29%3B%0A%20%20%20%20%20%20%20%20%0A%20%20%20%20%0A%20%20%20%20%20%20%20%20%20%20%20%20var%20circle_marker_778dd929858b4be8adc25a8e34538622%20%3D%20L.circleMarker%28%0A%20%20%20%20%20%20%20%20%20%20%20%20%20%20%20%20%5B37.5369402%2C%20126.8342781%5D%2C%0A%20%20%20%20%20%20%20%20%20%20%20%20%20%20%20%20%7B%22bubblingMouseEvents%22%3A%20true%2C%20%22color%22%3A%20%22%233186cc%22%2C%20%22dashArray%22%3A%20null%2C%20%22dashOffset%22%3A%20null%2C%20%22fill%22%3A%20true%2C%20%22fillColor%22%3A%20%22%233186cc%22%2C%20%22fillOpacity%22%3A%200.2%2C%20%22fillRule%22%3A%20%22evenodd%22%2C%20%22lineCap%22%3A%20%22round%22%2C%20%22lineJoin%22%3A%20%22round%22%2C%20%22opacity%22%3A%201.0%2C%20%22radius%22%3A%2015%2C%20%22stroke%22%3A%20true%2C%20%22weight%22%3A%203%7D%0A%20%20%20%20%20%20%20%20%20%20%20%20%29.addTo%28map_e15f7a34901d40ea9ae54b3367b7221e%29%3B%0A%20%20%20%20%20%20%20%20%0A%20%20%20%20%0A%20%20%20%20%20%20%20%20%20%20%20%20var%20circle_marker_31d849a260b74fbaafbee8b96d05dfc4%20%3D%20L.circleMarker%28%0A%20%20%20%20%20%20%20%20%20%20%20%20%20%20%20%20%5B37.5280874%2C%20126.8329813%5D%2C%0A%20%20%20%20%20%20%20%20%20%20%20%20%20%20%20%20%7B%22bubblingMouseEvents%22%3A%20true%2C%20%22color%22%3A%20%22%233186cc%22%2C%20%22dashArray%22%3A%20null%2C%20%22dashOffset%22%3A%20null%2C%20%22fill%22%3A%20true%2C%20%22fillColor%22%3A%20%22%233186cc%22%2C%20%22fillOpacity%22%3A%200.2%2C%20%22fillRule%22%3A%20%22evenodd%22%2C%20%22lineCap%22%3A%20%22round%22%2C%20%22lineJoin%22%3A%20%22round%22%2C%20%22opacity%22%3A%201.0%2C%20%22radius%22%3A%2015%2C%20%22stroke%22%3A%20true%2C%20%22weight%22%3A%203%7D%0A%20%20%20%20%20%20%20%20%20%20%20%20%29.addTo%28map_e15f7a34901d40ea9ae54b3367b7221e%29%3B%0A%20%20%20%20%20%20%20%20%0A%20%20%20%20%0A%20%20%20%20%20%20%20%20%20%20%20%20var%20circle_marker_2f2a47a44f394da9abb1ade89f15185c%20%3D%20L.circleMarker%28%0A%20%20%20%20%20%20%20%20%20%20%20%20%20%20%20%20%5B37.6401555%2C%20127.0172034%5D%2C%0A%20%20%20%20%20%20%20%20%20%20%20%20%20%20%20%20%7B%22bubblingMouseEvents%22%3A%20true%2C%20%22color%22%3A%20%22%233186cc%22%2C%20%22dashArray%22%3A%20null%2C%20%22dashOffset%22%3A%20null%2C%20%22fill%22%3A%20true%2C%20%22fillColor%22%3A%20%22%233186cc%22%2C%20%22fillOpacity%22%3A%200.2%2C%20%22fillRule%22%3A%20%22evenodd%22%2C%20%22lineCap%22%3A%20%22round%22%2C%20%22lineJoin%22%3A%20%22round%22%2C%20%22opacity%22%3A%201.0%2C%20%22radius%22%3A%2015%2C%20%22stroke%22%3A%20true%2C%20%22weight%22%3A%203%7D%0A%20%20%20%20%20%20%20%20%20%20%20%20%29.addTo%28map_e15f7a34901d40ea9ae54b3367b7221e%29%3B%0A%20%20%20%20%20%20%20%20%0A%20%20%20%20%0A%20%20%20%20%20%20%20%20%20%20%20%20var%20circle_marker_be656d0379b34a279d2d326606881759%20%3D%20L.circleMarker%28%0A%20%20%20%20%20%20%20%20%20%20%20%20%20%20%20%20%5B37.6315821%2C%20127.0179395%5D%2C%0A%20%20%20%20%20%20%20%20%20%20%20%20%20%20%20%20%7B%22bubblingMouseEvents%22%3A%20true%2C%20%22color%22%3A%20%22%233186cc%22%2C%20%22dashArray%22%3A%20null%2C%20%22dashOffset%22%3A%20null%2C%20%22fill%22%3A%20true%2C%20%22fillColor%22%3A%20%22%233186cc%22%2C%20%22fillOpacity%22%3A%200.2%2C%20%22fillRule%22%3A%20%22evenodd%22%2C%20%22lineCap%22%3A%20%22round%22%2C%20%22lineJoin%22%3A%20%22round%22%2C%20%22opacity%22%3A%201.0%2C%20%22radius%22%3A%2015%2C%20%22stroke%22%3A%20true%2C%20%22weight%22%3A%203%7D%0A%20%20%20%20%20%20%20%20%20%20%20%20%29.addTo%28map_e15f7a34901d40ea9ae54b3367b7221e%29%3B%0A%20%20%20%20%20%20%20%20%0A%20%20%20%20%0A%20%20%20%20%20%20%20%20%20%20%20%20var%20circle_marker_dc7b4ed6f38b464cb1ada9632c7855a6%20%3D%20L.circleMarker%28%0A%20%20%20%20%20%20%20%20%20%20%20%20%20%20%20%20%5B37.6421401%2C%20127.0295678%5D%2C%0A%20%20%20%20%20%20%20%20%20%20%20%20%20%20%20%20%7B%22bubblingMouseEvents%22%3A%20true%2C%20%22color%22%3A%20%22%233186cc%22%2C%20%22dashArray%22%3A%20null%2C%20%22dashOffset%22%3A%20null%2C%20%22fill%22%3A%20true%2C%20%22fillColor%22%3A%20%22%233186cc%22%2C%20%22fillOpacity%22%3A%200.2%2C%20%22fillRule%22%3A%20%22evenodd%22%2C%20%22lineCap%22%3A%20%22round%22%2C%20%22lineJoin%22%3A%20%22round%22%2C%20%22opacity%22%3A%201.0%2C%20%22radius%22%3A%2015%2C%20%22stroke%22%3A%20true%2C%20%22weight%22%3A%203%7D%0A%20%20%20%20%20%20%20%20%20%20%20%20%29.addTo%28map_e15f7a34901d40ea9ae54b3367b7221e%29%3B%0A%20%20%20%20%20%20%20%20%0A%20%20%20%20%0A%20%20%20%20%20%20%20%20%20%20%20%20var%20circle_marker_67ad268a2c3642a7b0447a1f1abe8cac%20%3D%20L.circleMarker%28%0A%20%20%20%20%20%20%20%20%20%20%20%20%20%20%20%20%5B37.5303375%2C%20126.9255792%5D%2C%0A%20%20%20%20%20%20%20%20%20%20%20%20%20%20%20%20%7B%22bubblingMouseEvents%22%3A%20true%2C%20%22color%22%3A%20%22%23CD3181%22%2C%20%22dashArray%22%3A%20null%2C%20%22dashOffset%22%3A%20null%2C%20%22fill%22%3A%20true%2C%20%22fillColor%22%3A%20%22%23CD3181%22%2C%20%22fillOpacity%22%3A%200.2%2C%20%22fillRule%22%3A%20%22evenodd%22%2C%20%22lineCap%22%3A%20%22round%22%2C%20%22lineJoin%22%3A%20%22round%22%2C%20%22opacity%22%3A%201.0%2C%20%22radius%22%3A%2015%2C%20%22stroke%22%3A%20true%2C%20%22weight%22%3A%203%7D%0A%20%20%20%20%20%20%20%20%20%20%20%20%29.addTo%28map_e15f7a34901d40ea9ae54b3367b7221e%29%3B%0A%20%20%20%20%20%20%20%20%0A%20%20%20%20%0A%20%20%20%20%20%20%20%20%20%20%20%20var%20circle_marker_65a9498464e147c4a1fd7ad9128e1977%20%3D%20L.circleMarker%28%0A%20%20%20%20%20%20%20%20%20%20%20%20%20%20%20%20%5B37.5315539%2C%20126.8560239%5D%2C%0A%20%20%20%20%20%20%20%20%20%20%20%20%20%20%20%20%7B%22bubblingMouseEvents%22%3A%20true%2C%20%22color%22%3A%20%22%233186cc%22%2C%20%22dashArray%22%3A%20null%2C%20%22dashOffset%22%3A%20null%2C%20%22fill%22%3A%20true%2C%20%22fillColor%22%3A%20%22%233186cc%22%2C%20%22fillOpacity%22%3A%200.2%2C%20%22fillRule%22%3A%20%22evenodd%22%2C%20%22lineCap%22%3A%20%22round%22%2C%20%22lineJoin%22%3A%20%22round%22%2C%20%22opacity%22%3A%201.0%2C%20%22radius%22%3A%2015%2C%20%22stroke%22%3A%20true%2C%20%22weight%22%3A%203%7D%0A%20%20%20%20%20%20%20%20%20%20%20%20%29.addTo%28map_e15f7a34901d40ea9ae54b3367b7221e%29%3B%0A%20%20%20%20%20%20%20%20%0A%20%20%20%20%0A%20%20%20%20%20%20%20%20%20%20%20%20var%20circle_marker_1696383e7a594812aceefef19c62f452%20%3D%20L.circleMarker%28%0A%20%20%20%20%20%20%20%20%20%20%20%20%20%20%20%20%5B37.54065689999999%2C%20126.8415062%5D%2C%0A%20%20%20%20%20%20%20%20%20%20%20%20%20%20%20%20%7B%22bubblingMouseEvents%22%3A%20true%2C%20%22color%22%3A%20%22%233186cc%22%2C%20%22dashArray%22%3A%20null%2C%20%22dashOffset%22%3A%20null%2C%20%22fill%22%3A%20true%2C%20%22fillColor%22%3A%20%22%233186cc%22%2C%20%22fillOpacity%22%3A%200.2%2C%20%22fillRule%22%3A%20%22evenodd%22%2C%20%22lineCap%22%3A%20%22round%22%2C%20%22lineJoin%22%3A%20%22round%22%2C%20%22opacity%22%3A%201.0%2C%20%22radius%22%3A%2015%2C%20%22stroke%22%3A%20true%2C%20%22weight%22%3A%203%7D%0A%20%20%20%20%20%20%20%20%20%20%20%20%29.addTo%28map_e15f7a34901d40ea9ae54b3367b7221e%29%3B%0A%20%20%20%20%20%20%20%20%0A%20%20%20%20%0A%20%20%20%20%20%20%20%20%20%20%20%20var%20circle_marker_038df8dd4f164514be268aad8cdef653%20%3D%20L.circleMarker%28%0A%20%20%20%20%20%20%20%20%20%20%20%20%20%20%20%20%5B37.4599063%2C%20127.0420601%5D%2C%0A%20%20%20%20%20%20%20%20%20%20%20%20%20%20%20%20%7B%22bubblingMouseEvents%22%3A%20true%2C%20%22color%22%3A%20%22%233186cc%22%2C%20%22dashArray%22%3A%20null%2C%20%22dashOffset%22%3A%20null%2C%20%22fill%22%3A%20true%2C%20%22fillColor%22%3A%20%22%233186cc%22%2C%20%22fillOpacity%22%3A%200.2%2C%20%22fillRule%22%3A%20%22evenodd%22%2C%20%22lineCap%22%3A%20%22round%22%2C%20%22lineJoin%22%3A%20%22round%22%2C%20%22opacity%22%3A%201.0%2C%20%22radius%22%3A%2015%2C%20%22stroke%22%3A%20true%2C%20%22weight%22%3A%203%7D%0A%20%20%20%20%20%20%20%20%20%20%20%20%29.addTo%28map_e15f7a34901d40ea9ae54b3367b7221e%29%3B%0A%20%20%20%20%20%20%20%20%0A%20%20%20%20%0A%20%20%20%20%20%20%20%20%20%20%20%20var%20circle_marker_9645024fcc6c418bacd99f7db038e6f2%20%3D%20L.circleMarker%28%0A%20%20%20%20%20%20%20%20%20%20%20%20%20%20%20%20%5B37.674434%2C%20127.0440507%5D%2C%0A%20%20%20%20%20%20%20%20%20%20%20%20%20%20%20%20%7B%22bubblingMouseEvents%22%3A%20true%2C%20%22color%22%3A%20%22%233186cc%22%2C%20%22dashArray%22%3A%20null%2C%20%22dashOffset%22%3A%20null%2C%20%22fill%22%3A%20true%2C%20%22fillColor%22%3A%20%22%233186cc%22%2C%20%22fillOpacity%22%3A%200.2%2C%20%22fillRule%22%3A%20%22evenodd%22%2C%20%22lineCap%22%3A%20%22round%22%2C%20%22lineJoin%22%3A%20%22round%22%2C%20%22opacity%22%3A%201.0%2C%20%22radius%22%3A%2015%2C%20%22stroke%22%3A%20true%2C%20%22weight%22%3A%203%7D%0A%20%20%20%20%20%20%20%20%20%20%20%20%29.addTo%28map_e15f7a34901d40ea9ae54b3367b7221e%29%3B%0A%20%20%20%20%20%20%20%20%0A%20%20%20%20%0A%20%20%20%20%20%20%20%20%20%20%20%20var%20circle_marker_ece048bf993549b39e3cfa04db21e597%20%3D%20L.circleMarker%28%0A%20%20%20%20%20%20%20%20%20%20%20%20%20%20%20%20%5B37.5338107%2C%20126.8292398%5D%2C%0A%20%20%20%20%20%20%20%20%20%20%20%20%20%20%20%20%7B%22bubblingMouseEvents%22%3A%20true%2C%20%22color%22%3A%20%22%233186cc%22%2C%20%22dashArray%22%3A%20null%2C%20%22dashOffset%22%3A%20null%2C%20%22fill%22%3A%20true%2C%20%22fillColor%22%3A%20%22%233186cc%22%2C%20%22fillOpacity%22%3A%200.2%2C%20%22fillRule%22%3A%20%22evenodd%22%2C%20%22lineCap%22%3A%20%22round%22%2C%20%22lineJoin%22%3A%20%22round%22%2C%20%22opacity%22%3A%201.0%2C%20%22radius%22%3A%2015%2C%20%22stroke%22%3A%20true%2C%20%22weight%22%3A%203%7D%0A%20%20%20%20%20%20%20%20%20%20%20%20%29.addTo%28map_e15f7a34901d40ea9ae54b3367b7221e%29%3B%0A%20%20%20%20%20%20%20%20%0A%20%20%20%20%0A%20%20%20%20%20%20%20%20%20%20%20%20var%20circle_marker_33c0e2e7a08e4dacb3da57f9e464183c%20%3D%20L.circleMarker%28%0A%20%20%20%20%20%20%20%20%20%20%20%20%20%20%20%20%5B37.5369402%2C%20126.8342781%5D%2C%0A%20%20%20%20%20%20%20%20%20%20%20%20%20%20%20%20%7B%22bubblingMouseEvents%22%3A%20true%2C%20%22color%22%3A%20%22%233186cc%22%2C%20%22dashArray%22%3A%20null%2C%20%22dashOffset%22%3A%20null%2C%20%22fill%22%3A%20true%2C%20%22fillColor%22%3A%20%22%233186cc%22%2C%20%22fillOpacity%22%3A%200.2%2C%20%22fillRule%22%3A%20%22evenodd%22%2C%20%22lineCap%22%3A%20%22round%22%2C%20%22lineJoin%22%3A%20%22round%22%2C%20%22opacity%22%3A%201.0%2C%20%22radius%22%3A%2015%2C%20%22stroke%22%3A%20true%2C%20%22weight%22%3A%203%7D%0A%20%20%20%20%20%20%20%20%20%20%20%20%29.addTo%28map_e15f7a34901d40ea9ae54b3367b7221e%29%3B%0A%20%20%20%20%20%20%20%20%0A%20%20%20%20%0A%20%20%20%20%20%20%20%20%20%20%20%20var%20circle_marker_ba6ffa5323324869b825785fd569108d%20%3D%20L.circleMarker%28%0A%20%20%20%20%20%20%20%20%20%20%20%20%20%20%20%20%5B37.5280874%2C%20126.8329813%5D%2C%0A%20%20%20%20%20%20%20%20%20%20%20%20%20%20%20%20%7B%22bubblingMouseEvents%22%3A%20true%2C%20%22color%22%3A%20%22%233186cc%22%2C%20%22dashArray%22%3A%20null%2C%20%22dashOffset%22%3A%20null%2C%20%22fill%22%3A%20true%2C%20%22fillColor%22%3A%20%22%233186cc%22%2C%20%22fillOpacity%22%3A%200.2%2C%20%22fillRule%22%3A%20%22evenodd%22%2C%20%22lineCap%22%3A%20%22round%22%2C%20%22lineJoin%22%3A%20%22round%22%2C%20%22opacity%22%3A%201.0%2C%20%22radius%22%3A%2015%2C%20%22stroke%22%3A%20true%2C%20%22weight%22%3A%203%7D%0A%20%20%20%20%20%20%20%20%20%20%20%20%29.addTo%28map_e15f7a34901d40ea9ae54b3367b7221e%29%3B%0A%20%20%20%20%20%20%20%20%0A%20%20%20%20%0A%20%20%20%20%20%20%20%20%20%20%20%20var%20circle_marker_74b7c995313940afbafbbf8375a4398b%20%3D%20L.circleMarker%28%0A%20%20%20%20%20%20%20%20%20%20%20%20%20%20%20%20%5B37.6401555%2C%20127.0172034%5D%2C%0A%20%20%20%20%20%20%20%20%20%20%20%20%20%20%20%20%7B%22bubblingMouseEvents%22%3A%20true%2C%20%22color%22%3A%20%22%233186cc%22%2C%20%22dashArray%22%3A%20null%2C%20%22dashOffset%22%3A%20null%2C%20%22fill%22%3A%20true%2C%20%22fillColor%22%3A%20%22%233186cc%22%2C%20%22fillOpacity%22%3A%200.2%2C%20%22fillRule%22%3A%20%22evenodd%22%2C%20%22lineCap%22%3A%20%22round%22%2C%20%22lineJoin%22%3A%20%22round%22%2C%20%22opacity%22%3A%201.0%2C%20%22radius%22%3A%2015%2C%20%22stroke%22%3A%20true%2C%20%22weight%22%3A%203%7D%0A%20%20%20%20%20%20%20%20%20%20%20%20%29.addTo%28map_e15f7a34901d40ea9ae54b3367b7221e%29%3B%0A%20%20%20%20%20%20%20%20%0A%20%20%20%20%0A%20%20%20%20%20%20%20%20%20%20%20%20var%20circle_marker_b04b8195abb14eb0a153fee7c9f57a28%20%3D%20L.circleMarker%28%0A%20%20%20%20%20%20%20%20%20%20%20%20%20%20%20%20%5B37.6315821%2C%20127.0179395%5D%2C%0A%20%20%20%20%20%20%20%20%20%20%20%20%20%20%20%20%7B%22bubblingMouseEvents%22%3A%20true%2C%20%22color%22%3A%20%22%233186cc%22%2C%20%22dashArray%22%3A%20null%2C%20%22dashOffset%22%3A%20null%2C%20%22fill%22%3A%20true%2C%20%22fillColor%22%3A%20%22%233186cc%22%2C%20%22fillOpacity%22%3A%200.2%2C%20%22fillRule%22%3A%20%22evenodd%22%2C%20%22lineCap%22%3A%20%22round%22%2C%20%22lineJoin%22%3A%20%22round%22%2C%20%22opacity%22%3A%201.0%2C%20%22radius%22%3A%2015%2C%20%22stroke%22%3A%20true%2C%20%22weight%22%3A%203%7D%0A%20%20%20%20%20%20%20%20%20%20%20%20%29.addTo%28map_e15f7a34901d40ea9ae54b3367b7221e%29%3B%0A%20%20%20%20%20%20%20%20%0A%20%20%20%20%0A%20%20%20%20%20%20%20%20%20%20%20%20var%20circle_marker_f57783966d64430b95d46fdb0cb64057%20%3D%20L.circleMarker%28%0A%20%20%20%20%20%20%20%20%20%20%20%20%20%20%20%20%5B37.6421401%2C%20127.0295678%5D%2C%0A%20%20%20%20%20%20%20%20%20%20%20%20%20%20%20%20%7B%22bubblingMouseEvents%22%3A%20true%2C%20%22color%22%3A%20%22%233186cc%22%2C%20%22dashArray%22%3A%20null%2C%20%22dashOffset%22%3A%20null%2C%20%22fill%22%3A%20true%2C%20%22fillColor%22%3A%20%22%233186cc%22%2C%20%22fillOpacity%22%3A%200.2%2C%20%22fillRule%22%3A%20%22evenodd%22%2C%20%22lineCap%22%3A%20%22round%22%2C%20%22lineJoin%22%3A%20%22round%22%2C%20%22opacity%22%3A%201.0%2C%20%22radius%22%3A%2015%2C%20%22stroke%22%3A%20true%2C%20%22weight%22%3A%203%7D%0A%20%20%20%20%20%20%20%20%20%20%20%20%29.addTo%28map_e15f7a34901d40ea9ae54b3367b7221e%29%3B%0A%20%20%20%20%20%20%20%20%0A%3C/script%3E onload=\"this.contentDocument.open();this.contentDocument.write(    decodeURIComponent(this.getAttribute('data-html')));this.contentDocument.close();\" allowfullscreen webkitallowfullscreen mozallowfullscreen></iframe></div></div>"
      ],
      "text/plain": [
       "<folium.folium.Map at 0x27a7e58d940>"
      ]
     },
     "execution_count": 32,
     "metadata": {},
     "output_type": "execute_result"
    }
   ],
   "source": [
    "map = folium.Map(location=[37.5202, 126.975], zoom_start=10.5)\n",
    "\n",
    "for n in oil_price_top10.index:\n",
    "    if pd.notnull(oil_price_top10['lat'][n]):\n",
    "        folium.CircleMarker([oil_price_top10['lat'][n], oil_price_top10['lng'][n]], \n",
    "                            radius=15, color='#CD3181',fill_color='#CD3181').add_to(map)\n",
    "\n",
    "    for n in oil_price_bottom10.index:\n",
    "        if pd.notnull(oil_price_bottom10['lat'][n]):\n",
    "            folium.CircleMarker([oil_price_bottom10['lat'][n], oil_price_bottom10['lng'][n]], \n",
    "                                radius=15, color='#3186cc',fill_color='#3186cc').add_to(map)\n",
    "map"
   ]
  },
  {
   "cell_type": "markdown",
   "metadata": {},
   "source": [
    "- 중구, 종로구에 비싼 주유소가 비교적 몰려있고\n",
    "- 강북구, 강서구, 은평구에 저렴한 주유소가 몰려있음"
   ]
  },
  {
   "cell_type": "code",
   "execution_count": null,
   "metadata": {},
   "outputs": [],
   "source": []
  }
 ],
 "metadata": {
  "kernelspec": {
   "display_name": "Python 3",
   "language": "python",
   "name": "python3"
  },
  "language_info": {
   "codemirror_mode": {
    "name": "ipython",
    "version": 3
   },
   "file_extension": ".py",
   "mimetype": "text/x-python",
   "name": "python",
   "nbconvert_exporter": "python",
   "pygments_lexer": "ipython3",
   "version": "3.8.3"
  },
  "toc": {
   "base_numbering": 1,
   "nav_menu": {},
   "number_sections": true,
   "sideBar": true,
   "skip_h1_title": false,
   "title_cell": "Table of Contents",
   "title_sidebar": "Contents",
   "toc_cell": true,
   "toc_position": {},
   "toc_section_display": true,
   "toc_window_display": true
  }
 },
 "nbformat": 4,
 "nbformat_minor": 4
}
