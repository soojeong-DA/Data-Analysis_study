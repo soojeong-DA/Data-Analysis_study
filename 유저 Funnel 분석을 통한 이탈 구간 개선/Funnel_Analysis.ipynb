{
 "cells": [
  {
   "cell_type": "markdown",
   "metadata": {},
   "source": [
    "- [Python 데이터 분석 실무](https://wikidocs.net/book/1867) 의 예제 실습\n",
    "- [실습 데이터 및 코드](https://github.com/songhunhwa/songhunhwa.github.com/tree/master/tutorial/tutorial_02) songhunhwa(저자)님의 github"
   ]
  },
  {
   "cell_type": "markdown",
   "metadata": {},
   "source": [
    "# 문제 정의 및 가설 설정"
   ]
  },
  {
   "cell_type": "markdown",
   "metadata": {},
   "source": [
    "## 요청 사항"
   ]
  },
  {
   "cell_type": "markdown",
   "metadata": {},
   "source": [
    "기획부서의 요청 내용\n",
    "- 새로운 시나리오를 유저가 잘 사용하고 있는지 알려주세요\n",
    "- 잘 사용되고 있는 기능은 무엇인가요?\n",
    "- 개선을 어떻게 해야할지 알려주세요  \n",
    "\n",
    "----\n",
    "해석     \n",
    "→ 기획부서에서 만든 새로운 시나리오 대로 유저가 앱을 잘 사용하고 있는지       \n",
    "→ 만약 그렇다면 어떤 기능이 잘 사용되는지       \n",
    "→ 이탈이 많다면 어느 구간인지, 어떻게 그 구간을 개선할지     "
   ]
  },
  {
   "cell_type": "markdown",
   "metadata": {},
   "source": [
    "## 문제 정의\n",
    "- Funnel 방식으로 유저의 행동 패턴을 파악하여, 해당 시나리오의 Bottleneck 구간을 탐색\n",
    "- 유저를 세분화하여 Bottleneck 개선 방안에 유용한 insight를 도출"
   ]
  },
  {
   "cell_type": "markdown",
   "metadata": {},
   "source": [
    "## 가설 수립 및 예상 Output\n",
    "- 가설을 만들고 예상 output을 그려보는 과정은 데이터 수집/분석 과정에서 도움이 되기도 함\n",
    "    - but, 가설 설정을 상황에 따라 생략할 수 있는 부분이며, 오히려 데이터의 탐색 범위를 좁히는 결과를 낳을 수도 있음\n",
    "    - 목적 설정 과정에 비해 중요도가 높지 않음"
   ]
  },
  {
   "cell_type": "markdown",
   "metadata": {},
   "source": [
    "가설   \n",
    "1. 이탈이 많이 발생하는 구간은 '구매 상세 페이지'에서 '구매 완료'로 **전환하는 구간**일 것이다. (Bottleneck)\n",
    "    - 이유 - 구매는 돈을 지불해야하는 행위 → 일반적으로 목적 달성이 어려움\n",
    "2. 그룹 조건에 따라 전환율이나 이탈율에서 통계적으로 유의미한 차이를 보일 것이다.\n",
    "    - 이유 - 그룹 조건은 행동 패턴을 결정짓는 주요 요인 중 하나이므로, 위와같은 결과가 나올 것\n",
    "    - 단, 그룹 세분화가 진행되기 전이므로 다소 오픈 결론으로 유지"
   ]
  },
  {
   "cell_type": "markdown",
   "metadata": {},
   "source": [
    "# Data Load\n",
    "- 문서 앱내 사용시 발생하는 로그 데이터\n",
    "- 서버로그와 달리, 유저의 행동이 발생할 경우 로그 수집 (유저 행동 패턴 파악에 용이)\n",
    "    - 클라이언트(앱) 로그\n",
    "    - 서버 로그\n",
    "- Columns Info.\n",
    "    - actiontype: 문서 이용시 행동(open, close, save, ..)\n",
    "    - ismydoc: 내문서 해당 여부(중요X)\n",
    "    - ext: 문서 확장자\n",
    "    - sessionid: 유저 식별자\n",
    "    - documentposition: 문서 이용시 위치 정보(cloud, otherapp)\n",
    "    - datetime: Timestamp\n",
    "    - screen: 앱내 화면 이름"
   ]
  },
  {
   "cell_type": "code",
   "execution_count": 2,
   "metadata": {
    "ExecuteTime": {
     "end_time": "2021-07-26T11:53:38.456560Z",
     "start_time": "2021-07-26T11:53:34.068754Z"
    }
   },
   "outputs": [],
   "source": [
    "import pandas as pd\n",
    "import numpy as np\n",
    "import matplotlib.pyplot as plt\n",
    "import seaborn as sns\n",
    "\n",
    "import warnings\n",
    "warnings.filterwarnings('ignore')\n",
    "plt.style.use('seaborn-paper')"
   ]
  },
  {
   "cell_type": "code",
   "execution_count": 4,
   "metadata": {
    "ExecuteTime": {
     "end_time": "2021-07-26T11:53:45.921555Z",
     "start_time": "2021-07-26T11:53:45.325088Z"
    }
   },
   "outputs": [
    {
     "data": {
      "text/html": [
       "<div>\n",
       "<style scoped>\n",
       "    .dataframe tbody tr th:only-of-type {\n",
       "        vertical-align: middle;\n",
       "    }\n",
       "\n",
       "    .dataframe tbody tr th {\n",
       "        vertical-align: top;\n",
       "    }\n",
       "\n",
       "    .dataframe thead th {\n",
       "        text-align: right;\n",
       "    }\n",
       "</style>\n",
       "<table border=\"1\" class=\"dataframe\">\n",
       "  <thead>\n",
       "    <tr style=\"text-align: right;\">\n",
       "      <th></th>\n",
       "      <th>actiontype</th>\n",
       "      <th>ismydoc</th>\n",
       "      <th>ext</th>\n",
       "      <th>sessionid</th>\n",
       "      <th>documentposition</th>\n",
       "      <th>datetime</th>\n",
       "      <th>screen</th>\n",
       "    </tr>\n",
       "  </thead>\n",
       "  <tbody>\n",
       "    <tr>\n",
       "      <th>0</th>\n",
       "      <td>OPEN</td>\n",
       "      <td>NoView</td>\n",
       "      <td>PDF</td>\n",
       "      <td>9400fd2e43d7dc2d054ca78806236ee1</td>\n",
       "      <td>LOCALSTORAGE</td>\n",
       "      <td>2016.7.18</td>\n",
       "      <td>Per_Dir</td>\n",
       "    </tr>\n",
       "    <tr>\n",
       "      <th>1</th>\n",
       "      <td>CLOSE</td>\n",
       "      <td>NoView</td>\n",
       "      <td>PDF</td>\n",
       "      <td>9400fd2e43d7dc2d054ca78806236ee1</td>\n",
       "      <td>LOCALSTORAGE</td>\n",
       "      <td>2016.7.18</td>\n",
       "      <td>Per_Dir</td>\n",
       "    </tr>\n",
       "    <tr>\n",
       "      <th>2</th>\n",
       "      <td>OPEN</td>\n",
       "      <td>View</td>\n",
       "      <td>PDF</td>\n",
       "      <td>9400fd2e43d7dc2d054ca78806236ee1</td>\n",
       "      <td>MYPOLARISDRIVE</td>\n",
       "      <td>2016.7.18</td>\n",
       "      <td>Pub_Dir</td>\n",
       "    </tr>\n",
       "    <tr>\n",
       "      <th>3</th>\n",
       "      <td>CLOSE</td>\n",
       "      <td>View</td>\n",
       "      <td>PDF</td>\n",
       "      <td>9400fd2e43d7dc2d054ca78806236ee1</td>\n",
       "      <td>MYPOLARISDRIVE</td>\n",
       "      <td>2016.7.18</td>\n",
       "      <td>Pub_Dir</td>\n",
       "    </tr>\n",
       "    <tr>\n",
       "      <th>4</th>\n",
       "      <td>OPEN</td>\n",
       "      <td>NoView</td>\n",
       "      <td>PDF</td>\n",
       "      <td>f191063c562691041dfa935ff0876975</td>\n",
       "      <td>OTHERAPP</td>\n",
       "      <td>2016.7.6</td>\n",
       "      <td>Main</td>\n",
       "    </tr>\n",
       "    <tr>\n",
       "      <th>...</th>\n",
       "      <td>...</td>\n",
       "      <td>...</td>\n",
       "      <td>...</td>\n",
       "      <td>...</td>\n",
       "      <td>...</td>\n",
       "      <td>...</td>\n",
       "      <td>...</td>\n",
       "    </tr>\n",
       "    <tr>\n",
       "      <th>301856</th>\n",
       "      <td>CLOSE</td>\n",
       "      <td>View</td>\n",
       "      <td>XLSX</td>\n",
       "      <td>2ed068d5e6a72e80e4a997c01c59f782</td>\n",
       "      <td>OTHERAPP</td>\n",
       "      <td>2016.7.7</td>\n",
       "      <td>Main</td>\n",
       "    </tr>\n",
       "    <tr>\n",
       "      <th>301857</th>\n",
       "      <td>OPEN</td>\n",
       "      <td>NoView</td>\n",
       "      <td>DOCX</td>\n",
       "      <td>41b8c1df291edd2aec30fc610e5b676e</td>\n",
       "      <td>OTHERAPP</td>\n",
       "      <td>2016.7.5</td>\n",
       "      <td>Main</td>\n",
       "    </tr>\n",
       "    <tr>\n",
       "      <th>301858</th>\n",
       "      <td>RESET</td>\n",
       "      <td>View</td>\n",
       "      <td>DOCX</td>\n",
       "      <td>41b8c1df291edd2aec30fc610e5b676e</td>\n",
       "      <td>OTHERAPP</td>\n",
       "      <td>2016.7.5</td>\n",
       "      <td>Main</td>\n",
       "    </tr>\n",
       "    <tr>\n",
       "      <th>301859</th>\n",
       "      <td>OPEN</td>\n",
       "      <td>NoView</td>\n",
       "      <td>PPT</td>\n",
       "      <td>9b5ee236571c2fcbe25132b6ba71d764</td>\n",
       "      <td>OTHERAPP</td>\n",
       "      <td>2016.7.14</td>\n",
       "      <td>Main</td>\n",
       "    </tr>\n",
       "    <tr>\n",
       "      <th>301860</th>\n",
       "      <td>CLOSE</td>\n",
       "      <td>NoView</td>\n",
       "      <td>PPT</td>\n",
       "      <td>9b5ee236571c2fcbe25132b6ba71d764</td>\n",
       "      <td>OTHERAPP</td>\n",
       "      <td>2016.7.14</td>\n",
       "      <td>Main</td>\n",
       "    </tr>\n",
       "  </tbody>\n",
       "</table>\n",
       "<p>301861 rows × 7 columns</p>\n",
       "</div>"
      ],
      "text/plain": [
       "       actiontype ismydoc   ext                         sessionid  \\\n",
       "0            OPEN  NoView   PDF  9400fd2e43d7dc2d054ca78806236ee1   \n",
       "1           CLOSE  NoView   PDF  9400fd2e43d7dc2d054ca78806236ee1   \n",
       "2            OPEN    View   PDF  9400fd2e43d7dc2d054ca78806236ee1   \n",
       "3           CLOSE    View   PDF  9400fd2e43d7dc2d054ca78806236ee1   \n",
       "4            OPEN  NoView   PDF  f191063c562691041dfa935ff0876975   \n",
       "...           ...     ...   ...                               ...   \n",
       "301856      CLOSE    View  XLSX  2ed068d5e6a72e80e4a997c01c59f782   \n",
       "301857       OPEN  NoView  DOCX  41b8c1df291edd2aec30fc610e5b676e   \n",
       "301858      RESET    View  DOCX  41b8c1df291edd2aec30fc610e5b676e   \n",
       "301859       OPEN  NoView   PPT  9b5ee236571c2fcbe25132b6ba71d764   \n",
       "301860      CLOSE  NoView   PPT  9b5ee236571c2fcbe25132b6ba71d764   \n",
       "\n",
       "       documentposition   datetime   screen  \n",
       "0          LOCALSTORAGE  2016.7.18  Per_Dir  \n",
       "1          LOCALSTORAGE  2016.7.18  Per_Dir  \n",
       "2        MYPOLARISDRIVE  2016.7.18  Pub_Dir  \n",
       "3        MYPOLARISDRIVE  2016.7.18  Pub_Dir  \n",
       "4              OTHERAPP   2016.7.6     Main  \n",
       "...                 ...        ...      ...  \n",
       "301856         OTHERAPP   2016.7.7     Main  \n",
       "301857         OTHERAPP   2016.7.5     Main  \n",
       "301858         OTHERAPP   2016.7.5     Main  \n",
       "301859         OTHERAPP  2016.7.14     Main  \n",
       "301860         OTHERAPP  2016.7.14     Main  \n",
       "\n",
       "[301861 rows x 7 columns]"
      ]
     },
     "execution_count": 4,
     "metadata": {},
     "output_type": "execute_result"
    }
   ],
   "source": [
    "df = pd.read_csv('df_funnel.csv', index_col=0)\n",
    "df"
   ]
  },
  {
   "cell_type": "code",
   "execution_count": 5,
   "metadata": {
    "ExecuteTime": {
     "end_time": "2021-07-26T11:54:30.415062Z",
     "start_time": "2021-07-26T11:54:30.260085Z"
    }
   },
   "outputs": [
    {
     "name": "stdout",
     "output_type": "stream",
     "text": [
      "<class 'pandas.core.frame.DataFrame'>\n",
      "Int64Index: 301861 entries, 0 to 301860\n",
      "Data columns (total 7 columns):\n",
      " #   Column            Non-Null Count   Dtype \n",
      "---  ------            --------------   ----- \n",
      " 0   actiontype        301861 non-null  object\n",
      " 1   ismydoc           301861 non-null  object\n",
      " 2   ext               301861 non-null  object\n",
      " 3   sessionid         301861 non-null  object\n",
      " 4   documentposition  301861 non-null  object\n",
      " 5   datetime          301861 non-null  object\n",
      " 6   screen            301861 non-null  object\n",
      "dtypes: object(7)\n",
      "memory usage: 18.4+ MB\n"
     ]
    }
   ],
   "source": [
    "df.info()"
   ]
  },
  {
   "cell_type": "markdown",
   "metadata": {},
   "source": [
    "# Preprocessing\n",
    "- type 변환\n",
    "- 결측치 처리\n",
    "- 신규 session id 부여\n",
    "- 대소문자 처리"
   ]
  },
  {
   "cell_type": "markdown",
   "metadata": {},
   "source": [
    "## 날짜 datetime 형태로 변환"
   ]
  },
  {
   "cell_type": "code",
   "execution_count": 8,
   "metadata": {
    "ExecuteTime": {
     "end_time": "2021-07-26T12:12:47.141102Z",
     "start_time": "2021-07-26T12:12:47.068385Z"
    }
   },
   "outputs": [
    {
     "data": {
      "text/html": [
       "<div>\n",
       "<style scoped>\n",
       "    .dataframe tbody tr th:only-of-type {\n",
       "        vertical-align: middle;\n",
       "    }\n",
       "\n",
       "    .dataframe tbody tr th {\n",
       "        vertical-align: top;\n",
       "    }\n",
       "\n",
       "    .dataframe thead th {\n",
       "        text-align: right;\n",
       "    }\n",
       "</style>\n",
       "<table border=\"1\" class=\"dataframe\">\n",
       "  <thead>\n",
       "    <tr style=\"text-align: right;\">\n",
       "      <th></th>\n",
       "      <th>actiontype</th>\n",
       "      <th>ismydoc</th>\n",
       "      <th>ext</th>\n",
       "      <th>sessionid</th>\n",
       "      <th>documentposition</th>\n",
       "      <th>datetime</th>\n",
       "      <th>screen</th>\n",
       "    </tr>\n",
       "  </thead>\n",
       "  <tbody>\n",
       "    <tr>\n",
       "      <th>0</th>\n",
       "      <td>OPEN</td>\n",
       "      <td>NoView</td>\n",
       "      <td>PDF</td>\n",
       "      <td>9400fd2e43d7dc2d054ca78806236ee1</td>\n",
       "      <td>LOCALSTORAGE</td>\n",
       "      <td>2016-07-18</td>\n",
       "      <td>Per_Dir</td>\n",
       "    </tr>\n",
       "    <tr>\n",
       "      <th>1</th>\n",
       "      <td>CLOSE</td>\n",
       "      <td>NoView</td>\n",
       "      <td>PDF</td>\n",
       "      <td>9400fd2e43d7dc2d054ca78806236ee1</td>\n",
       "      <td>LOCALSTORAGE</td>\n",
       "      <td>2016-07-18</td>\n",
       "      <td>Per_Dir</td>\n",
       "    </tr>\n",
       "    <tr>\n",
       "      <th>2</th>\n",
       "      <td>OPEN</td>\n",
       "      <td>View</td>\n",
       "      <td>PDF</td>\n",
       "      <td>9400fd2e43d7dc2d054ca78806236ee1</td>\n",
       "      <td>MYPOLARISDRIVE</td>\n",
       "      <td>2016-07-18</td>\n",
       "      <td>Pub_Dir</td>\n",
       "    </tr>\n",
       "    <tr>\n",
       "      <th>3</th>\n",
       "      <td>CLOSE</td>\n",
       "      <td>View</td>\n",
       "      <td>PDF</td>\n",
       "      <td>9400fd2e43d7dc2d054ca78806236ee1</td>\n",
       "      <td>MYPOLARISDRIVE</td>\n",
       "      <td>2016-07-18</td>\n",
       "      <td>Pub_Dir</td>\n",
       "    </tr>\n",
       "    <tr>\n",
       "      <th>4</th>\n",
       "      <td>OPEN</td>\n",
       "      <td>NoView</td>\n",
       "      <td>PDF</td>\n",
       "      <td>f191063c562691041dfa935ff0876975</td>\n",
       "      <td>OTHERAPP</td>\n",
       "      <td>2016-07-06</td>\n",
       "      <td>Main</td>\n",
       "    </tr>\n",
       "  </tbody>\n",
       "</table>\n",
       "</div>"
      ],
      "text/plain": [
       "  actiontype ismydoc  ext                         sessionid documentposition  \\\n",
       "0       OPEN  NoView  PDF  9400fd2e43d7dc2d054ca78806236ee1     LOCALSTORAGE   \n",
       "1      CLOSE  NoView  PDF  9400fd2e43d7dc2d054ca78806236ee1     LOCALSTORAGE   \n",
       "2       OPEN    View  PDF  9400fd2e43d7dc2d054ca78806236ee1   MYPOLARISDRIVE   \n",
       "3      CLOSE    View  PDF  9400fd2e43d7dc2d054ca78806236ee1   MYPOLARISDRIVE   \n",
       "4       OPEN  NoView  PDF  f191063c562691041dfa935ff0876975         OTHERAPP   \n",
       "\n",
       "    datetime   screen  \n",
       "0 2016-07-18  Per_Dir  \n",
       "1 2016-07-18  Per_Dir  \n",
       "2 2016-07-18  Pub_Dir  \n",
       "3 2016-07-18  Pub_Dir  \n",
       "4 2016-07-06     Main  "
      ]
     },
     "execution_count": 8,
     "metadata": {},
     "output_type": "execute_result"
    }
   ],
   "source": [
    "df['datetime'] = pd.to_datetime(df['datetime'])\n",
    "df.head()"
   ]
  },
  {
   "cell_type": "markdown",
   "metadata": {},
   "source": [
    "## Missing value 확인"
   ]
  },
  {
   "cell_type": "code",
   "execution_count": 13,
   "metadata": {
    "ExecuteTime": {
     "end_time": "2021-07-26T12:15:50.762453Z",
     "start_time": "2021-07-26T12:15:50.628366Z"
    }
   },
   "outputs": [
    {
     "data": {
      "text/plain": [
       "actiontype          0\n",
       "ismydoc             0\n",
       "ext                 0\n",
       "sessionid           0\n",
       "documentposition    0\n",
       "datetime            0\n",
       "screen              0\n",
       "dtype: int64"
      ]
     },
     "execution_count": 13,
     "metadata": {},
     "output_type": "execute_result"
    }
   ],
   "source": [
    "df.isnull().sum()"
   ]
  },
  {
   "cell_type": "markdown",
   "metadata": {},
   "source": [
    "## 결측치 처리"
   ]
  },
  {
   "cell_type": "markdown",
   "metadata": {},
   "source": [
    "### 결측치가 수치형 변수인 경우"
   ]
  },
  {
   "cell_type": "code",
   "execution_count": 15,
   "metadata": {
    "ExecuteTime": {
     "end_time": "2021-07-26T12:20:25.272356Z",
     "start_time": "2021-07-26T12:20:25.061128Z"
    }
   },
   "outputs": [
    {
     "data": {
      "text/html": [
       "<div>\n",
       "<style scoped>\n",
       "    .dataframe tbody tr th:only-of-type {\n",
       "        vertical-align: middle;\n",
       "    }\n",
       "\n",
       "    .dataframe tbody tr th {\n",
       "        vertical-align: top;\n",
       "    }\n",
       "\n",
       "    .dataframe thead th {\n",
       "        text-align: right;\n",
       "    }\n",
       "</style>\n",
       "<table border=\"1\" class=\"dataframe\">\n",
       "  <thead>\n",
       "    <tr style=\"text-align: right;\">\n",
       "      <th>screen</th>\n",
       "      <th>InProduct_Mob</th>\n",
       "      <th>InProduct_Web</th>\n",
       "      <th>Main</th>\n",
       "      <th>Per_Dir</th>\n",
       "      <th>Pub_Dir</th>\n",
       "      <th>Purchase_done</th>\n",
       "      <th>Purchase_page</th>\n",
       "    </tr>\n",
       "    <tr>\n",
       "      <th>datetime</th>\n",
       "      <th></th>\n",
       "      <th></th>\n",
       "      <th></th>\n",
       "      <th></th>\n",
       "      <th></th>\n",
       "      <th></th>\n",
       "      <th></th>\n",
       "    </tr>\n",
       "  </thead>\n",
       "  <tbody>\n",
       "    <tr>\n",
       "      <th>2016-07-01</th>\n",
       "      <td>137.0</td>\n",
       "      <td>147.0</td>\n",
       "      <td>3582.0</td>\n",
       "      <td>296.0</td>\n",
       "      <td>1008.0</td>\n",
       "      <td>2.0</td>\n",
       "      <td>23.0</td>\n",
       "    </tr>\n",
       "    <tr>\n",
       "      <th>2016-07-02</th>\n",
       "      <td>89.0</td>\n",
       "      <td>124.0</td>\n",
       "      <td>2683.0</td>\n",
       "      <td>206.0</td>\n",
       "      <td>801.0</td>\n",
       "      <td>2.0</td>\n",
       "      <td>15.0</td>\n",
       "    </tr>\n",
       "    <tr>\n",
       "      <th>2016-07-03</th>\n",
       "      <td>50.0</td>\n",
       "      <td>83.0</td>\n",
       "      <td>1886.0</td>\n",
       "      <td>165.0</td>\n",
       "      <td>590.0</td>\n",
       "      <td>NaN</td>\n",
       "      <td>28.0</td>\n",
       "    </tr>\n",
       "    <tr>\n",
       "      <th>2016-07-04</th>\n",
       "      <td>112.0</td>\n",
       "      <td>104.0</td>\n",
       "      <td>2808.0</td>\n",
       "      <td>281.0</td>\n",
       "      <td>764.0</td>\n",
       "      <td>NaN</td>\n",
       "      <td>29.0</td>\n",
       "    </tr>\n",
       "    <tr>\n",
       "      <th>2016-07-05</th>\n",
       "      <td>118.0</td>\n",
       "      <td>138.0</td>\n",
       "      <td>3335.0</td>\n",
       "      <td>300.0</td>\n",
       "      <td>842.0</td>\n",
       "      <td>1.0</td>\n",
       "      <td>26.0</td>\n",
       "    </tr>\n",
       "    <tr>\n",
       "      <th>2016-07-06</th>\n",
       "      <td>138.0</td>\n",
       "      <td>145.0</td>\n",
       "      <td>3256.0</td>\n",
       "      <td>293.0</td>\n",
       "      <td>855.0</td>\n",
       "      <td>1.0</td>\n",
       "      <td>30.0</td>\n",
       "    </tr>\n",
       "    <tr>\n",
       "      <th>2016-07-07</th>\n",
       "      <td>110.0</td>\n",
       "      <td>117.0</td>\n",
       "      <td>3150.0</td>\n",
       "      <td>266.0</td>\n",
       "      <td>807.0</td>\n",
       "      <td>NaN</td>\n",
       "      <td>18.0</td>\n",
       "    </tr>\n",
       "    <tr>\n",
       "      <th>2016-07-08</th>\n",
       "      <td>117.0</td>\n",
       "      <td>148.0</td>\n",
       "      <td>3208.0</td>\n",
       "      <td>273.0</td>\n",
       "      <td>865.0</td>\n",
       "      <td>2.0</td>\n",
       "      <td>20.0</td>\n",
       "    </tr>\n",
       "    <tr>\n",
       "      <th>2016-07-09</th>\n",
       "      <td>102.0</td>\n",
       "      <td>138.0</td>\n",
       "      <td>2381.0</td>\n",
       "      <td>229.0</td>\n",
       "      <td>748.0</td>\n",
       "      <td>2.0</td>\n",
       "      <td>23.0</td>\n",
       "    </tr>\n",
       "    <tr>\n",
       "      <th>2016-07-10</th>\n",
       "      <td>62.0</td>\n",
       "      <td>122.0</td>\n",
       "      <td>1872.0</td>\n",
       "      <td>230.0</td>\n",
       "      <td>636.0</td>\n",
       "      <td>2.0</td>\n",
       "      <td>18.0</td>\n",
       "    </tr>\n",
       "  </tbody>\n",
       "</table>\n",
       "</div>"
      ],
      "text/plain": [
       "screen      InProduct_Mob  InProduct_Web    Main  Per_Dir  Pub_Dir  \\\n",
       "datetime                                                             \n",
       "2016-07-01          137.0          147.0  3582.0    296.0   1008.0   \n",
       "2016-07-02           89.0          124.0  2683.0    206.0    801.0   \n",
       "2016-07-03           50.0           83.0  1886.0    165.0    590.0   \n",
       "2016-07-04          112.0          104.0  2808.0    281.0    764.0   \n",
       "2016-07-05          118.0          138.0  3335.0    300.0    842.0   \n",
       "2016-07-06          138.0          145.0  3256.0    293.0    855.0   \n",
       "2016-07-07          110.0          117.0  3150.0    266.0    807.0   \n",
       "2016-07-08          117.0          148.0  3208.0    273.0    865.0   \n",
       "2016-07-09          102.0          138.0  2381.0    229.0    748.0   \n",
       "2016-07-10           62.0          122.0  1872.0    230.0    636.0   \n",
       "\n",
       "screen      Purchase_done  Purchase_page  \n",
       "datetime                                  \n",
       "2016-07-01            2.0           23.0  \n",
       "2016-07-02            2.0           15.0  \n",
       "2016-07-03            NaN           28.0  \n",
       "2016-07-04            NaN           29.0  \n",
       "2016-07-05            1.0           26.0  \n",
       "2016-07-06            1.0           30.0  \n",
       "2016-07-07            NaN           18.0  \n",
       "2016-07-08            2.0           20.0  \n",
       "2016-07-09            2.0           23.0  \n",
       "2016-07-10            2.0           18.0  "
      ]
     },
     "execution_count": 15,
     "metadata": {},
     "output_type": "execute_result"
    }
   ],
   "source": [
    "df_by_screen = df.groupby(['datetime','screen'])['sessionid'].nunique().unstack()\n",
    "df_by_screen[:10]"
   ]
  },
  {
   "cell_type": "code",
   "execution_count": 16,
   "metadata": {
    "ExecuteTime": {
     "end_time": "2021-07-26T12:20:46.801958Z",
     "start_time": "2021-07-26T12:20:46.780049Z"
    }
   },
   "outputs": [
    {
     "data": {
      "text/plain": [
       "screen\n",
       "InProduct_Mob    0\n",
       "InProduct_Web    0\n",
       "Main             0\n",
       "Per_Dir          0\n",
       "Pub_Dir          0\n",
       "Purchase_done    6\n",
       "Purchase_page    0\n",
       "dtype: int64"
      ]
     },
     "execution_count": 16,
     "metadata": {},
     "output_type": "execute_result"
    }
   ],
   "source": [
    "df_by_screen.isnull().sum()"
   ]
  },
  {
   "cell_type": "code",
   "execution_count": 17,
   "metadata": {
    "ExecuteTime": {
     "end_time": "2021-07-26T12:21:04.570262Z",
     "start_time": "2021-07-26T12:21:04.547326Z"
    }
   },
   "outputs": [
    {
     "name": "stdout",
     "output_type": "stream",
     "text": [
      "<class 'pandas.core.frame.DataFrame'>\n",
      "DatetimeIndex: 30 entries, 2016-07-01 to 2016-07-30\n",
      "Data columns (total 7 columns):\n",
      " #   Column         Non-Null Count  Dtype  \n",
      "---  ------         --------------  -----  \n",
      " 0   InProduct_Mob  30 non-null     float64\n",
      " 1   InProduct_Web  30 non-null     float64\n",
      " 2   Main           30 non-null     float64\n",
      " 3   Per_Dir        30 non-null     float64\n",
      " 4   Pub_Dir        30 non-null     float64\n",
      " 5   Purchase_done  24 non-null     float64\n",
      " 6   Purchase_page  30 non-null     float64\n",
      "dtypes: float64(7)\n",
      "memory usage: 1.9 KB\n"
     ]
    }
   ],
   "source": [
    "df_by_screen.info()"
   ]
  },
  {
   "cell_type": "code",
   "execution_count": 21,
   "metadata": {
    "ExecuteTime": {
     "end_time": "2021-07-26T12:24:38.731660Z",
     "start_time": "2021-07-26T12:24:38.699774Z"
    }
   },
   "outputs": [
    {
     "data": {
      "text/html": [
       "<div>\n",
       "<style scoped>\n",
       "    .dataframe tbody tr th:only-of-type {\n",
       "        vertical-align: middle;\n",
       "    }\n",
       "\n",
       "    .dataframe tbody tr th {\n",
       "        vertical-align: top;\n",
       "    }\n",
       "\n",
       "    .dataframe thead th {\n",
       "        text-align: right;\n",
       "    }\n",
       "</style>\n",
       "<table border=\"1\" class=\"dataframe\">\n",
       "  <thead>\n",
       "    <tr style=\"text-align: right;\">\n",
       "      <th>screen</th>\n",
       "      <th>InProduct_Mob</th>\n",
       "      <th>InProduct_Web</th>\n",
       "      <th>Main</th>\n",
       "      <th>Per_Dir</th>\n",
       "      <th>Pub_Dir</th>\n",
       "      <th>Purchase_done</th>\n",
       "      <th>Purchase_page</th>\n",
       "    </tr>\n",
       "    <tr>\n",
       "      <th>datetime</th>\n",
       "      <th></th>\n",
       "      <th></th>\n",
       "      <th></th>\n",
       "      <th></th>\n",
       "      <th></th>\n",
       "      <th></th>\n",
       "      <th></th>\n",
       "    </tr>\n",
       "  </thead>\n",
       "  <tbody>\n",
       "    <tr>\n",
       "      <th>2016-07-01</th>\n",
       "      <td>137.0</td>\n",
       "      <td>147.0</td>\n",
       "      <td>3582.0</td>\n",
       "      <td>296.0</td>\n",
       "      <td>1008.0</td>\n",
       "      <td>2.0</td>\n",
       "      <td>23.0</td>\n",
       "    </tr>\n",
       "    <tr>\n",
       "      <th>2016-07-02</th>\n",
       "      <td>89.0</td>\n",
       "      <td>124.0</td>\n",
       "      <td>2683.0</td>\n",
       "      <td>206.0</td>\n",
       "      <td>801.0</td>\n",
       "      <td>2.0</td>\n",
       "      <td>15.0</td>\n",
       "    </tr>\n",
       "    <tr>\n",
       "      <th>2016-07-03</th>\n",
       "      <td>50.0</td>\n",
       "      <td>83.0</td>\n",
       "      <td>1886.0</td>\n",
       "      <td>165.0</td>\n",
       "      <td>590.0</td>\n",
       "      <td>0.0</td>\n",
       "      <td>28.0</td>\n",
       "    </tr>\n",
       "    <tr>\n",
       "      <th>2016-07-04</th>\n",
       "      <td>112.0</td>\n",
       "      <td>104.0</td>\n",
       "      <td>2808.0</td>\n",
       "      <td>281.0</td>\n",
       "      <td>764.0</td>\n",
       "      <td>0.0</td>\n",
       "      <td>29.0</td>\n",
       "    </tr>\n",
       "    <tr>\n",
       "      <th>2016-07-05</th>\n",
       "      <td>118.0</td>\n",
       "      <td>138.0</td>\n",
       "      <td>3335.0</td>\n",
       "      <td>300.0</td>\n",
       "      <td>842.0</td>\n",
       "      <td>1.0</td>\n",
       "      <td>26.0</td>\n",
       "    </tr>\n",
       "    <tr>\n",
       "      <th>2016-07-06</th>\n",
       "      <td>138.0</td>\n",
       "      <td>145.0</td>\n",
       "      <td>3256.0</td>\n",
       "      <td>293.0</td>\n",
       "      <td>855.0</td>\n",
       "      <td>1.0</td>\n",
       "      <td>30.0</td>\n",
       "    </tr>\n",
       "    <tr>\n",
       "      <th>2016-07-07</th>\n",
       "      <td>110.0</td>\n",
       "      <td>117.0</td>\n",
       "      <td>3150.0</td>\n",
       "      <td>266.0</td>\n",
       "      <td>807.0</td>\n",
       "      <td>0.0</td>\n",
       "      <td>18.0</td>\n",
       "    </tr>\n",
       "    <tr>\n",
       "      <th>2016-07-08</th>\n",
       "      <td>117.0</td>\n",
       "      <td>148.0</td>\n",
       "      <td>3208.0</td>\n",
       "      <td>273.0</td>\n",
       "      <td>865.0</td>\n",
       "      <td>2.0</td>\n",
       "      <td>20.0</td>\n",
       "    </tr>\n",
       "    <tr>\n",
       "      <th>2016-07-09</th>\n",
       "      <td>102.0</td>\n",
       "      <td>138.0</td>\n",
       "      <td>2381.0</td>\n",
       "      <td>229.0</td>\n",
       "      <td>748.0</td>\n",
       "      <td>2.0</td>\n",
       "      <td>23.0</td>\n",
       "    </tr>\n",
       "    <tr>\n",
       "      <th>2016-07-10</th>\n",
       "      <td>62.0</td>\n",
       "      <td>122.0</td>\n",
       "      <td>1872.0</td>\n",
       "      <td>230.0</td>\n",
       "      <td>636.0</td>\n",
       "      <td>2.0</td>\n",
       "      <td>18.0</td>\n",
       "    </tr>\n",
       "  </tbody>\n",
       "</table>\n",
       "</div>"
      ],
      "text/plain": [
       "screen      InProduct_Mob  InProduct_Web    Main  Per_Dir  Pub_Dir  \\\n",
       "datetime                                                             \n",
       "2016-07-01          137.0          147.0  3582.0    296.0   1008.0   \n",
       "2016-07-02           89.0          124.0  2683.0    206.0    801.0   \n",
       "2016-07-03           50.0           83.0  1886.0    165.0    590.0   \n",
       "2016-07-04          112.0          104.0  2808.0    281.0    764.0   \n",
       "2016-07-05          118.0          138.0  3335.0    300.0    842.0   \n",
       "2016-07-06          138.0          145.0  3256.0    293.0    855.0   \n",
       "2016-07-07          110.0          117.0  3150.0    266.0    807.0   \n",
       "2016-07-08          117.0          148.0  3208.0    273.0    865.0   \n",
       "2016-07-09          102.0          138.0  2381.0    229.0    748.0   \n",
       "2016-07-10           62.0          122.0  1872.0    230.0    636.0   \n",
       "\n",
       "screen      Purchase_done  Purchase_page  \n",
       "datetime                                  \n",
       "2016-07-01            2.0           23.0  \n",
       "2016-07-02            2.0           15.0  \n",
       "2016-07-03            0.0           28.0  \n",
       "2016-07-04            0.0           29.0  \n",
       "2016-07-05            1.0           26.0  \n",
       "2016-07-06            1.0           30.0  \n",
       "2016-07-07            0.0           18.0  \n",
       "2016-07-08            2.0           20.0  \n",
       "2016-07-09            2.0           23.0  \n",
       "2016-07-10            2.0           18.0  "
      ]
     },
     "execution_count": 21,
     "metadata": {},
     "output_type": "execute_result"
    }
   ],
   "source": [
    "# 비즈니스 맥락 및 목적(퍼널분석) 고려 시, 해당 결측치 0으로 처리하는 것이 알맞다 판단됨\n",
    "df_by_screen.fillna(0, inplace=True)\n",
    "df_by_screen[:10]"
   ]
  },
  {
   "cell_type": "markdown",
   "metadata": {},
   "source": [
    "### 결측치가 카테고리 변수인 경우\n",
    "- Option 1. 최빈치(mode)\n",
    "    - 쉽고 빠르게 이용가능하나, 낮은 적절성\n",
    "- Option 2. 예측모형으로 예측치\n",
    "    - 적절성은 비교적 높으나 별도의 모형과 계산량 필요"
   ]
  },
  {
   "cell_type": "code",
   "execution_count": 22,
   "metadata": {
    "ExecuteTime": {
     "end_time": "2021-07-26T12:31:09.795550Z",
     "start_time": "2021-07-26T12:31:09.791560Z"
    }
   },
   "outputs": [],
   "source": [
    "# 여기는 카테고리형 변수에 결측치 없으므로 생략"
   ]
  },
  {
   "cell_type": "markdown",
   "metadata": {},
   "source": [
    "## 확장자명 통일"
   ]
  },
  {
   "cell_type": "code",
   "execution_count": 23,
   "metadata": {
    "ExecuteTime": {
     "end_time": "2021-07-26T12:32:00.910584Z",
     "start_time": "2021-07-26T12:32:00.851708Z"
    }
   },
   "outputs": [
    {
     "data": {
      "text/plain": [
       "PDF      82004\n",
       "DOCX     58303\n",
       "XLSX     52118\n",
       "HWP      26244\n",
       "DOC      24586\n",
       "XLS      24489\n",
       "PPTX     15385\n",
       "TXT       9814\n",
       "PPT       5382\n",
       "PPSX      2374\n",
       "ODT        820\n",
       "PPS        324\n",
       "JPG          9\n",
       "SHEET        5\n",
       "PNG          2\n",
       "WORD         2\n",
       "Name: ext, dtype: int64"
      ]
     },
     "execution_count": 23,
     "metadata": {},
     "output_type": "execute_result"
    }
   ],
   "source": [
    "df['ext'].value_counts()"
   ]
  },
  {
   "cell_type": "code",
   "execution_count": 24,
   "metadata": {
    "ExecuteTime": {
     "end_time": "2021-07-26T12:36:00.239462Z",
     "start_time": "2021-07-26T12:36:00.227492Z"
    }
   },
   "outputs": [],
   "source": [
    "ext_dic = {\n",
    "    'DOCX':'DOC',\n",
    "    'XLSX':'XLS',\n",
    "    'PPTX':'PPT',\n",
    "    'PPSX':'PPT',\n",
    "    'PPS':'PPT',\n",
    "    'ODT':'TXT',\n",
    "    'PNG':'JPG'\n",
    "}"
   ]
  },
  {
   "cell_type": "code",
   "execution_count": 25,
   "metadata": {
    "ExecuteTime": {
     "end_time": "2021-07-26T12:36:31.510296Z",
     "start_time": "2021-07-26T12:36:31.331507Z"
    }
   },
   "outputs": [
    {
     "data": {
      "text/plain": [
       "DOC      82889\n",
       "PDF      82004\n",
       "XLS      76607\n",
       "HWP      26244\n",
       "PPT      23465\n",
       "TXT      10634\n",
       "JPG         11\n",
       "SHEET        5\n",
       "WORD         2\n",
       "Name: ext, dtype: int64"
      ]
     },
     "execution_count": 25,
     "metadata": {},
     "output_type": "execute_result"
    }
   ],
   "source": [
    "df['ext'] = df['ext'].replace(ext_dic)\n",
    "df['ext'].value_counts()"
   ]
  },
  {
   "cell_type": "markdown",
   "metadata": {},
   "source": [
    "## action type 통일"
   ]
  },
  {
   "cell_type": "code",
   "execution_count": 26,
   "metadata": {
    "ExecuteTime": {
     "end_time": "2021-07-26T12:37:25.471181Z",
     "start_time": "2021-07-26T12:37:25.403355Z"
    }
   },
   "outputs": [
    {
     "data": {
      "text/plain": [
       "OPEN            151802\n",
       "CLOSE           127922\n",
       "SAVE              9334\n",
       "RESET             7751\n",
       "SAVEAS            4960\n",
       "EXPORT_SAME         68\n",
       "EXPORT              19\n",
       "SAVEAS_OTHER         5\n",
       "Name: actiontype, dtype: int64"
      ]
     },
     "execution_count": 26,
     "metadata": {},
     "output_type": "execute_result"
    }
   ],
   "source": [
    "df.actiontype.value_counts()"
   ]
  },
  {
   "cell_type": "code",
   "execution_count": 33,
   "metadata": {
    "ExecuteTime": {
     "end_time": "2021-07-26T12:40:15.912276Z",
     "start_time": "2021-07-26T12:40:15.900310Z"
    }
   },
   "outputs": [],
   "source": [
    "act_dic = {'SAVEAS':'SAVE',\n",
    "          'SAVEAS_OTHER':'SAVE',\n",
    "          'EXPORT_SAME':'EXPORT'}"
   ]
  },
  {
   "cell_type": "code",
   "execution_count": 34,
   "metadata": {
    "ExecuteTime": {
     "end_time": "2021-07-26T12:40:16.323847Z",
     "start_time": "2021-07-26T12:40:16.195054Z"
    }
   },
   "outputs": [
    {
     "data": {
      "text/plain": [
       "OPEN      151802\n",
       "CLOSE     127922\n",
       "SAVE       14299\n",
       "RESET       7751\n",
       "EXPORT        87\n",
       "Name: actiontype, dtype: int64"
      ]
     },
     "execution_count": 34,
     "metadata": {},
     "output_type": "execute_result"
    }
   ],
   "source": [
    "df['actiontype'].replace(act_dic, inplace=True)\n",
    "df['actiontype'].value_counts()"
   ]
  },
  {
   "cell_type": "markdown",
   "metadata": {},
   "source": [
    "## 신규 session_id 부여\n",
    "- 필수는 아니지만, 계산량 감소를 위해 텍스트 사이즈 감량 진행\n",
    "- session0, 1, ..."
   ]
  },
  {
   "cell_type": "code",
   "execution_count": 35,
   "metadata": {
    "ExecuteTime": {
     "end_time": "2021-07-26T12:41:36.544196Z",
     "start_time": "2021-07-26T12:41:36.523255Z"
    }
   },
   "outputs": [
    {
     "data": {
      "text/html": [
       "<div>\n",
       "<style scoped>\n",
       "    .dataframe tbody tr th:only-of-type {\n",
       "        vertical-align: middle;\n",
       "    }\n",
       "\n",
       "    .dataframe tbody tr th {\n",
       "        vertical-align: top;\n",
       "    }\n",
       "\n",
       "    .dataframe thead th {\n",
       "        text-align: right;\n",
       "    }\n",
       "</style>\n",
       "<table border=\"1\" class=\"dataframe\">\n",
       "  <thead>\n",
       "    <tr style=\"text-align: right;\">\n",
       "      <th></th>\n",
       "      <th>actiontype</th>\n",
       "      <th>ismydoc</th>\n",
       "      <th>ext</th>\n",
       "      <th>sessionid</th>\n",
       "      <th>documentposition</th>\n",
       "      <th>datetime</th>\n",
       "      <th>screen</th>\n",
       "    </tr>\n",
       "  </thead>\n",
       "  <tbody>\n",
       "    <tr>\n",
       "      <th>0</th>\n",
       "      <td>OPEN</td>\n",
       "      <td>NoView</td>\n",
       "      <td>PDF</td>\n",
       "      <td>9400fd2e43d7dc2d054ca78806236ee1</td>\n",
       "      <td>LOCALSTORAGE</td>\n",
       "      <td>2016-07-18</td>\n",
       "      <td>Per_Dir</td>\n",
       "    </tr>\n",
       "    <tr>\n",
       "      <th>1</th>\n",
       "      <td>CLOSE</td>\n",
       "      <td>NoView</td>\n",
       "      <td>PDF</td>\n",
       "      <td>9400fd2e43d7dc2d054ca78806236ee1</td>\n",
       "      <td>LOCALSTORAGE</td>\n",
       "      <td>2016-07-18</td>\n",
       "      <td>Per_Dir</td>\n",
       "    </tr>\n",
       "    <tr>\n",
       "      <th>2</th>\n",
       "      <td>OPEN</td>\n",
       "      <td>View</td>\n",
       "      <td>PDF</td>\n",
       "      <td>9400fd2e43d7dc2d054ca78806236ee1</td>\n",
       "      <td>MYPOLARISDRIVE</td>\n",
       "      <td>2016-07-18</td>\n",
       "      <td>Pub_Dir</td>\n",
       "    </tr>\n",
       "    <tr>\n",
       "      <th>3</th>\n",
       "      <td>CLOSE</td>\n",
       "      <td>View</td>\n",
       "      <td>PDF</td>\n",
       "      <td>9400fd2e43d7dc2d054ca78806236ee1</td>\n",
       "      <td>MYPOLARISDRIVE</td>\n",
       "      <td>2016-07-18</td>\n",
       "      <td>Pub_Dir</td>\n",
       "    </tr>\n",
       "    <tr>\n",
       "      <th>4</th>\n",
       "      <td>OPEN</td>\n",
       "      <td>NoView</td>\n",
       "      <td>PDF</td>\n",
       "      <td>f191063c562691041dfa935ff0876975</td>\n",
       "      <td>OTHERAPP</td>\n",
       "      <td>2016-07-06</td>\n",
       "      <td>Main</td>\n",
       "    </tr>\n",
       "  </tbody>\n",
       "</table>\n",
       "</div>"
      ],
      "text/plain": [
       "  actiontype ismydoc  ext                         sessionid documentposition  \\\n",
       "0       OPEN  NoView  PDF  9400fd2e43d7dc2d054ca78806236ee1     LOCALSTORAGE   \n",
       "1      CLOSE  NoView  PDF  9400fd2e43d7dc2d054ca78806236ee1     LOCALSTORAGE   \n",
       "2       OPEN    View  PDF  9400fd2e43d7dc2d054ca78806236ee1   MYPOLARISDRIVE   \n",
       "3      CLOSE    View  PDF  9400fd2e43d7dc2d054ca78806236ee1   MYPOLARISDRIVE   \n",
       "4       OPEN  NoView  PDF  f191063c562691041dfa935ff0876975         OTHERAPP   \n",
       "\n",
       "    datetime   screen  \n",
       "0 2016-07-18  Per_Dir  \n",
       "1 2016-07-18  Per_Dir  \n",
       "2 2016-07-18  Pub_Dir  \n",
       "3 2016-07-18  Pub_Dir  \n",
       "4 2016-07-06     Main  "
      ]
     },
     "execution_count": 35,
     "metadata": {},
     "output_type": "execute_result"
    }
   ],
   "source": [
    "df.head()"
   ]
  },
  {
   "cell_type": "code",
   "execution_count": 37,
   "metadata": {
    "ExecuteTime": {
     "end_time": "2021-07-26T12:59:09.404310Z",
     "start_time": "2021-07-26T12:59:01.574543Z"
    }
   },
   "outputs": [],
   "source": [
    "# session + unique number\n",
    "session_num = []\n",
    "n = 0\n",
    "\n",
    "# session 번호 - 같은, 다른\n",
    "for i in range(len(df)-1):\n",
    "    # compare each rows\n",
    "    if df.loc[i, 'sessionid'] == df.loc[i+1, 'sessionid']:\n",
    "        session_num.append(n)\n",
    "    else:\n",
    "        session_num.append(n)\n",
    "        n += 1"
   ]
  },
  {
   "cell_type": "code",
   "execution_count": 38,
   "metadata": {
    "ExecuteTime": {
     "end_time": "2021-07-26T12:59:13.015506Z",
     "start_time": "2021-07-26T12:59:12.994562Z"
    }
   },
   "outputs": [
    {
     "data": {
      "text/plain": [
       "[0, 0, 0, 0, 1, 1, 2, 2, 3, 3]"
      ]
     },
     "execution_count": 38,
     "metadata": {},
     "output_type": "execute_result"
    }
   ],
   "source": [
    "session_num[:10]"
   ]
  },
  {
   "cell_type": "code",
   "execution_count": 41,
   "metadata": {
    "ExecuteTime": {
     "end_time": "2021-07-26T13:01:06.379669Z",
     "start_time": "2021-07-26T13:01:06.137520Z"
    }
   },
   "outputs": [
    {
     "data": {
      "text/html": [
       "<div>\n",
       "<style scoped>\n",
       "    .dataframe tbody tr th:only-of-type {\n",
       "        vertical-align: middle;\n",
       "    }\n",
       "\n",
       "    .dataframe tbody tr th {\n",
       "        vertical-align: top;\n",
       "    }\n",
       "\n",
       "    .dataframe thead th {\n",
       "        text-align: right;\n",
       "    }\n",
       "</style>\n",
       "<table border=\"1\" class=\"dataframe\">\n",
       "  <thead>\n",
       "    <tr style=\"text-align: right;\">\n",
       "      <th></th>\n",
       "      <th>actiontype</th>\n",
       "      <th>ismydoc</th>\n",
       "      <th>ext</th>\n",
       "      <th>sessionid</th>\n",
       "      <th>documentposition</th>\n",
       "      <th>datetime</th>\n",
       "      <th>screen</th>\n",
       "    </tr>\n",
       "  </thead>\n",
       "  <tbody>\n",
       "    <tr>\n",
       "      <th>0</th>\n",
       "      <td>OPEN</td>\n",
       "      <td>NoView</td>\n",
       "      <td>PDF</td>\n",
       "      <td>session0</td>\n",
       "      <td>LOCALSTORAGE</td>\n",
       "      <td>2016-07-18</td>\n",
       "      <td>Per_Dir</td>\n",
       "    </tr>\n",
       "    <tr>\n",
       "      <th>1</th>\n",
       "      <td>CLOSE</td>\n",
       "      <td>NoView</td>\n",
       "      <td>PDF</td>\n",
       "      <td>session0</td>\n",
       "      <td>LOCALSTORAGE</td>\n",
       "      <td>2016-07-18</td>\n",
       "      <td>Per_Dir</td>\n",
       "    </tr>\n",
       "    <tr>\n",
       "      <th>2</th>\n",
       "      <td>OPEN</td>\n",
       "      <td>View</td>\n",
       "      <td>PDF</td>\n",
       "      <td>session0</td>\n",
       "      <td>MYPOLARISDRIVE</td>\n",
       "      <td>2016-07-18</td>\n",
       "      <td>Pub_Dir</td>\n",
       "    </tr>\n",
       "    <tr>\n",
       "      <th>3</th>\n",
       "      <td>CLOSE</td>\n",
       "      <td>View</td>\n",
       "      <td>PDF</td>\n",
       "      <td>session0</td>\n",
       "      <td>MYPOLARISDRIVE</td>\n",
       "      <td>2016-07-18</td>\n",
       "      <td>Pub_Dir</td>\n",
       "    </tr>\n",
       "    <tr>\n",
       "      <th>4</th>\n",
       "      <td>OPEN</td>\n",
       "      <td>NoView</td>\n",
       "      <td>PDF</td>\n",
       "      <td>session1</td>\n",
       "      <td>OTHERAPP</td>\n",
       "      <td>2016-07-06</td>\n",
       "      <td>Main</td>\n",
       "    </tr>\n",
       "  </tbody>\n",
       "</table>\n",
       "</div>"
      ],
      "text/plain": [
       "  actiontype ismydoc  ext sessionid documentposition   datetime   screen\n",
       "0       OPEN  NoView  PDF  session0     LOCALSTORAGE 2016-07-18  Per_Dir\n",
       "1      CLOSE  NoView  PDF  session0     LOCALSTORAGE 2016-07-18  Per_Dir\n",
       "2       OPEN    View  PDF  session0   MYPOLARISDRIVE 2016-07-18  Pub_Dir\n",
       "3      CLOSE    View  PDF  session0   MYPOLARISDRIVE 2016-07-18  Pub_Dir\n",
       "4       OPEN  NoView  PDF  session1         OTHERAPP 2016-07-06     Main"
      ]
     },
     "execution_count": 41,
     "metadata": {},
     "output_type": "execute_result"
    }
   ],
   "source": [
    "df['sessionid'] = pd.Series(['session' + str(num) for num in session_num ])\n",
    "df.head()"
   ]
  },
  {
   "cell_type": "code",
   "execution_count": 43,
   "metadata": {
    "ExecuteTime": {
     "end_time": "2021-07-26T13:02:23.955112Z",
     "start_time": "2021-07-26T13:02:23.938160Z"
    }
   },
   "outputs": [
    {
     "data": {
      "text/html": [
       "<div>\n",
       "<style scoped>\n",
       "    .dataframe tbody tr th:only-of-type {\n",
       "        vertical-align: middle;\n",
       "    }\n",
       "\n",
       "    .dataframe tbody tr th {\n",
       "        vertical-align: top;\n",
       "    }\n",
       "\n",
       "    .dataframe thead th {\n",
       "        text-align: right;\n",
       "    }\n",
       "</style>\n",
       "<table border=\"1\" class=\"dataframe\">\n",
       "  <thead>\n",
       "    <tr style=\"text-align: right;\">\n",
       "      <th></th>\n",
       "      <th>actiontype</th>\n",
       "      <th>ismydoc</th>\n",
       "      <th>ext</th>\n",
       "      <th>sessionid</th>\n",
       "      <th>documentposition</th>\n",
       "      <th>datetime</th>\n",
       "      <th>screen</th>\n",
       "    </tr>\n",
       "  </thead>\n",
       "  <tbody>\n",
       "    <tr>\n",
       "      <th>301856</th>\n",
       "      <td>CLOSE</td>\n",
       "      <td>View</td>\n",
       "      <td>XLS</td>\n",
       "      <td>session132151</td>\n",
       "      <td>OTHERAPP</td>\n",
       "      <td>2016-07-07</td>\n",
       "      <td>Main</td>\n",
       "    </tr>\n",
       "    <tr>\n",
       "      <th>301857</th>\n",
       "      <td>OPEN</td>\n",
       "      <td>NoView</td>\n",
       "      <td>DOC</td>\n",
       "      <td>session132152</td>\n",
       "      <td>OTHERAPP</td>\n",
       "      <td>2016-07-05</td>\n",
       "      <td>Main</td>\n",
       "    </tr>\n",
       "    <tr>\n",
       "      <th>301858</th>\n",
       "      <td>RESET</td>\n",
       "      <td>View</td>\n",
       "      <td>DOC</td>\n",
       "      <td>session132152</td>\n",
       "      <td>OTHERAPP</td>\n",
       "      <td>2016-07-05</td>\n",
       "      <td>Main</td>\n",
       "    </tr>\n",
       "    <tr>\n",
       "      <th>301859</th>\n",
       "      <td>OPEN</td>\n",
       "      <td>NoView</td>\n",
       "      <td>PPT</td>\n",
       "      <td>session132153</td>\n",
       "      <td>OTHERAPP</td>\n",
       "      <td>2016-07-14</td>\n",
       "      <td>Main</td>\n",
       "    </tr>\n",
       "    <tr>\n",
       "      <th>301860</th>\n",
       "      <td>CLOSE</td>\n",
       "      <td>NoView</td>\n",
       "      <td>PPT</td>\n",
       "      <td>NaN</td>\n",
       "      <td>OTHERAPP</td>\n",
       "      <td>2016-07-14</td>\n",
       "      <td>Main</td>\n",
       "    </tr>\n",
       "  </tbody>\n",
       "</table>\n",
       "</div>"
      ],
      "text/plain": [
       "       actiontype ismydoc  ext      sessionid documentposition   datetime  \\\n",
       "301856      CLOSE    View  XLS  session132151         OTHERAPP 2016-07-07   \n",
       "301857       OPEN  NoView  DOC  session132152         OTHERAPP 2016-07-05   \n",
       "301858      RESET    View  DOC  session132152         OTHERAPP 2016-07-05   \n",
       "301859       OPEN  NoView  PPT  session132153         OTHERAPP 2016-07-14   \n",
       "301860      CLOSE  NoView  PPT            NaN         OTHERAPP 2016-07-14   \n",
       "\n",
       "       screen  \n",
       "301856   Main  \n",
       "301857   Main  \n",
       "301858   Main  \n",
       "301859   Main  \n",
       "301860   Main  "
      ]
     },
     "execution_count": 43,
     "metadata": {},
     "output_type": "execute_result"
    }
   ],
   "source": [
    "df.tail()"
   ]
  },
  {
   "cell_type": "code",
   "execution_count": 44,
   "metadata": {
    "ExecuteTime": {
     "end_time": "2021-07-26T13:03:05.742337Z",
     "start_time": "2021-07-26T13:03:05.709428Z"
    }
   },
   "outputs": [],
   "source": [
    "# 이전 row의 session과 동일 session이었음\n",
    "df.loc[301860, 'sessionid'] = 'session132153'"
   ]
  },
  {
   "cell_type": "code",
   "execution_count": 45,
   "metadata": {
    "ExecuteTime": {
     "end_time": "2021-07-26T13:03:09.321436Z",
     "start_time": "2021-07-26T13:03:09.290521Z"
    }
   },
   "outputs": [
    {
     "data": {
      "text/html": [
       "<div>\n",
       "<style scoped>\n",
       "    .dataframe tbody tr th:only-of-type {\n",
       "        vertical-align: middle;\n",
       "    }\n",
       "\n",
       "    .dataframe tbody tr th {\n",
       "        vertical-align: top;\n",
       "    }\n",
       "\n",
       "    .dataframe thead th {\n",
       "        text-align: right;\n",
       "    }\n",
       "</style>\n",
       "<table border=\"1\" class=\"dataframe\">\n",
       "  <thead>\n",
       "    <tr style=\"text-align: right;\">\n",
       "      <th></th>\n",
       "      <th>actiontype</th>\n",
       "      <th>ismydoc</th>\n",
       "      <th>ext</th>\n",
       "      <th>sessionid</th>\n",
       "      <th>documentposition</th>\n",
       "      <th>datetime</th>\n",
       "      <th>screen</th>\n",
       "    </tr>\n",
       "  </thead>\n",
       "  <tbody>\n",
       "    <tr>\n",
       "      <th>301856</th>\n",
       "      <td>CLOSE</td>\n",
       "      <td>View</td>\n",
       "      <td>XLS</td>\n",
       "      <td>session132151</td>\n",
       "      <td>OTHERAPP</td>\n",
       "      <td>2016-07-07</td>\n",
       "      <td>Main</td>\n",
       "    </tr>\n",
       "    <tr>\n",
       "      <th>301857</th>\n",
       "      <td>OPEN</td>\n",
       "      <td>NoView</td>\n",
       "      <td>DOC</td>\n",
       "      <td>session132152</td>\n",
       "      <td>OTHERAPP</td>\n",
       "      <td>2016-07-05</td>\n",
       "      <td>Main</td>\n",
       "    </tr>\n",
       "    <tr>\n",
       "      <th>301858</th>\n",
       "      <td>RESET</td>\n",
       "      <td>View</td>\n",
       "      <td>DOC</td>\n",
       "      <td>session132152</td>\n",
       "      <td>OTHERAPP</td>\n",
       "      <td>2016-07-05</td>\n",
       "      <td>Main</td>\n",
       "    </tr>\n",
       "    <tr>\n",
       "      <th>301859</th>\n",
       "      <td>OPEN</td>\n",
       "      <td>NoView</td>\n",
       "      <td>PPT</td>\n",
       "      <td>session132153</td>\n",
       "      <td>OTHERAPP</td>\n",
       "      <td>2016-07-14</td>\n",
       "      <td>Main</td>\n",
       "    </tr>\n",
       "    <tr>\n",
       "      <th>301860</th>\n",
       "      <td>CLOSE</td>\n",
       "      <td>NoView</td>\n",
       "      <td>PPT</td>\n",
       "      <td>session132153</td>\n",
       "      <td>OTHERAPP</td>\n",
       "      <td>2016-07-14</td>\n",
       "      <td>Main</td>\n",
       "    </tr>\n",
       "  </tbody>\n",
       "</table>\n",
       "</div>"
      ],
      "text/plain": [
       "       actiontype ismydoc  ext      sessionid documentposition   datetime  \\\n",
       "301856      CLOSE    View  XLS  session132151         OTHERAPP 2016-07-07   \n",
       "301857       OPEN  NoView  DOC  session132152         OTHERAPP 2016-07-05   \n",
       "301858      RESET    View  DOC  session132152         OTHERAPP 2016-07-05   \n",
       "301859       OPEN  NoView  PPT  session132153         OTHERAPP 2016-07-14   \n",
       "301860      CLOSE  NoView  PPT  session132153         OTHERAPP 2016-07-14   \n",
       "\n",
       "       screen  \n",
       "301856   Main  \n",
       "301857   Main  \n",
       "301858   Main  \n",
       "301859   Main  \n",
       "301860   Main  "
      ]
     },
     "execution_count": 45,
     "metadata": {},
     "output_type": "execute_result"
    }
   ],
   "source": [
    "df.tail()"
   ]
  },
  {
   "cell_type": "markdown",
   "metadata": {},
   "source": [
    "# EDA\n",
    "- 일별 주요 통계\n",
    "- 변수별 특성\n",
    "- 구간별 전환율(Funnel Analysis)\n",
    "- 클러스터링\n",
    "- 클러스터별 전환율 차이 파악"
   ]
  },
  {
   "cell_type": "markdown",
   "metadata": {},
   "source": [
    "## 일별 Trend - log, session\n",
    "- 일별 로그 카운트\n",
    "- 일별 세션 카운트\n",
    "- 요일별 세션 카운트"
   ]
  },
  {
   "cell_type": "code",
   "execution_count": 51,
   "metadata": {
    "ExecuteTime": {
     "end_time": "2021-07-26T13:29:21.155400Z",
     "start_time": "2021-07-26T13:29:20.746090Z"
    }
   },
   "outputs": [
    {
     "data": {
      "image/png": "[encoded data removed]",
      "text/plain": [
       "<Figure size 460.8x316.8 with 1 Axes>"
      ]
     },
     "metadata": {
      "needs_background": "light"
     },
     "output_type": "display_data"
    }
   ],
   "source": [
    "# daily log size\n",
    "df.groupby('datetime').count().plot(c='r', legend=False)\n",
    "plt.title('Daily Log Count')\n",
    "plt.grid(color='lightgrey', alpha=0.5, linestyle='--')\n",
    "plt.show()"
   ]
  },
  {
   "cell_type": "code",
   "execution_count": 52,
   "metadata": {
    "ExecuteTime": {
     "end_time": "2021-07-26T13:30:12.664948Z",
     "start_time": "2021-07-26T13:30:12.378642Z"
    }
   },
   "outputs": [
    {
     "data": {
      "image/png": "[encoded data removed]",
      "text/plain": [
       "<Figure size 460.8x316.8 with 1 Axes>"
      ]
     },
     "metadata": {
      "needs_background": "light"
     },
     "output_type": "display_data"
    }
   ],
   "source": [
    "# daily session count (active 유저의 session)\n",
    "df.groupby('datetime')['sessionid'].count().plot(c='b', legend=False)\n",
    "\n",
    "plt.title('Daily Session')\n",
    "plt.grid(color='lightgrey', alpha=0.5, linestyle='--')\n",
    "plt.show()"
   ]
  },
  {
   "cell_type": "markdown",
   "metadata": {},
   "source": [
    "- 앱 사용에 seasonality 존재\n",
    "- 로그 수와 세션 수의 트렌드가 유사"
   ]
  },
  {
   "cell_type": "code",
   "execution_count": 63,
   "metadata": {
    "ExecuteTime": {
     "end_time": "2021-07-26T13:39:39.897263Z",
     "start_time": "2021-07-26T13:39:38.833113Z"
    }
   },
   "outputs": [
    {
     "data": {
      "image/png": "[encoded data removed]",
      "text/plain": [
       "<Figure size 460.8x316.8 with 1 Axes>"
      ]
     },
     "metadata": {
      "needs_background": "light"
     },
     "output_type": "display_data"
    }
   ],
   "source": [
    "# weekly session count\n",
    "# 0: Mon ~ 6: Sun\n",
    "tmp = df.groupby('datetime')[['sessionid']].nunique().reset_index()\n",
    "tmp['week'] = tmp['datetime'].apply(lambda x: x.weekday())\n",
    "\n",
    "sns.barplot(data=tmp, x='week', y='sessionid', color='grey')\n",
    "plt.title('weekly Session')\n",
    "# plt.grid(color='lightgrey', alpha=0.5, linestyle='--')\n",
    "plt.show()"
   ]
  },
  {
   "cell_type": "markdown",
   "metadata": {},
   "source": [
    "- 주말에 사용성이 감소하고, 평일에 높은 편\n",
    "    - 화, 수요일에 가장 많이 사용하고, 월요일은 평일대비 비교적 낮은편\n",
    "- 문서앱 특성상 직장인 or 학생이 주로 사용하는 것을 고려하면 당연한 결과"
   ]
  },
  {
   "cell_type": "markdown",
   "metadata": {},
   "source": [
    "## 일별 Trend - 확장자, 위치, 액션, 스크린"
   ]
  },
  {
   "cell_type": "code",
   "execution_count": null,
   "metadata": {},
   "outputs": [],
   "source": []
  },
  {
   "cell_type": "code",
   "execution_count": null,
   "metadata": {},
   "outputs": [],
   "source": []
  },
  {
   "cell_type": "code",
   "execution_count": null,
   "metadata": {},
   "outputs": [],
   "source": []
  },
  {
   "cell_type": "markdown",
   "metadata": {},
   "source": [
    "# Clustering for Targeting"
   ]
  },
  {
   "cell_type": "code",
   "execution_count": null,
   "metadata": {},
   "outputs": [],
   "source": []
  }
 ],
 "metadata": {
  "kernelspec": {
   "display_name": "Python 3",
   "language": "python",
   "name": "python3"
  },
  "language_info": {
   "codemirror_mode": {
    "name": "ipython",
    "version": 3
   },
   "file_extension": ".py",
   "mimetype": "text/x-python",
   "name": "python",
   "nbconvert_exporter": "python",
   "pygments_lexer": "ipython3",
   "version": "3.8.3"
  },
  "toc": {
   "base_numbering": 1,
   "nav_menu": {},
   "number_sections": true,
   "sideBar": true,
   "skip_h1_title": false,
   "title_cell": "Table of Contents",
   "title_sidebar": "Contents",
   "toc_cell": false,
   "toc_position": {},
   "toc_section_display": true,
   "toc_window_display": false
  }
 },
 "nbformat": 4,
 "nbformat_minor": 4
}
