{
 "cells": [
  {
   "cell_type": "markdown",
   "metadata": {},
   "source": [
    "# Everything you can do with a time series\n",
    "- https://www.kaggle.com/thebrownviking20/everything-you-can-do-with-a-time-series#3.-Time-series-decomposition-and-Random-walks\n",
    "- DS 스쿨 참고자료: https://datascienceschool.net/view-notebook/8959673a97214e8fafdb159f254185e9/\n",
    "\n",
    "**DATA**            \n",
    "**1. DJIA 30 Stock Time Series(주식 시계열 데이터)**\n",
    "\n",
    "- 기간: 2006-01-01 ~ 2018-01-01(2017-12-31, 29,...)\n",
    "- Data Columns\n",
    "    - Date 형식 : yy-mm-dd\n",
    "    - Open: 시장 개설시 주식 가격 (NYSE 데이터이므로 모두 USD로 표시)\n",
    "    - High: 당일 최고 가격에 도달\n",
    "    - Low Close(낮은 종가):하루에 도달 한 최저 가격\n",
    "    - Volume(거래량): 거래 된 주식 수\n",
    "    - Name: 주식 시세 이름\n",
    "\n",
    "**2. Historical Hourly Weather Data 2012-2017 (시간별-시계열 기상 데이터)**\n",
    "- 날씨 특성별 파일이 나눠져 있음.\n",
    "- 모두 시간대별로 존재\n",
    "- 온도, 습도, 기압, 풍속, 풍향, 도시별 위/경도"
   ]
  },
  {
   "cell_type": "code",
   "execution_count": 1,
   "metadata": {
    "ExecuteTime": {
     "end_time": "2020-08-09T07:06:44.856400Z",
     "start_time": "2020-08-09T07:06:38.325223Z"
    }
   },
   "outputs": [
    {
     "data": {
      "text/html": [
       "        <script type=\"text/javascript\">\n",
       "        window.PlotlyConfig = {MathJaxConfig: 'local'};\n",
       "        if (window.MathJax) {MathJax.Hub.Config({SVG: {font: \"STIX-Web\"}});}\n",
       "        if (typeof require !== 'undefined') {\n",
       "        require.undef(\"plotly\");\n",
       "        requirejs.config({\n",
       "            paths: {\n",
       "                'plotly': ['https://cdn.plot.ly/plotly-latest.min']\n",
       "            }\n",
       "        });\n",
       "        require(['plotly'], function(Plotly) {\n",
       "            window._Plotly = Plotly;\n",
       "        });\n",
       "        }\n",
       "        </script>\n",
       "        "
      ]
     },
     "metadata": {},
     "output_type": "display_data"
    },
    {
     "name": "stdout",
     "output_type": "stream",
     "text": [
      "['DJIA 30 Stock Time Series', 'Historical Hourly Weather Data 2012-2017']\n"
     ]
    }
   ],
   "source": [
    "# import libaray\n",
    "import os\n",
    "# import warnings\n",
    "# warnings.filterwarnings('ignore')\n",
    "import numpy as np\n",
    "import pandas as pd\n",
    "import matplotlib.pyplot as plt\n",
    "plt.style.use('fivethirtyeight')\n",
    "\n",
    "%matplotlib inline\n",
    "from pylab import rcParams\n",
    "from plotly import tools\n",
    "import plotly as py\n",
    "from plotly.offline import init_notebook_mode, iplot\n",
    "init_notebook_mode(connected=True)\n",
    "import plotly.graph_objs as go\n",
    "import plotly.figure_factory as ff\n",
    "import statsmodels.api as sm\n",
    "from numpy.random import normal, seed\n",
    "from scipy.stats import norm\n",
    "from statsmodels.tsa.arima_model import ARMA\n",
    "from statsmodels.tsa.stattools import adfuller\n",
    "from statsmodels.graphics.tsaplots import plot_acf, plot_pacf\n",
    "from statsmodels.tsa.arima_process import ArmaProcess\n",
    "from statsmodels.tsa.arima_model import ARIMA\n",
    "import math\n",
    "from sklearn.metrics import mean_squared_error\n",
    "print(os.listdir('./시계열_data'))"
   ]
  },
  {
   "cell_type": "markdown",
   "metadata": {},
   "source": [
    "# Introduction to date and time"
   ]
  },
  {
   "cell_type": "code",
   "execution_count": 2,
   "metadata": {
    "ExecuteTime": {
     "end_time": "2020-08-09T07:06:44.957132Z",
     "start_time": "2020-08-09T07:06:44.860389Z"
    }
   },
   "outputs": [
    {
     "name": "stdout",
     "output_type": "stream",
     "text": [
      "(3019, 6)\n"
     ]
    },
    {
     "data": {
      "text/html": [
       "<div>\n",
       "<style scoped>\n",
       "    .dataframe tbody tr th:only-of-type {\n",
       "        vertical-align: middle;\n",
       "    }\n",
       "\n",
       "    .dataframe tbody tr th {\n",
       "        vertical-align: top;\n",
       "    }\n",
       "\n",
       "    .dataframe thead th {\n",
       "        text-align: right;\n",
       "    }\n",
       "</style>\n",
       "<table border=\"1\" class=\"dataframe\">\n",
       "  <thead>\n",
       "    <tr style=\"text-align: right;\">\n",
       "      <th></th>\n",
       "      <th>Open</th>\n",
       "      <th>High</th>\n",
       "      <th>Low</th>\n",
       "      <th>Close</th>\n",
       "      <th>Volume</th>\n",
       "      <th>Name</th>\n",
       "    </tr>\n",
       "    <tr>\n",
       "      <th>Date</th>\n",
       "      <th></th>\n",
       "      <th></th>\n",
       "      <th></th>\n",
       "      <th></th>\n",
       "      <th></th>\n",
       "      <th></th>\n",
       "    </tr>\n",
       "  </thead>\n",
       "  <tbody>\n",
       "    <tr>\n",
       "      <th>2006-01-03</th>\n",
       "      <td>211.47</td>\n",
       "      <td>218.05</td>\n",
       "      <td>209.32</td>\n",
       "      <td>217.83</td>\n",
       "      <td>13137450</td>\n",
       "      <td>GOOGL</td>\n",
       "    </tr>\n",
       "    <tr>\n",
       "      <th>2006-01-04</th>\n",
       "      <td>222.17</td>\n",
       "      <td>224.70</td>\n",
       "      <td>220.09</td>\n",
       "      <td>222.84</td>\n",
       "      <td>15292353</td>\n",
       "      <td>GOOGL</td>\n",
       "    </tr>\n",
       "    <tr>\n",
       "      <th>2006-01-05</th>\n",
       "      <td>223.22</td>\n",
       "      <td>226.00</td>\n",
       "      <td>220.97</td>\n",
       "      <td>225.85</td>\n",
       "      <td>10815661</td>\n",
       "      <td>GOOGL</td>\n",
       "    </tr>\n",
       "    <tr>\n",
       "      <th>2006-01-06</th>\n",
       "      <td>228.66</td>\n",
       "      <td>235.49</td>\n",
       "      <td>226.85</td>\n",
       "      <td>233.06</td>\n",
       "      <td>17759521</td>\n",
       "      <td>GOOGL</td>\n",
       "    </tr>\n",
       "    <tr>\n",
       "      <th>2006-01-09</th>\n",
       "      <td>233.44</td>\n",
       "      <td>236.94</td>\n",
       "      <td>230.70</td>\n",
       "      <td>233.68</td>\n",
       "      <td>12795837</td>\n",
       "      <td>GOOGL</td>\n",
       "    </tr>\n",
       "  </tbody>\n",
       "</table>\n",
       "</div>"
      ],
      "text/plain": [
       "              Open    High     Low   Close    Volume   Name\n",
       "Date                                                       \n",
       "2006-01-03  211.47  218.05  209.32  217.83  13137450  GOOGL\n",
       "2006-01-04  222.17  224.70  220.09  222.84  15292353  GOOGL\n",
       "2006-01-05  223.22  226.00  220.97  225.85  10815661  GOOGL\n",
       "2006-01-06  228.66  235.49  226.85  233.06  17759521  GOOGL\n",
       "2006-01-09  233.44  236.94  230.70  233.68  12795837  GOOGL"
      ]
     },
     "execution_count": 2,
     "metadata": {},
     "output_type": "execute_result"
    }
   ],
   "source": [
    "google = pd.read_csv('./시계열_data/DJIA 30 Stock Time Series/GOOGL_2006-01-01_to_2018-01-01.csv', index_col = 'Date', parse_dates=['Date'])\n",
    "print(google.shape)\n",
    "google.head()"
   ]
  },
  {
   "cell_type": "code",
   "execution_count": 3,
   "metadata": {
    "ExecuteTime": {
     "end_time": "2020-08-09T07:06:44.974089Z",
     "start_time": "2020-08-09T07:06:44.964113Z"
    }
   },
   "outputs": [
    {
     "name": "stdout",
     "output_type": "stream",
     "text": [
      "2006-01-03 00:00:00\n",
      "2017-12-29 00:00:00\n"
     ]
    }
   ],
   "source": [
    "print(google.index.min())\n",
    "print(google.index.max())"
   ]
  },
  {
   "cell_type": "code",
   "execution_count": 4,
   "metadata": {
    "ExecuteTime": {
     "end_time": "2020-08-09T07:06:45.380000Z",
     "start_time": "2020-08-09T07:06:44.979072Z"
    },
    "scrolled": false
   },
   "outputs": [
    {
     "name": "stdout",
     "output_type": "stream",
     "text": [
      "(45253, 36)\n"
     ]
    },
    {
     "data": {
      "text/html": [
       "<div>\n",
       "<style scoped>\n",
       "    .dataframe tbody tr th:only-of-type {\n",
       "        vertical-align: middle;\n",
       "    }\n",
       "\n",
       "    .dataframe tbody tr th {\n",
       "        vertical-align: top;\n",
       "    }\n",
       "\n",
       "    .dataframe thead th {\n",
       "        text-align: right;\n",
       "    }\n",
       "</style>\n",
       "<table border=\"1\" class=\"dataframe\">\n",
       "  <thead>\n",
       "    <tr style=\"text-align: right;\">\n",
       "      <th></th>\n",
       "      <th>Vancouver</th>\n",
       "      <th>Portland</th>\n",
       "      <th>San Francisco</th>\n",
       "      <th>Seattle</th>\n",
       "      <th>Los Angeles</th>\n",
       "      <th>San Diego</th>\n",
       "      <th>Las Vegas</th>\n",
       "      <th>Phoenix</th>\n",
       "      <th>Albuquerque</th>\n",
       "      <th>Denver</th>\n",
       "      <th>...</th>\n",
       "      <th>Philadelphia</th>\n",
       "      <th>New York</th>\n",
       "      <th>Montreal</th>\n",
       "      <th>Boston</th>\n",
       "      <th>Beersheba</th>\n",
       "      <th>Tel Aviv District</th>\n",
       "      <th>Eilat</th>\n",
       "      <th>Haifa</th>\n",
       "      <th>Nahariyya</th>\n",
       "      <th>Jerusalem</th>\n",
       "    </tr>\n",
       "    <tr>\n",
       "      <th>datetime</th>\n",
       "      <th></th>\n",
       "      <th></th>\n",
       "      <th></th>\n",
       "      <th></th>\n",
       "      <th></th>\n",
       "      <th></th>\n",
       "      <th></th>\n",
       "      <th></th>\n",
       "      <th></th>\n",
       "      <th></th>\n",
       "      <th></th>\n",
       "      <th></th>\n",
       "      <th></th>\n",
       "      <th></th>\n",
       "      <th></th>\n",
       "      <th></th>\n",
       "      <th></th>\n",
       "      <th></th>\n",
       "      <th></th>\n",
       "      <th></th>\n",
       "      <th></th>\n",
       "    </tr>\n",
       "  </thead>\n",
       "  <tbody>\n",
       "    <tr>\n",
       "      <th>2017-11-29 20:00:00</th>\n",
       "      <td>NaN</td>\n",
       "      <td>81.0</td>\n",
       "      <td>NaN</td>\n",
       "      <td>93.0</td>\n",
       "      <td>24.0</td>\n",
       "      <td>72.0</td>\n",
       "      <td>18.0</td>\n",
       "      <td>68.0</td>\n",
       "      <td>37.0</td>\n",
       "      <td>18.0</td>\n",
       "      <td>...</td>\n",
       "      <td>27.0</td>\n",
       "      <td>NaN</td>\n",
       "      <td>64.0</td>\n",
       "      <td>37.0</td>\n",
       "      <td>NaN</td>\n",
       "      <td>NaN</td>\n",
       "      <td>NaN</td>\n",
       "      <td>NaN</td>\n",
       "      <td>NaN</td>\n",
       "      <td>NaN</td>\n",
       "    </tr>\n",
       "    <tr>\n",
       "      <th>2017-11-29 21:00:00</th>\n",
       "      <td>NaN</td>\n",
       "      <td>71.0</td>\n",
       "      <td>NaN</td>\n",
       "      <td>87.0</td>\n",
       "      <td>21.0</td>\n",
       "      <td>72.0</td>\n",
       "      <td>18.0</td>\n",
       "      <td>73.0</td>\n",
       "      <td>34.0</td>\n",
       "      <td>12.0</td>\n",
       "      <td>...</td>\n",
       "      <td>29.0</td>\n",
       "      <td>NaN</td>\n",
       "      <td>59.0</td>\n",
       "      <td>74.0</td>\n",
       "      <td>NaN</td>\n",
       "      <td>NaN</td>\n",
       "      <td>NaN</td>\n",
       "      <td>NaN</td>\n",
       "      <td>NaN</td>\n",
       "      <td>NaN</td>\n",
       "    </tr>\n",
       "    <tr>\n",
       "      <th>2017-11-29 22:00:00</th>\n",
       "      <td>NaN</td>\n",
       "      <td>71.0</td>\n",
       "      <td>NaN</td>\n",
       "      <td>93.0</td>\n",
       "      <td>23.0</td>\n",
       "      <td>68.0</td>\n",
       "      <td>17.0</td>\n",
       "      <td>60.0</td>\n",
       "      <td>32.0</td>\n",
       "      <td>15.0</td>\n",
       "      <td>...</td>\n",
       "      <td>31.0</td>\n",
       "      <td>NaN</td>\n",
       "      <td>66.0</td>\n",
       "      <td>74.0</td>\n",
       "      <td>NaN</td>\n",
       "      <td>NaN</td>\n",
       "      <td>NaN</td>\n",
       "      <td>NaN</td>\n",
       "      <td>NaN</td>\n",
       "      <td>NaN</td>\n",
       "    </tr>\n",
       "    <tr>\n",
       "      <th>2017-11-29 23:00:00</th>\n",
       "      <td>NaN</td>\n",
       "      <td>71.0</td>\n",
       "      <td>NaN</td>\n",
       "      <td>87.0</td>\n",
       "      <td>14.0</td>\n",
       "      <td>63.0</td>\n",
       "      <td>17.0</td>\n",
       "      <td>33.0</td>\n",
       "      <td>30.0</td>\n",
       "      <td>28.0</td>\n",
       "      <td>...</td>\n",
       "      <td>26.0</td>\n",
       "      <td>NaN</td>\n",
       "      <td>58.0</td>\n",
       "      <td>56.0</td>\n",
       "      <td>NaN</td>\n",
       "      <td>NaN</td>\n",
       "      <td>NaN</td>\n",
       "      <td>NaN</td>\n",
       "      <td>NaN</td>\n",
       "      <td>NaN</td>\n",
       "    </tr>\n",
       "    <tr>\n",
       "      <th>2017-11-30 00:00:00</th>\n",
       "      <td>NaN</td>\n",
       "      <td>76.0</td>\n",
       "      <td>NaN</td>\n",
       "      <td>75.0</td>\n",
       "      <td>56.0</td>\n",
       "      <td>72.0</td>\n",
       "      <td>17.0</td>\n",
       "      <td>23.0</td>\n",
       "      <td>34.0</td>\n",
       "      <td>31.0</td>\n",
       "      <td>...</td>\n",
       "      <td>32.0</td>\n",
       "      <td>NaN</td>\n",
       "      <td>58.0</td>\n",
       "      <td>56.0</td>\n",
       "      <td>NaN</td>\n",
       "      <td>NaN</td>\n",
       "      <td>NaN</td>\n",
       "      <td>NaN</td>\n",
       "      <td>NaN</td>\n",
       "      <td>NaN</td>\n",
       "    </tr>\n",
       "  </tbody>\n",
       "</table>\n",
       "<p>5 rows × 36 columns</p>\n",
       "</div>"
      ],
      "text/plain": [
       "                     Vancouver  Portland  San Francisco  Seattle  Los Angeles  \\\n",
       "datetime                                                                        \n",
       "2017-11-29 20:00:00        NaN      81.0            NaN     93.0         24.0   \n",
       "2017-11-29 21:00:00        NaN      71.0            NaN     87.0         21.0   \n",
       "2017-11-29 22:00:00        NaN      71.0            NaN     93.0         23.0   \n",
       "2017-11-29 23:00:00        NaN      71.0            NaN     87.0         14.0   \n",
       "2017-11-30 00:00:00        NaN      76.0            NaN     75.0         56.0   \n",
       "\n",
       "                     San Diego  Las Vegas  Phoenix  Albuquerque  Denver  ...  \\\n",
       "datetime                                                                 ...   \n",
       "2017-11-29 20:00:00       72.0       18.0     68.0         37.0    18.0  ...   \n",
       "2017-11-29 21:00:00       72.0       18.0     73.0         34.0    12.0  ...   \n",
       "2017-11-29 22:00:00       68.0       17.0     60.0         32.0    15.0  ...   \n",
       "2017-11-29 23:00:00       63.0       17.0     33.0         30.0    28.0  ...   \n",
       "2017-11-30 00:00:00       72.0       17.0     23.0         34.0    31.0  ...   \n",
       "\n",
       "                     Philadelphia  New York  Montreal  Boston  Beersheba  \\\n",
       "datetime                                                                   \n",
       "2017-11-29 20:00:00          27.0       NaN      64.0    37.0        NaN   \n",
       "2017-11-29 21:00:00          29.0       NaN      59.0    74.0        NaN   \n",
       "2017-11-29 22:00:00          31.0       NaN      66.0    74.0        NaN   \n",
       "2017-11-29 23:00:00          26.0       NaN      58.0    56.0        NaN   \n",
       "2017-11-30 00:00:00          32.0       NaN      58.0    56.0        NaN   \n",
       "\n",
       "                     Tel Aviv District  Eilat  Haifa  Nahariyya  Jerusalem  \n",
       "datetime                                                                    \n",
       "2017-11-29 20:00:00                NaN    NaN    NaN        NaN        NaN  \n",
       "2017-11-29 21:00:00                NaN    NaN    NaN        NaN        NaN  \n",
       "2017-11-29 22:00:00                NaN    NaN    NaN        NaN        NaN  \n",
       "2017-11-29 23:00:00                NaN    NaN    NaN        NaN        NaN  \n",
       "2017-11-30 00:00:00                NaN    NaN    NaN        NaN        NaN  \n",
       "\n",
       "[5 rows x 36 columns]"
      ]
     },
     "execution_count": 4,
     "metadata": {},
     "output_type": "execute_result"
    }
   ],
   "source": [
    "humidity = pd.read_csv('./시계열_data/Historical Hourly Weather Data 2012-2017/humidity.csv', index_col='datetime', parse_dates=['datetime'])\n",
    "print(humidity.shape)\n",
    "humidity.tail()"
   ]
  },
  {
   "cell_type": "code",
   "execution_count": 5,
   "metadata": {
    "ExecuteTime": {
     "end_time": "2020-08-09T07:06:45.390985Z",
     "start_time": "2020-08-09T07:06:45.382992Z"
    }
   },
   "outputs": [
    {
     "name": "stdout",
     "output_type": "stream",
     "text": [
      "2012-10-01 12:00:00\n",
      "2017-11-30 00:00:00\n"
     ]
    }
   ],
   "source": [
    "print(humidity.index.min())\n",
    "print(humidity.index.max())"
   ]
  },
  {
   "cell_type": "markdown",
   "metadata": {},
   "source": [
    "## 결측치 처리(Cleaning)"
   ]
  },
  {
   "cell_type": "code",
   "execution_count": 6,
   "metadata": {
    "ExecuteTime": {
     "end_time": "2020-08-09T07:06:45.415943Z",
     "start_time": "2020-08-09T07:06:45.394959Z"
    }
   },
   "outputs": [
    {
     "data": {
      "text/plain": [
       "Open      0\n",
       "High      0\n",
       "Low       0\n",
       "Close     0\n",
       "Volume    0\n",
       "Name      0\n",
       "dtype: int64"
      ]
     },
     "execution_count": 6,
     "metadata": {},
     "output_type": "execute_result"
    }
   ],
   "source": [
    "google.isnull().sum()"
   ]
  },
  {
   "cell_type": "code",
   "execution_count": 7,
   "metadata": {
    "ExecuteTime": {
     "end_time": "2020-08-09T07:06:45.443829Z",
     "start_time": "2020-08-09T07:06:45.419892Z"
    }
   },
   "outputs": [
    {
     "data": {
      "text/plain": [
       "Vancouver            1826\n",
       "Portland              449\n",
       "San Francisco         942\n",
       "Seattle               289\n",
       "Los Angeles           152\n",
       "San Diego             344\n",
       "Las Vegas             842\n",
       "Phoenix              1308\n",
       "Albuquerque           710\n",
       "Denver               1808\n",
       "San Antonio           564\n",
       "Dallas                319\n",
       "Houston               121\n",
       "Kansas City           512\n",
       "Minneapolis           510\n",
       "Saint Louis          1289\n",
       "Chicago              1109\n",
       "Nashville             567\n",
       "Indianapolis          695\n",
       "Atlanta               422\n",
       "Detroit               862\n",
       "Jacksonville          209\n",
       "Charlotte             589\n",
       "Miami                1087\n",
       "Pittsburgh            522\n",
       "Toronto               728\n",
       "Philadelphia          624\n",
       "New York             1624\n",
       "Montreal             1696\n",
       "Boston                449\n",
       "Beersheba             859\n",
       "Tel Aviv District    1113\n",
       "Eilat                 970\n",
       "Haifa                 818\n",
       "Nahariyya             817\n",
       "Jerusalem             906\n",
       "dtype: int64"
      ]
     },
     "execution_count": 7,
     "metadata": {},
     "output_type": "execute_result"
    }
   ],
   "source": [
    "humidity.isnull().sum()"
   ]
  },
  {
   "cell_type": "code",
   "execution_count": 8,
   "metadata": {
    "ExecuteTime": {
     "end_time": "2020-08-09T07:06:46.865369Z",
     "start_time": "2020-08-09T07:06:45.449813Z"
    }
   },
   "outputs": [
    {
     "data": {
      "text/plain": [
       "<matplotlib.axes._subplots.AxesSubplot at 0x25f713ab1c8>"
      ]
     },
     "execution_count": 8,
     "metadata": {},
     "output_type": "execute_result"
    },
    {
     "data": {
      "image/png": "[encoded data removed]",
      "text/plain": [
       "<Figure size 1080x576 with 2 Axes>"
      ]
     },
     "metadata": {
      "needs_background": "light"
     },
     "output_type": "display_data"
    }
   ],
   "source": [
    "import missingno as msno\n",
    "msno.matrix(df=humidity, figsize=(15,8))"
   ]
  },
  {
   "cell_type": "markdown",
   "metadata": {},
   "source": [
    "- 도시별로 결측치 다수 존재하므로, 결측치 처리해주자!\n",
    "- 마지막 유효 관측치를 전파하는 방식으로 처리"
   ]
  },
  {
   "cell_type": "code",
   "execution_count": 9,
   "metadata": {
    "ExecuteTime": {
     "end_time": "2020-08-09T07:06:46.940189Z",
     "start_time": "2020-08-09T07:06:46.869357Z"
    }
   },
   "outputs": [
    {
     "data": {
      "text/html": [
       "<div>\n",
       "<style scoped>\n",
       "    .dataframe tbody tr th:only-of-type {\n",
       "        vertical-align: middle;\n",
       "    }\n",
       "\n",
       "    .dataframe tbody tr th {\n",
       "        vertical-align: top;\n",
       "    }\n",
       "\n",
       "    .dataframe thead th {\n",
       "        text-align: right;\n",
       "    }\n",
       "</style>\n",
       "<table border=\"1\" class=\"dataframe\">\n",
       "  <thead>\n",
       "    <tr style=\"text-align: right;\">\n",
       "      <th></th>\n",
       "      <th>Vancouver</th>\n",
       "      <th>Portland</th>\n",
       "      <th>San Francisco</th>\n",
       "      <th>Seattle</th>\n",
       "      <th>Los Angeles</th>\n",
       "      <th>San Diego</th>\n",
       "      <th>Las Vegas</th>\n",
       "      <th>Phoenix</th>\n",
       "      <th>Albuquerque</th>\n",
       "      <th>Denver</th>\n",
       "      <th>...</th>\n",
       "      <th>Philadelphia</th>\n",
       "      <th>New York</th>\n",
       "      <th>Montreal</th>\n",
       "      <th>Boston</th>\n",
       "      <th>Beersheba</th>\n",
       "      <th>Tel Aviv District</th>\n",
       "      <th>Eilat</th>\n",
       "      <th>Haifa</th>\n",
       "      <th>Nahariyya</th>\n",
       "      <th>Jerusalem</th>\n",
       "    </tr>\n",
       "    <tr>\n",
       "      <th>datetime</th>\n",
       "      <th></th>\n",
       "      <th></th>\n",
       "      <th></th>\n",
       "      <th></th>\n",
       "      <th></th>\n",
       "      <th></th>\n",
       "      <th></th>\n",
       "      <th></th>\n",
       "      <th></th>\n",
       "      <th></th>\n",
       "      <th></th>\n",
       "      <th></th>\n",
       "      <th></th>\n",
       "      <th></th>\n",
       "      <th></th>\n",
       "      <th></th>\n",
       "      <th></th>\n",
       "      <th></th>\n",
       "      <th></th>\n",
       "      <th></th>\n",
       "      <th></th>\n",
       "    </tr>\n",
       "  </thead>\n",
       "  <tbody>\n",
       "    <tr>\n",
       "      <th>2012-10-01 13:00:00</th>\n",
       "      <td>76.0</td>\n",
       "      <td>81.0</td>\n",
       "      <td>88.0</td>\n",
       "      <td>81.0</td>\n",
       "      <td>88.0</td>\n",
       "      <td>82.0</td>\n",
       "      <td>22.0</td>\n",
       "      <td>23.0</td>\n",
       "      <td>50.0</td>\n",
       "      <td>62.0</td>\n",
       "      <td>...</td>\n",
       "      <td>71.0</td>\n",
       "      <td>58.0</td>\n",
       "      <td>93.0</td>\n",
       "      <td>68.0</td>\n",
       "      <td>50.0</td>\n",
       "      <td>63.0</td>\n",
       "      <td>22.0</td>\n",
       "      <td>51.0</td>\n",
       "      <td>51.0</td>\n",
       "      <td>50.0</td>\n",
       "    </tr>\n",
       "    <tr>\n",
       "      <th>2012-10-01 14:00:00</th>\n",
       "      <td>76.0</td>\n",
       "      <td>80.0</td>\n",
       "      <td>87.0</td>\n",
       "      <td>80.0</td>\n",
       "      <td>88.0</td>\n",
       "      <td>81.0</td>\n",
       "      <td>21.0</td>\n",
       "      <td>23.0</td>\n",
       "      <td>49.0</td>\n",
       "      <td>62.0</td>\n",
       "      <td>...</td>\n",
       "      <td>70.0</td>\n",
       "      <td>57.0</td>\n",
       "      <td>91.0</td>\n",
       "      <td>68.0</td>\n",
       "      <td>51.0</td>\n",
       "      <td>62.0</td>\n",
       "      <td>22.0</td>\n",
       "      <td>51.0</td>\n",
       "      <td>51.0</td>\n",
       "      <td>50.0</td>\n",
       "    </tr>\n",
       "    <tr>\n",
       "      <th>2012-10-01 15:00:00</th>\n",
       "      <td>76.0</td>\n",
       "      <td>80.0</td>\n",
       "      <td>86.0</td>\n",
       "      <td>80.0</td>\n",
       "      <td>88.0</td>\n",
       "      <td>81.0</td>\n",
       "      <td>21.0</td>\n",
       "      <td>23.0</td>\n",
       "      <td>49.0</td>\n",
       "      <td>62.0</td>\n",
       "      <td>...</td>\n",
       "      <td>70.0</td>\n",
       "      <td>57.0</td>\n",
       "      <td>87.0</td>\n",
       "      <td>68.0</td>\n",
       "      <td>51.0</td>\n",
       "      <td>62.0</td>\n",
       "      <td>22.0</td>\n",
       "      <td>51.0</td>\n",
       "      <td>51.0</td>\n",
       "      <td>50.0</td>\n",
       "    </tr>\n",
       "    <tr>\n",
       "      <th>2012-10-01 16:00:00</th>\n",
       "      <td>77.0</td>\n",
       "      <td>80.0</td>\n",
       "      <td>85.0</td>\n",
       "      <td>79.0</td>\n",
       "      <td>88.0</td>\n",
       "      <td>81.0</td>\n",
       "      <td>21.0</td>\n",
       "      <td>23.0</td>\n",
       "      <td>49.0</td>\n",
       "      <td>62.0</td>\n",
       "      <td>...</td>\n",
       "      <td>69.0</td>\n",
       "      <td>57.0</td>\n",
       "      <td>84.0</td>\n",
       "      <td>68.0</td>\n",
       "      <td>52.0</td>\n",
       "      <td>62.0</td>\n",
       "      <td>22.0</td>\n",
       "      <td>51.0</td>\n",
       "      <td>51.0</td>\n",
       "      <td>50.0</td>\n",
       "    </tr>\n",
       "    <tr>\n",
       "      <th>2012-10-01 17:00:00</th>\n",
       "      <td>78.0</td>\n",
       "      <td>79.0</td>\n",
       "      <td>84.0</td>\n",
       "      <td>79.0</td>\n",
       "      <td>88.0</td>\n",
       "      <td>80.0</td>\n",
       "      <td>21.0</td>\n",
       "      <td>24.0</td>\n",
       "      <td>49.0</td>\n",
       "      <td>63.0</td>\n",
       "      <td>...</td>\n",
       "      <td>69.0</td>\n",
       "      <td>57.0</td>\n",
       "      <td>80.0</td>\n",
       "      <td>68.0</td>\n",
       "      <td>54.0</td>\n",
       "      <td>62.0</td>\n",
       "      <td>23.0</td>\n",
       "      <td>51.0</td>\n",
       "      <td>51.0</td>\n",
       "      <td>50.0</td>\n",
       "    </tr>\n",
       "  </tbody>\n",
       "</table>\n",
       "<p>5 rows × 36 columns</p>\n",
       "</div>"
      ],
      "text/plain": [
       "                     Vancouver  Portland  San Francisco  Seattle  Los Angeles  \\\n",
       "datetime                                                                        \n",
       "2012-10-01 13:00:00       76.0      81.0           88.0     81.0         88.0   \n",
       "2012-10-01 14:00:00       76.0      80.0           87.0     80.0         88.0   \n",
       "2012-10-01 15:00:00       76.0      80.0           86.0     80.0         88.0   \n",
       "2012-10-01 16:00:00       77.0      80.0           85.0     79.0         88.0   \n",
       "2012-10-01 17:00:00       78.0      79.0           84.0     79.0         88.0   \n",
       "\n",
       "                     San Diego  Las Vegas  Phoenix  Albuquerque  Denver  ...  \\\n",
       "datetime                                                                 ...   \n",
       "2012-10-01 13:00:00       82.0       22.0     23.0         50.0    62.0  ...   \n",
       "2012-10-01 14:00:00       81.0       21.0     23.0         49.0    62.0  ...   \n",
       "2012-10-01 15:00:00       81.0       21.0     23.0         49.0    62.0  ...   \n",
       "2012-10-01 16:00:00       81.0       21.0     23.0         49.0    62.0  ...   \n",
       "2012-10-01 17:00:00       80.0       21.0     24.0         49.0    63.0  ...   \n",
       "\n",
       "                     Philadelphia  New York  Montreal  Boston  Beersheba  \\\n",
       "datetime                                                                   \n",
       "2012-10-01 13:00:00          71.0      58.0      93.0    68.0       50.0   \n",
       "2012-10-01 14:00:00          70.0      57.0      91.0    68.0       51.0   \n",
       "2012-10-01 15:00:00          70.0      57.0      87.0    68.0       51.0   \n",
       "2012-10-01 16:00:00          69.0      57.0      84.0    68.0       52.0   \n",
       "2012-10-01 17:00:00          69.0      57.0      80.0    68.0       54.0   \n",
       "\n",
       "                     Tel Aviv District  Eilat  Haifa  Nahariyya  Jerusalem  \n",
       "datetime                                                                    \n",
       "2012-10-01 13:00:00               63.0   22.0   51.0       51.0       50.0  \n",
       "2012-10-01 14:00:00               62.0   22.0   51.0       51.0       50.0  \n",
       "2012-10-01 15:00:00               62.0   22.0   51.0       51.0       50.0  \n",
       "2012-10-01 16:00:00               62.0   22.0   51.0       51.0       50.0  \n",
       "2012-10-01 17:00:00               62.0   23.0   51.0       51.0       50.0  \n",
       "\n",
       "[5 rows x 36 columns]"
      ]
     },
     "execution_count": 9,
     "metadata": {},
     "output_type": "execute_result"
    }
   ],
   "source": [
    "# filna()의 ffill(앞의 값으로 채움) 사용    # bfill or backfill은 뒤의 값으로 채움\n",
    "humidity = humidity.iloc[1:]\n",
    "humidity = humidity.fillna(method='ffill')\n",
    "humidity.head()"
   ]
  },
  {
   "cell_type": "code",
   "execution_count": 10,
   "metadata": {
    "ExecuteTime": {
     "end_time": "2020-08-09T07:06:47.002999Z",
     "start_time": "2020-08-09T07:06:46.945154Z"
    }
   },
   "outputs": [
    {
     "data": {
      "text/html": [
       "<div>\n",
       "<style scoped>\n",
       "    .dataframe tbody tr th:only-of-type {\n",
       "        vertical-align: middle;\n",
       "    }\n",
       "\n",
       "    .dataframe tbody tr th {\n",
       "        vertical-align: top;\n",
       "    }\n",
       "\n",
       "    .dataframe thead th {\n",
       "        text-align: right;\n",
       "    }\n",
       "</style>\n",
       "<table border=\"1\" class=\"dataframe\">\n",
       "  <thead>\n",
       "    <tr style=\"text-align: right;\">\n",
       "      <th></th>\n",
       "      <th>Vancouver</th>\n",
       "      <th>Portland</th>\n",
       "      <th>San Francisco</th>\n",
       "      <th>Seattle</th>\n",
       "      <th>Los Angeles</th>\n",
       "      <th>San Diego</th>\n",
       "      <th>Las Vegas</th>\n",
       "      <th>Phoenix</th>\n",
       "      <th>Albuquerque</th>\n",
       "      <th>Denver</th>\n",
       "      <th>...</th>\n",
       "      <th>Philadelphia</th>\n",
       "      <th>New York</th>\n",
       "      <th>Montreal</th>\n",
       "      <th>Boston</th>\n",
       "      <th>Beersheba</th>\n",
       "      <th>Tel Aviv District</th>\n",
       "      <th>Eilat</th>\n",
       "      <th>Haifa</th>\n",
       "      <th>Nahariyya</th>\n",
       "      <th>Jerusalem</th>\n",
       "    </tr>\n",
       "    <tr>\n",
       "      <th>datetime</th>\n",
       "      <th></th>\n",
       "      <th></th>\n",
       "      <th></th>\n",
       "      <th></th>\n",
       "      <th></th>\n",
       "      <th></th>\n",
       "      <th></th>\n",
       "      <th></th>\n",
       "      <th></th>\n",
       "      <th></th>\n",
       "      <th></th>\n",
       "      <th></th>\n",
       "      <th></th>\n",
       "      <th></th>\n",
       "      <th></th>\n",
       "      <th></th>\n",
       "      <th></th>\n",
       "      <th></th>\n",
       "      <th></th>\n",
       "      <th></th>\n",
       "      <th></th>\n",
       "    </tr>\n",
       "  </thead>\n",
       "  <tbody>\n",
       "    <tr>\n",
       "      <th>2017-11-29 20:00:00</th>\n",
       "      <td>87.0</td>\n",
       "      <td>81.0</td>\n",
       "      <td>22.0</td>\n",
       "      <td>93.0</td>\n",
       "      <td>24.0</td>\n",
       "      <td>72.0</td>\n",
       "      <td>18.0</td>\n",
       "      <td>68.0</td>\n",
       "      <td>37.0</td>\n",
       "      <td>18.0</td>\n",
       "      <td>...</td>\n",
       "      <td>27.0</td>\n",
       "      <td>58.0</td>\n",
       "      <td>64.0</td>\n",
       "      <td>37.0</td>\n",
       "      <td>57.0</td>\n",
       "      <td>60.0</td>\n",
       "      <td>100.0</td>\n",
       "      <td>96.0</td>\n",
       "      <td>96.0</td>\n",
       "      <td>60.0</td>\n",
       "    </tr>\n",
       "    <tr>\n",
       "      <th>2017-11-29 21:00:00</th>\n",
       "      <td>87.0</td>\n",
       "      <td>71.0</td>\n",
       "      <td>22.0</td>\n",
       "      <td>87.0</td>\n",
       "      <td>21.0</td>\n",
       "      <td>72.0</td>\n",
       "      <td>18.0</td>\n",
       "      <td>73.0</td>\n",
       "      <td>34.0</td>\n",
       "      <td>12.0</td>\n",
       "      <td>...</td>\n",
       "      <td>29.0</td>\n",
       "      <td>58.0</td>\n",
       "      <td>59.0</td>\n",
       "      <td>74.0</td>\n",
       "      <td>57.0</td>\n",
       "      <td>60.0</td>\n",
       "      <td>100.0</td>\n",
       "      <td>96.0</td>\n",
       "      <td>96.0</td>\n",
       "      <td>60.0</td>\n",
       "    </tr>\n",
       "    <tr>\n",
       "      <th>2017-11-29 22:00:00</th>\n",
       "      <td>87.0</td>\n",
       "      <td>71.0</td>\n",
       "      <td>22.0</td>\n",
       "      <td>93.0</td>\n",
       "      <td>23.0</td>\n",
       "      <td>68.0</td>\n",
       "      <td>17.0</td>\n",
       "      <td>60.0</td>\n",
       "      <td>32.0</td>\n",
       "      <td>15.0</td>\n",
       "      <td>...</td>\n",
       "      <td>31.0</td>\n",
       "      <td>58.0</td>\n",
       "      <td>66.0</td>\n",
       "      <td>74.0</td>\n",
       "      <td>57.0</td>\n",
       "      <td>60.0</td>\n",
       "      <td>100.0</td>\n",
       "      <td>96.0</td>\n",
       "      <td>96.0</td>\n",
       "      <td>60.0</td>\n",
       "    </tr>\n",
       "    <tr>\n",
       "      <th>2017-11-29 23:00:00</th>\n",
       "      <td>87.0</td>\n",
       "      <td>71.0</td>\n",
       "      <td>22.0</td>\n",
       "      <td>87.0</td>\n",
       "      <td>14.0</td>\n",
       "      <td>63.0</td>\n",
       "      <td>17.0</td>\n",
       "      <td>33.0</td>\n",
       "      <td>30.0</td>\n",
       "      <td>28.0</td>\n",
       "      <td>...</td>\n",
       "      <td>26.0</td>\n",
       "      <td>58.0</td>\n",
       "      <td>58.0</td>\n",
       "      <td>56.0</td>\n",
       "      <td>57.0</td>\n",
       "      <td>60.0</td>\n",
       "      <td>100.0</td>\n",
       "      <td>96.0</td>\n",
       "      <td>96.0</td>\n",
       "      <td>60.0</td>\n",
       "    </tr>\n",
       "    <tr>\n",
       "      <th>2017-11-30 00:00:00</th>\n",
       "      <td>87.0</td>\n",
       "      <td>76.0</td>\n",
       "      <td>22.0</td>\n",
       "      <td>75.0</td>\n",
       "      <td>56.0</td>\n",
       "      <td>72.0</td>\n",
       "      <td>17.0</td>\n",
       "      <td>23.0</td>\n",
       "      <td>34.0</td>\n",
       "      <td>31.0</td>\n",
       "      <td>...</td>\n",
       "      <td>32.0</td>\n",
       "      <td>58.0</td>\n",
       "      <td>58.0</td>\n",
       "      <td>56.0</td>\n",
       "      <td>57.0</td>\n",
       "      <td>60.0</td>\n",
       "      <td>100.0</td>\n",
       "      <td>96.0</td>\n",
       "      <td>96.0</td>\n",
       "      <td>60.0</td>\n",
       "    </tr>\n",
       "  </tbody>\n",
       "</table>\n",
       "<p>5 rows × 36 columns</p>\n",
       "</div>"
      ],
      "text/plain": [
       "                     Vancouver  Portland  San Francisco  Seattle  Los Angeles  \\\n",
       "datetime                                                                        \n",
       "2017-11-29 20:00:00       87.0      81.0           22.0     93.0         24.0   \n",
       "2017-11-29 21:00:00       87.0      71.0           22.0     87.0         21.0   \n",
       "2017-11-29 22:00:00       87.0      71.0           22.0     93.0         23.0   \n",
       "2017-11-29 23:00:00       87.0      71.0           22.0     87.0         14.0   \n",
       "2017-11-30 00:00:00       87.0      76.0           22.0     75.0         56.0   \n",
       "\n",
       "                     San Diego  Las Vegas  Phoenix  Albuquerque  Denver  ...  \\\n",
       "datetime                                                                 ...   \n",
       "2017-11-29 20:00:00       72.0       18.0     68.0         37.0    18.0  ...   \n",
       "2017-11-29 21:00:00       72.0       18.0     73.0         34.0    12.0  ...   \n",
       "2017-11-29 22:00:00       68.0       17.0     60.0         32.0    15.0  ...   \n",
       "2017-11-29 23:00:00       63.0       17.0     33.0         30.0    28.0  ...   \n",
       "2017-11-30 00:00:00       72.0       17.0     23.0         34.0    31.0  ...   \n",
       "\n",
       "                     Philadelphia  New York  Montreal  Boston  Beersheba  \\\n",
       "datetime                                                                   \n",
       "2017-11-29 20:00:00          27.0      58.0      64.0    37.0       57.0   \n",
       "2017-11-29 21:00:00          29.0      58.0      59.0    74.0       57.0   \n",
       "2017-11-29 22:00:00          31.0      58.0      66.0    74.0       57.0   \n",
       "2017-11-29 23:00:00          26.0      58.0      58.0    56.0       57.0   \n",
       "2017-11-30 00:00:00          32.0      58.0      58.0    56.0       57.0   \n",
       "\n",
       "                     Tel Aviv District  Eilat  Haifa  Nahariyya  Jerusalem  \n",
       "datetime                                                                    \n",
       "2017-11-29 20:00:00               60.0  100.0   96.0       96.0       60.0  \n",
       "2017-11-29 21:00:00               60.0  100.0   96.0       96.0       60.0  \n",
       "2017-11-29 22:00:00               60.0  100.0   96.0       96.0       60.0  \n",
       "2017-11-29 23:00:00               60.0  100.0   96.0       96.0       60.0  \n",
       "2017-11-30 00:00:00               60.0  100.0   96.0       96.0       60.0  \n",
       "\n",
       "[5 rows x 36 columns]"
      ]
     },
     "execution_count": 10,
     "metadata": {},
     "output_type": "execute_result"
    }
   ],
   "source": [
    "humidity.tail()"
   ]
  },
  {
   "cell_type": "code",
   "execution_count": 11,
   "metadata": {
    "ExecuteTime": {
     "end_time": "2020-08-09T07:06:47.027940Z",
     "start_time": "2020-08-09T07:06:47.006989Z"
    }
   },
   "outputs": [
    {
     "data": {
      "text/plain": [
       "Vancouver            0\n",
       "Portland             0\n",
       "San Francisco        0\n",
       "Seattle              0\n",
       "Los Angeles          0\n",
       "San Diego            0\n",
       "Las Vegas            0\n",
       "Phoenix              0\n",
       "Albuquerque          0\n",
       "Denver               0\n",
       "San Antonio          0\n",
       "Dallas               0\n",
       "Houston              0\n",
       "Kansas City          0\n",
       "Minneapolis          0\n",
       "Saint Louis          0\n",
       "Chicago              0\n",
       "Nashville            0\n",
       "Indianapolis         0\n",
       "Atlanta              0\n",
       "Detroit              0\n",
       "Jacksonville         0\n",
       "Charlotte            0\n",
       "Miami                0\n",
       "Pittsburgh           0\n",
       "Toronto              0\n",
       "Philadelphia         0\n",
       "New York             0\n",
       "Montreal             0\n",
       "Boston               0\n",
       "Beersheba            0\n",
       "Tel Aviv District    0\n",
       "Eilat                0\n",
       "Haifa                0\n",
       "Nahariyya            0\n",
       "Jerusalem            0\n",
       "dtype: int64"
      ]
     },
     "execution_count": 11,
     "metadata": {},
     "output_type": "execute_result"
    }
   ],
   "source": [
    "humidity.isnull().sum()"
   ]
  },
  {
   "cell_type": "markdown",
   "metadata": {},
   "source": [
    "## Visualizing the datasets"
   ]
  },
  {
   "cell_type": "markdown",
   "metadata": {},
   "source": [
    "- pandas의 asfreq() 메소드를 사용하면 pandas Period 객체를 원하는 주기(Period frequency)로 변환할 수 있습니다\n",
    "    - M: 월단위"
   ]
  },
  {
   "cell_type": "code",
   "execution_count": 12,
   "metadata": {
    "ExecuteTime": {
     "end_time": "2020-08-09T07:06:47.360614Z",
     "start_time": "2020-08-09T07:06:47.030933Z"
    }
   },
   "outputs": [
    {
     "data": {
      "image/png": "[encoded data removed]",
      "text/plain": [
       "<Figure size 936x504 with 1 Axes>"
      ]
     },
     "metadata": {
      "needs_background": "light"
     },
     "output_type": "display_data"
    }
   ],
   "source": [
    "# 월별 습도 추이 (Kansas City)\n",
    "f, ax = plt.subplots(1, figsize=(13, 7))\n",
    "humidity['Kansas City'].asfreq('M').plot()  # monthly frequency\n",
    "plt.title('Humidity in Kansas City over time(Monthly frequency)')\n",
    "plt.show()"
   ]
  },
  {
   "cell_type": "markdown",
   "metadata": {},
   "source": [
    "- 급감한 구간 제외하면, 습도의 계절성이 있는 것 같음 -> 추후 확인 필요"
   ]
  },
  {
   "cell_type": "code",
   "execution_count": 13,
   "metadata": {
    "ExecuteTime": {
     "end_time": "2020-08-09T07:06:50.609889Z",
     "start_time": "2020-08-09T07:06:47.364571Z"
    }
   },
   "outputs": [
    {
     "data": {
      "image/png": "[encoded data removed]",
      "text/plain": [
       "<Figure size 720x864 with 5 Axes>"
      ]
     },
     "metadata": {
      "needs_background": "light"
     },
     "output_type": "display_data"
    }
   ],
   "source": [
    "# 구글 주식 추이\n",
    "google['2008':'2010'].plot(subplots=True, figsize=(10,12))  # subplots=True\n",
    "plt.title('Google stock attributes from 2008 to 2010')\n",
    "plt.savefig('stocks.png')\n",
    "plt.show()"
   ]
  },
  {
   "cell_type": "markdown",
   "metadata": {},
   "source": [
    "## [참고] datetime 관련 함수 알아보기"
   ]
  },
  {
   "cell_type": "markdown",
   "metadata": {},
   "source": [
    "- date_range"
   ]
  },
  {
   "cell_type": "code",
   "execution_count": 14,
   "metadata": {
    "ExecuteTime": {
     "end_time": "2020-08-09T07:06:50.634856Z",
     "start_time": "2020-08-09T07:06:50.615872Z"
    }
   },
   "outputs": [
    {
     "data": {
      "text/plain": [
       "DatetimeIndex(['2018-01-01', '2018-01-02', '2018-01-03', '2018-01-04',\n",
       "               '2018-01-05', '2018-01-06', '2018-01-07', '2018-01-08',\n",
       "               '2018-01-09'],\n",
       "              dtype='datetime64[ns]', freq='D')"
      ]
     },
     "execution_count": 14,
     "metadata": {},
     "output_type": "execute_result"
    }
   ],
   "source": [
    "# 시작, 끝 날자 지정하면, 해당 범위 날짜 알아서 생성\n",
    "dr1 = pd.date_range(start='1/1/18', end = '1/9/18')\n",
    "dr1"
   ]
  },
  {
   "cell_type": "code",
   "execution_count": 15,
   "metadata": {
    "ExecuteTime": {
     "end_time": "2020-08-09T07:06:50.678707Z",
     "start_time": "2020-08-09T07:06:50.642802Z"
    }
   },
   "outputs": [
    {
     "data": {
      "text/plain": [
       "DatetimeIndex(['2018-01-31', '2018-02-28', '2018-03-31', '2018-04-30',\n",
       "               '2018-05-31', '2018-06-30', '2018-07-31', '2018-08-31',\n",
       "               '2018-09-30', '2018-10-31', '2018-11-30', '2018-12-31'],\n",
       "              dtype='datetime64[ns]', freq='M')"
      ]
     },
     "execution_count": 15,
     "metadata": {},
     "output_type": "execute_result"
    }
   ],
   "source": [
    "# monthly frequency\n",
    "# 해당 기간동안의 월별 마지막 날짜 반환\n",
    "dr2 = pd.date_range(start='1/1/18', end='1/1/19', freq='M')\n",
    "dr2"
   ]
  },
  {
   "cell_type": "code",
   "execution_count": 16,
   "metadata": {
    "ExecuteTime": {
     "end_time": "2020-08-09T07:06:50.718598Z",
     "start_time": "2020-08-09T07:06:50.701647Z"
    }
   },
   "outputs": [
    {
     "data": {
      "text/plain": [
       "DatetimeIndex(['2013-12-28', '2013-12-29', '2013-12-30', '2013-12-31',\n",
       "               '2014-01-01', '2014-01-02', '2014-01-03', '2014-01-04'],\n",
       "              dtype='datetime64[ns]', freq='D')"
      ]
     },
     "execution_count": 16,
     "metadata": {},
     "output_type": "execute_result"
    }
   ],
   "source": [
    "# periods 기간(day)전 부터 end날짜까지 반환\n",
    "dr3 = pd.date_range(end='1/4/2014', periods=8)\n",
    "dr3"
   ]
  },
  {
   "cell_type": "code",
   "execution_count": 17,
   "metadata": {
    "ExecuteTime": {
     "end_time": "2020-08-09T07:06:50.751512Z",
     "start_time": "2020-08-09T07:06:50.722589Z"
    }
   },
   "outputs": [
    {
     "data": {
      "text/plain": [
       "DatetimeIndex(['2014-01-04', '2014-01-05', '2014-01-06', '2014-01-07',\n",
       "               '2014-01-08', '2014-01-09', '2014-01-10', '2014-01-11'],\n",
       "              dtype='datetime64[ns]', freq='D')"
      ]
     },
     "execution_count": 17,
     "metadata": {},
     "output_type": "execute_result"
    }
   ],
   "source": [
    "# start날짜부터 periods 기간(day)까지 반환\n",
    "dr4 = pd.date_range(start='1/4/2014', periods=8)\n",
    "dr4"
   ]
  },
  {
   "cell_type": "code",
   "execution_count": 18,
   "metadata": {
    "ExecuteTime": {
     "end_time": "2020-08-09T07:06:50.768465Z",
     "start_time": "2020-08-09T07:06:50.755498Z"
    }
   },
   "outputs": [
    {
     "data": {
      "text/plain": [
       "DatetimeIndex(['2013-04-24', '2014-02-09', '2014-11-27'], dtype='datetime64[ns]', freq=None)"
      ]
     },
     "execution_count": 18,
     "metadata": {},
     "output_type": "execute_result"
    }
   ],
   "source": [
    "# start, end와 두 날짜를 를 periods 등분하는 날짜 반환\n",
    "dr5 = pd.date_range(start='2013-04-24', end = '2014-11-27', periods=3)\n",
    "dr5"
   ]
  },
  {
   "cell_type": "markdown",
   "metadata": {},
   "source": [
    "- to_datetime"
   ]
  },
  {
   "cell_type": "code",
   "execution_count": 19,
   "metadata": {
    "ExecuteTime": {
     "end_time": "2020-08-09T07:06:50.805365Z",
     "start_time": "2020-08-09T07:06:50.774460Z"
    }
   },
   "outputs": [
    {
     "data": {
      "text/html": [
       "<div>\n",
       "<style scoped>\n",
       "    .dataframe tbody tr th:only-of-type {\n",
       "        vertical-align: middle;\n",
       "    }\n",
       "\n",
       "    .dataframe tbody tr th {\n",
       "        vertical-align: top;\n",
       "    }\n",
       "\n",
       "    .dataframe thead th {\n",
       "        text-align: right;\n",
       "    }\n",
       "</style>\n",
       "<table border=\"1\" class=\"dataframe\">\n",
       "  <thead>\n",
       "    <tr style=\"text-align: right;\">\n",
       "      <th></th>\n",
       "      <th>year</th>\n",
       "      <th>month</th>\n",
       "      <th>day</th>\n",
       "    </tr>\n",
       "  </thead>\n",
       "  <tbody>\n",
       "    <tr>\n",
       "      <th>0</th>\n",
       "      <td>2015</td>\n",
       "      <td>2</td>\n",
       "      <td>4</td>\n",
       "    </tr>\n",
       "    <tr>\n",
       "      <th>1</th>\n",
       "      <td>2016</td>\n",
       "      <td>3</td>\n",
       "      <td>5</td>\n",
       "    </tr>\n",
       "  </tbody>\n",
       "</table>\n",
       "</div>"
      ],
      "text/plain": [
       "   year  month  day\n",
       "0  2015      2    4\n",
       "1  2016      3    5"
      ]
     },
     "execution_count": 19,
     "metadata": {},
     "output_type": "execute_result"
    }
   ],
   "source": [
    "df = pd.DataFrame({'year':[2015, 2016], 'month': [2,3], 'day': [4,5]})\n",
    "df"
   ]
  },
  {
   "cell_type": "code",
   "execution_count": 20,
   "metadata": {
    "ExecuteTime": {
     "end_time": "2020-08-09T07:06:50.924048Z",
     "start_time": "2020-08-09T07:06:50.809356Z"
    }
   },
   "outputs": [
    {
     "data": {
      "text/plain": [
       "0   2015-02-04\n",
       "1   2016-03-05\n",
       "dtype: datetime64[ns]"
      ]
     },
     "execution_count": 20,
     "metadata": {},
     "output_type": "execute_result"
    }
   ],
   "source": [
    "df = pd.to_datetime(df)\n",
    "df"
   ]
  },
  {
   "cell_type": "code",
   "execution_count": 21,
   "metadata": {
    "ExecuteTime": {
     "end_time": "2020-08-09T07:06:50.942997Z",
     "start_time": "2020-08-09T07:06:50.930033Z"
    }
   },
   "outputs": [
    {
     "data": {
      "text/plain": [
       "Timestamp('2017-01-01 00:00:00')"
      ]
     },
     "execution_count": 21,
     "metadata": {},
     "output_type": "execute_result"
    }
   ],
   "source": [
    "df = pd.to_datetime('01-01-2017')\n",
    "df"
   ]
  },
  {
   "cell_type": "markdown",
   "metadata": {},
   "source": [
    "## Shifting and lags\n",
    "- 선택적 시간 빈도로 원하는 기간 수만큼 인덱스를 이동할 수 있음\n",
    "- 시계열을 과거의 과거와 비교할 때 유용"
   ]
  },
  {
   "cell_type": "code",
   "execution_count": 22,
   "metadata": {
    "ExecuteTime": {
     "end_time": "2020-08-09T07:06:51.287109Z",
     "start_time": "2020-08-09T07:06:50.947985Z"
    }
   },
   "outputs": [
    {
     "data": {
      "image/png": "[encoded data removed]",
      "text/plain": [
       "<Figure size 936x504 with 1 Axes>"
      ]
     },
     "metadata": {
      "needs_background": "light"
     },
     "output_type": "display_data"
    }
   ],
   "source": [
    "f, ax = plt.subplots(1, figsize=(13, 7))\n",
    "humidity['Vancouver'].asfreq('M').plot(legend=True)\n",
    "shifted = humidity['Vancouver'].asfreq('M').shift(10).plot(legend=True)\n",
    "shifted.legend(['Vancouver','Vancouver_lagged'])\n",
    "plt.show()"
   ]
  },
  {
   "cell_type": "markdown",
   "metadata": {},
   "source": [
    "## Resampling\n",
    "- Upsampling: 시계열 데이터를 낮은 빈도 -> 높은 빈도로 리샘플링됨\n",
    "    - ex. 월별 -> 일별\n",
    "    - 누락된 데이터 채우기 등\n",
    "    \n",
    "- Downsampling: 시계열을 높은 빈도 -> 낮은 빈도로 리샘플링\n",
    "    - ex. 매주 -> 월별\n",
    "    - 기존 데이터의 집계 등"
   ]
  },
  {
   "cell_type": "code",
   "execution_count": 24,
   "metadata": {
    "ExecuteTime": {
     "end_time": "2020-08-09T07:08:28.589327Z",
     "start_time": "2020-08-09T07:08:28.172441Z"
    }
   },
   "outputs": [
    {
     "data": {
      "text/html": [
       "<div>\n",
       "<style scoped>\n",
       "    .dataframe tbody tr th:only-of-type {\n",
       "        vertical-align: middle;\n",
       "    }\n",
       "\n",
       "    .dataframe tbody tr th {\n",
       "        vertical-align: top;\n",
       "    }\n",
       "\n",
       "    .dataframe thead th {\n",
       "        text-align: right;\n",
       "    }\n",
       "</style>\n",
       "<table border=\"1\" class=\"dataframe\">\n",
       "  <thead>\n",
       "    <tr style=\"text-align: right;\">\n",
       "      <th></th>\n",
       "      <th>Vancouver</th>\n",
       "      <th>Portland</th>\n",
       "      <th>San Francisco</th>\n",
       "      <th>Seattle</th>\n",
       "      <th>Los Angeles</th>\n",
       "      <th>San Diego</th>\n",
       "      <th>Las Vegas</th>\n",
       "      <th>Phoenix</th>\n",
       "      <th>Albuquerque</th>\n",
       "      <th>Denver</th>\n",
       "      <th>...</th>\n",
       "      <th>Philadelphia</th>\n",
       "      <th>New York</th>\n",
       "      <th>Montreal</th>\n",
       "      <th>Boston</th>\n",
       "      <th>Beersheba</th>\n",
       "      <th>Tel Aviv District</th>\n",
       "      <th>Eilat</th>\n",
       "      <th>Haifa</th>\n",
       "      <th>Nahariyya</th>\n",
       "      <th>Jerusalem</th>\n",
       "    </tr>\n",
       "    <tr>\n",
       "      <th>datetime</th>\n",
       "      <th></th>\n",
       "      <th></th>\n",
       "      <th></th>\n",
       "      <th></th>\n",
       "      <th></th>\n",
       "      <th></th>\n",
       "      <th></th>\n",
       "      <th></th>\n",
       "      <th></th>\n",
       "      <th></th>\n",
       "      <th></th>\n",
       "      <th></th>\n",
       "      <th></th>\n",
       "      <th></th>\n",
       "      <th></th>\n",
       "      <th></th>\n",
       "      <th></th>\n",
       "      <th></th>\n",
       "      <th></th>\n",
       "      <th></th>\n",
       "      <th></th>\n",
       "    </tr>\n",
       "  </thead>\n",
       "  <tbody>\n",
       "    <tr>\n",
       "      <th>2017-11-29 20:00:00</th>\n",
       "      <td>NaN</td>\n",
       "      <td>1031.0</td>\n",
       "      <td>NaN</td>\n",
       "      <td>1030.0</td>\n",
       "      <td>1016.0</td>\n",
       "      <td>1017.0</td>\n",
       "      <td>1021.0</td>\n",
       "      <td>1018.0</td>\n",
       "      <td>1025.0</td>\n",
       "      <td>1016.0</td>\n",
       "      <td>...</td>\n",
       "      <td>1021.0</td>\n",
       "      <td>NaN</td>\n",
       "      <td>1021.0</td>\n",
       "      <td>1017.0</td>\n",
       "      <td>NaN</td>\n",
       "      <td>NaN</td>\n",
       "      <td>NaN</td>\n",
       "      <td>NaN</td>\n",
       "      <td>NaN</td>\n",
       "      <td>NaN</td>\n",
       "    </tr>\n",
       "    <tr>\n",
       "      <th>2017-11-29 21:00:00</th>\n",
       "      <td>NaN</td>\n",
       "      <td>1030.0</td>\n",
       "      <td>NaN</td>\n",
       "      <td>1030.0</td>\n",
       "      <td>1016.0</td>\n",
       "      <td>1017.0</td>\n",
       "      <td>1020.0</td>\n",
       "      <td>1018.0</td>\n",
       "      <td>1024.0</td>\n",
       "      <td>1018.0</td>\n",
       "      <td>...</td>\n",
       "      <td>1021.0</td>\n",
       "      <td>NaN</td>\n",
       "      <td>1023.0</td>\n",
       "      <td>1019.0</td>\n",
       "      <td>NaN</td>\n",
       "      <td>NaN</td>\n",
       "      <td>NaN</td>\n",
       "      <td>NaN</td>\n",
       "      <td>NaN</td>\n",
       "      <td>NaN</td>\n",
       "    </tr>\n",
       "    <tr>\n",
       "      <th>2017-11-29 22:00:00</th>\n",
       "      <td>NaN</td>\n",
       "      <td>1030.0</td>\n",
       "      <td>NaN</td>\n",
       "      <td>1029.0</td>\n",
       "      <td>1015.0</td>\n",
       "      <td>1016.0</td>\n",
       "      <td>1020.0</td>\n",
       "      <td>1017.0</td>\n",
       "      <td>1024.0</td>\n",
       "      <td>1018.0</td>\n",
       "      <td>...</td>\n",
       "      <td>1022.0</td>\n",
       "      <td>NaN</td>\n",
       "      <td>1024.0</td>\n",
       "      <td>1019.0</td>\n",
       "      <td>NaN</td>\n",
       "      <td>NaN</td>\n",
       "      <td>NaN</td>\n",
       "      <td>NaN</td>\n",
       "      <td>NaN</td>\n",
       "      <td>NaN</td>\n",
       "    </tr>\n",
       "    <tr>\n",
       "      <th>2017-11-29 23:00:00</th>\n",
       "      <td>NaN</td>\n",
       "      <td>1029.0</td>\n",
       "      <td>NaN</td>\n",
       "      <td>1028.0</td>\n",
       "      <td>1016.0</td>\n",
       "      <td>1016.0</td>\n",
       "      <td>1020.0</td>\n",
       "      <td>1016.0</td>\n",
       "      <td>1024.0</td>\n",
       "      <td>1020.0</td>\n",
       "      <td>...</td>\n",
       "      <td>1023.0</td>\n",
       "      <td>NaN</td>\n",
       "      <td>1026.0</td>\n",
       "      <td>1022.0</td>\n",
       "      <td>NaN</td>\n",
       "      <td>NaN</td>\n",
       "      <td>NaN</td>\n",
       "      <td>NaN</td>\n",
       "      <td>NaN</td>\n",
       "      <td>NaN</td>\n",
       "    </tr>\n",
       "    <tr>\n",
       "      <th>2017-11-30 00:00:00</th>\n",
       "      <td>NaN</td>\n",
       "      <td>1029.0</td>\n",
       "      <td>NaN</td>\n",
       "      <td>1028.0</td>\n",
       "      <td>1015.0</td>\n",
       "      <td>1017.0</td>\n",
       "      <td>1019.0</td>\n",
       "      <td>1016.0</td>\n",
       "      <td>1024.0</td>\n",
       "      <td>1021.0</td>\n",
       "      <td>...</td>\n",
       "      <td>1024.0</td>\n",
       "      <td>NaN</td>\n",
       "      <td>1027.0</td>\n",
       "      <td>1023.0</td>\n",
       "      <td>NaN</td>\n",
       "      <td>NaN</td>\n",
       "      <td>NaN</td>\n",
       "      <td>NaN</td>\n",
       "      <td>NaN</td>\n",
       "      <td>NaN</td>\n",
       "    </tr>\n",
       "  </tbody>\n",
       "</table>\n",
       "<p>5 rows × 36 columns</p>\n",
       "</div>"
      ],
      "text/plain": [
       "                     Vancouver  Portland  San Francisco  Seattle  Los Angeles  \\\n",
       "datetime                                                                        \n",
       "2017-11-29 20:00:00        NaN    1031.0            NaN   1030.0       1016.0   \n",
       "2017-11-29 21:00:00        NaN    1030.0            NaN   1030.0       1016.0   \n",
       "2017-11-29 22:00:00        NaN    1030.0            NaN   1029.0       1015.0   \n",
       "2017-11-29 23:00:00        NaN    1029.0            NaN   1028.0       1016.0   \n",
       "2017-11-30 00:00:00        NaN    1029.0            NaN   1028.0       1015.0   \n",
       "\n",
       "                     San Diego  Las Vegas  Phoenix  Albuquerque  Denver  ...  \\\n",
       "datetime                                                                 ...   \n",
       "2017-11-29 20:00:00     1017.0     1021.0   1018.0       1025.0  1016.0  ...   \n",
       "2017-11-29 21:00:00     1017.0     1020.0   1018.0       1024.0  1018.0  ...   \n",
       "2017-11-29 22:00:00     1016.0     1020.0   1017.0       1024.0  1018.0  ...   \n",
       "2017-11-29 23:00:00     1016.0     1020.0   1016.0       1024.0  1020.0  ...   \n",
       "2017-11-30 00:00:00     1017.0     1019.0   1016.0       1024.0  1021.0  ...   \n",
       "\n",
       "                     Philadelphia  New York  Montreal  Boston  Beersheba  \\\n",
       "datetime                                                                   \n",
       "2017-11-29 20:00:00        1021.0       NaN    1021.0  1017.0        NaN   \n",
       "2017-11-29 21:00:00        1021.0       NaN    1023.0  1019.0        NaN   \n",
       "2017-11-29 22:00:00        1022.0       NaN    1024.0  1019.0        NaN   \n",
       "2017-11-29 23:00:00        1023.0       NaN    1026.0  1022.0        NaN   \n",
       "2017-11-30 00:00:00        1024.0       NaN    1027.0  1023.0        NaN   \n",
       "\n",
       "                     Tel Aviv District  Eilat  Haifa  Nahariyya  Jerusalem  \n",
       "datetime                                                                    \n",
       "2017-11-29 20:00:00                NaN    NaN    NaN        NaN        NaN  \n",
       "2017-11-29 21:00:00                NaN    NaN    NaN        NaN        NaN  \n",
       "2017-11-29 22:00:00                NaN    NaN    NaN        NaN        NaN  \n",
       "2017-11-29 23:00:00                NaN    NaN    NaN        NaN        NaN  \n",
       "2017-11-30 00:00:00                NaN    NaN    NaN        NaN        NaN  \n",
       "\n",
       "[5 rows x 36 columns]"
      ]
     },
     "execution_count": 24,
     "metadata": {},
     "output_type": "execute_result"
    }
   ],
   "source": [
    "# 날씨 - 도시별 기압 data\n",
    "pressure = pd.read_csv('./시계열_data/Historical Hourly Weather Data 2012-2017/pressure.csv', index_col='datetime',parse_dates=['datetime'])\n",
    "pressure.tail()"
   ]
  },
  {
   "cell_type": "code",
   "execution_count": 25,
   "metadata": {
    "ExecuteTime": {
     "end_time": "2020-08-09T07:10:56.636997Z",
     "start_time": "2020-08-09T07:10:56.617063Z"
    }
   },
   "outputs": [
    {
     "data": {
      "text/plain": [
       "Vancouver            4234\n",
       "Portland                4\n",
       "San Francisco         815\n",
       "Seattle                13\n",
       "Los Angeles           252\n",
       "San Diego             175\n",
       "Las Vegas              88\n",
       "Phoenix               594\n",
       "Albuquerque           456\n",
       "Denver                543\n",
       "San Antonio            17\n",
       "Dallas                 60\n",
       "Houston                 9\n",
       "Kansas City           121\n",
       "Minneapolis            17\n",
       "Saint Louis            68\n",
       "Chicago               725\n",
       "Nashville             147\n",
       "Indianapolis          289\n",
       "Atlanta                49\n",
       "Detroit                 5\n",
       "Jacksonville           15\n",
       "Charlotte               3\n",
       "Miami                 794\n",
       "Pittsburgh             46\n",
       "Toronto               175\n",
       "Philadelphia            4\n",
       "New York             1041\n",
       "Montreal              994\n",
       "Boston                  7\n",
       "Beersheba             806\n",
       "Tel Aviv District     930\n",
       "Eilat                 792\n",
       "Haifa                 798\n",
       "Nahariyya             795\n",
       "Jerusalem             799\n",
       "dtype: int64"
      ]
     },
     "execution_count": 25,
     "metadata": {},
     "output_type": "execute_result"
    }
   ],
   "source": [
    "pressure.isnull().sum()"
   ]
  },
  {
   "cell_type": "markdown",
   "metadata": {},
   "source": [
    "    - 결측치 다수   ->  처리 필요"
   ]
  },
  {
   "cell_type": "code",
   "execution_count": 26,
   "metadata": {
    "ExecuteTime": {
     "end_time": "2020-08-09T07:12:15.037100Z",
     "start_time": "2020-08-09T07:12:14.967313Z"
    }
   },
   "outputs": [
    {
     "data": {
      "text/html": [
       "<div>\n",
       "<style scoped>\n",
       "    .dataframe tbody tr th:only-of-type {\n",
       "        vertical-align: middle;\n",
       "    }\n",
       "\n",
       "    .dataframe tbody tr th {\n",
       "        vertical-align: top;\n",
       "    }\n",
       "\n",
       "    .dataframe thead th {\n",
       "        text-align: right;\n",
       "    }\n",
       "</style>\n",
       "<table border=\"1\" class=\"dataframe\">\n",
       "  <thead>\n",
       "    <tr style=\"text-align: right;\">\n",
       "      <th></th>\n",
       "      <th>Vancouver</th>\n",
       "      <th>Portland</th>\n",
       "      <th>San Francisco</th>\n",
       "      <th>Seattle</th>\n",
       "      <th>Los Angeles</th>\n",
       "      <th>San Diego</th>\n",
       "      <th>Las Vegas</th>\n",
       "      <th>Phoenix</th>\n",
       "      <th>Albuquerque</th>\n",
       "      <th>Denver</th>\n",
       "      <th>...</th>\n",
       "      <th>Philadelphia</th>\n",
       "      <th>New York</th>\n",
       "      <th>Montreal</th>\n",
       "      <th>Boston</th>\n",
       "      <th>Beersheba</th>\n",
       "      <th>Tel Aviv District</th>\n",
       "      <th>Eilat</th>\n",
       "      <th>Haifa</th>\n",
       "      <th>Nahariyya</th>\n",
       "      <th>Jerusalem</th>\n",
       "    </tr>\n",
       "    <tr>\n",
       "      <th>datetime</th>\n",
       "      <th></th>\n",
       "      <th></th>\n",
       "      <th></th>\n",
       "      <th></th>\n",
       "      <th></th>\n",
       "      <th></th>\n",
       "      <th></th>\n",
       "      <th></th>\n",
       "      <th></th>\n",
       "      <th></th>\n",
       "      <th></th>\n",
       "      <th></th>\n",
       "      <th></th>\n",
       "      <th></th>\n",
       "      <th></th>\n",
       "      <th></th>\n",
       "      <th></th>\n",
       "      <th></th>\n",
       "      <th></th>\n",
       "      <th></th>\n",
       "      <th></th>\n",
       "    </tr>\n",
       "  </thead>\n",
       "  <tbody>\n",
       "    <tr>\n",
       "      <th>2017-11-29 20:00:00</th>\n",
       "      <td>1021.0</td>\n",
       "      <td>1031.0</td>\n",
       "      <td>1013.0</td>\n",
       "      <td>1030.0</td>\n",
       "      <td>1016.0</td>\n",
       "      <td>1017.0</td>\n",
       "      <td>1021.0</td>\n",
       "      <td>1018.0</td>\n",
       "      <td>1025.0</td>\n",
       "      <td>1016.0</td>\n",
       "      <td>...</td>\n",
       "      <td>1021.0</td>\n",
       "      <td>1020.0</td>\n",
       "      <td>1021.0</td>\n",
       "      <td>1017.0</td>\n",
       "      <td>984.0</td>\n",
       "      <td>1011.0</td>\n",
       "      <td>968.0</td>\n",
       "      <td>1023.0</td>\n",
       "      <td>1023.0</td>\n",
       "      <td>1011.0</td>\n",
       "    </tr>\n",
       "    <tr>\n",
       "      <th>2017-11-29 21:00:00</th>\n",
       "      <td>1021.0</td>\n",
       "      <td>1030.0</td>\n",
       "      <td>1013.0</td>\n",
       "      <td>1030.0</td>\n",
       "      <td>1016.0</td>\n",
       "      <td>1017.0</td>\n",
       "      <td>1020.0</td>\n",
       "      <td>1018.0</td>\n",
       "      <td>1024.0</td>\n",
       "      <td>1018.0</td>\n",
       "      <td>...</td>\n",
       "      <td>1021.0</td>\n",
       "      <td>1020.0</td>\n",
       "      <td>1023.0</td>\n",
       "      <td>1019.0</td>\n",
       "      <td>984.0</td>\n",
       "      <td>1011.0</td>\n",
       "      <td>968.0</td>\n",
       "      <td>1023.0</td>\n",
       "      <td>1023.0</td>\n",
       "      <td>1011.0</td>\n",
       "    </tr>\n",
       "    <tr>\n",
       "      <th>2017-11-29 22:00:00</th>\n",
       "      <td>1021.0</td>\n",
       "      <td>1030.0</td>\n",
       "      <td>1013.0</td>\n",
       "      <td>1029.0</td>\n",
       "      <td>1015.0</td>\n",
       "      <td>1016.0</td>\n",
       "      <td>1020.0</td>\n",
       "      <td>1017.0</td>\n",
       "      <td>1024.0</td>\n",
       "      <td>1018.0</td>\n",
       "      <td>...</td>\n",
       "      <td>1022.0</td>\n",
       "      <td>1020.0</td>\n",
       "      <td>1024.0</td>\n",
       "      <td>1019.0</td>\n",
       "      <td>984.0</td>\n",
       "      <td>1011.0</td>\n",
       "      <td>968.0</td>\n",
       "      <td>1023.0</td>\n",
       "      <td>1023.0</td>\n",
       "      <td>1011.0</td>\n",
       "    </tr>\n",
       "    <tr>\n",
       "      <th>2017-11-29 23:00:00</th>\n",
       "      <td>1021.0</td>\n",
       "      <td>1029.0</td>\n",
       "      <td>1013.0</td>\n",
       "      <td>1028.0</td>\n",
       "      <td>1016.0</td>\n",
       "      <td>1016.0</td>\n",
       "      <td>1020.0</td>\n",
       "      <td>1016.0</td>\n",
       "      <td>1024.0</td>\n",
       "      <td>1020.0</td>\n",
       "      <td>...</td>\n",
       "      <td>1023.0</td>\n",
       "      <td>1020.0</td>\n",
       "      <td>1026.0</td>\n",
       "      <td>1022.0</td>\n",
       "      <td>984.0</td>\n",
       "      <td>1011.0</td>\n",
       "      <td>968.0</td>\n",
       "      <td>1023.0</td>\n",
       "      <td>1023.0</td>\n",
       "      <td>1011.0</td>\n",
       "    </tr>\n",
       "    <tr>\n",
       "      <th>2017-11-30 00:00:00</th>\n",
       "      <td>1021.0</td>\n",
       "      <td>1029.0</td>\n",
       "      <td>1013.0</td>\n",
       "      <td>1028.0</td>\n",
       "      <td>1015.0</td>\n",
       "      <td>1017.0</td>\n",
       "      <td>1019.0</td>\n",
       "      <td>1016.0</td>\n",
       "      <td>1024.0</td>\n",
       "      <td>1021.0</td>\n",
       "      <td>...</td>\n",
       "      <td>1024.0</td>\n",
       "      <td>1020.0</td>\n",
       "      <td>1027.0</td>\n",
       "      <td>1023.0</td>\n",
       "      <td>984.0</td>\n",
       "      <td>1011.0</td>\n",
       "      <td>968.0</td>\n",
       "      <td>1023.0</td>\n",
       "      <td>1023.0</td>\n",
       "      <td>1011.0</td>\n",
       "    </tr>\n",
       "  </tbody>\n",
       "</table>\n",
       "<p>5 rows × 36 columns</p>\n",
       "</div>"
      ],
      "text/plain": [
       "                     Vancouver  Portland  San Francisco  Seattle  Los Angeles  \\\n",
       "datetime                                                                        \n",
       "2017-11-29 20:00:00     1021.0    1031.0         1013.0   1030.0       1016.0   \n",
       "2017-11-29 21:00:00     1021.0    1030.0         1013.0   1030.0       1016.0   \n",
       "2017-11-29 22:00:00     1021.0    1030.0         1013.0   1029.0       1015.0   \n",
       "2017-11-29 23:00:00     1021.0    1029.0         1013.0   1028.0       1016.0   \n",
       "2017-11-30 00:00:00     1021.0    1029.0         1013.0   1028.0       1015.0   \n",
       "\n",
       "                     San Diego  Las Vegas  Phoenix  Albuquerque  Denver  ...  \\\n",
       "datetime                                                                 ...   \n",
       "2017-11-29 20:00:00     1017.0     1021.0   1018.0       1025.0  1016.0  ...   \n",
       "2017-11-29 21:00:00     1017.0     1020.0   1018.0       1024.0  1018.0  ...   \n",
       "2017-11-29 22:00:00     1016.0     1020.0   1017.0       1024.0  1018.0  ...   \n",
       "2017-11-29 23:00:00     1016.0     1020.0   1016.0       1024.0  1020.0  ...   \n",
       "2017-11-30 00:00:00     1017.0     1019.0   1016.0       1024.0  1021.0  ...   \n",
       "\n",
       "                     Philadelphia  New York  Montreal  Boston  Beersheba  \\\n",
       "datetime                                                                   \n",
       "2017-11-29 20:00:00        1021.0    1020.0    1021.0  1017.0      984.0   \n",
       "2017-11-29 21:00:00        1021.0    1020.0    1023.0  1019.0      984.0   \n",
       "2017-11-29 22:00:00        1022.0    1020.0    1024.0  1019.0      984.0   \n",
       "2017-11-29 23:00:00        1023.0    1020.0    1026.0  1022.0      984.0   \n",
       "2017-11-30 00:00:00        1024.0    1020.0    1027.0  1023.0      984.0   \n",
       "\n",
       "                     Tel Aviv District  Eilat   Haifa  Nahariyya  Jerusalem  \n",
       "datetime                                                                     \n",
       "2017-11-29 20:00:00             1011.0  968.0  1023.0     1023.0     1011.0  \n",
       "2017-11-29 21:00:00             1011.0  968.0  1023.0     1023.0     1011.0  \n",
       "2017-11-29 22:00:00             1011.0  968.0  1023.0     1023.0     1011.0  \n",
       "2017-11-29 23:00:00             1011.0  968.0  1023.0     1023.0     1011.0  \n",
       "2017-11-30 00:00:00             1011.0  968.0  1023.0     1023.0     1011.0  \n",
       "\n",
       "[5 rows x 36 columns]"
      ]
     },
     "execution_count": 26,
     "metadata": {},
     "output_type": "execute_result"
    }
   ],
   "source": [
    "pressure = pressure.iloc[1:]  # datetime 행 뒤부터\n",
    "pressure = pressure.fillna(method='ffill')\n",
    "pressure.tail()"
   ]
  },
  {
   "cell_type": "code",
   "execution_count": 27,
   "metadata": {
    "ExecuteTime": {
     "end_time": "2020-08-09T07:13:39.559826Z",
     "start_time": "2020-08-09T07:13:39.542876Z"
    }
   },
   "outputs": [
    {
     "data": {
      "text/plain": [
       "Vancouver            20\n",
       "Portland              0\n",
       "San Francisco         0\n",
       "Seattle               0\n",
       "Los Angeles           0\n",
       "San Diego             0\n",
       "Las Vegas             0\n",
       "Phoenix               0\n",
       "Albuquerque           0\n",
       "Denver                0\n",
       "San Antonio           0\n",
       "Dallas                0\n",
       "Houston               0\n",
       "Kansas City           0\n",
       "Minneapolis           0\n",
       "Saint Louis           0\n",
       "Chicago               0\n",
       "Nashville             0\n",
       "Indianapolis          0\n",
       "Atlanta               0\n",
       "Detroit               0\n",
       "Jacksonville          0\n",
       "Charlotte             0\n",
       "Miami                 0\n",
       "Pittsburgh            0\n",
       "Toronto               0\n",
       "Philadelphia          0\n",
       "New York              0\n",
       "Montreal              0\n",
       "Boston                0\n",
       "Beersheba             0\n",
       "Tel Aviv District     0\n",
       "Eilat                 0\n",
       "Haifa                 0\n",
       "Nahariyya             0\n",
       "Jerusalem             0\n",
       "dtype: int64"
      ]
     },
     "execution_count": 27,
     "metadata": {},
     "output_type": "execute_result"
    }
   ],
   "source": [
    "pressure.isnull().sum()    # Vancouver"
   ]
  },
  {
   "cell_type": "code",
   "execution_count": 28,
   "metadata": {
    "ExecuteTime": {
     "end_time": "2020-08-09T07:14:13.850214Z",
     "start_time": "2020-08-09T07:14:13.778407Z"
    }
   },
   "outputs": [
    {
     "data": {
      "text/html": [
       "<div>\n",
       "<style scoped>\n",
       "    .dataframe tbody tr th:only-of-type {\n",
       "        vertical-align: middle;\n",
       "    }\n",
       "\n",
       "    .dataframe tbody tr th {\n",
       "        vertical-align: top;\n",
       "    }\n",
       "\n",
       "    .dataframe thead th {\n",
       "        text-align: right;\n",
       "    }\n",
       "</style>\n",
       "<table border=\"1\" class=\"dataframe\">\n",
       "  <thead>\n",
       "    <tr style=\"text-align: right;\">\n",
       "      <th></th>\n",
       "      <th>Vancouver</th>\n",
       "      <th>Portland</th>\n",
       "      <th>San Francisco</th>\n",
       "      <th>Seattle</th>\n",
       "      <th>Los Angeles</th>\n",
       "      <th>San Diego</th>\n",
       "      <th>Las Vegas</th>\n",
       "      <th>Phoenix</th>\n",
       "      <th>Albuquerque</th>\n",
       "      <th>Denver</th>\n",
       "      <th>...</th>\n",
       "      <th>Philadelphia</th>\n",
       "      <th>New York</th>\n",
       "      <th>Montreal</th>\n",
       "      <th>Boston</th>\n",
       "      <th>Beersheba</th>\n",
       "      <th>Tel Aviv District</th>\n",
       "      <th>Eilat</th>\n",
       "      <th>Haifa</th>\n",
       "      <th>Nahariyya</th>\n",
       "      <th>Jerusalem</th>\n",
       "    </tr>\n",
       "    <tr>\n",
       "      <th>datetime</th>\n",
       "      <th></th>\n",
       "      <th></th>\n",
       "      <th></th>\n",
       "      <th></th>\n",
       "      <th></th>\n",
       "      <th></th>\n",
       "      <th></th>\n",
       "      <th></th>\n",
       "      <th></th>\n",
       "      <th></th>\n",
       "      <th></th>\n",
       "      <th></th>\n",
       "      <th></th>\n",
       "      <th></th>\n",
       "      <th></th>\n",
       "      <th></th>\n",
       "      <th></th>\n",
       "      <th></th>\n",
       "      <th></th>\n",
       "      <th></th>\n",
       "      <th></th>\n",
       "    </tr>\n",
       "  </thead>\n",
       "  <tbody>\n",
       "    <tr>\n",
       "      <th>2012-10-01 13:00:00</th>\n",
       "      <td>807.0</td>\n",
       "      <td>1024.0</td>\n",
       "      <td>1009.0</td>\n",
       "      <td>1027.0</td>\n",
       "      <td>1013.0</td>\n",
       "      <td>1013.0</td>\n",
       "      <td>1018.0</td>\n",
       "      <td>1013.0</td>\n",
       "      <td>1024.0</td>\n",
       "      <td>1028.0</td>\n",
       "      <td>...</td>\n",
       "      <td>1014.0</td>\n",
       "      <td>1012.0</td>\n",
       "      <td>1001.0</td>\n",
       "      <td>1014.0</td>\n",
       "      <td>984.0</td>\n",
       "      <td>1012.0</td>\n",
       "      <td>1010.0</td>\n",
       "      <td>1013.0</td>\n",
       "      <td>1013.0</td>\n",
       "      <td>990.0</td>\n",
       "    </tr>\n",
       "    <tr>\n",
       "      <th>2012-10-01 14:00:00</th>\n",
       "      <td>807.0</td>\n",
       "      <td>1024.0</td>\n",
       "      <td>1009.0</td>\n",
       "      <td>1027.0</td>\n",
       "      <td>1013.0</td>\n",
       "      <td>1013.0</td>\n",
       "      <td>1018.0</td>\n",
       "      <td>1013.0</td>\n",
       "      <td>1024.0</td>\n",
       "      <td>1028.0</td>\n",
       "      <td>...</td>\n",
       "      <td>1014.0</td>\n",
       "      <td>1012.0</td>\n",
       "      <td>986.0</td>\n",
       "      <td>1014.0</td>\n",
       "      <td>984.0</td>\n",
       "      <td>1012.0</td>\n",
       "      <td>1010.0</td>\n",
       "      <td>1013.0</td>\n",
       "      <td>1013.0</td>\n",
       "      <td>990.0</td>\n",
       "    </tr>\n",
       "    <tr>\n",
       "      <th>2012-10-01 15:00:00</th>\n",
       "      <td>807.0</td>\n",
       "      <td>1024.0</td>\n",
       "      <td>1009.0</td>\n",
       "      <td>1028.0</td>\n",
       "      <td>1013.0</td>\n",
       "      <td>1013.0</td>\n",
       "      <td>1018.0</td>\n",
       "      <td>1013.0</td>\n",
       "      <td>1024.0</td>\n",
       "      <td>1028.0</td>\n",
       "      <td>...</td>\n",
       "      <td>1014.0</td>\n",
       "      <td>1012.0</td>\n",
       "      <td>945.0</td>\n",
       "      <td>1014.0</td>\n",
       "      <td>984.0</td>\n",
       "      <td>1012.0</td>\n",
       "      <td>1010.0</td>\n",
       "      <td>1013.0</td>\n",
       "      <td>1013.0</td>\n",
       "      <td>990.0</td>\n",
       "    </tr>\n",
       "    <tr>\n",
       "      <th>2012-10-01 16:00:00</th>\n",
       "      <td>807.0</td>\n",
       "      <td>1024.0</td>\n",
       "      <td>1009.0</td>\n",
       "      <td>1028.0</td>\n",
       "      <td>1013.0</td>\n",
       "      <td>1013.0</td>\n",
       "      <td>1018.0</td>\n",
       "      <td>1013.0</td>\n",
       "      <td>1024.0</td>\n",
       "      <td>1028.0</td>\n",
       "      <td>...</td>\n",
       "      <td>1014.0</td>\n",
       "      <td>1012.0</td>\n",
       "      <td>904.0</td>\n",
       "      <td>1014.0</td>\n",
       "      <td>984.0</td>\n",
       "      <td>1012.0</td>\n",
       "      <td>1010.0</td>\n",
       "      <td>1013.0</td>\n",
       "      <td>1013.0</td>\n",
       "      <td>990.0</td>\n",
       "    </tr>\n",
       "    <tr>\n",
       "      <th>2012-10-01 17:00:00</th>\n",
       "      <td>807.0</td>\n",
       "      <td>1024.0</td>\n",
       "      <td>1009.0</td>\n",
       "      <td>1029.0</td>\n",
       "      <td>1013.0</td>\n",
       "      <td>1013.0</td>\n",
       "      <td>1018.0</td>\n",
       "      <td>1013.0</td>\n",
       "      <td>1024.0</td>\n",
       "      <td>1028.0</td>\n",
       "      <td>...</td>\n",
       "      <td>1014.0</td>\n",
       "      <td>1012.0</td>\n",
       "      <td>863.0</td>\n",
       "      <td>1014.0</td>\n",
       "      <td>984.0</td>\n",
       "      <td>1012.0</td>\n",
       "      <td>1010.0</td>\n",
       "      <td>1013.0</td>\n",
       "      <td>1013.0</td>\n",
       "      <td>990.0</td>\n",
       "    </tr>\n",
       "  </tbody>\n",
       "</table>\n",
       "<p>5 rows × 36 columns</p>\n",
       "</div>"
      ],
      "text/plain": [
       "                     Vancouver  Portland  San Francisco  Seattle  Los Angeles  \\\n",
       "datetime                                                                        \n",
       "2012-10-01 13:00:00      807.0    1024.0         1009.0   1027.0       1013.0   \n",
       "2012-10-01 14:00:00      807.0    1024.0         1009.0   1027.0       1013.0   \n",
       "2012-10-01 15:00:00      807.0    1024.0         1009.0   1028.0       1013.0   \n",
       "2012-10-01 16:00:00      807.0    1024.0         1009.0   1028.0       1013.0   \n",
       "2012-10-01 17:00:00      807.0    1024.0         1009.0   1029.0       1013.0   \n",
       "\n",
       "                     San Diego  Las Vegas  Phoenix  Albuquerque  Denver  ...  \\\n",
       "datetime                                                                 ...   \n",
       "2012-10-01 13:00:00     1013.0     1018.0   1013.0       1024.0  1028.0  ...   \n",
       "2012-10-01 14:00:00     1013.0     1018.0   1013.0       1024.0  1028.0  ...   \n",
       "2012-10-01 15:00:00     1013.0     1018.0   1013.0       1024.0  1028.0  ...   \n",
       "2012-10-01 16:00:00     1013.0     1018.0   1013.0       1024.0  1028.0  ...   \n",
       "2012-10-01 17:00:00     1013.0     1018.0   1013.0       1024.0  1028.0  ...   \n",
       "\n",
       "                     Philadelphia  New York  Montreal  Boston  Beersheba  \\\n",
       "datetime                                                                   \n",
       "2012-10-01 13:00:00        1014.0    1012.0    1001.0  1014.0      984.0   \n",
       "2012-10-01 14:00:00        1014.0    1012.0     986.0  1014.0      984.0   \n",
       "2012-10-01 15:00:00        1014.0    1012.0     945.0  1014.0      984.0   \n",
       "2012-10-01 16:00:00        1014.0    1012.0     904.0  1014.0      984.0   \n",
       "2012-10-01 17:00:00        1014.0    1012.0     863.0  1014.0      984.0   \n",
       "\n",
       "                     Tel Aviv District   Eilat   Haifa  Nahariyya  Jerusalem  \n",
       "datetime                                                                      \n",
       "2012-10-01 13:00:00             1012.0  1010.0  1013.0     1013.0      990.0  \n",
       "2012-10-01 14:00:00             1012.0  1010.0  1013.0     1013.0      990.0  \n",
       "2012-10-01 15:00:00             1012.0  1010.0  1013.0     1013.0      990.0  \n",
       "2012-10-01 16:00:00             1012.0  1010.0  1013.0     1013.0      990.0  \n",
       "2012-10-01 17:00:00             1012.0  1010.0  1013.0     1013.0      990.0  \n",
       "\n",
       "[5 rows x 36 columns]"
      ]
     },
     "execution_count": 28,
     "metadata": {},
     "output_type": "execute_result"
    }
   ],
   "source": [
    "pressure = pressure.fillna(method='bfill')\n",
    "pressure.head()"
   ]
  },
  {
   "cell_type": "code",
   "execution_count": 29,
   "metadata": {
    "ExecuteTime": {
     "end_time": "2020-08-09T07:14:22.816809Z",
     "start_time": "2020-08-09T07:14:22.798854Z"
    }
   },
   "outputs": [
    {
     "data": {
      "text/plain": [
       "Vancouver            0\n",
       "Portland             0\n",
       "San Francisco        0\n",
       "Seattle              0\n",
       "Los Angeles          0\n",
       "San Diego            0\n",
       "Las Vegas            0\n",
       "Phoenix              0\n",
       "Albuquerque          0\n",
       "Denver               0\n",
       "San Antonio          0\n",
       "Dallas               0\n",
       "Houston              0\n",
       "Kansas City          0\n",
       "Minneapolis          0\n",
       "Saint Louis          0\n",
       "Chicago              0\n",
       "Nashville            0\n",
       "Indianapolis         0\n",
       "Atlanta              0\n",
       "Detroit              0\n",
       "Jacksonville         0\n",
       "Charlotte            0\n",
       "Miami                0\n",
       "Pittsburgh           0\n",
       "Toronto              0\n",
       "Philadelphia         0\n",
       "New York             0\n",
       "Montreal             0\n",
       "Boston               0\n",
       "Beersheba            0\n",
       "Tel Aviv District    0\n",
       "Eilat                0\n",
       "Haifa                0\n",
       "Nahariyya            0\n",
       "Jerusalem            0\n",
       "dtype: int64"
      ]
     },
     "execution_count": 29,
     "metadata": {},
     "output_type": "execute_result"
    }
   ],
   "source": [
    "pressure.isnull().sum()"
   ]
  },
  {
   "cell_type": "code",
   "execution_count": 30,
   "metadata": {
    "ExecuteTime": {
     "end_time": "2020-08-09T07:15:41.814031Z",
     "start_time": "2020-08-09T07:15:41.806042Z"
    }
   },
   "outputs": [
    {
     "data": {
      "text/plain": [
       "(45252, 36)"
      ]
     },
     "execution_count": 30,
     "metadata": {},
     "output_type": "execute_result"
    }
   ],
   "source": [
    "# resampling\n",
    "# 다운 샘플링 전 shape\n",
    "pressure.shape"
   ]
  },
  {
   "cell_type": "code",
   "execution_count": 32,
   "metadata": {
    "ExecuteTime": {
     "end_time": "2020-08-09T07:18:27.204869Z",
     "start_time": "2020-08-09T07:18:27.129038Z"
    }
   },
   "outputs": [
    {
     "data": {
      "text/html": [
       "<div>\n",
       "<style scoped>\n",
       "    .dataframe tbody tr th:only-of-type {\n",
       "        vertical-align: middle;\n",
       "    }\n",
       "\n",
       "    .dataframe tbody tr th {\n",
       "        vertical-align: top;\n",
       "    }\n",
       "\n",
       "    .dataframe thead th {\n",
       "        text-align: right;\n",
       "    }\n",
       "</style>\n",
       "<table border=\"1\" class=\"dataframe\">\n",
       "  <thead>\n",
       "    <tr style=\"text-align: right;\">\n",
       "      <th></th>\n",
       "      <th>Vancouver</th>\n",
       "      <th>Portland</th>\n",
       "      <th>San Francisco</th>\n",
       "      <th>Seattle</th>\n",
       "      <th>Los Angeles</th>\n",
       "      <th>San Diego</th>\n",
       "      <th>Las Vegas</th>\n",
       "      <th>Phoenix</th>\n",
       "      <th>Albuquerque</th>\n",
       "      <th>Denver</th>\n",
       "      <th>...</th>\n",
       "      <th>Philadelphia</th>\n",
       "      <th>New York</th>\n",
       "      <th>Montreal</th>\n",
       "      <th>Boston</th>\n",
       "      <th>Beersheba</th>\n",
       "      <th>Tel Aviv District</th>\n",
       "      <th>Eilat</th>\n",
       "      <th>Haifa</th>\n",
       "      <th>Nahariyya</th>\n",
       "      <th>Jerusalem</th>\n",
       "    </tr>\n",
       "    <tr>\n",
       "      <th>datetime</th>\n",
       "      <th></th>\n",
       "      <th></th>\n",
       "      <th></th>\n",
       "      <th></th>\n",
       "      <th></th>\n",
       "      <th></th>\n",
       "      <th></th>\n",
       "      <th></th>\n",
       "      <th></th>\n",
       "      <th></th>\n",
       "      <th></th>\n",
       "      <th></th>\n",
       "      <th></th>\n",
       "      <th></th>\n",
       "      <th></th>\n",
       "      <th></th>\n",
       "      <th></th>\n",
       "      <th></th>\n",
       "      <th></th>\n",
       "      <th></th>\n",
       "      <th></th>\n",
       "    </tr>\n",
       "  </thead>\n",
       "  <tbody>\n",
       "    <tr>\n",
       "      <th>2012-10-01</th>\n",
       "      <td>931.627119</td>\n",
       "      <td>1022.644068</td>\n",
       "      <td>1010.881356</td>\n",
       "      <td>1031.271186</td>\n",
       "      <td>1011.627119</td>\n",
       "      <td>1011.966102</td>\n",
       "      <td>1016.322034</td>\n",
       "      <td>1012.084746</td>\n",
       "      <td>1022.542373</td>\n",
       "      <td>1024.118644</td>\n",
       "      <td>...</td>\n",
       "      <td>1014.152542</td>\n",
       "      <td>1013.423729</td>\n",
       "      <td>937.627119</td>\n",
       "      <td>1013.677966</td>\n",
       "      <td>985.050847</td>\n",
       "      <td>1012.949153</td>\n",
       "      <td>1011.796610</td>\n",
       "      <td>1013.000000</td>\n",
       "      <td>1013.000000</td>\n",
       "      <td>990.525424</td>\n",
       "    </tr>\n",
       "    <tr>\n",
       "      <th>2012-10-04</th>\n",
       "      <td>1019.083333</td>\n",
       "      <td>1023.041667</td>\n",
       "      <td>1014.694444</td>\n",
       "      <td>1028.305556</td>\n",
       "      <td>1015.555556</td>\n",
       "      <td>1016.277778</td>\n",
       "      <td>1013.194444</td>\n",
       "      <td>1014.097222</td>\n",
       "      <td>1019.972222</td>\n",
       "      <td>1020.666667</td>\n",
       "      <td>...</td>\n",
       "      <td>1018.097222</td>\n",
       "      <td>1017.680556</td>\n",
       "      <td>1017.180556</td>\n",
       "      <td>1019.805556</td>\n",
       "      <td>984.930556</td>\n",
       "      <td>1013.083333</td>\n",
       "      <td>1012.611111</td>\n",
       "      <td>1013.000000</td>\n",
       "      <td>1013.000000</td>\n",
       "      <td>990.083333</td>\n",
       "    </tr>\n",
       "    <tr>\n",
       "      <th>2012-10-07</th>\n",
       "      <td>1013.930556</td>\n",
       "      <td>1017.444444</td>\n",
       "      <td>1016.597222</td>\n",
       "      <td>1018.736111</td>\n",
       "      <td>1013.416667</td>\n",
       "      <td>1014.222222</td>\n",
       "      <td>1012.888889</td>\n",
       "      <td>1011.861111</td>\n",
       "      <td>1005.833333</td>\n",
       "      <td>1020.458333</td>\n",
       "      <td>...</td>\n",
       "      <td>1017.958333</td>\n",
       "      <td>1016.750000</td>\n",
       "      <td>1014.152778</td>\n",
       "      <td>1016.305556</td>\n",
       "      <td>982.972222</td>\n",
       "      <td>1013.027778</td>\n",
       "      <td>1007.555556</td>\n",
       "      <td>1013.000000</td>\n",
       "      <td>1013.000000</td>\n",
       "      <td>989.833333</td>\n",
       "    </tr>\n",
       "    <tr>\n",
       "      <th>2012-10-10</th>\n",
       "      <td>1015.000000</td>\n",
       "      <td>1015.430556</td>\n",
       "      <td>1014.833333</td>\n",
       "      <td>1018.416667</td>\n",
       "      <td>1010.694444</td>\n",
       "      <td>1014.013889</td>\n",
       "      <td>1000.166667</td>\n",
       "      <td>1005.611111</td>\n",
       "      <td>986.000000</td>\n",
       "      <td>984.486111</td>\n",
       "      <td>...</td>\n",
       "      <td>1018.694444</td>\n",
       "      <td>1017.916667</td>\n",
       "      <td>1016.166667</td>\n",
       "      <td>1017.319444</td>\n",
       "      <td>979.763889</td>\n",
       "      <td>1006.527778</td>\n",
       "      <td>998.763889</td>\n",
       "      <td>1012.333333</td>\n",
       "      <td>1012.333333</td>\n",
       "      <td>987.888889</td>\n",
       "    </tr>\n",
       "    <tr>\n",
       "      <th>2012-10-13</th>\n",
       "      <td>1008.152778</td>\n",
       "      <td>1018.111111</td>\n",
       "      <td>1021.069444</td>\n",
       "      <td>1015.930556</td>\n",
       "      <td>1017.277778</td>\n",
       "      <td>1018.375000</td>\n",
       "      <td>1015.666667</td>\n",
       "      <td>1015.500000</td>\n",
       "      <td>1013.625000</td>\n",
       "      <td>1010.444444</td>\n",
       "      <td>...</td>\n",
       "      <td>1025.055556</td>\n",
       "      <td>1024.388889</td>\n",
       "      <td>1020.805556</td>\n",
       "      <td>1023.736111</td>\n",
       "      <td>984.527778</td>\n",
       "      <td>1013.027778</td>\n",
       "      <td>1007.194444</td>\n",
       "      <td>1013.000000</td>\n",
       "      <td>1013.000000</td>\n",
       "      <td>990.430556</td>\n",
       "    </tr>\n",
       "  </tbody>\n",
       "</table>\n",
       "<p>5 rows × 36 columns</p>\n",
       "</div>"
      ],
      "text/plain": [
       "              Vancouver     Portland  San Francisco      Seattle  Los Angeles  \\\n",
       "datetime                                                                        \n",
       "2012-10-01   931.627119  1022.644068    1010.881356  1031.271186  1011.627119   \n",
       "2012-10-04  1019.083333  1023.041667    1014.694444  1028.305556  1015.555556   \n",
       "2012-10-07  1013.930556  1017.444444    1016.597222  1018.736111  1013.416667   \n",
       "2012-10-10  1015.000000  1015.430556    1014.833333  1018.416667  1010.694444   \n",
       "2012-10-13  1008.152778  1018.111111    1021.069444  1015.930556  1017.277778   \n",
       "\n",
       "              San Diego    Las Vegas      Phoenix  Albuquerque       Denver  \\\n",
       "datetime                                                                      \n",
       "2012-10-01  1011.966102  1016.322034  1012.084746  1022.542373  1024.118644   \n",
       "2012-10-04  1016.277778  1013.194444  1014.097222  1019.972222  1020.666667   \n",
       "2012-10-07  1014.222222  1012.888889  1011.861111  1005.833333  1020.458333   \n",
       "2012-10-10  1014.013889  1000.166667  1005.611111   986.000000   984.486111   \n",
       "2012-10-13  1018.375000  1015.666667  1015.500000  1013.625000  1010.444444   \n",
       "\n",
       "            ...  Philadelphia     New York     Montreal       Boston  \\\n",
       "datetime    ...                                                        \n",
       "2012-10-01  ...   1014.152542  1013.423729   937.627119  1013.677966   \n",
       "2012-10-04  ...   1018.097222  1017.680556  1017.180556  1019.805556   \n",
       "2012-10-07  ...   1017.958333  1016.750000  1014.152778  1016.305556   \n",
       "2012-10-10  ...   1018.694444  1017.916667  1016.166667  1017.319444   \n",
       "2012-10-13  ...   1025.055556  1024.388889  1020.805556  1023.736111   \n",
       "\n",
       "             Beersheba  Tel Aviv District        Eilat        Haifa  \\\n",
       "datetime                                                              \n",
       "2012-10-01  985.050847        1012.949153  1011.796610  1013.000000   \n",
       "2012-10-04  984.930556        1013.083333  1012.611111  1013.000000   \n",
       "2012-10-07  982.972222        1013.027778  1007.555556  1013.000000   \n",
       "2012-10-10  979.763889        1006.527778   998.763889  1012.333333   \n",
       "2012-10-13  984.527778        1013.027778  1007.194444  1013.000000   \n",
       "\n",
       "              Nahariyya   Jerusalem  \n",
       "datetime                             \n",
       "2012-10-01  1013.000000  990.525424  \n",
       "2012-10-04  1013.000000  990.083333  \n",
       "2012-10-07  1013.000000  989.833333  \n",
       "2012-10-10  1012.333333  987.888889  \n",
       "2012-10-13  1013.000000  990.430556  \n",
       "\n",
       "[5 rows x 36 columns]"
      ]
     },
     "execution_count": 32,
     "metadata": {},
     "output_type": "execute_result"
    }
   ],
   "source": [
    "# hour -> 3day\n",
    "# 시간당 기압을 3일 빈도로 다운 샘플링 (평균 집계)\n",
    "pressure = pressure.resample('3D').mean()\n",
    "pressure.head()"
   ]
  },
  {
   "cell_type": "code",
   "execution_count": 38,
   "metadata": {
    "ExecuteTime": {
     "end_time": "2020-08-09T07:22:36.235258Z",
     "start_time": "2020-08-09T07:22:36.228273Z"
    }
   },
   "outputs": [
    {
     "data": {
      "text/plain": [
       "(629, 36)"
      ]
     },
     "execution_count": 38,
     "metadata": {},
     "output_type": "execute_result"
    }
   ],
   "source": [
    "pressure.shape    # 리샘플링 전보다 row 크게 줄어듬"
   ]
  },
  {
   "cell_type": "code",
   "execution_count": 39,
   "metadata": {
    "ExecuteTime": {
     "end_time": "2020-08-09T07:22:37.156065Z",
     "start_time": "2020-08-09T07:22:37.110184Z"
    }
   },
   "outputs": [
    {
     "data": {
      "text/html": [
       "<div>\n",
       "<style scoped>\n",
       "    .dataframe tbody tr th:only-of-type {\n",
       "        vertical-align: middle;\n",
       "    }\n",
       "\n",
       "    .dataframe tbody tr th {\n",
       "        vertical-align: top;\n",
       "    }\n",
       "\n",
       "    .dataframe thead th {\n",
       "        text-align: right;\n",
       "    }\n",
       "</style>\n",
       "<table border=\"1\" class=\"dataframe\">\n",
       "  <thead>\n",
       "    <tr style=\"text-align: right;\">\n",
       "      <th></th>\n",
       "      <th>Vancouver</th>\n",
       "      <th>Portland</th>\n",
       "      <th>San Francisco</th>\n",
       "      <th>Seattle</th>\n",
       "      <th>Los Angeles</th>\n",
       "      <th>San Diego</th>\n",
       "      <th>Las Vegas</th>\n",
       "      <th>Phoenix</th>\n",
       "      <th>Albuquerque</th>\n",
       "      <th>Denver</th>\n",
       "      <th>...</th>\n",
       "      <th>Philadelphia</th>\n",
       "      <th>New York</th>\n",
       "      <th>Montreal</th>\n",
       "      <th>Boston</th>\n",
       "      <th>Beersheba</th>\n",
       "      <th>Tel Aviv District</th>\n",
       "      <th>Eilat</th>\n",
       "      <th>Haifa</th>\n",
       "      <th>Nahariyya</th>\n",
       "      <th>Jerusalem</th>\n",
       "    </tr>\n",
       "    <tr>\n",
       "      <th>datetime</th>\n",
       "      <th></th>\n",
       "      <th></th>\n",
       "      <th></th>\n",
       "      <th></th>\n",
       "      <th></th>\n",
       "      <th></th>\n",
       "      <th></th>\n",
       "      <th></th>\n",
       "      <th></th>\n",
       "      <th></th>\n",
       "      <th></th>\n",
       "      <th></th>\n",
       "      <th></th>\n",
       "      <th></th>\n",
       "      <th></th>\n",
       "      <th></th>\n",
       "      <th></th>\n",
       "      <th></th>\n",
       "      <th></th>\n",
       "      <th></th>\n",
       "      <th></th>\n",
       "    </tr>\n",
       "  </thead>\n",
       "  <tbody>\n",
       "    <tr>\n",
       "      <th>2012-10-01</th>\n",
       "      <td>931.627119</td>\n",
       "      <td>1022.644068</td>\n",
       "      <td>1010.881356</td>\n",
       "      <td>1031.271186</td>\n",
       "      <td>1011.627119</td>\n",
       "      <td>1011.966102</td>\n",
       "      <td>1016.322034</td>\n",
       "      <td>1012.084746</td>\n",
       "      <td>1022.542373</td>\n",
       "      <td>1024.118644</td>\n",
       "      <td>...</td>\n",
       "      <td>1014.152542</td>\n",
       "      <td>1013.423729</td>\n",
       "      <td>937.627119</td>\n",
       "      <td>1013.677966</td>\n",
       "      <td>985.050847</td>\n",
       "      <td>1012.949153</td>\n",
       "      <td>1011.796610</td>\n",
       "      <td>1013.0</td>\n",
       "      <td>1013.0</td>\n",
       "      <td>990.525424</td>\n",
       "    </tr>\n",
       "    <tr>\n",
       "      <th>2012-10-02</th>\n",
       "      <td>931.627119</td>\n",
       "      <td>1022.644068</td>\n",
       "      <td>1010.881356</td>\n",
       "      <td>1031.271186</td>\n",
       "      <td>1011.627119</td>\n",
       "      <td>1011.966102</td>\n",
       "      <td>1016.322034</td>\n",
       "      <td>1012.084746</td>\n",
       "      <td>1022.542373</td>\n",
       "      <td>1024.118644</td>\n",
       "      <td>...</td>\n",
       "      <td>1014.152542</td>\n",
       "      <td>1013.423729</td>\n",
       "      <td>937.627119</td>\n",
       "      <td>1013.677966</td>\n",
       "      <td>985.050847</td>\n",
       "      <td>1012.949153</td>\n",
       "      <td>1011.796610</td>\n",
       "      <td>1013.0</td>\n",
       "      <td>1013.0</td>\n",
       "      <td>990.525424</td>\n",
       "    </tr>\n",
       "    <tr>\n",
       "      <th>2012-10-03</th>\n",
       "      <td>931.627119</td>\n",
       "      <td>1022.644068</td>\n",
       "      <td>1010.881356</td>\n",
       "      <td>1031.271186</td>\n",
       "      <td>1011.627119</td>\n",
       "      <td>1011.966102</td>\n",
       "      <td>1016.322034</td>\n",
       "      <td>1012.084746</td>\n",
       "      <td>1022.542373</td>\n",
       "      <td>1024.118644</td>\n",
       "      <td>...</td>\n",
       "      <td>1014.152542</td>\n",
       "      <td>1013.423729</td>\n",
       "      <td>937.627119</td>\n",
       "      <td>1013.677966</td>\n",
       "      <td>985.050847</td>\n",
       "      <td>1012.949153</td>\n",
       "      <td>1011.796610</td>\n",
       "      <td>1013.0</td>\n",
       "      <td>1013.0</td>\n",
       "      <td>990.525424</td>\n",
       "    </tr>\n",
       "    <tr>\n",
       "      <th>2012-10-04</th>\n",
       "      <td>1019.083333</td>\n",
       "      <td>1023.041667</td>\n",
       "      <td>1014.694444</td>\n",
       "      <td>1028.305556</td>\n",
       "      <td>1015.555556</td>\n",
       "      <td>1016.277778</td>\n",
       "      <td>1013.194444</td>\n",
       "      <td>1014.097222</td>\n",
       "      <td>1019.972222</td>\n",
       "      <td>1020.666667</td>\n",
       "      <td>...</td>\n",
       "      <td>1018.097222</td>\n",
       "      <td>1017.680556</td>\n",
       "      <td>1017.180556</td>\n",
       "      <td>1019.805556</td>\n",
       "      <td>984.930556</td>\n",
       "      <td>1013.083333</td>\n",
       "      <td>1012.611111</td>\n",
       "      <td>1013.0</td>\n",
       "      <td>1013.0</td>\n",
       "      <td>990.083333</td>\n",
       "    </tr>\n",
       "    <tr>\n",
       "      <th>2012-10-05</th>\n",
       "      <td>1019.083333</td>\n",
       "      <td>1023.041667</td>\n",
       "      <td>1014.694444</td>\n",
       "      <td>1028.305556</td>\n",
       "      <td>1015.555556</td>\n",
       "      <td>1016.277778</td>\n",
       "      <td>1013.194444</td>\n",
       "      <td>1014.097222</td>\n",
       "      <td>1019.972222</td>\n",
       "      <td>1020.666667</td>\n",
       "      <td>...</td>\n",
       "      <td>1018.097222</td>\n",
       "      <td>1017.680556</td>\n",
       "      <td>1017.180556</td>\n",
       "      <td>1019.805556</td>\n",
       "      <td>984.930556</td>\n",
       "      <td>1013.083333</td>\n",
       "      <td>1012.611111</td>\n",
       "      <td>1013.0</td>\n",
       "      <td>1013.0</td>\n",
       "      <td>990.083333</td>\n",
       "    </tr>\n",
       "  </tbody>\n",
       "</table>\n",
       "<p>5 rows × 36 columns</p>\n",
       "</div>"
      ],
      "text/plain": [
       "              Vancouver     Portland  San Francisco      Seattle  Los Angeles  \\\n",
       "datetime                                                                        \n",
       "2012-10-01   931.627119  1022.644068    1010.881356  1031.271186  1011.627119   \n",
       "2012-10-02   931.627119  1022.644068    1010.881356  1031.271186  1011.627119   \n",
       "2012-10-03   931.627119  1022.644068    1010.881356  1031.271186  1011.627119   \n",
       "2012-10-04  1019.083333  1023.041667    1014.694444  1028.305556  1015.555556   \n",
       "2012-10-05  1019.083333  1023.041667    1014.694444  1028.305556  1015.555556   \n",
       "\n",
       "              San Diego    Las Vegas      Phoenix  Albuquerque       Denver  \\\n",
       "datetime                                                                      \n",
       "2012-10-01  1011.966102  1016.322034  1012.084746  1022.542373  1024.118644   \n",
       "2012-10-02  1011.966102  1016.322034  1012.084746  1022.542373  1024.118644   \n",
       "2012-10-03  1011.966102  1016.322034  1012.084746  1022.542373  1024.118644   \n",
       "2012-10-04  1016.277778  1013.194444  1014.097222  1019.972222  1020.666667   \n",
       "2012-10-05  1016.277778  1013.194444  1014.097222  1019.972222  1020.666667   \n",
       "\n",
       "            ...  Philadelphia     New York     Montreal       Boston  \\\n",
       "datetime    ...                                                        \n",
       "2012-10-01  ...   1014.152542  1013.423729   937.627119  1013.677966   \n",
       "2012-10-02  ...   1014.152542  1013.423729   937.627119  1013.677966   \n",
       "2012-10-03  ...   1014.152542  1013.423729   937.627119  1013.677966   \n",
       "2012-10-04  ...   1018.097222  1017.680556  1017.180556  1019.805556   \n",
       "2012-10-05  ...   1018.097222  1017.680556  1017.180556  1019.805556   \n",
       "\n",
       "             Beersheba  Tel Aviv District        Eilat   Haifa  Nahariyya  \\\n",
       "datetime                                                                    \n",
       "2012-10-01  985.050847        1012.949153  1011.796610  1013.0     1013.0   \n",
       "2012-10-02  985.050847        1012.949153  1011.796610  1013.0     1013.0   \n",
       "2012-10-03  985.050847        1012.949153  1011.796610  1013.0     1013.0   \n",
       "2012-10-04  984.930556        1013.083333  1012.611111  1013.0     1013.0   \n",
       "2012-10-05  984.930556        1013.083333  1012.611111  1013.0     1013.0   \n",
       "\n",
       "             Jerusalem  \n",
       "datetime                \n",
       "2012-10-01  990.525424  \n",
       "2012-10-02  990.525424  \n",
       "2012-10-03  990.525424  \n",
       "2012-10-04  990.083333  \n",
       "2012-10-05  990.083333  \n",
       "\n",
       "[5 rows x 36 columns]"
      ]
     },
     "execution_count": 39,
     "metadata": {},
     "output_type": "execute_result"
    }
   ],
   "source": [
    "# upsampling (3day -> daily)\n",
    "pressure = pressure.resample('D').pad()\n",
    "pressure.head()"
   ]
  },
  {
   "cell_type": "code",
   "execution_count": 40,
   "metadata": {
    "ExecuteTime": {
     "end_time": "2020-08-09T07:22:37.780420Z",
     "start_time": "2020-08-09T07:22:37.772440Z"
    }
   },
   "outputs": [
    {
     "data": {
      "text/plain": [
       "(1885, 36)"
      ]
     },
     "execution_count": 40,
     "metadata": {},
     "output_type": "execute_result"
    }
   ],
   "source": [
    "pressure.shape    # 업샘플링 전보다 row 늘어남"
   ]
  },
  {
   "cell_type": "markdown",
   "metadata": {},
   "source": [
    "# Finance and statistics"
   ]
  },
  {
   "cell_type": "markdown",
   "metadata": {},
   "source": [
    "## Percent change"
   ]
  },
  {
   "cell_type": "code",
   "execution_count": 41,
   "metadata": {
    "ExecuteTime": {
     "end_time": "2020-08-09T07:29:54.864170Z",
     "start_time": "2020-08-09T07:29:54.840231Z"
    }
   },
   "outputs": [
    {
     "data": {
      "text/html": [
       "<div>\n",
       "<style scoped>\n",
       "    .dataframe tbody tr th:only-of-type {\n",
       "        vertical-align: middle;\n",
       "    }\n",
       "\n",
       "    .dataframe tbody tr th {\n",
       "        vertical-align: top;\n",
       "    }\n",
       "\n",
       "    .dataframe thead th {\n",
       "        text-align: right;\n",
       "    }\n",
       "</style>\n",
       "<table border=\"1\" class=\"dataframe\">\n",
       "  <thead>\n",
       "    <tr style=\"text-align: right;\">\n",
       "      <th></th>\n",
       "      <th>Open</th>\n",
       "      <th>High</th>\n",
       "      <th>Low</th>\n",
       "      <th>Close</th>\n",
       "      <th>Volume</th>\n",
       "      <th>Name</th>\n",
       "    </tr>\n",
       "    <tr>\n",
       "      <th>Date</th>\n",
       "      <th></th>\n",
       "      <th></th>\n",
       "      <th></th>\n",
       "      <th></th>\n",
       "      <th></th>\n",
       "      <th></th>\n",
       "    </tr>\n",
       "  </thead>\n",
       "  <tbody>\n",
       "    <tr>\n",
       "      <th>2006-01-03</th>\n",
       "      <td>211.47</td>\n",
       "      <td>218.05</td>\n",
       "      <td>209.32</td>\n",
       "      <td>217.83</td>\n",
       "      <td>13137450</td>\n",
       "      <td>GOOGL</td>\n",
       "    </tr>\n",
       "    <tr>\n",
       "      <th>2006-01-04</th>\n",
       "      <td>222.17</td>\n",
       "      <td>224.70</td>\n",
       "      <td>220.09</td>\n",
       "      <td>222.84</td>\n",
       "      <td>15292353</td>\n",
       "      <td>GOOGL</td>\n",
       "    </tr>\n",
       "    <tr>\n",
       "      <th>2006-01-05</th>\n",
       "      <td>223.22</td>\n",
       "      <td>226.00</td>\n",
       "      <td>220.97</td>\n",
       "      <td>225.85</td>\n",
       "      <td>10815661</td>\n",
       "      <td>GOOGL</td>\n",
       "    </tr>\n",
       "    <tr>\n",
       "      <th>2006-01-06</th>\n",
       "      <td>228.66</td>\n",
       "      <td>235.49</td>\n",
       "      <td>226.85</td>\n",
       "      <td>233.06</td>\n",
       "      <td>17759521</td>\n",
       "      <td>GOOGL</td>\n",
       "    </tr>\n",
       "    <tr>\n",
       "      <th>2006-01-09</th>\n",
       "      <td>233.44</td>\n",
       "      <td>236.94</td>\n",
       "      <td>230.70</td>\n",
       "      <td>233.68</td>\n",
       "      <td>12795837</td>\n",
       "      <td>GOOGL</td>\n",
       "    </tr>\n",
       "  </tbody>\n",
       "</table>\n",
       "</div>"
      ],
      "text/plain": [
       "              Open    High     Low   Close    Volume   Name\n",
       "Date                                                       \n",
       "2006-01-03  211.47  218.05  209.32  217.83  13137450  GOOGL\n",
       "2006-01-04  222.17  224.70  220.09  222.84  15292353  GOOGL\n",
       "2006-01-05  223.22  226.00  220.97  225.85  10815661  GOOGL\n",
       "2006-01-06  228.66  235.49  226.85  233.06  17759521  GOOGL\n",
       "2006-01-09  233.44  236.94  230.70  233.68  12795837  GOOGL"
      ]
     },
     "execution_count": 41,
     "metadata": {},
     "output_type": "execute_result"
    }
   ],
   "source": [
    "google.head()"
   ]
  },
  {
   "cell_type": "code",
   "execution_count": 46,
   "metadata": {
    "ExecuteTime": {
     "end_time": "2020-08-09T08:14:10.984964Z",
     "start_time": "2020-08-09T08:14:10.630882Z"
    }
   },
   "outputs": [
    {
     "data": {
      "text/plain": [
       "<matplotlib.axes._subplots.AxesSubplot at 0x25f718d6348>"
      ]
     },
     "execution_count": 46,
     "metadata": {},
     "output_type": "execute_result"
    },
    {
     "data": {
      "image/png": "[encoded data removed]",
      "text/plain": [
       "<Figure size 1440x576 with 1 Axes>"
      ]
     },
     "metadata": {
      "needs_background": "light"
     },
     "output_type": "display_data"
    }
   ],
   "source": [
    "google['Change'] = google.High.div(google.High.shift(1))  # 오늘 high/전날 high\n",
    "google['Change'].plot(figsize=(20,8))"
   ]
  },
  {
   "cell_type": "code",
   "execution_count": 47,
   "metadata": {
    "ExecuteTime": {
     "end_time": "2020-08-09T08:14:40.390794Z",
     "start_time": "2020-08-09T08:14:40.377877Z"
    }
   },
   "outputs": [
    {
     "data": {
      "text/plain": [
       "Date\n",
       "2006-01-03         NaN\n",
       "2006-01-04    1.030498\n",
       "2006-01-05    1.005785\n",
       "2006-01-06    1.041991\n",
       "2006-01-09    1.006157\n",
       "                ...   \n",
       "2017-12-22    0.994617\n",
       "2017-12-26    0.997331\n",
       "2017-12-27    0.999448\n",
       "2017-12-28    0.996789\n",
       "2017-12-29    0.993623\n",
       "Name: Change, Length: 3019, dtype: float64"
      ]
     },
     "execution_count": 47,
     "metadata": {},
     "output_type": "execute_result"
    }
   ],
   "source": [
    "google['Change']"
   ]
  },
  {
   "cell_type": "markdown",
   "metadata": {},
   "source": [
    "## Stock returns"
   ]
  },
  {
   "cell_type": "code",
   "execution_count": 48,
   "metadata": {
    "ExecuteTime": {
     "end_time": "2020-08-09T08:16:42.848492Z",
     "start_time": "2020-08-09T08:16:42.492219Z"
    }
   },
   "outputs": [
    {
     "data": {
      "text/plain": [
       "<matplotlib.axes._subplots.AxesSubplot at 0x25f72c89488>"
      ]
     },
     "execution_count": 48,
     "metadata": {},
     "output_type": "execute_result"
    },
    {
     "data": {
      "image/png": "[encoded data removed]",
      "text/plain": [
       "<Figure size 1440x576 with 1 Axes>"
      ]
     },
     "metadata": {
      "needs_background": "light"
     },
     "output_type": "display_data"
    }
   ],
   "source": [
    "google['Return'] = google.Change.sub(1).mul(100)  #sub: -, mul: *\n",
    "google['Return'].plot(figsize=(20,8))"
   ]
  },
  {
   "cell_type": "code",
   "execution_count": 49,
   "metadata": {
    "ExecuteTime": {
     "end_time": "2020-08-09T08:17:04.907932Z",
     "start_time": "2020-08-09T08:17:04.898990Z"
    }
   },
   "outputs": [
    {
     "data": {
      "text/plain": [
       "Date\n",
       "2006-01-03         NaN\n",
       "2006-01-04    3.049759\n",
       "2006-01-05    0.578549\n",
       "2006-01-06    4.199115\n",
       "2006-01-09    0.615737\n",
       "                ...   \n",
       "2017-12-22   -0.538273\n",
       "2017-12-26   -0.266861\n",
       "2017-12-27   -0.055199\n",
       "2017-12-28   -0.321080\n",
       "2017-12-29   -0.637654\n",
       "Name: Return, Length: 3019, dtype: float64"
      ]
     },
     "execution_count": 49,
     "metadata": {},
     "output_type": "execute_result"
    }
   ],
   "source": [
    "google['Return']"
   ]
  },
  {
   "cell_type": "code",
   "execution_count": 50,
   "metadata": {
    "ExecuteTime": {
     "end_time": "2020-08-09T08:21:19.473076Z",
     "start_time": "2020-08-09T08:21:19.159882Z"
    }
   },
   "outputs": [
    {
     "data": {
      "text/plain": [
       "<matplotlib.axes._subplots.AxesSubplot at 0x25f7170b6c8>"
      ]
     },
     "execution_count": 50,
     "metadata": {},
     "output_type": "execute_result"
    },
    {
     "data": {
      "image/png": "[encoded data removed]",
      "text/plain": [
       "<Figure size 1440x432 with 1 Axes>"
      ]
     },
     "metadata": {
      "needs_background": "light"
     },
     "output_type": "display_data"
    }
   ],
   "source": [
    "google.High.pct_change().mul(100).plot(figsize=(20,6)) # pct_change: 주가에 대한 수익 계산"
   ]
  },
  {
   "cell_type": "code",
   "execution_count": null,
   "metadata": {},
   "outputs": [],
   "source": []
  },
  {
   "cell_type": "code",
   "execution_count": null,
   "metadata": {},
   "outputs": [],
   "source": []
  }
 ],
 "metadata": {
  "kernelspec": {
   "display_name": "Python 3",
   "language": "python",
   "name": "python3"
  },
  "language_info": {
   "codemirror_mode": {
    "name": "ipython",
    "version": 3
   },
   "file_extension": ".py",
   "mimetype": "text/x-python",
   "name": "python",
   "nbconvert_exporter": "python",
   "pygments_lexer": "ipython3",
   "version": "3.7.6"
  },
  "toc": {
   "base_numbering": 1,
   "nav_menu": {},
   "number_sections": true,
   "sideBar": true,
   "skip_h1_title": false,
   "title_cell": "Table of Contents",
   "title_sidebar": "Contents",
   "toc_cell": false,
   "toc_position": {},
   "toc_section_display": true,
   "toc_window_display": false
  }
 },
 "nbformat": 4,
 "nbformat_minor": 4
}
